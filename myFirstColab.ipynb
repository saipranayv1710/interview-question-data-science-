{
  "nbformat": 4,
  "nbformat_minor": 0,
  "metadata": {
    "colab": {
      "name": "myFirstColab.ipynb",
      "provenance": [],
      "collapsed_sections": [
        "7SQULO_Kllbd",
        "UtzgNxAbaDHH",
        "Cw3l7sOGc0eL"
      ],
      "mount_file_id": "1x1wIS5QPS1wY9XtPwtiuWGJ4hkPGW74w",
      "authorship_tag": "ABX9TyMwy7bSmPZ7ectAQdaSIym5",
      "include_colab_link": true
    },
    "kernelspec": {
      "name": "python3",
      "display_name": "Python 3"
    }
  },
  "cells": [
    {
      "cell_type": "markdown",
      "metadata": {
        "id": "view-in-github",
        "colab_type": "text"
      },
      "source": [
        "<a href=\"https://colab.research.google.com/github/saipranayv1710/interview-question-data-science-/blob/master/myFirstColab.ipynb\" target=\"_parent\"><img src=\"https://colab.research.google.com/assets/colab-badge.svg\" alt=\"Open In Colab\"/></a>"
      ]
    },
    {
      "cell_type": "markdown",
      "metadata": {
        "id": "IoIruMY6VeA-",
        "colab_type": "text"
      },
      "source": [
        "#Google Colab"
      ]
    },
    {
      "cell_type": "markdown",
      "metadata": {
        "id": "goUBA0p8xcFl",
        "colab_type": "text"
      },
      "source": [
        "https://colab.research.google.com/notebooks/basic_features_overview.ipynb"
      ]
    },
    {
      "cell_type": "markdown",
      "metadata": {
        "id": "A2_pkbSeEmWA",
        "colab_type": "text"
      },
      "source": [
        "https://colab.research.google.com/notebooks/intro.ipynb"
      ]
    },
    {
      "cell_type": "markdown",
      "metadata": {
        "id": "0VRhHGZiZxFB",
        "colab_type": "text"
      },
      "source": [
        "**How to load dataset using files from local machine**\n",
        "\n",
        "```\n",
        "from google.colab import files\n",
        "files = files.upload()\n",
        "```\n"
      ]
    },
    {
      "cell_type": "markdown",
      "metadata": {
        "id": "ftj03x-Lk7pB",
        "colab_type": "text"
      },
      "source": [
        "**How to Load dataset using Google Drive:**"
      ]
    },
    {
      "cell_type": "markdown",
      "metadata": {
        "id": "HRLG49Fll2uv",
        "colab_type": "text"
      },
      "source": [
        "\n",
        "\n",
        "\n",
        "\n",
        "```\n",
        "from google.colab import drive\n",
        "drive.mount('/content/drive')\n",
        "```\n",
        "\n"
      ]
    },
    {
      "cell_type": "code",
      "metadata": {
        "colab_type": "code",
        "id": "NSny2ORMmV5C",
        "colab": {}
      },
      "source": [
        "import pandas as pd"
      ],
      "execution_count": null,
      "outputs": []
    },
    {
      "cell_type": "code",
      "metadata": {
        "colab_type": "code",
        "id": "EhDCsV0imV5T",
        "colab": {}
      },
      "source": [
        "emp_data = pd.read_csv('/content/drive/My Drive/Colab Notebooks/emp.csv')"
      ],
      "execution_count": null,
      "outputs": []
    },
    {
      "cell_type": "markdown",
      "metadata": {
        "id": "cU9YNUtE03XB",
        "colab_type": "text"
      },
      "source": [
        "**How to load a dataframe into csv in Google colab**"
      ]
    },
    {
      "cell_type": "code",
      "metadata": {
        "id": "LsQdnVLC0272",
        "colab_type": "code",
        "colab": {}
      },
      "source": [
        "'''\n",
        "df.to_csv('data.csv')\n",
        "!cp data.csv \"drive/My Drive/\"\n",
        "'''"
      ],
      "execution_count": null,
      "outputs": []
    },
    {
      "cell_type": "code",
      "metadata": {
        "id": "-SvnF3Le1jvl",
        "colab_type": "code",
        "colab": {}
      },
      "source": [
        "#or \n",
        "df.to_csv(path_or_buf= '/content/drive/My Drive/Colab Notebooks/pranay.csv')"
      ],
      "execution_count": null,
      "outputs": []
    },
    {
      "cell_type": "markdown",
      "metadata": {
        "id": "NAo1jvYAcctu",
        "colab_type": "text"
      },
      "source": [
        "\n",
        "Google colab is built on linux\n",
        "we can use all the linux commands in google colab  like .., \n",
        "But you shud use all your cmds with the help of exclamatory !\n",
        "\n",
        "try to use !ls"
      ]
    },
    {
      "cell_type": "code",
      "metadata": {
        "id": "QrEtM_hSZxKp",
        "colab_type": "code",
        "colab": {}
      },
      "source": [
        "!ls"
      ],
      "execution_count": null,
      "outputs": []
    },
    {
      "cell_type": "markdown",
      "metadata": {
        "id": "nXeu9j9KZxNe",
        "colab_type": "text"
      },
      "source": [
        "**CurlWget** extension in chrome to dowload the Dataseta very easily"
      ]
    },
    {
      "cell_type": "markdown",
      "metadata": {
        "id": "fec-SEqUdW_u",
        "colab_type": "text"
      },
      "source": [
        "Install curlWget in personal laptop so that you can download GB's of data in a vey faster way"
      ]
    },
    {
      "cell_type": "code",
      "metadata": {
        "id": "R9wpTR3JZgEa",
        "colab_type": "code",
        "colab": {}
      },
      "source": [
        ""
      ],
      "execution_count": null,
      "outputs": []
    },
    {
      "cell_type": "markdown",
      "metadata": {
        "id": "84of2ICGbxtb",
        "colab_type": "text"
      },
      "source": [
        "#Shortcuts"
      ]
    },
    {
      "cell_type": "markdown",
      "metadata": {
        "id": "BKHbeFyib6eZ",
        "colab_type": "text"
      },
      "source": [
        "ctrl+? to comment a line in Colab\n",
        "\n",
        "Try the below to get documentation pane on right side \n",
        "\n",
        "df.replace?  \n",
        "\n",
        "https://colab.research.google.com/notebooks/basic_features_overview.ipynb"
      ]
    },
    {
      "cell_type": "code",
      "metadata": {
        "id": "gibw4f_Zb16a",
        "colab_type": "code",
        "colab": {}
      },
      "source": [
        ""
      ],
      "execution_count": null,
      "outputs": []
    },
    {
      "cell_type": "markdown",
      "metadata": {
        "id": "6ON5PEG94SEN",
        "colab_type": "text"
      },
      "source": [
        "#Cell formatting\n"
      ]
    },
    {
      "cell_type": "markdown",
      "metadata": {
        "id": "AO5-D6jc-oh1",
        "colab_type": "text"
      },
      "source": [
        "#######Important topics in Python\n",
        "\n",
        "> Indented block\n",
        "\n",
        "\n",
        "\n",
        "* Pandas\n",
        "  1. Series\n",
        "  2. Df\n",
        "  3. value_counts()\n",
        "\n",
        "\n",
        "* Numpy \n",
        "* Matplotlib\n",
        "* [Sklearn](https://scikit-learn.org/stable/)\n",
        "\n",
        "\n",
        "\n",
        "```\n",
        "# This is formatted as code\n",
        "for x in range(10):\n",
        "  print(x)\n",
        "```\n",
        "\n",
        "\n",
        "\n",
        "> Hi There \n",
        ">> Hello\n",
        ">>> I am coming\n",
        "\n",
        "\n",
        "\n",
        "\n",
        "\n",
        "\n",
        "\n"
      ]
    },
    {
      "cell_type": "markdown",
      "metadata": {
        "id": "hQpMKFXUA1rF",
        "colab_type": "text"
      },
      "source": [
        "<font color='red'>font color is red</font>"
      ]
    },
    {
      "cell_type": "markdown",
      "metadata": {
        "id": "N5GtEs6LCZ1X",
        "colab_type": "text"
      },
      "source": [
        "**How to hyperlink in text cell of colab:**\n",
        "\n",
        "We can use [empirical rule](https://en.wikipedia.org/wiki/68%E2%80%9395%E2%80%9399.7_rule) to analyse the data very well"
      ]
    },
    {
      "cell_type": "markdown",
      "metadata": {
        "id": "MNSXXnuzydQj",
        "colab_type": "text"
      },
      "source": [
        "How to insert an image to colab\n",
        "\n",
        "https://towardsdatascience.com/the-2-step-guide-to-upload-images-in-google-colab-b51348e882e4"
      ]
    },
    {
      "cell_type": "markdown",
      "metadata": {
        "id": "wkLcFqq8hBNi",
        "colab_type": "text"
      },
      "source": [
        "# Linear Algebra\n"
      ]
    },
    {
      "cell_type": "markdown",
      "metadata": {
        "id": "0IgHjFtQhnDa",
        "colab_type": "text"
      },
      "source": [
        "How to find a distnace of point to a plane:\n",
        "\n",
        "https://en.wikipedia.org/wiki/Distance_from_a_point_to_a_line\n",
        "\n",
        "How to find the dist of a point to a plane.\n",
        "\n",
        "https://imgur.com/a/0uQzVBV\n",
        "\n",
        "How to projection of point on a line (Vector)\n",
        "\n",
        "https://en.wikipedia.org/wiki/Scalar_projection\n"
      ]
    },
    {
      "cell_type": "code",
      "metadata": {
        "id": "ZhK0iyn0wNei",
        "colab_type": "code",
        "colab": {
          "base_uri": "https://localhost:8080/",
          "height": 34
        },
        "outputId": "8c110a4f-3ac2-4d9b-d1eb-8fd71e3805b7"
      },
      "source": [
        "#distance btw two points A=(2,2)  and B = (5,5)\n",
        "import math\n",
        "x1,y1 = 2,2\n",
        "x2,y2 = 5,5\n",
        "\n",
        "print(math.sqrt( (x2-x1)**2+(y2-y1)**2 ))"
      ],
      "execution_count": null,
      "outputs": [
        {
          "output_type": "stream",
          "text": [
            "4.242640687119285\n"
          ],
          "name": "stdout"
        }
      ]
    },
    {
      "cell_type": "code",
      "metadata": {
        "id": "rRMqvbtkrBw_",
        "colab_type": "code",
        "colab": {
          "base_uri": "https://localhost:8080/",
          "height": 34
        },
        "outputId": "c604c6d9-3633-43c0-d54a-793560cd62ad"
      },
      "source": [
        "import numpy as np\n",
        "A = np.array([2,2])\n",
        "B= np.array([5,5])\n",
        "\n",
        "#L2 normalization\n",
        "import numpy.linalg\n",
        "numpy.linalg.norm(A-B, ord =2,axis=0)"
      ],
      "execution_count": null,
      "outputs": [
        {
          "output_type": "execute_result",
          "data": {
            "text/plain": [
              "4.242640687119285"
            ]
          },
          "metadata": {
            "tags": []
          },
          "execution_count": 1
        }
      ]
    },
    {
      "cell_type": "code",
      "metadata": {
        "id": "KmFQJYCw6o3n",
        "colab_type": "code",
        "colab": {
          "base_uri": "https://localhost:8080/",
          "height": 50
        },
        "outputId": "13a5e7e0-5fb7-4e92-a41e-bff60beedc02"
      },
      "source": [
        "#to find the nearest 1 neighbor of A from 3 of B\n",
        "\n",
        "import numpy as np\n",
        "A = np.array([2,2])\n",
        "B= np.array([[5,5],\n",
        "             [3,3],\n",
        "             [8,8]])\n",
        "\n",
        "#L2 normalization\n",
        "import numpy.linalg\n",
        "print(numpy.linalg.norm(A-B, ord =2,axis=1))\n",
        "print('Nearest neighbors to A is: ',B[numpy.linalg.norm(A-B, ord =2,axis=1).argsort()[0]] )"
      ],
      "execution_count": null,
      "outputs": [
        {
          "output_type": "stream",
          "text": [
            "[4.24264069 1.41421356 8.48528137]\n",
            "Nearest neighbors to A is:  [3 3]\n"
          ],
          "name": "stdout"
        }
      ]
    },
    {
      "cell_type": "markdown",
      "metadata": {
        "id": "H1expj2MhoM3",
        "colab_type": "text"
      },
      "source": [
        ""
      ]
    },
    {
      "cell_type": "markdown",
      "metadata": {
        "id": "Ld-pMtJz-5kr",
        "colab_type": "text"
      },
      "source": [
        "# Python "
      ]
    },
    {
      "cell_type": "markdown",
      "metadata": {
        "id": "aMUigHMU--S1",
        "colab_type": "text"
      },
      "source": [
        "Percentile calculation \n",
        "\n",
        "https://www.dummies.com/education/math/statistics/how-to-calculate-percentiles-in-statistics/"
      ]
    },
    {
      "cell_type": "code",
      "metadata": {
        "id": "QvY2f7Wo--EO",
        "colab_type": "code",
        "colab": {}
      },
      "source": [
        "#Python formatting https://www.python-course.eu/python3_formatted_output.php\n",
        "\n",
        "l =[('Sai' ,22),('Pranay',24),('Vsp',28)]\n",
        "for name,age in l:\n",
        "  print(name,' ',age)"
      ],
      "execution_count": null,
      "outputs": []
    },
    {
      "cell_type": "code",
      "metadata": {
        "id": "U3a8XMp_XjQu",
        "colab_type": "code",
        "colab": {}
      },
      "source": [
        "#For proper formatting of strings use  https://www.python-course.eu/python3_formatted_output.php\n",
        "\n",
        "l =[('Sai' ,22),('Pranay',24),('Vsp',28)]\n",
        "for name,age in l:\n",
        "  print('{a:8} {b:2}'.format(a=name,b=age))"
      ],
      "execution_count": null,
      "outputs": []
    },
    {
      "cell_type": "code",
      "metadata": {
        "id": "qSu6Ehi1V2wK",
        "colab_type": "code",
        "colab": {}
      },
      "source": [
        "#Python formatting of digits \n",
        "# https://www.python-course.eu/python3_formatted_output.php\n",
        "\n",
        "for x in range(5,16):\n",
        "  print('2 * {a:2d} = {b:2d}'.format(a = x,b =2*x))"
      ],
      "execution_count": null,
      "outputs": []
    },
    {
      "cell_type": "code",
      "metadata": {
        "id": "-pbzOqQBSqVM",
        "colab_type": "code",
        "colab": {
          "base_uri": "https://localhost:8080/",
          "height": 50
        },
        "outputId": "1f1e6a02-e236-4786-b3ba-bc383f29160c"
      },
      "source": [
        "#How to use List comprehension with if and else statements\n",
        "\n",
        "#take YES if even , else take NO\n",
        " l = [x for x in range(1,11)]\n",
        " print(  ['YES' if num%2==0 else 'NO' for num in l] )\n",
        "\n",
        "#take 'YES' if even (else do nothing)\n",
        "# print( ['YES' if num%2==0 for num in l] ) <-- this will give error\n",
        "print( ['YES'  for num in l  if num%2==0] )"
      ],
      "execution_count": null,
      "outputs": [
        {
          "output_type": "stream",
          "text": [
            "['NO', 'YES', 'NO', 'YES', 'NO', 'YES', 'NO', 'YES', 'NO', 'YES']\n",
            "['YES', 'YES', 'YES', 'YES', 'YES']\n"
          ],
          "name": "stdout"
        }
      ]
    },
    {
      "cell_type": "code",
      "metadata": {
        "id": "c5qA4Jk2qmnf",
        "colab_type": "code",
        "colab": {}
      },
      "source": [
        "#import warnings\n",
        "#warnings.filterwarnings(\"ignore\")"
      ],
      "execution_count": null,
      "outputs": []
    },
    {
      "cell_type": "code",
      "metadata": {
        "id": "39iald-HL6al",
        "colab_type": "code",
        "colab": {}
      },
      "source": [
        "#Variable arguments  #https://www.geeksforgeeks.org/args-kwargs-python/\n",
        "#*argv and **kwargs\n",
        "def func_1(*argv):\n",
        "  cnt = 0\n",
        "  for x in argv:\n",
        "    cnt+=x\n",
        "  return cnt"
      ],
      "execution_count": null,
      "outputs": []
    },
    {
      "cell_type": "code",
      "metadata": {
        "id": "3Syl1qCPL6Wt",
        "colab_type": "code",
        "colab": {
          "base_uri": "https://localhost:8080/",
          "height": 50
        },
        "outputId": "8146bcd6-a9f4-49c0-d6c0-a78fc1676058"
      },
      "source": [
        "print(func_1(1,2))\n",
        "print(func_1(1,2,3,4,5))"
      ],
      "execution_count": null,
      "outputs": [
        {
          "output_type": "stream",
          "text": [
            "3\n",
            "15\n"
          ],
          "name": "stdout"
        }
      ]
    },
    {
      "cell_type": "code",
      "metadata": {
        "id": "vnE8QyH0L6ST",
        "colab_type": "code",
        "colab": {}
      },
      "source": [
        "#kwargs Key word argumnets  double * for kwargs\n",
        "def func_2(**kwargs):\n",
        "  cnt = 0\n",
        "  for x,y in kwargs.items():\n",
        "    print(x,y)"
      ],
      "execution_count": null,
      "outputs": []
    },
    {
      "cell_type": "code",
      "metadata": {
        "id": "LiC5EH_7M1MM",
        "colab_type": "code",
        "colab": {
          "base_uri": "https://localhost:8080/",
          "height": 50
        },
        "outputId": "f54751d0-3129-45d6-e658-d4fcd6611860"
      },
      "source": [
        "#func_2(1,2)\n",
        "func_2(a='Sai', b='Pranay')"
      ],
      "execution_count": null,
      "outputs": [
        {
          "output_type": "stream",
          "text": [
            "a Sai\n",
            "b Pranay\n"
          ],
          "name": "stdout"
        }
      ]
    },
    {
      "cell_type": "code",
      "metadata": {
        "id": "0ksnkAFUM1Ao",
        "colab_type": "code",
        "colab": {
          "base_uri": "https://localhost:8080/",
          "height": 67
        },
        "outputId": "1b3ccaec-0489-49b6-bb2c-177012f5a6cb"
      },
      "source": [
        "# destructuring assignment in Python\n",
        "# https://riptutorial.com/python/example/14981/destructuring-assignment\n",
        "\n",
        "lst = [1, 2, 3, 4, 5, 6]\n",
        "first, *middle, last = lst\n",
        "print(first)\n",
        "print(middle)\n",
        "print(last)"
      ],
      "execution_count": null,
      "outputs": [
        {
          "output_type": "stream",
          "text": [
            "1\n",
            "[2, 3, 4, 5]\n",
            "6\n"
          ],
          "name": "stdout"
        }
      ]
    },
    {
      "cell_type": "code",
      "metadata": {
        "id": "LQG7clHG1KdW",
        "colab_type": "code",
        "colab": {
          "base_uri": "https://localhost:8080/",
          "height": 100
        },
        "outputId": "3e01aad7-fd13-4643-b51c-fe95c2439335"
      },
      "source": [
        "#ascii value in python\n",
        "print(ord('a'))\n",
        "print(ord('z'))\n",
        "print('----------------- to get a=1 to z=26 ')\n",
        "print(ord('a')-96)\n",
        "print(ord('z')-96)"
      ],
      "execution_count": null,
      "outputs": [
        {
          "output_type": "stream",
          "text": [
            "97\n",
            "122\n",
            "----------------- to get a=1 to z=26 \n",
            "1\n",
            "26\n"
          ],
          "name": "stdout"
        }
      ]
    },
    {
      "cell_type": "code",
      "metadata": {
        "id": "0aRZgSHv1KZw",
        "colab_type": "code",
        "colab": {
          "base_uri": "https://localhost:8080/",
          "height": 33
        },
        "outputId": "63c645f7-d942-4661-c72d-d8a352f0f66b"
      },
      "source": [
        "#sort the list by len of the strings in it \n",
        "#https://www.programiz.com/python-programming/methods/built-in/sorted\n",
        "\n",
        "l = [\"may\", \"april\", \"september\", \"august\"]\n",
        "sorted(l, key=len)"
      ],
      "execution_count": null,
      "outputs": [
        {
          "output_type": "execute_result",
          "data": {
            "text/plain": [
              "['may', 'april', 'august', 'september']"
            ]
          },
          "metadata": {
            "tags": []
          },
          "execution_count": 73
        }
      ]
    },
    {
      "cell_type": "code",
      "metadata": {
        "id": "0J4s_XQU7tFn",
        "colab_type": "code",
        "colab": {
          "base_uri": "https://localhost:8080/",
          "height": 34
        },
        "outputId": "2ba8e317-00c7-41d2-b079-79883d07820e"
      },
      "source": [
        "#How to compute time taken by the code\n",
        "from time import time \n",
        "start = time()\n",
        "for x in range(100):\n",
        "  pass\n",
        "print('time taken for above code is {}'.format(time() - start))"
      ],
      "execution_count": null,
      "outputs": [
        {
          "output_type": "stream",
          "text": [
            "time taken for above code is 0.00011706352233886719\n"
          ],
          "name": "stdout"
        }
      ]
    },
    {
      "cell_type": "code",
      "metadata": {
        "id": "UZUQbpR11KV6",
        "colab_type": "code",
        "colab": {
          "base_uri": "https://localhost:8080/",
          "height": 391
        },
        "outputId": "b3825cb6-bb7a-4b81-ee6a-b156c337a5a2"
      },
      "source": [
        "# importing all necessery modules \n",
        "# !pip install WordCloud\n",
        "\n",
        "from wordcloud import WordCloud, STOPWORDS \n",
        "import matplotlib.pyplot as plt \n",
        "import pandas as pd \n",
        "\n",
        "#https://www.geeksforgeeks.org/generating-word-cloud-python/\n",
        "comment_words = \"\"\"A paragraph is a series of related sentences developing a central idea, called the topic. \n",
        "Try to think about paragraphs in terms of thematic unity: a paragraph is a sentence or a group of sentences that supports one central,\n",
        " unified idea. Paragraphs add one idea at a time to your broader argument.\"\"\"\n",
        "\n",
        "wordcloud = WordCloud(width = 500, height = 500,background_color ='white', min_font_size = 10).generate(comment_words) \n",
        "  \n",
        "# plot the WordCloud image                        \n",
        "plt.figure(figsize = (5,5), facecolor = None) \n",
        "plt.imshow(wordcloud) \n",
        "plt.axis(\"off\") \n",
        "plt.tight_layout(pad = 0) \n",
        "  \n",
        "plt.show() "
      ],
      "execution_count": null,
      "outputs": [
        {
          "output_type": "display_data",
          "data": {
            "image/png": "[encoded data removed]",
            "text/plain": [
              "<Figure size 360x360 with 1 Axes>"
            ]
          },
          "metadata": {
            "tags": [],
            "needs_background": "light"
          }
        }
      ]
    },
    {
      "cell_type": "markdown",
      "metadata": {
        "id": "yvAe7IoVSqRU",
        "colab_type": "text"
      },
      "source": [
        "**Conditional probability explaination:**\n",
        "\n",
        "https://www.youtube.com/watch?v=6xPkG2pA-TU&list=PLU5aQXLWR3_x1bjE2rbvRn8sse81AUYZk&index=23    <-- Khan Academy\n",
        "\n",
        "https://www.youtube.com/watch?time_continue=1746&v=UXKXA-pzv94&feature=emb_logo   <-- AAIC explaination\n",
        "\n",
        "\n",
        "> P(A and B) = P(B|A).P(A) = P(A|B).P(B)\n",
        "\n"
      ]
    },
    {
      "cell_type": "code",
      "metadata": {
        "id": "ucf0OXwOdnGT",
        "colab_type": "code",
        "colab": {}
      },
      "source": [
        ""
      ],
      "execution_count": null,
      "outputs": []
    },
    {
      "cell_type": "code",
      "metadata": {
        "id": "AmC0xRrldnDW",
        "colab_type": "code",
        "colab": {
          "base_uri": "https://localhost:8080/",
          "height": 50
        },
        "outputId": "ac949df3-44c8-40a7-f1e0-30b1d5a8a023"
      },
      "source": [
        "#How to cal cum_sum without numpy\n",
        "# https://stackoverflow.com/questions/15889131/how-to-find-the-cumulative-sum-of-numbers-in-a-list\n",
        "\n",
        "A = [1,2,3]\n",
        "cum_sum= []\n",
        "x = 0\n",
        "\n",
        "for ele in A:\n",
        "  cum_sum.append(x + ele)\n",
        "  x += ele\n",
        "\n",
        "print('Without Numpy',cum_sum)\n",
        "\n",
        "print('using Numpy:',np.cumsum(A))"
      ],
      "execution_count": null,
      "outputs": [
        {
          "output_type": "stream",
          "text": [
            "Without Numpy [1, 3, 6]\n",
            "using Numpy: [1 3 6]\n"
          ],
          "name": "stdout"
        }
      ]
    },
    {
      "cell_type": "code",
      "metadata": {
        "id": "fKvFq-3TCdeM",
        "colab_type": "code",
        "colab": {
          "base_uri": "https://localhost:8080/",
          "height": 54
        },
        "outputId": "bca37f00-4bfb-419e-f7ec-50f42b4f437f"
      },
      "source": [
        "#use of dir() method\n",
        "import math\n",
        "print(dir(math))   #it will give all the methods and functions present inside"
      ],
      "execution_count": null,
      "outputs": [
        {
          "output_type": "stream",
          "text": [
            "['__doc__', '__loader__', '__name__', '__package__', '__spec__', 'acos', 'acosh', 'asin', 'asinh', 'atan', 'atan2', 'atanh', 'ceil', 'copysign', 'cos', 'cosh', 'degrees', 'e', 'erf', 'erfc', 'exp', 'expm1', 'fabs', 'factorial', 'floor', 'fmod', 'frexp', 'fsum', 'gamma', 'gcd', 'hypot', 'inf', 'isclose', 'isfinite', 'isinf', 'isnan', 'ldexp', 'lgamma', 'log', 'log10', 'log1p', 'log2', 'modf', 'nan', 'pi', 'pow', 'radians', 'sin', 'sinh', 'sqrt', 'tan', 'tanh', 'tau', 'trunc']\n"
          ],
          "name": "stdout"
        }
      ]
    },
    {
      "cell_type": "code",
      "metadata": {
        "id": "O8If0KPawRs7",
        "colab_type": "code",
        "colab": {
          "base_uri": "https://localhost:8080/",
          "height": 168
        },
        "outputId": "c1119cf4-9ce5-4f55-cd5f-9e392631b71f"
      },
      "source": [
        "# How to select the rows of a numpy array when a list of indices is provided  # array slicing\n",
        "A = np.array([[0,2,3],[1,4,5],[2,6,7],[3,8,9],[4,10,11]])\n",
        "print(A)\n",
        "idx_list = [1,4,3]  # select rows with indices 1,4,3\n",
        "print('-'*60)\n",
        "print(A[idx_list,:])"
      ],
      "execution_count": null,
      "outputs": [
        {
          "output_type": "stream",
          "text": [
            "[[ 0  2  3]\n",
            " [ 1  4  5]\n",
            " [ 2  6  7]\n",
            " [ 3  8  9]\n",
            " [ 4 10 11]]\n",
            "------------------------------------------------------------\n",
            "[[ 1  4  5]\n",
            " [ 4 10 11]\n",
            " [ 3  8  9]]\n"
          ],
          "name": "stdout"
        }
      ]
    },
    {
      "cell_type": "code",
      "metadata": {
        "id": "M5BNARCNwRp4",
        "colab_type": "code",
        "colab": {}
      },
      "source": [
        "# Diff between numpy arange and linspace\n",
        "print(np.arange(1,10))\n",
        "print(np.linspace(1,10,15))"
      ],
      "execution_count": null,
      "outputs": []
    },
    {
      "cell_type": "code",
      "metadata": {
        "id": "Mgdl1q-MwRml",
        "colab_type": "code",
        "colab": {}
      },
      "source": [
        ""
      ],
      "execution_count": null,
      "outputs": []
    },
    {
      "cell_type": "code",
      "metadata": {
        "id": "Ges9Zr-wwRif",
        "colab_type": "code",
        "colab": {}
      },
      "source": [
        ""
      ],
      "execution_count": null,
      "outputs": []
    },
    {
      "cell_type": "markdown",
      "metadata": {
        "id": "cMbzdNOkCdXS",
        "colab_type": "text"
      },
      "source": [
        "**Pandas**"
      ]
    },
    {
      "cell_type": "markdown",
      "metadata": {
        "id": "5P9ZPcCLr0c-",
        "colab_type": "text"
      },
      "source": [
        "https://www.geeksforgeeks.org/selecting-rows-in-pandas-dataframe-based-on-conditions/"
      ]
    },
    {
      "cell_type": "code",
      "metadata": {
        "id": "W2pFkZ-mrEvK",
        "colab_type": "code",
        "colab": {
          "base_uri": "https://localhost:8080/",
          "height": 195
        },
        "outputId": "88e6f6db-700e-4145-a0a0-4ee65c1ccf10"
      },
      "source": [
        "#How to apply where condition on pandas df  ---- y=using basic method\n",
        "#Select all the rows of deptno =20\n",
        "\n",
        "emp_data[emp_data['deptno'] == 20]"
      ],
      "execution_count": null,
      "outputs": [
        {
          "output_type": "execute_result",
          "data": {
            "text/html": [
              "<div>\n",
              "<style scoped>\n",
              "    .dataframe tbody tr th:only-of-type {\n",
              "        vertical-align: middle;\n",
              "    }\n",
              "\n",
              "    .dataframe tbody tr th {\n",
              "        vertical-align: top;\n",
              "    }\n",
              "\n",
              "    .dataframe thead th {\n",
              "        text-align: right;\n",
              "    }\n",
              "</style>\n",
              "<table border=\"1\" class=\"dataframe\">\n",
              "  <thead>\n",
              "    <tr style=\"text-align: right;\">\n",
              "      <th></th>\n",
              "      <th>empno</th>\n",
              "      <th>ename</th>\n",
              "      <th>job</th>\n",
              "      <th>mgr</th>\n",
              "      <th>hiredate</th>\n",
              "      <th>sal</th>\n",
              "      <th>comm</th>\n",
              "      <th>deptno</th>\n",
              "    </tr>\n",
              "  </thead>\n",
              "  <tbody>\n",
              "    <tr>\n",
              "      <th>0</th>\n",
              "      <td>7369</td>\n",
              "      <td>SMITH</td>\n",
              "      <td>CLERK</td>\n",
              "      <td>7902.0</td>\n",
              "      <td>12/17/1980</td>\n",
              "      <td>10000</td>\n",
              "      <td>NaN</td>\n",
              "      <td>20</td>\n",
              "    </tr>\n",
              "    <tr>\n",
              "      <th>3</th>\n",
              "      <td>7566</td>\n",
              "      <td>JONES</td>\n",
              "      <td>MANAGER</td>\n",
              "      <td>7839.0</td>\n",
              "      <td>4/2/1981</td>\n",
              "      <td>1500</td>\n",
              "      <td>NaN</td>\n",
              "      <td>20</td>\n",
              "    </tr>\n",
              "    <tr>\n",
              "      <th>7</th>\n",
              "      <td>7788</td>\n",
              "      <td>SCOTT</td>\n",
              "      <td>ANALYST</td>\n",
              "      <td>7566.0</td>\n",
              "      <td>12/9/1982</td>\n",
              "      <td>3000</td>\n",
              "      <td>NaN</td>\n",
              "      <td>20</td>\n",
              "    </tr>\n",
              "    <tr>\n",
              "      <th>10</th>\n",
              "      <td>7876</td>\n",
              "      <td>ADAMS</td>\n",
              "      <td>CLERK</td>\n",
              "      <td>7788.0</td>\n",
              "      <td>1/12/1983</td>\n",
              "      <td>1100</td>\n",
              "      <td>NaN</td>\n",
              "      <td>20</td>\n",
              "    </tr>\n",
              "    <tr>\n",
              "      <th>12</th>\n",
              "      <td>7902</td>\n",
              "      <td>FORD</td>\n",
              "      <td>ANALYST</td>\n",
              "      <td>7566.0</td>\n",
              "      <td>12/3/1981</td>\n",
              "      <td>3000</td>\n",
              "      <td>NaN</td>\n",
              "      <td>20</td>\n",
              "    </tr>\n",
              "  </tbody>\n",
              "</table>\n",
              "</div>"
            ],
            "text/plain": [
              "    empno  ename      job     mgr    hiredate    sal  comm  deptno\n",
              "0    7369  SMITH    CLERK  7902.0  12/17/1980  10000   NaN      20\n",
              "3    7566  JONES  MANAGER  7839.0    4/2/1981   1500   NaN      20\n",
              "7    7788  SCOTT  ANALYST  7566.0   12/9/1982   3000   NaN      20\n",
              "10   7876  ADAMS    CLERK  7788.0   1/12/1983   1100   NaN      20\n",
              "12   7902   FORD  ANALYST  7566.0   12/3/1981   3000   NaN      20"
            ]
          },
          "metadata": {
            "tags": []
          },
          "execution_count": 23
        }
      ]
    },
    {
      "cell_type": "code",
      "metadata": {
        "id": "3jXiOg5YrZMd",
        "colab_type": "code",
        "colab": {
          "base_uri": "https://localhost:8080/",
          "height": 195
        },
        "outputId": "323337d7-8f5d-4af2-d3db-651270393e3c"
      },
      "source": [
        "#How to apply where condition on pandas df  ---- y=using .loc[]\n",
        "#Select all the rows of deptno =20\n",
        "\n",
        "emp_data.loc[emp_data['deptno'] == 20]"
      ],
      "execution_count": null,
      "outputs": [
        {
          "output_type": "execute_result",
          "data": {
            "text/html": [
              "<div>\n",
              "<style scoped>\n",
              "    .dataframe tbody tr th:only-of-type {\n",
              "        vertical-align: middle;\n",
              "    }\n",
              "\n",
              "    .dataframe tbody tr th {\n",
              "        vertical-align: top;\n",
              "    }\n",
              "\n",
              "    .dataframe thead th {\n",
              "        text-align: right;\n",
              "    }\n",
              "</style>\n",
              "<table border=\"1\" class=\"dataframe\">\n",
              "  <thead>\n",
              "    <tr style=\"text-align: right;\">\n",
              "      <th></th>\n",
              "      <th>empno</th>\n",
              "      <th>ename</th>\n",
              "      <th>job</th>\n",
              "      <th>mgr</th>\n",
              "      <th>hiredate</th>\n",
              "      <th>sal</th>\n",
              "      <th>comm</th>\n",
              "      <th>deptno</th>\n",
              "    </tr>\n",
              "  </thead>\n",
              "  <tbody>\n",
              "    <tr>\n",
              "      <th>0</th>\n",
              "      <td>7369</td>\n",
              "      <td>SMITH</td>\n",
              "      <td>CLERK</td>\n",
              "      <td>7902.0</td>\n",
              "      <td>12/17/1980</td>\n",
              "      <td>10000</td>\n",
              "      <td>NaN</td>\n",
              "      <td>20</td>\n",
              "    </tr>\n",
              "    <tr>\n",
              "      <th>3</th>\n",
              "      <td>7566</td>\n",
              "      <td>JONES</td>\n",
              "      <td>MANAGER</td>\n",
              "      <td>7839.0</td>\n",
              "      <td>4/2/1981</td>\n",
              "      <td>1500</td>\n",
              "      <td>NaN</td>\n",
              "      <td>20</td>\n",
              "    </tr>\n",
              "    <tr>\n",
              "      <th>7</th>\n",
              "      <td>7788</td>\n",
              "      <td>SCOTT</td>\n",
              "      <td>ANALYST</td>\n",
              "      <td>7566.0</td>\n",
              "      <td>12/9/1982</td>\n",
              "      <td>3000</td>\n",
              "      <td>NaN</td>\n",
              "      <td>20</td>\n",
              "    </tr>\n",
              "    <tr>\n",
              "      <th>10</th>\n",
              "      <td>7876</td>\n",
              "      <td>ADAMS</td>\n",
              "      <td>CLERK</td>\n",
              "      <td>7788.0</td>\n",
              "      <td>1/12/1983</td>\n",
              "      <td>1100</td>\n",
              "      <td>NaN</td>\n",
              "      <td>20</td>\n",
              "    </tr>\n",
              "    <tr>\n",
              "      <th>12</th>\n",
              "      <td>7902</td>\n",
              "      <td>FORD</td>\n",
              "      <td>ANALYST</td>\n",
              "      <td>7566.0</td>\n",
              "      <td>12/3/1981</td>\n",
              "      <td>3000</td>\n",
              "      <td>NaN</td>\n",
              "      <td>20</td>\n",
              "    </tr>\n",
              "  </tbody>\n",
              "</table>\n",
              "</div>"
            ],
            "text/plain": [
              "    empno  ename      job     mgr    hiredate    sal  comm  deptno\n",
              "0    7369  SMITH    CLERK  7902.0  12/17/1980  10000   NaN      20\n",
              "3    7566  JONES  MANAGER  7839.0    4/2/1981   1500   NaN      20\n",
              "7    7788  SCOTT  ANALYST  7566.0   12/9/1982   3000   NaN      20\n",
              "10   7876  ADAMS    CLERK  7788.0   1/12/1983   1100   NaN      20\n",
              "12   7902   FORD  ANALYST  7566.0   12/3/1981   3000   NaN      20"
            ]
          },
          "metadata": {
            "tags": []
          },
          "execution_count": 24
        }
      ]
    },
    {
      "cell_type": "markdown",
      "metadata": {
        "id": "dOA2J3rwsBdX",
        "colab_type": "text"
      },
      "source": [
        "How to apply if conditon in pandas   \n",
        "https://datatofish.com/if-condition-in-pandas-dataframe/"
      ]
    },
    {
      "cell_type": "markdown",
      "metadata": {
        "id": "pqJPD8bFvjc4",
        "colab_type": "text"
      },
      "source": [
        "How to print the table data in python\n",
        "\n",
        "https://stackoverflow.com/questions/9535954/printing-lists-as-tabular-data"
      ]
    },
    {
      "cell_type": "markdown",
      "metadata": {
        "id": "JHCnxDvqvjZD",
        "colab_type": "text"
      },
      "source": [
        "**Matplotlib**"
      ]
    },
    {
      "cell_type": "code",
      "metadata": {
        "id": "3myjvyksvo5t",
        "colab_type": "code",
        "colab": {
          "base_uri": "https://localhost:8080/",
          "height": 34
        },
        "outputId": "74328367-359a-477e-dea8-b0be7f2c0c5c"
      },
      "source": [
        "#Histogram using numpy\n",
        "print(np.histogram(emp_data['deptno'] , bins=4))\n",
        "\n",
        "#Return no of points in each bin and also bin edges"
      ],
      "execution_count": null,
      "outputs": [
        {
          "output_type": "stream",
          "text": [
            "(array([3, 0, 5, 6]), array([10., 15., 20., 25., 30.]))\n"
          ],
          "name": "stdout"
        }
      ]
    },
    {
      "cell_type": "code",
      "metadata": {
        "id": "zKJmY_qnwAAh",
        "colab_type": "code",
        "colab": {
          "base_uri": "https://localhost:8080/",
          "height": 265
        },
        "outputId": "5a1cba4f-7763-41be-cc29-b96cca718b62"
      },
      "source": [
        "plt.hist(emp_data['deptno'] , bins = 4)\n",
        "plt.show()"
      ],
      "execution_count": null,
      "outputs": [
        {
          "output_type": "display_data",
          "data": {
            "image/png": "[encoded data removed]",
            "text/plain": [
              "<Figure size 432x288 with 1 Axes>"
            ]
          },
          "metadata": {
            "tags": []
          }
        }
      ]
    },
    {
      "cell_type": "code",
      "metadata": {
        "id": "5CynouT-e_SL",
        "colab_type": "code",
        "colab": {}
      },
      "source": [
        ""
      ],
      "execution_count": null,
      "outputs": []
    },
    {
      "cell_type": "markdown",
      "metadata": {
        "id": "Q2a7TB3Fe_OM",
        "colab_type": "text"
      },
      "source": [
        "**General:**\n"
      ]
    },
    {
      "cell_type": "code",
      "metadata": {
        "id": "qBarDFO_fHnq",
        "colab_type": "code",
        "colab": {
          "base_uri": "https://localhost:8080/",
          "height": 67
        },
        "outputId": "7d9cca0c-54e0-4bb1-f2d2-33a334596609"
      },
      "source": [
        "#How to check whether our inpu is list or not easily\n",
        "#use Pyhton built in Function:\n",
        "\n",
        "# isinstance?\n",
        "\n",
        "print(isinstance([1,2,3] , list))\n",
        "print(isinstance((1,2,3) , (list,tuple) ))\n",
        "print(isinstance(['a', 12, 45], dict) )\n",
        "# print(isinstance([1,2,3] , list))"
      ],
      "execution_count": null,
      "outputs": [
        {
          "output_type": "stream",
          "text": [
            "True\n",
            "True\n",
            "False\n"
          ],
          "name": "stdout"
        }
      ]
    },
    {
      "cell_type": "code",
      "metadata": {
        "id": "e2j2-1sNfw0y",
        "colab_type": "code",
        "colab": {}
      },
      "source": [
        ""
      ],
      "execution_count": null,
      "outputs": []
    },
    {
      "cell_type": "code",
      "metadata": {
        "id": "e8mN30BpfHkP",
        "colab_type": "code",
        "colab": {
          "base_uri": "https://localhost:8080/",
          "height": 34
        },
        "outputId": "f5984aeb-1c71-44ba-8a56-46167b54939c"
      },
      "source": [
        "L = [1,2,3,4,5,1,2,3]\n",
        "#Task is to append all unique elements into another list B\n",
        "#Good method\n",
        "\n",
        "B =set()  #Declare B as set and then add nums into it not appending its adding\n",
        "for num in L:\n",
        "  B.add(num)\n",
        "\n",
        "print(B)"
      ],
      "execution_count": null,
      "outputs": [
        {
          "output_type": "stream",
          "text": [
            "{1, 2, 3, 4, 5}\n"
          ],
          "name": "stdout"
        }
      ]
    },
    {
      "cell_type": "code",
      "metadata": {
        "id": "9T9cuzPpfHiV",
        "colab_type": "code",
        "colab": {
          "base_uri": "https://localhost:8080/",
          "height": 34
        },
        "outputId": "b02d9ba4-89cc-4968-d925-6c942990e1fe"
      },
      "source": [
        "#Memory used to store an object \n",
        "#Using getsizeof()\n",
        "from sys import getsizeof\n",
        "L = [x for x in range(10)]\n",
        "getsizeof(L)"
      ],
      "execution_count": null,
      "outputs": [
        {
          "output_type": "execute_result",
          "data": {
            "text/plain": [
              "192"
            ]
          },
          "metadata": {
            "tags": []
          },
          "execution_count": 21
        }
      ]
    },
    {
      "cell_type": "code",
      "metadata": {
        "id": "2L3DdUqVihSY",
        "colab_type": "code",
        "colab": {}
      },
      "source": [
        "  dict.get?"
      ],
      "execution_count": null,
      "outputs": []
    },
    {
      "cell_type": "code",
      "metadata": {
        "id": "IlzlZQCJihPC",
        "colab_type": "code",
        "colab": {}
      },
      "source": [
        ""
      ],
      "execution_count": null,
      "outputs": []
    },
    {
      "cell_type": "code",
      "metadata": {
        "id": "02XtwmGp-woc",
        "colab_type": "code",
        "colab": {
          "base_uri": "https://localhost:8080/",
          "height": 50
        },
        "outputId": "f9dde601-40ce-468f-c296-e76d89b95fd4"
      },
      "source": [
        "#How to convert a Dense matrix into Sparse Matrix\n",
        "A = [[0,0,1],[0,2,0]]\n",
        "from scipy.sparse import csr_matrix\n",
        "print(csr_matrix(A))"
      ],
      "execution_count": null,
      "outputs": [
        {
          "output_type": "stream",
          "text": [
            "  (0, 2)\t1\n",
            "  (1, 1)\t2\n"
          ],
          "name": "stdout"
        }
      ]
    },
    {
      "cell_type": "code",
      "metadata": {
        "id": "bWwSPMavZ7Rw",
        "colab_type": "code",
        "colab": {
          "base_uri": "https://localhost:8080/",
          "height": 34
        },
        "outputId": "412ea3f5-2a17-4b16-e5c3-2a7b0cbb4708"
      },
      "source": [
        "#How to compute time taken by the code\n",
        "from time import time \n",
        "start = time()\n",
        "for x in range(100):\n",
        "  pass\n",
        "print('time taken for above code is {}'.format(time() - start))"
      ],
      "execution_count": null,
      "outputs": [
        {
          "output_type": "stream",
          "text": [
            "time taken for above code is 4.7206878662109375e-05\n"
          ],
          "name": "stdout"
        }
      ]
    },
    {
      "cell_type": "markdown",
      "metadata": {
        "id": "0zA0xKjdlDFG",
        "colab_type": "text"
      },
      "source": [
        "# Random [module](https://www.geeksforgeeks.org/random-sampling-in-numpy-randint-function/)\n",
        "\n"
      ]
    },
    {
      "cell_type": "code",
      "metadata": {
        "id": "Y3eUXB1plC-h",
        "colab_type": "code",
        "colab": {
          "base_uri": "https://localhost:8080/",
          "height": 34
        },
        "outputId": "c41f34c2-16b8-493d-ed5e-b5c8fe7d9a87"
      },
      "source": [
        "# https://www.geeksforgeeks.org/random-sampling-in-numpy-randint-function/\n",
        "# https://www.datacamp.com/community/tutorials/numpy-random\n",
        "\n",
        "\n",
        "# How to generate a random integer with in a given range\n",
        "import numpy as np\n",
        "\n",
        "for x in range(10):\n",
        "  print(np.random.randint(1,10), end =\" \")"
      ],
      "execution_count": null,
      "outputs": [
        {
          "output_type": "stream",
          "text": [
            "2 4 1 5 9 9 4 2 7 5 "
          ],
          "name": "stdout"
        }
      ]
    },
    {
      "cell_type": "code",
      "metadata": {
        "id": "DwwPseTqlC7D",
        "colab_type": "code",
        "colab": {
          "base_uri": "https://localhost:8080/",
          "height": 34
        },
        "outputId": "7de47e5d-66de-4733-8cc4-d8541febed2b"
      },
      "source": [
        "# Everytime you run the above you will get the diff outputs \n",
        "# So for analysing further we need same random num generation we have to use seed.. Look at the above link\n",
        "\n",
        "np.random.seed(121)\n",
        "for x in range(10):\n",
        "  print(np.random.randint(1,10), end =\" \")"
      ],
      "execution_count": null,
      "outputs": [
        {
          "output_type": "stream",
          "text": [
            "3 6 9 5 2 5 4 1 3 5 "
          ],
          "name": "stdout"
        }
      ]
    },
    {
      "cell_type": "code",
      "metadata": {
        "id": "tA0NFowclJ9c",
        "colab_type": "code",
        "colab": {
          "base_uri": "https://localhost:8080/",
          "height": 50
        },
        "outputId": "b1b951a6-b186-4e93-c700-05f59cb397fe"
      },
      "source": [
        "# How to create a array of random numbers provided shape of the array \n",
        "# np.random.random(size = (2,3)) it generates all the values from uniform(0,1) of given size. try it out\n",
        "\n",
        "np.random.randint(1,10,size=(2,3)) "
      ],
      "execution_count": null,
      "outputs": [
        {
          "output_type": "execute_result",
          "data": {
            "text/plain": [
              "array([[5, 1, 6],\n",
              "       [9, 9, 3]])"
            ]
          },
          "metadata": {
            "tags": []
          },
          "execution_count": 38
        }
      ]
    },
    {
      "cell_type": "code",
      "metadata": {
        "id": "hhdWCgqguFYK",
        "colab_type": "code",
        "colab": {
          "base_uri": "https://localhost:8080/",
          "height": 50
        },
        "outputId": "3d50a41b-576c-493e-f285-0ef91e768169"
      },
      "source": [
        "# sampling WITH replacement -- we have to use numpy.random \n",
        "import numpy as np\n",
        "np.random.seed(0)\n",
        "A = np.random.randint(0,100,size=10)\n",
        "print(A)\n",
        "print('you can see as 67 is repeated here ')"
      ],
      "execution_count": null,
      "outputs": [
        {
          "output_type": "stream",
          "text": [
            "[44 47 64 67 67  9 83 21 36 87]\n",
            "you can see as 67 is repeated here \n"
          ],
          "name": "stdout"
        }
      ]
    },
    {
      "cell_type": "code",
      "metadata": {
        "id": "cMrRtm49rpmq",
        "colab_type": "code",
        "colab": {
          "base_uri": "https://localhost:8080/",
          "height": 50
        },
        "outputId": "727637a1-ab83-47ce-e4a0-1d2621ab08de"
      },
      "source": [
        "# sampling WITHOUT WITHOUT replacement   \n",
        "#https://stackoverflow.com/questions/9755538/how-do-i-create-a-list-of-random-numbers-without-duplicates\n",
        "\n",
        "import random\n",
        "np.random.seed(0)\n",
        "A = random.sample(range(100), 10)\n",
        "print(A)\n",
        "print('No elements are repeated')"
      ],
      "execution_count": null,
      "outputs": [
        {
          "output_type": "stream",
          "text": [
            "[6, 68, 19, 27, 96, 91, 23, 0, 26, 48]\n",
            "No elements are repeated\n"
          ],
          "name": "stdout"
        }
      ]
    },
    {
      "cell_type": "markdown",
      "metadata": {
        "id": "skqzVLunCF_5",
        "colab_type": "text"
      },
      "source": [
        "For Sampling WITH and WITHOUT replacement we can use below code\n",
        "\n",
        "https://docs.scipy.org/doc/numpy-1.16.0/reference/generated/numpy.random.choice.html"
      ]
    },
    {
      "cell_type": "code",
      "metadata": {
        "id": "079D9C3DCGFf",
        "colab_type": "code",
        "colab": {}
      },
      "source": [
        "import numpy as np"
      ],
      "execution_count": 2,
      "outputs": []
    },
    {
      "cell_type": "code",
      "metadata": {
        "id": "r_MX6beoCGC7",
        "colab_type": "code",
        "colab": {
          "base_uri": "https://localhost:8080/",
          "height": 185
        },
        "outputId": "7dfda147-b055-4a0c-891c-51c51f1bc074"
      },
      "source": [
        "print(np.random.choice(range(10), size = (3,3)) , '\\n')\n",
        "print(np.random.choice(range(10), size = 3), '\\n')\n",
        "print(np.random.choice(range(10), size = 10),'<-- with replacement' ,'\\n') # with replacement\n",
        "print(np.random.choice(range(10), size = 10 ,  replace =  False),'<-- with-OUT replacement' ,'\\n') # with replacement"
      ],
      "execution_count": 21,
      "outputs": [
        {
          "output_type": "stream",
          "text": [
            "[[2 9 4]\n",
            " [7 5 0]\n",
            " [3 1 5]] \n",
            "\n",
            "[9 0 7] \n",
            "\n",
            "[5 2 0 0 7 4 1 1 5 9] <-- with replacement \n",
            "\n",
            "[2 3 5 6 9 1 0 8 4 7] <-- with-OUT replacement \n",
            "\n"
          ],
          "name": "stdout"
        }
      ]
    },
    {
      "cell_type": "code",
      "metadata": {
        "id": "I1_LaLegDaGe",
        "colab_type": "code",
        "colab": {}
      },
      "source": [
        ""
      ],
      "execution_count": null,
      "outputs": []
    },
    {
      "cell_type": "code",
      "metadata": {
        "id": "3ljfgTOkDaPV",
        "colab_type": "code",
        "colab": {}
      },
      "source": [
        ""
      ],
      "execution_count": null,
      "outputs": []
    },
    {
      "cell_type": "code",
      "metadata": {
        "id": "fVk2av5hDaMa",
        "colab_type": "code",
        "colab": {}
      },
      "source": [
        ""
      ],
      "execution_count": null,
      "outputs": []
    },
    {
      "cell_type": "code",
      "metadata": {
        "id": "yOrb8lTrDaDt",
        "colab_type": "code",
        "colab": {}
      },
      "source": [
        ""
      ],
      "execution_count": null,
      "outputs": []
    },
    {
      "cell_type": "markdown",
      "metadata": {
        "id": "FSvNNVzRihNY",
        "colab_type": "text"
      },
      "source": [
        "#Pandas"
      ]
    },
    {
      "cell_type": "code",
      "metadata": {
        "id": "ZZMhbZn7hh3P",
        "colab_type": "code",
        "colab": {
          "base_uri": "https://localhost:8080/",
          "height": 195
        },
        "outputId": "4b498db9-3b05-4155-c97f-5db95a6504f3"
      },
      "source": [
        "import pandas as pd\n",
        "emp_data = pd.read_csv('/content/drive/My Drive/Colab Notebooks/emp.csv')\n",
        "emp_data.head()"
      ],
      "execution_count": null,
      "outputs": [
        {
          "output_type": "execute_result",
          "data": {
            "text/html": [
              "<div>\n",
              "<style scoped>\n",
              "    .dataframe tbody tr th:only-of-type {\n",
              "        vertical-align: middle;\n",
              "    }\n",
              "\n",
              "    .dataframe tbody tr th {\n",
              "        vertical-align: top;\n",
              "    }\n",
              "\n",
              "    .dataframe thead th {\n",
              "        text-align: right;\n",
              "    }\n",
              "</style>\n",
              "<table border=\"1\" class=\"dataframe\">\n",
              "  <thead>\n",
              "    <tr style=\"text-align: right;\">\n",
              "      <th></th>\n",
              "      <th>empno</th>\n",
              "      <th>ename</th>\n",
              "      <th>job</th>\n",
              "      <th>mgr</th>\n",
              "      <th>hiredate</th>\n",
              "      <th>sal</th>\n",
              "      <th>comm</th>\n",
              "      <th>deptno</th>\n",
              "    </tr>\n",
              "  </thead>\n",
              "  <tbody>\n",
              "    <tr>\n",
              "      <th>0</th>\n",
              "      <td>7369</td>\n",
              "      <td>SMITH</td>\n",
              "      <td>CLERK</td>\n",
              "      <td>7902.0</td>\n",
              "      <td>12/17/1980</td>\n",
              "      <td>10000</td>\n",
              "      <td>NaN</td>\n",
              "      <td>20</td>\n",
              "    </tr>\n",
              "    <tr>\n",
              "      <th>1</th>\n",
              "      <td>7499</td>\n",
              "      <td>ALLEN</td>\n",
              "      <td>SALESMAN</td>\n",
              "      <td>7698.0</td>\n",
              "      <td>2/20/1981</td>\n",
              "      <td>1600</td>\n",
              "      <td>300.0</td>\n",
              "      <td>30</td>\n",
              "    </tr>\n",
              "    <tr>\n",
              "      <th>2</th>\n",
              "      <td>7521</td>\n",
              "      <td>WARD</td>\n",
              "      <td>SALESMAN</td>\n",
              "      <td>7698.0</td>\n",
              "      <td>2/22/1981</td>\n",
              "      <td>1250</td>\n",
              "      <td>500.0</td>\n",
              "      <td>30</td>\n",
              "    </tr>\n",
              "    <tr>\n",
              "      <th>3</th>\n",
              "      <td>7566</td>\n",
              "      <td>JONES</td>\n",
              "      <td>MANAGER</td>\n",
              "      <td>7839.0</td>\n",
              "      <td>4/2/1981</td>\n",
              "      <td>1500</td>\n",
              "      <td>NaN</td>\n",
              "      <td>20</td>\n",
              "    </tr>\n",
              "    <tr>\n",
              "      <th>4</th>\n",
              "      <td>7654</td>\n",
              "      <td>MARTIN</td>\n",
              "      <td>SALESMAN</td>\n",
              "      <td>7698.0</td>\n",
              "      <td>9/28/1981</td>\n",
              "      <td>1250</td>\n",
              "      <td>1400.0</td>\n",
              "      <td>30</td>\n",
              "    </tr>\n",
              "  </tbody>\n",
              "</table>\n",
              "</div>"
            ],
            "text/plain": [
              "   empno   ename       job     mgr    hiredate    sal    comm  deptno\n",
              "0   7369   SMITH     CLERK  7902.0  12/17/1980  10000     NaN      20\n",
              "1   7499   ALLEN  SALESMAN  7698.0   2/20/1981   1600   300.0      30\n",
              "2   7521    WARD  SALESMAN  7698.0   2/22/1981   1250   500.0      30\n",
              "3   7566   JONES   MANAGER  7839.0    4/2/1981   1500     NaN      20\n",
              "4   7654  MARTIN  SALESMAN  7698.0   9/28/1981   1250  1400.0      30"
            ]
          },
          "metadata": {
            "tags": []
          },
          "execution_count": 23
        }
      ]
    },
    {
      "cell_type": "markdown",
      "metadata": {
        "id": "rQQRRRXukP-T",
        "colab_type": "text"
      },
      "source": [
        "https://datatofish.com/if-condition-in-pandas-dataframe/"
      ]
    },
    {
      "cell_type": "code",
      "metadata": {
        "id": "XkOgy8hlhjBh",
        "colab_type": "code",
        "colab": {
          "base_uri": "https://localhost:8080/",
          "height": 195
        },
        "outputId": "e3a967c0-0447-4f71-d14d-3288d723a440"
      },
      "source": [
        "#How to apply if condition on dataframe\n",
        "\n",
        "emp_data['deptno_20'] = emp_data['deptno'].apply(lambda x: 'Yesss' if x ==20 else 'No')\n",
        "emp_data.head()"
      ],
      "execution_count": null,
      "outputs": [
        {
          "output_type": "execute_result",
          "data": {
            "text/html": [
              "<div>\n",
              "<style scoped>\n",
              "    .dataframe tbody tr th:only-of-type {\n",
              "        vertical-align: middle;\n",
              "    }\n",
              "\n",
              "    .dataframe tbody tr th {\n",
              "        vertical-align: top;\n",
              "    }\n",
              "\n",
              "    .dataframe thead th {\n",
              "        text-align: right;\n",
              "    }\n",
              "</style>\n",
              "<table border=\"1\" class=\"dataframe\">\n",
              "  <thead>\n",
              "    <tr style=\"text-align: right;\">\n",
              "      <th></th>\n",
              "      <th>empno</th>\n",
              "      <th>ename</th>\n",
              "      <th>job</th>\n",
              "      <th>mgr</th>\n",
              "      <th>hiredate</th>\n",
              "      <th>sal</th>\n",
              "      <th>comm</th>\n",
              "      <th>deptno</th>\n",
              "      <th>deptno_20</th>\n",
              "    </tr>\n",
              "  </thead>\n",
              "  <tbody>\n",
              "    <tr>\n",
              "      <th>0</th>\n",
              "      <td>7369</td>\n",
              "      <td>SMITH</td>\n",
              "      <td>CLERK</td>\n",
              "      <td>7902.0</td>\n",
              "      <td>12/17/1980</td>\n",
              "      <td>10000</td>\n",
              "      <td>NaN</td>\n",
              "      <td>20</td>\n",
              "      <td>Yesss</td>\n",
              "    </tr>\n",
              "    <tr>\n",
              "      <th>1</th>\n",
              "      <td>7499</td>\n",
              "      <td>ALLEN</td>\n",
              "      <td>SALESMAN</td>\n",
              "      <td>7698.0</td>\n",
              "      <td>2/20/1981</td>\n",
              "      <td>1600</td>\n",
              "      <td>300.0</td>\n",
              "      <td>30</td>\n",
              "      <td>No</td>\n",
              "    </tr>\n",
              "    <tr>\n",
              "      <th>2</th>\n",
              "      <td>7521</td>\n",
              "      <td>WARD</td>\n",
              "      <td>SALESMAN</td>\n",
              "      <td>7698.0</td>\n",
              "      <td>2/22/1981</td>\n",
              "      <td>1250</td>\n",
              "      <td>500.0</td>\n",
              "      <td>30</td>\n",
              "      <td>No</td>\n",
              "    </tr>\n",
              "    <tr>\n",
              "      <th>3</th>\n",
              "      <td>7566</td>\n",
              "      <td>JONES</td>\n",
              "      <td>MANAGER</td>\n",
              "      <td>7839.0</td>\n",
              "      <td>4/2/1981</td>\n",
              "      <td>1500</td>\n",
              "      <td>NaN</td>\n",
              "      <td>20</td>\n",
              "      <td>Yesss</td>\n",
              "    </tr>\n",
              "    <tr>\n",
              "      <th>4</th>\n",
              "      <td>7654</td>\n",
              "      <td>MARTIN</td>\n",
              "      <td>SALESMAN</td>\n",
              "      <td>7698.0</td>\n",
              "      <td>9/28/1981</td>\n",
              "      <td>1250</td>\n",
              "      <td>1400.0</td>\n",
              "      <td>30</td>\n",
              "      <td>No</td>\n",
              "    </tr>\n",
              "  </tbody>\n",
              "</table>\n",
              "</div>"
            ],
            "text/plain": [
              "   empno   ename       job     mgr    hiredate    sal    comm  deptno deptno_20\n",
              "0   7369   SMITH     CLERK  7902.0  12/17/1980  10000     NaN      20     Yesss\n",
              "1   7499   ALLEN  SALESMAN  7698.0   2/20/1981   1600   300.0      30        No\n",
              "2   7521    WARD  SALESMAN  7698.0   2/22/1981   1250   500.0      30        No\n",
              "3   7566   JONES   MANAGER  7839.0    4/2/1981   1500     NaN      20     Yesss\n",
              "4   7654  MARTIN  SALESMAN  7698.0   9/28/1981   1250  1400.0      30        No"
            ]
          },
          "metadata": {
            "tags": []
          },
          "execution_count": 24
        }
      ]
    },
    {
      "cell_type": "code",
      "metadata": {
        "id": "b3H0wwcLh-KS",
        "colab_type": "code",
        "colab": {
          "base_uri": "https://localhost:8080/",
          "height": 106
        },
        "outputId": "837fa702-0376-4bf4-91aa-17b0d606d5e4"
      },
      "source": [
        "# How to apply mutliple conditions on diff cols of a dataframe\n",
        "# https://stackoverflow.com/questions/36603018/pandas-multiple-conditions-based-on-multiple-columns-using-np-where\n",
        "\n",
        "emp_data[ ( emp_data['job'] =='SALESMAN' ) & (emp_data['sal'] == 1250 ) ]"
      ],
      "execution_count": null,
      "outputs": [
        {
          "output_type": "execute_result",
          "data": {
            "text/html": [
              "<div>\n",
              "<style scoped>\n",
              "    .dataframe tbody tr th:only-of-type {\n",
              "        vertical-align: middle;\n",
              "    }\n",
              "\n",
              "    .dataframe tbody tr th {\n",
              "        vertical-align: top;\n",
              "    }\n",
              "\n",
              "    .dataframe thead th {\n",
              "        text-align: right;\n",
              "    }\n",
              "</style>\n",
              "<table border=\"1\" class=\"dataframe\">\n",
              "  <thead>\n",
              "    <tr style=\"text-align: right;\">\n",
              "      <th></th>\n",
              "      <th>empno</th>\n",
              "      <th>ename</th>\n",
              "      <th>job</th>\n",
              "      <th>mgr</th>\n",
              "      <th>hiredate</th>\n",
              "      <th>sal</th>\n",
              "      <th>comm</th>\n",
              "      <th>deptno</th>\n",
              "      <th>deptno_20</th>\n",
              "    </tr>\n",
              "  </thead>\n",
              "  <tbody>\n",
              "    <tr>\n",
              "      <th>2</th>\n",
              "      <td>7521</td>\n",
              "      <td>WARD</td>\n",
              "      <td>SALESMAN</td>\n",
              "      <td>7698.0</td>\n",
              "      <td>2/22/1981</td>\n",
              "      <td>1250</td>\n",
              "      <td>500.0</td>\n",
              "      <td>30</td>\n",
              "      <td>No</td>\n",
              "    </tr>\n",
              "    <tr>\n",
              "      <th>4</th>\n",
              "      <td>7654</td>\n",
              "      <td>MARTIN</td>\n",
              "      <td>SALESMAN</td>\n",
              "      <td>7698.0</td>\n",
              "      <td>9/28/1981</td>\n",
              "      <td>1250</td>\n",
              "      <td>1400.0</td>\n",
              "      <td>30</td>\n",
              "      <td>No</td>\n",
              "    </tr>\n",
              "  </tbody>\n",
              "</table>\n",
              "</div>"
            ],
            "text/plain": [
              "   empno   ename       job     mgr   hiredate   sal    comm  deptno deptno_20\n",
              "2   7521    WARD  SALESMAN  7698.0  2/22/1981  1250   500.0      30        No\n",
              "4   7654  MARTIN  SALESMAN  7698.0  9/28/1981  1250  1400.0      30        No"
            ]
          },
          "metadata": {
            "tags": []
          },
          "execution_count": 25
        }
      ]
    },
    {
      "cell_type": "code",
      "metadata": {
        "id": "PphTAEBhPQcg",
        "colab_type": "code",
        "colab": {
          "base_uri": "https://localhost:8080/",
          "height": 462
        },
        "outputId": "1d0cc94e-cab5-4d5b-d0ce-9bfd3e52422d"
      },
      "source": [
        "import pandas as pd\n",
        "tennis = pd.read_csv('/content/drive/My Drive/Colab Notebooks/Tennis_DT_example.csv')\n",
        "tennis"
      ],
      "execution_count": null,
      "outputs": [
        {
          "output_type": "execute_result",
          "data": {
            "text/html": [
              "<div>\n",
              "<style scoped>\n",
              "    .dataframe tbody tr th:only-of-type {\n",
              "        vertical-align: middle;\n",
              "    }\n",
              "\n",
              "    .dataframe tbody tr th {\n",
              "        vertical-align: top;\n",
              "    }\n",
              "\n",
              "    .dataframe thead th {\n",
              "        text-align: right;\n",
              "    }\n",
              "</style>\n",
              "<table border=\"1\" class=\"dataframe\">\n",
              "  <thead>\n",
              "    <tr style=\"text-align: right;\">\n",
              "      <th></th>\n",
              "      <th>Day</th>\n",
              "      <th>Outlook</th>\n",
              "      <th>Temperature</th>\n",
              "      <th>Humidity</th>\n",
              "      <th>Wind</th>\n",
              "      <th>PlayTennis</th>\n",
              "    </tr>\n",
              "  </thead>\n",
              "  <tbody>\n",
              "    <tr>\n",
              "      <th>0</th>\n",
              "      <td>D1</td>\n",
              "      <td>Sunny</td>\n",
              "      <td>Hot</td>\n",
              "      <td>High</td>\n",
              "      <td>Weak</td>\n",
              "      <td>No</td>\n",
              "    </tr>\n",
              "    <tr>\n",
              "      <th>1</th>\n",
              "      <td>D2</td>\n",
              "      <td>Sunny</td>\n",
              "      <td>Hot</td>\n",
              "      <td>High</td>\n",
              "      <td>Strong</td>\n",
              "      <td>No</td>\n",
              "    </tr>\n",
              "    <tr>\n",
              "      <th>2</th>\n",
              "      <td>D3</td>\n",
              "      <td>Overcast</td>\n",
              "      <td>Hot</td>\n",
              "      <td>High</td>\n",
              "      <td>Weak</td>\n",
              "      <td>Yes</td>\n",
              "    </tr>\n",
              "    <tr>\n",
              "      <th>3</th>\n",
              "      <td>D4</td>\n",
              "      <td>Rain</td>\n",
              "      <td>Mild</td>\n",
              "      <td>High</td>\n",
              "      <td>Weak</td>\n",
              "      <td>Yes</td>\n",
              "    </tr>\n",
              "    <tr>\n",
              "      <th>4</th>\n",
              "      <td>D5</td>\n",
              "      <td>Rain</td>\n",
              "      <td>Cool</td>\n",
              "      <td>Normal</td>\n",
              "      <td>Weak</td>\n",
              "      <td>Yes</td>\n",
              "    </tr>\n",
              "    <tr>\n",
              "      <th>5</th>\n",
              "      <td>D6</td>\n",
              "      <td>Rain</td>\n",
              "      <td>Cool</td>\n",
              "      <td>Normal</td>\n",
              "      <td>Strong</td>\n",
              "      <td>No</td>\n",
              "    </tr>\n",
              "    <tr>\n",
              "      <th>6</th>\n",
              "      <td>D7</td>\n",
              "      <td>Overcast</td>\n",
              "      <td>Cool</td>\n",
              "      <td>Normal</td>\n",
              "      <td>Strong</td>\n",
              "      <td>Yes</td>\n",
              "    </tr>\n",
              "    <tr>\n",
              "      <th>7</th>\n",
              "      <td>D8</td>\n",
              "      <td>Sunny</td>\n",
              "      <td>Mild</td>\n",
              "      <td>High</td>\n",
              "      <td>Weak</td>\n",
              "      <td>No</td>\n",
              "    </tr>\n",
              "    <tr>\n",
              "      <th>8</th>\n",
              "      <td>D9</td>\n",
              "      <td>Sunny</td>\n",
              "      <td>Cool</td>\n",
              "      <td>Normal</td>\n",
              "      <td>Weak</td>\n",
              "      <td>Yes</td>\n",
              "    </tr>\n",
              "    <tr>\n",
              "      <th>9</th>\n",
              "      <td>D10</td>\n",
              "      <td>Rain</td>\n",
              "      <td>Mild</td>\n",
              "      <td>Normal</td>\n",
              "      <td>Weak</td>\n",
              "      <td>Yes</td>\n",
              "    </tr>\n",
              "    <tr>\n",
              "      <th>10</th>\n",
              "      <td>D11</td>\n",
              "      <td>Sunny</td>\n",
              "      <td>Mild</td>\n",
              "      <td>Normal</td>\n",
              "      <td>Strong</td>\n",
              "      <td>Yes</td>\n",
              "    </tr>\n",
              "    <tr>\n",
              "      <th>11</th>\n",
              "      <td>D12</td>\n",
              "      <td>Overcast</td>\n",
              "      <td>Mild</td>\n",
              "      <td>High</td>\n",
              "      <td>Strong</td>\n",
              "      <td>Yes</td>\n",
              "    </tr>\n",
              "    <tr>\n",
              "      <th>12</th>\n",
              "      <td>D13</td>\n",
              "      <td>Overcast</td>\n",
              "      <td>Hot</td>\n",
              "      <td>Normal</td>\n",
              "      <td>Weak</td>\n",
              "      <td>Yes</td>\n",
              "    </tr>\n",
              "    <tr>\n",
              "      <th>13</th>\n",
              "      <td>D14</td>\n",
              "      <td>Rain</td>\n",
              "      <td>Mild</td>\n",
              "      <td>High</td>\n",
              "      <td>Strong</td>\n",
              "      <td>No</td>\n",
              "    </tr>\n",
              "  </tbody>\n",
              "</table>\n",
              "</div>"
            ],
            "text/plain": [
              "    Day   Outlook Temperature Humidity    Wind PlayTennis\n",
              "0    D1     Sunny         Hot     High    Weak         No\n",
              "1    D2     Sunny         Hot     High  Strong         No\n",
              "2    D3  Overcast         Hot     High    Weak        Yes\n",
              "3    D4      Rain        Mild     High    Weak        Yes\n",
              "4    D5      Rain        Cool   Normal    Weak        Yes\n",
              "5    D6      Rain        Cool   Normal  Strong         No\n",
              "6    D7  Overcast        Cool   Normal  Strong        Yes\n",
              "7    D8     Sunny        Mild     High    Weak         No\n",
              "8    D9     Sunny        Cool   Normal    Weak        Yes\n",
              "9   D10      Rain        Mild   Normal    Weak        Yes\n",
              "10  D11     Sunny        Mild   Normal  Strong        Yes\n",
              "11  D12  Overcast        Mild     High  Strong        Yes\n",
              "12  D13  Overcast         Hot   Normal    Weak        Yes\n",
              "13  D14      Rain        Mild     High  Strong         No"
            ]
          },
          "metadata": {
            "tags": []
          },
          "execution_count": 11
        }
      ]
    },
    {
      "cell_type": "code",
      "metadata": {
        "id": "6pknVsqRP3C8",
        "colab_type": "code",
        "colab": {
          "base_uri": "https://localhost:8080/",
          "height": 84
        },
        "outputId": "37bc5e16-55f6-4cc2-9952-bfd3528f9e2d"
      },
      "source": [
        "tennis['Outlook'].value_counts()   #column names are case sensitive"
      ],
      "execution_count": null,
      "outputs": [
        {
          "output_type": "execute_result",
          "data": {
            "text/plain": [
              "Rain        5\n",
              "Sunny       5\n",
              "Overcast    4\n",
              "Name: Outlook, dtype: int64"
            ]
          },
          "metadata": {
            "tags": []
          },
          "execution_count": 13
        }
      ]
    },
    {
      "cell_type": "code",
      "metadata": {
        "id": "KlP9omN1PQZI",
        "colab_type": "code",
        "colab": {
          "base_uri": "https://localhost:8080/",
          "height": 106
        },
        "outputId": "3085532b-7e73-44c3-ce44-07000af4d309"
      },
      "source": [
        "tennis[ (tennis['Outlook'] == 'Sunny') & (tennis['Humidity'] == 'Normal') ]"
      ],
      "execution_count": null,
      "outputs": [
        {
          "output_type": "execute_result",
          "data": {
            "text/html": [
              "<div>\n",
              "<style scoped>\n",
              "    .dataframe tbody tr th:only-of-type {\n",
              "        vertical-align: middle;\n",
              "    }\n",
              "\n",
              "    .dataframe tbody tr th {\n",
              "        vertical-align: top;\n",
              "    }\n",
              "\n",
              "    .dataframe thead th {\n",
              "        text-align: right;\n",
              "    }\n",
              "</style>\n",
              "<table border=\"1\" class=\"dataframe\">\n",
              "  <thead>\n",
              "    <tr style=\"text-align: right;\">\n",
              "      <th></th>\n",
              "      <th>Day</th>\n",
              "      <th>Outlook</th>\n",
              "      <th>Temperature</th>\n",
              "      <th>Humidity</th>\n",
              "      <th>Wind</th>\n",
              "      <th>PlayTennis</th>\n",
              "    </tr>\n",
              "  </thead>\n",
              "  <tbody>\n",
              "    <tr>\n",
              "      <th>8</th>\n",
              "      <td>D9</td>\n",
              "      <td>Sunny</td>\n",
              "      <td>Cool</td>\n",
              "      <td>Normal</td>\n",
              "      <td>Weak</td>\n",
              "      <td>Yes</td>\n",
              "    </tr>\n",
              "    <tr>\n",
              "      <th>10</th>\n",
              "      <td>D11</td>\n",
              "      <td>Sunny</td>\n",
              "      <td>Mild</td>\n",
              "      <td>Normal</td>\n",
              "      <td>Strong</td>\n",
              "      <td>Yes</td>\n",
              "    </tr>\n",
              "  </tbody>\n",
              "</table>\n",
              "</div>"
            ],
            "text/plain": [
              "    Day Outlook Temperature Humidity    Wind PlayTennis\n",
              "8    D9   Sunny        Cool   Normal    Weak        Yes\n",
              "10  D11   Sunny        Mild   Normal  Strong        Yes"
            ]
          },
          "metadata": {
            "tags": []
          },
          "execution_count": 22
        }
      ]
    },
    {
      "cell_type": "code",
      "metadata": {
        "id": "BAj7tBjPeIMe",
        "colab_type": "code",
        "colab": {}
      },
      "source": [
        ""
      ],
      "execution_count": null,
      "outputs": []
    },
    {
      "cell_type": "code",
      "metadata": {
        "id": "y5YVVBdVeII7",
        "colab_type": "code",
        "colab": {}
      },
      "source": [
        ""
      ],
      "execution_count": null,
      "outputs": []
    },
    {
      "cell_type": "markdown",
      "metadata": {
        "id": "7SQULO_Kllbd",
        "colab_type": "text"
      },
      "source": [
        "#Sklearn"
      ]
    },
    {
      "cell_type": "code",
      "metadata": {
        "id": "5oodpRcKlu8F",
        "colab_type": "code",
        "colab": {}
      },
      "source": [
        ""
      ],
      "execution_count": null,
      "outputs": []
    },
    {
      "cell_type": "code",
      "metadata": {
        "id": "w5uMBQZulu5W",
        "colab_type": "code",
        "colab": {}
      },
      "source": [
        ""
      ],
      "execution_count": null,
      "outputs": []
    },
    {
      "cell_type": "code",
      "metadata": {
        "id": "sHmhVoEulu2w",
        "colab_type": "code",
        "colab": {}
      },
      "source": [
        ""
      ],
      "execution_count": null,
      "outputs": []
    },
    {
      "cell_type": "code",
      "metadata": {
        "id": "gHFnjeiHlu0U",
        "colab_type": "code",
        "colab": {}
      },
      "source": [
        ""
      ],
      "execution_count": null,
      "outputs": []
    },
    {
      "cell_type": "code",
      "metadata": {
        "id": "sPrrO_Q2luxu",
        "colab_type": "code",
        "colab": {}
      },
      "source": [
        ""
      ],
      "execution_count": null,
      "outputs": []
    },
    {
      "cell_type": "markdown",
      "metadata": {
        "id": "sBwoTE5ZG0Q2",
        "colab_type": "text"
      },
      "source": [
        "#Sigmoid imp for LR"
      ]
    },
    {
      "cell_type": "markdown",
      "metadata": {
        "id": "rs3YlJQlKKVp",
        "colab_type": "text"
      },
      "source": [
        "Logistic regression sigmoid function -- outlier pblm explained in AAIC and medium blog\n",
        "\n",
        "https://medium.com/analytics-vidhya/geometric-intuition-of-logistic-regression-2e2b57781743#:~:text=What%20is%20Logistic%20Regression%3A,but%20not%20a%20real%20value."
      ]
    },
    {
      "cell_type": "code",
      "metadata": {
        "id": "DEtMmc1vD3z5",
        "colab_type": "code",
        "colab": {
          "base_uri": "https://localhost:8080/",
          "height": 33
        },
        "outputId": "5a3f09b6-9b20-4956-888a-564fc1d7a437"
      },
      "source": [
        "yi = [1,1,1,1,1,1,-1,-1,-1,-1,-1]\n",
        "wxi = [-100,1,1,1,1,1,-1,-1,-1,-1,-1]\n",
        "\n",
        "cnt = 0\n",
        "for i,j in zip(yi,wxi):\n",
        "  # print(i,j)\n",
        "  cnt+=(i*j)\n",
        "print(cnt)"
      ],
      "execution_count": null,
      "outputs": [
        {
          "output_type": "stream",
          "text": [
            "-90\n"
          ],
          "name": "stdout"
        }
      ]
    },
    {
      "cell_type": "code",
      "metadata": {
        "id": "ShjWxhSnFe_M",
        "colab_type": "code",
        "colab": {
          "base_uri": "https://localhost:8080/",
          "height": 33
        },
        "outputId": "85c713bd-2d6c-4e91-9c4e-0b906ec453e6"
      },
      "source": [
        "yi = [1,1,1,1,1,1,-1,-1,-1,-1,-1]\n",
        "wxi = [-100,1,1,1,1,1,-1,-1,-1,-1,-1]\n",
        "\n",
        "cnt = 0\n",
        "for i,j in zip(yi,wxi):\n",
        "  # print(i,j)\n",
        "  cnt+= 1/(1+math.exp(-i*j))\n",
        "print(cnt)"
      ],
      "execution_count": null,
      "outputs": [
        {
          "output_type": "stream",
          "text": [
            "7.3105857863000505\n"
          ],
          "name": "stdout"
        }
      ]
    },
    {
      "cell_type": "code",
      "metadata": {
        "id": "meOvDGiSF5hS",
        "colab_type": "code",
        "colab": {}
      },
      "source": [
        "import math"
      ],
      "execution_count": null,
      "outputs": []
    },
    {
      "cell_type": "code",
      "metadata": {
        "id": "IeWImB7hGSIN",
        "colab_type": "code",
        "colab": {
          "base_uri": "https://localhost:8080/"
        },
        "outputId": "ace268e4-86b8-43bd-dce8-c667858d771f"
      },
      "source": [
        "yi = [-1,1,1,1,1,1,1,1,1,1,1]\n",
        "wxi = [-1,1,2,3,4,5,-1,-2,-3,-4,-5]\n",
        "\n",
        "cnt = 0\n",
        "for i,j in zip(yi,wxi):\n",
        "  # print(i,j)\n",
        "  cnt+=(i*j)\n",
        "print(cnt)"
      ],
      "execution_count": null,
      "outputs": [
        {
          "output_type": "stream",
          "text": [
            "1\n"
          ],
          "name": "stdout"
        }
      ]
    },
    {
      "cell_type": "code",
      "metadata": {
        "id": "kMNvKh-PGEZn",
        "colab_type": "code",
        "colab": {
          "base_uri": "https://localhost:8080/"
        },
        "outputId": "416f241d-4e7c-430f-b723-417468db019f"
      },
      "source": [
        "yi = [-1,1,1,1,1,1,1,1,1,1,1]\n",
        "wxi = [-1,1,2,3,4,5,-1,-2,-3,-4,-5]\n",
        "\n",
        "cnt = 0\n",
        "for i,j in zip(yi,wxi):\n",
        "  # print(i,j)\n",
        "  cnt+= 1/(1+math.exp(-i*j))\n",
        "print(cnt)"
      ],
      "execution_count": null,
      "outputs": [
        {
          "output_type": "stream",
          "text": [
            "5.731058578630005\n"
          ],
          "name": "stdout"
        }
      ]
    },
    {
      "cell_type": "code",
      "metadata": {
        "id": "d71mn2FqGtVl",
        "colab_type": "code",
        "colab": {}
      },
      "source": [
        ""
      ],
      "execution_count": null,
      "outputs": []
    },
    {
      "cell_type": "markdown",
      "metadata": {
        "id": "UtzgNxAbaDHH",
        "colab_type": "text"
      },
      "source": [
        "#Practice"
      ]
    },
    {
      "cell_type": "code",
      "metadata": {
        "id": "lhLUXH2vVCr8",
        "colab_type": "code",
        "colab": {}
      },
      "source": [
        ""
      ],
      "execution_count": null,
      "outputs": []
    },
    {
      "cell_type": "code",
      "metadata": {
        "id": "WADTrlfRGB1A",
        "colab_type": "code",
        "colab": {}
      },
      "source": [
        "import pandas as pd\n",
        "import numpy as np"
      ],
      "execution_count": null,
      "outputs": []
    },
    {
      "cell_type": "code",
      "metadata": {
        "id": "9UypU-wclls7",
        "colab_type": "code",
        "colab": {}
      },
      "source": [
        "emp_data = pd.read_csv('/content/drive/My Drive/AA Colab Notebooks/emp.csv')"
      ],
      "execution_count": null,
      "outputs": []
    },
    {
      "cell_type": "code",
      "metadata": {
        "id": "IS3BLBiClp6I",
        "colab_type": "code",
        "colab": {
          "base_uri": "https://localhost:8080/",
          "height": 195
        },
        "outputId": "2e9fcdf7-f80e-4faf-ba23-81f8ff959e73"
      },
      "source": [
        "emp_data.head()"
      ],
      "execution_count": null,
      "outputs": [
        {
          "output_type": "execute_result",
          "data": {
            "text/html": [
              "<div>\n",
              "<style scoped>\n",
              "    .dataframe tbody tr th:only-of-type {\n",
              "        vertical-align: middle;\n",
              "    }\n",
              "\n",
              "    .dataframe tbody tr th {\n",
              "        vertical-align: top;\n",
              "    }\n",
              "\n",
              "    .dataframe thead th {\n",
              "        text-align: right;\n",
              "    }\n",
              "</style>\n",
              "<table border=\"1\" class=\"dataframe\">\n",
              "  <thead>\n",
              "    <tr style=\"text-align: right;\">\n",
              "      <th></th>\n",
              "      <th>empno</th>\n",
              "      <th>ename</th>\n",
              "      <th>job</th>\n",
              "      <th>mgr</th>\n",
              "      <th>hiredate</th>\n",
              "      <th>sal</th>\n",
              "      <th>comm</th>\n",
              "      <th>deptno</th>\n",
              "    </tr>\n",
              "  </thead>\n",
              "  <tbody>\n",
              "    <tr>\n",
              "      <th>0</th>\n",
              "      <td>7369</td>\n",
              "      <td>SMITH</td>\n",
              "      <td>CLERK</td>\n",
              "      <td>7902.0</td>\n",
              "      <td>12/17/1980</td>\n",
              "      <td>10000</td>\n",
              "      <td>NaN</td>\n",
              "      <td>20</td>\n",
              "    </tr>\n",
              "    <tr>\n",
              "      <th>1</th>\n",
              "      <td>7499</td>\n",
              "      <td>ALLEN</td>\n",
              "      <td>SALESMAN</td>\n",
              "      <td>7698.0</td>\n",
              "      <td>2/20/1981</td>\n",
              "      <td>1600</td>\n",
              "      <td>300.0</td>\n",
              "      <td>30</td>\n",
              "    </tr>\n",
              "    <tr>\n",
              "      <th>2</th>\n",
              "      <td>7521</td>\n",
              "      <td>WARD</td>\n",
              "      <td>SALESMAN</td>\n",
              "      <td>7698.0</td>\n",
              "      <td>2/22/1981</td>\n",
              "      <td>1250</td>\n",
              "      <td>500.0</td>\n",
              "      <td>30</td>\n",
              "    </tr>\n",
              "    <tr>\n",
              "      <th>3</th>\n",
              "      <td>7566</td>\n",
              "      <td>JONES</td>\n",
              "      <td>MANAGER</td>\n",
              "      <td>7839.0</td>\n",
              "      <td>4/2/1981</td>\n",
              "      <td>1500</td>\n",
              "      <td>NaN</td>\n",
              "      <td>20</td>\n",
              "    </tr>\n",
              "    <tr>\n",
              "      <th>4</th>\n",
              "      <td>7654</td>\n",
              "      <td>MARTIN</td>\n",
              "      <td>SALESMAN</td>\n",
              "      <td>7698.0</td>\n",
              "      <td>9/28/1981</td>\n",
              "      <td>1250</td>\n",
              "      <td>1400.0</td>\n",
              "      <td>30</td>\n",
              "    </tr>\n",
              "  </tbody>\n",
              "</table>\n",
              "</div>"
            ],
            "text/plain": [
              "   empno   ename       job     mgr    hiredate    sal    comm  deptno\n",
              "0   7369   SMITH     CLERK  7902.0  12/17/1980  10000     NaN      20\n",
              "1   7499   ALLEN  SALESMAN  7698.0   2/20/1981   1600   300.0      30\n",
              "2   7521    WARD  SALESMAN  7698.0   2/22/1981   1250   500.0      30\n",
              "3   7566   JONES   MANAGER  7839.0    4/2/1981   1500     NaN      20\n",
              "4   7654  MARTIN  SALESMAN  7698.0   9/28/1981   1250  1400.0      30"
            ]
          },
          "metadata": {
            "tags": []
          },
          "execution_count": 14
        }
      ]
    },
    {
      "cell_type": "code",
      "metadata": {
        "id": "ROmcffbYl5_x",
        "colab_type": "code",
        "colab": {
          "base_uri": "https://localhost:8080/",
          "height": 195
        },
        "outputId": "85ebb892-67c0-4219-efd7-d9895b4ab083"
      },
      "source": [
        "emp_data[emp_data['deptno'] == 20]"
      ],
      "execution_count": null,
      "outputs": [
        {
          "output_type": "execute_result",
          "data": {
            "text/html": [
              "<div>\n",
              "<style scoped>\n",
              "    .dataframe tbody tr th:only-of-type {\n",
              "        vertical-align: middle;\n",
              "    }\n",
              "\n",
              "    .dataframe tbody tr th {\n",
              "        vertical-align: top;\n",
              "    }\n",
              "\n",
              "    .dataframe thead th {\n",
              "        text-align: right;\n",
              "    }\n",
              "</style>\n",
              "<table border=\"1\" class=\"dataframe\">\n",
              "  <thead>\n",
              "    <tr style=\"text-align: right;\">\n",
              "      <th></th>\n",
              "      <th>empno</th>\n",
              "      <th>ename</th>\n",
              "      <th>job</th>\n",
              "      <th>mgr</th>\n",
              "      <th>hiredate</th>\n",
              "      <th>sal</th>\n",
              "      <th>comm</th>\n",
              "      <th>deptno</th>\n",
              "    </tr>\n",
              "  </thead>\n",
              "  <tbody>\n",
              "    <tr>\n",
              "      <th>0</th>\n",
              "      <td>7369</td>\n",
              "      <td>SMITH</td>\n",
              "      <td>CLERK</td>\n",
              "      <td>7902.0</td>\n",
              "      <td>12/17/1980</td>\n",
              "      <td>10000</td>\n",
              "      <td>NaN</td>\n",
              "      <td>20</td>\n",
              "    </tr>\n",
              "    <tr>\n",
              "      <th>3</th>\n",
              "      <td>7566</td>\n",
              "      <td>JONES</td>\n",
              "      <td>MANAGER</td>\n",
              "      <td>7839.0</td>\n",
              "      <td>4/2/1981</td>\n",
              "      <td>1500</td>\n",
              "      <td>NaN</td>\n",
              "      <td>20</td>\n",
              "    </tr>\n",
              "    <tr>\n",
              "      <th>7</th>\n",
              "      <td>7788</td>\n",
              "      <td>SCOTT</td>\n",
              "      <td>ANALYST</td>\n",
              "      <td>7566.0</td>\n",
              "      <td>12/9/1982</td>\n",
              "      <td>3000</td>\n",
              "      <td>NaN</td>\n",
              "      <td>20</td>\n",
              "    </tr>\n",
              "    <tr>\n",
              "      <th>10</th>\n",
              "      <td>7876</td>\n",
              "      <td>ADAMS</td>\n",
              "      <td>CLERK</td>\n",
              "      <td>7788.0</td>\n",
              "      <td>1/12/1983</td>\n",
              "      <td>1100</td>\n",
              "      <td>NaN</td>\n",
              "      <td>20</td>\n",
              "    </tr>\n",
              "    <tr>\n",
              "      <th>12</th>\n",
              "      <td>7902</td>\n",
              "      <td>FORD</td>\n",
              "      <td>ANALYST</td>\n",
              "      <td>7566.0</td>\n",
              "      <td>12/3/1981</td>\n",
              "      <td>3000</td>\n",
              "      <td>NaN</td>\n",
              "      <td>20</td>\n",
              "    </tr>\n",
              "  </tbody>\n",
              "</table>\n",
              "</div>"
            ],
            "text/plain": [
              "    empno  ename      job     mgr    hiredate    sal  comm  deptno\n",
              "0    7369  SMITH    CLERK  7902.0  12/17/1980  10000   NaN      20\n",
              "3    7566  JONES  MANAGER  7839.0    4/2/1981   1500   NaN      20\n",
              "7    7788  SCOTT  ANALYST  7566.0   12/9/1982   3000   NaN      20\n",
              "10   7876  ADAMS    CLERK  7788.0   1/12/1983   1100   NaN      20\n",
              "12   7902   FORD  ANALYST  7566.0   12/3/1981   3000   NaN      20"
            ]
          },
          "metadata": {
            "tags": []
          },
          "execution_count": 5
        }
      ]
    },
    {
      "cell_type": "code",
      "metadata": {
        "id": "bYROPOGRmA8L",
        "colab_type": "code",
        "colab": {
          "base_uri": "https://localhost:8080/",
          "height": 195
        },
        "outputId": "a9349d6c-5004-4b95-e128-35aa04a930ec"
      },
      "source": [
        "emp_data.loc[emp_data['deptno'] == 20]"
      ],
      "execution_count": null,
      "outputs": [
        {
          "output_type": "execute_result",
          "data": {
            "text/html": [
              "<div>\n",
              "<style scoped>\n",
              "    .dataframe tbody tr th:only-of-type {\n",
              "        vertical-align: middle;\n",
              "    }\n",
              "\n",
              "    .dataframe tbody tr th {\n",
              "        vertical-align: top;\n",
              "    }\n",
              "\n",
              "    .dataframe thead th {\n",
              "        text-align: right;\n",
              "    }\n",
              "</style>\n",
              "<table border=\"1\" class=\"dataframe\">\n",
              "  <thead>\n",
              "    <tr style=\"text-align: right;\">\n",
              "      <th></th>\n",
              "      <th>empno</th>\n",
              "      <th>ename</th>\n",
              "      <th>job</th>\n",
              "      <th>mgr</th>\n",
              "      <th>hiredate</th>\n",
              "      <th>sal</th>\n",
              "      <th>comm</th>\n",
              "      <th>deptno</th>\n",
              "    </tr>\n",
              "  </thead>\n",
              "  <tbody>\n",
              "    <tr>\n",
              "      <th>0</th>\n",
              "      <td>7369</td>\n",
              "      <td>SMITH</td>\n",
              "      <td>CLERK</td>\n",
              "      <td>7902.0</td>\n",
              "      <td>12/17/1980</td>\n",
              "      <td>10000</td>\n",
              "      <td>NaN</td>\n",
              "      <td>20</td>\n",
              "    </tr>\n",
              "    <tr>\n",
              "      <th>3</th>\n",
              "      <td>7566</td>\n",
              "      <td>JONES</td>\n",
              "      <td>MANAGER</td>\n",
              "      <td>7839.0</td>\n",
              "      <td>4/2/1981</td>\n",
              "      <td>1500</td>\n",
              "      <td>NaN</td>\n",
              "      <td>20</td>\n",
              "    </tr>\n",
              "    <tr>\n",
              "      <th>7</th>\n",
              "      <td>7788</td>\n",
              "      <td>SCOTT</td>\n",
              "      <td>ANALYST</td>\n",
              "      <td>7566.0</td>\n",
              "      <td>12/9/1982</td>\n",
              "      <td>3000</td>\n",
              "      <td>NaN</td>\n",
              "      <td>20</td>\n",
              "    </tr>\n",
              "    <tr>\n",
              "      <th>10</th>\n",
              "      <td>7876</td>\n",
              "      <td>ADAMS</td>\n",
              "      <td>CLERK</td>\n",
              "      <td>7788.0</td>\n",
              "      <td>1/12/1983</td>\n",
              "      <td>1100</td>\n",
              "      <td>NaN</td>\n",
              "      <td>20</td>\n",
              "    </tr>\n",
              "    <tr>\n",
              "      <th>12</th>\n",
              "      <td>7902</td>\n",
              "      <td>FORD</td>\n",
              "      <td>ANALYST</td>\n",
              "      <td>7566.0</td>\n",
              "      <td>12/3/1981</td>\n",
              "      <td>3000</td>\n",
              "      <td>NaN</td>\n",
              "      <td>20</td>\n",
              "    </tr>\n",
              "  </tbody>\n",
              "</table>\n",
              "</div>"
            ],
            "text/plain": [
              "    empno  ename      job     mgr    hiredate    sal  comm  deptno\n",
              "0    7369  SMITH    CLERK  7902.0  12/17/1980  10000   NaN      20\n",
              "3    7566  JONES  MANAGER  7839.0    4/2/1981   1500   NaN      20\n",
              "7    7788  SCOTT  ANALYST  7566.0   12/9/1982   3000   NaN      20\n",
              "10   7876  ADAMS    CLERK  7788.0   1/12/1983   1100   NaN      20\n",
              "12   7902   FORD  ANALYST  7566.0   12/3/1981   3000   NaN      20"
            ]
          },
          "metadata": {
            "tags": []
          },
          "execution_count": 6
        }
      ]
    },
    {
      "cell_type": "code",
      "metadata": {
        "id": "RT7DJ8G9mFlq",
        "colab_type": "code",
        "colab": {
          "base_uri": "https://localhost:8080/",
          "height": 166
        },
        "outputId": "7dac1dc8-7f33-4340-f476-b5410b14b427"
      },
      "source": [
        "emp_data.loc[1:4,['ename','deptno']]"
      ],
      "execution_count": null,
      "outputs": [
        {
          "output_type": "execute_result",
          "data": {
            "text/html": [
              "<div>\n",
              "<style scoped>\n",
              "    .dataframe tbody tr th:only-of-type {\n",
              "        vertical-align: middle;\n",
              "    }\n",
              "\n",
              "    .dataframe tbody tr th {\n",
              "        vertical-align: top;\n",
              "    }\n",
              "\n",
              "    .dataframe thead th {\n",
              "        text-align: right;\n",
              "    }\n",
              "</style>\n",
              "<table border=\"1\" class=\"dataframe\">\n",
              "  <thead>\n",
              "    <tr style=\"text-align: right;\">\n",
              "      <th></th>\n",
              "      <th>ename</th>\n",
              "      <th>deptno</th>\n",
              "    </tr>\n",
              "  </thead>\n",
              "  <tbody>\n",
              "    <tr>\n",
              "      <th>1</th>\n",
              "      <td>ALLEN</td>\n",
              "      <td>30</td>\n",
              "    </tr>\n",
              "    <tr>\n",
              "      <th>2</th>\n",
              "      <td>WARD</td>\n",
              "      <td>30</td>\n",
              "    </tr>\n",
              "    <tr>\n",
              "      <th>3</th>\n",
              "      <td>JONES</td>\n",
              "      <td>20</td>\n",
              "    </tr>\n",
              "    <tr>\n",
              "      <th>4</th>\n",
              "      <td>MARTIN</td>\n",
              "      <td>30</td>\n",
              "    </tr>\n",
              "  </tbody>\n",
              "</table>\n",
              "</div>"
            ],
            "text/plain": [
              "    ename  deptno\n",
              "1   ALLEN      30\n",
              "2    WARD      30\n",
              "3   JONES      20\n",
              "4  MARTIN      30"
            ]
          },
          "metadata": {
            "tags": []
          },
          "execution_count": 7
        }
      ]
    },
    {
      "cell_type": "code",
      "metadata": {
        "id": "nFXcu6NYnt2Y",
        "colab_type": "code",
        "colab": {
          "base_uri": "https://localhost:8080/",
          "height": 136
        },
        "outputId": "838cbb23-6621-433b-fcb4-682a2553f766"
      },
      "source": [
        "emp_data.iloc[1:4,1:4]"
      ],
      "execution_count": null,
      "outputs": [
        {
          "output_type": "execute_result",
          "data": {
            "text/html": [
              "<div>\n",
              "<style scoped>\n",
              "    .dataframe tbody tr th:only-of-type {\n",
              "        vertical-align: middle;\n",
              "    }\n",
              "\n",
              "    .dataframe tbody tr th {\n",
              "        vertical-align: top;\n",
              "    }\n",
              "\n",
              "    .dataframe thead th {\n",
              "        text-align: right;\n",
              "    }\n",
              "</style>\n",
              "<table border=\"1\" class=\"dataframe\">\n",
              "  <thead>\n",
              "    <tr style=\"text-align: right;\">\n",
              "      <th></th>\n",
              "      <th>ename</th>\n",
              "      <th>job</th>\n",
              "      <th>mgr</th>\n",
              "    </tr>\n",
              "  </thead>\n",
              "  <tbody>\n",
              "    <tr>\n",
              "      <th>1</th>\n",
              "      <td>ALLEN</td>\n",
              "      <td>SALESMAN</td>\n",
              "      <td>7698.0</td>\n",
              "    </tr>\n",
              "    <tr>\n",
              "      <th>2</th>\n",
              "      <td>WARD</td>\n",
              "      <td>SALESMAN</td>\n",
              "      <td>7698.0</td>\n",
              "    </tr>\n",
              "    <tr>\n",
              "      <th>3</th>\n",
              "      <td>JONES</td>\n",
              "      <td>MANAGER</td>\n",
              "      <td>7839.0</td>\n",
              "    </tr>\n",
              "  </tbody>\n",
              "</table>\n",
              "</div>"
            ],
            "text/plain": [
              "   ename       job     mgr\n",
              "1  ALLEN  SALESMAN  7698.0\n",
              "2   WARD  SALESMAN  7698.0\n",
              "3  JONES   MANAGER  7839.0"
            ]
          },
          "metadata": {
            "tags": []
          },
          "execution_count": 8
        }
      ]
    },
    {
      "cell_type": "code",
      "metadata": {
        "id": "BkFcHowYn6pN",
        "colab_type": "code",
        "colab": {
          "base_uri": "https://localhost:8080/",
          "height": 195
        },
        "outputId": "cb9104ee-4727-4970-a74c-7ed920a49ba2"
      },
      "source": [
        "emp_data.head()"
      ],
      "execution_count": null,
      "outputs": [
        {
          "output_type": "execute_result",
          "data": {
            "text/html": [
              "<div>\n",
              "<style scoped>\n",
              "    .dataframe tbody tr th:only-of-type {\n",
              "        vertical-align: middle;\n",
              "    }\n",
              "\n",
              "    .dataframe tbody tr th {\n",
              "        vertical-align: top;\n",
              "    }\n",
              "\n",
              "    .dataframe thead th {\n",
              "        text-align: right;\n",
              "    }\n",
              "</style>\n",
              "<table border=\"1\" class=\"dataframe\">\n",
              "  <thead>\n",
              "    <tr style=\"text-align: right;\">\n",
              "      <th></th>\n",
              "      <th>empno</th>\n",
              "      <th>ename</th>\n",
              "      <th>job</th>\n",
              "      <th>mgr</th>\n",
              "      <th>hiredate</th>\n",
              "      <th>sal</th>\n",
              "      <th>comm</th>\n",
              "      <th>deptno</th>\n",
              "    </tr>\n",
              "  </thead>\n",
              "  <tbody>\n",
              "    <tr>\n",
              "      <th>0</th>\n",
              "      <td>7369</td>\n",
              "      <td>SMITH</td>\n",
              "      <td>CLERK</td>\n",
              "      <td>7902.0</td>\n",
              "      <td>12/17/1980</td>\n",
              "      <td>10000</td>\n",
              "      <td>NaN</td>\n",
              "      <td>20</td>\n",
              "    </tr>\n",
              "    <tr>\n",
              "      <th>1</th>\n",
              "      <td>7499</td>\n",
              "      <td>ALLEN</td>\n",
              "      <td>SALESMAN</td>\n",
              "      <td>7698.0</td>\n",
              "      <td>2/20/1981</td>\n",
              "      <td>1600</td>\n",
              "      <td>300.0</td>\n",
              "      <td>30</td>\n",
              "    </tr>\n",
              "    <tr>\n",
              "      <th>2</th>\n",
              "      <td>7521</td>\n",
              "      <td>WARD</td>\n",
              "      <td>SALESMAN</td>\n",
              "      <td>7698.0</td>\n",
              "      <td>2/22/1981</td>\n",
              "      <td>1250</td>\n",
              "      <td>500.0</td>\n",
              "      <td>30</td>\n",
              "    </tr>\n",
              "    <tr>\n",
              "      <th>3</th>\n",
              "      <td>7566</td>\n",
              "      <td>JONES</td>\n",
              "      <td>MANAGER</td>\n",
              "      <td>7839.0</td>\n",
              "      <td>4/2/1981</td>\n",
              "      <td>1500</td>\n",
              "      <td>NaN</td>\n",
              "      <td>20</td>\n",
              "    </tr>\n",
              "    <tr>\n",
              "      <th>4</th>\n",
              "      <td>7654</td>\n",
              "      <td>MARTIN</td>\n",
              "      <td>SALESMAN</td>\n",
              "      <td>7698.0</td>\n",
              "      <td>9/28/1981</td>\n",
              "      <td>1250</td>\n",
              "      <td>1400.0</td>\n",
              "      <td>30</td>\n",
              "    </tr>\n",
              "  </tbody>\n",
              "</table>\n",
              "</div>"
            ],
            "text/plain": [
              "   empno   ename       job     mgr    hiredate    sal    comm  deptno\n",
              "0   7369   SMITH     CLERK  7902.0  12/17/1980  10000     NaN      20\n",
              "1   7499   ALLEN  SALESMAN  7698.0   2/20/1981   1600   300.0      30\n",
              "2   7521    WARD  SALESMAN  7698.0   2/22/1981   1250   500.0      30\n",
              "3   7566   JONES   MANAGER  7839.0    4/2/1981   1500     NaN      20\n",
              "4   7654  MARTIN  SALESMAN  7698.0   9/28/1981   1250  1400.0      30"
            ]
          },
          "metadata": {
            "tags": []
          },
          "execution_count": 9
        }
      ]
    },
    {
      "cell_type": "code",
      "metadata": {
        "id": "SrJaZtNKoDwW",
        "colab_type": "code",
        "colab": {}
      },
      "source": [
        "emp_data['deptno_20'] = emp_data['deptno'].apply(lambda x: 'yes_20' if x==20 else 'Nope' )"
      ],
      "execution_count": null,
      "outputs": []
    },
    {
      "cell_type": "code",
      "metadata": {
        "id": "Vck9p1cppa_S",
        "colab_type": "code",
        "colab": {
          "base_uri": "https://localhost:8080/",
          "height": 462
        },
        "outputId": "84a0624d-730d-4910-d01a-c6b291fbcf59"
      },
      "source": [
        "emp_data"
      ],
      "execution_count": null,
      "outputs": [
        {
          "output_type": "execute_result",
          "data": {
            "text/html": [
              "<div>\n",
              "<style scoped>\n",
              "    .dataframe tbody tr th:only-of-type {\n",
              "        vertical-align: middle;\n",
              "    }\n",
              "\n",
              "    .dataframe tbody tr th {\n",
              "        vertical-align: top;\n",
              "    }\n",
              "\n",
              "    .dataframe thead th {\n",
              "        text-align: right;\n",
              "    }\n",
              "</style>\n",
              "<table border=\"1\" class=\"dataframe\">\n",
              "  <thead>\n",
              "    <tr style=\"text-align: right;\">\n",
              "      <th></th>\n",
              "      <th>empno</th>\n",
              "      <th>ename</th>\n",
              "      <th>job</th>\n",
              "      <th>mgr</th>\n",
              "      <th>hiredate</th>\n",
              "      <th>sal</th>\n",
              "      <th>comm</th>\n",
              "      <th>deptno</th>\n",
              "      <th>deptno_20</th>\n",
              "    </tr>\n",
              "  </thead>\n",
              "  <tbody>\n",
              "    <tr>\n",
              "      <th>0</th>\n",
              "      <td>7369</td>\n",
              "      <td>SMITH</td>\n",
              "      <td>CLERK</td>\n",
              "      <td>7902.0</td>\n",
              "      <td>12/17/1980</td>\n",
              "      <td>10000</td>\n",
              "      <td>NaN</td>\n",
              "      <td>20</td>\n",
              "      <td>yes_20</td>\n",
              "    </tr>\n",
              "    <tr>\n",
              "      <th>1</th>\n",
              "      <td>7499</td>\n",
              "      <td>ALLEN</td>\n",
              "      <td>SALESMAN</td>\n",
              "      <td>7698.0</td>\n",
              "      <td>2/20/1981</td>\n",
              "      <td>1600</td>\n",
              "      <td>300.0</td>\n",
              "      <td>30</td>\n",
              "      <td>Nope</td>\n",
              "    </tr>\n",
              "    <tr>\n",
              "      <th>2</th>\n",
              "      <td>7521</td>\n",
              "      <td>WARD</td>\n",
              "      <td>SALESMAN</td>\n",
              "      <td>7698.0</td>\n",
              "      <td>2/22/1981</td>\n",
              "      <td>1250</td>\n",
              "      <td>500.0</td>\n",
              "      <td>30</td>\n",
              "      <td>Nope</td>\n",
              "    </tr>\n",
              "    <tr>\n",
              "      <th>3</th>\n",
              "      <td>7566</td>\n",
              "      <td>JONES</td>\n",
              "      <td>MANAGER</td>\n",
              "      <td>7839.0</td>\n",
              "      <td>4/2/1981</td>\n",
              "      <td>1500</td>\n",
              "      <td>NaN</td>\n",
              "      <td>20</td>\n",
              "      <td>yes_20</td>\n",
              "    </tr>\n",
              "    <tr>\n",
              "      <th>4</th>\n",
              "      <td>7654</td>\n",
              "      <td>MARTIN</td>\n",
              "      <td>SALESMAN</td>\n",
              "      <td>7698.0</td>\n",
              "      <td>9/28/1981</td>\n",
              "      <td>1250</td>\n",
              "      <td>1400.0</td>\n",
              "      <td>30</td>\n",
              "      <td>Nope</td>\n",
              "    </tr>\n",
              "    <tr>\n",
              "      <th>5</th>\n",
              "      <td>7698</td>\n",
              "      <td>BLAKE</td>\n",
              "      <td>MANAGER</td>\n",
              "      <td>7839.0</td>\n",
              "      <td>5/1/1981</td>\n",
              "      <td>2850</td>\n",
              "      <td>NaN</td>\n",
              "      <td>30</td>\n",
              "      <td>Nope</td>\n",
              "    </tr>\n",
              "    <tr>\n",
              "      <th>6</th>\n",
              "      <td>7782</td>\n",
              "      <td>CLARK</td>\n",
              "      <td>MANAGER</td>\n",
              "      <td>7839.0</td>\n",
              "      <td>6/9/1981</td>\n",
              "      <td>2450</td>\n",
              "      <td>NaN</td>\n",
              "      <td>10</td>\n",
              "      <td>Nope</td>\n",
              "    </tr>\n",
              "    <tr>\n",
              "      <th>7</th>\n",
              "      <td>7788</td>\n",
              "      <td>SCOTT</td>\n",
              "      <td>ANALYST</td>\n",
              "      <td>7566.0</td>\n",
              "      <td>12/9/1982</td>\n",
              "      <td>3000</td>\n",
              "      <td>NaN</td>\n",
              "      <td>20</td>\n",
              "      <td>yes_20</td>\n",
              "    </tr>\n",
              "    <tr>\n",
              "      <th>8</th>\n",
              "      <td>7839</td>\n",
              "      <td>KING</td>\n",
              "      <td>PRESIDENT</td>\n",
              "      <td>NaN</td>\n",
              "      <td>11/17/1981</td>\n",
              "      <td>5000</td>\n",
              "      <td>NaN</td>\n",
              "      <td>10</td>\n",
              "      <td>Nope</td>\n",
              "    </tr>\n",
              "    <tr>\n",
              "      <th>9</th>\n",
              "      <td>7844</td>\n",
              "      <td>TURNER</td>\n",
              "      <td>SALESMAN</td>\n",
              "      <td>7698.0</td>\n",
              "      <td>9/8/1981</td>\n",
              "      <td>1500</td>\n",
              "      <td>0.0</td>\n",
              "      <td>30</td>\n",
              "      <td>Nope</td>\n",
              "    </tr>\n",
              "    <tr>\n",
              "      <th>10</th>\n",
              "      <td>7876</td>\n",
              "      <td>ADAMS</td>\n",
              "      <td>CLERK</td>\n",
              "      <td>7788.0</td>\n",
              "      <td>1/12/1983</td>\n",
              "      <td>1100</td>\n",
              "      <td>NaN</td>\n",
              "      <td>20</td>\n",
              "      <td>yes_20</td>\n",
              "    </tr>\n",
              "    <tr>\n",
              "      <th>11</th>\n",
              "      <td>7900</td>\n",
              "      <td>JAMES</td>\n",
              "      <td>CLERK</td>\n",
              "      <td>7698.0</td>\n",
              "      <td>12/3/1981</td>\n",
              "      <td>950</td>\n",
              "      <td>NaN</td>\n",
              "      <td>30</td>\n",
              "      <td>Nope</td>\n",
              "    </tr>\n",
              "    <tr>\n",
              "      <th>12</th>\n",
              "      <td>7902</td>\n",
              "      <td>FORD</td>\n",
              "      <td>ANALYST</td>\n",
              "      <td>7566.0</td>\n",
              "      <td>12/3/1981</td>\n",
              "      <td>3000</td>\n",
              "      <td>NaN</td>\n",
              "      <td>20</td>\n",
              "      <td>yes_20</td>\n",
              "    </tr>\n",
              "    <tr>\n",
              "      <th>13</th>\n",
              "      <td>7934</td>\n",
              "      <td>MILLER</td>\n",
              "      <td>CLERK</td>\n",
              "      <td>7782.0</td>\n",
              "      <td>1/23/1982</td>\n",
              "      <td>1300</td>\n",
              "      <td>NaN</td>\n",
              "      <td>10</td>\n",
              "      <td>Nope</td>\n",
              "    </tr>\n",
              "  </tbody>\n",
              "</table>\n",
              "</div>"
            ],
            "text/plain": [
              "    empno   ename        job     mgr  ...    sal    comm  deptno  deptno_20\n",
              "0    7369   SMITH      CLERK  7902.0  ...  10000     NaN      20     yes_20\n",
              "1    7499   ALLEN   SALESMAN  7698.0  ...   1600   300.0      30       Nope\n",
              "2    7521    WARD   SALESMAN  7698.0  ...   1250   500.0      30       Nope\n",
              "3    7566   JONES    MANAGER  7839.0  ...   1500     NaN      20     yes_20\n",
              "4    7654  MARTIN   SALESMAN  7698.0  ...   1250  1400.0      30       Nope\n",
              "5    7698   BLAKE    MANAGER  7839.0  ...   2850     NaN      30       Nope\n",
              "6    7782   CLARK    MANAGER  7839.0  ...   2450     NaN      10       Nope\n",
              "7    7788   SCOTT    ANALYST  7566.0  ...   3000     NaN      20     yes_20\n",
              "8    7839    KING  PRESIDENT     NaN  ...   5000     NaN      10       Nope\n",
              "9    7844  TURNER   SALESMAN  7698.0  ...   1500     0.0      30       Nope\n",
              "10   7876   ADAMS      CLERK  7788.0  ...   1100     NaN      20     yes_20\n",
              "11   7900   JAMES      CLERK  7698.0  ...    950     NaN      30       Nope\n",
              "12   7902    FORD    ANALYST  7566.0  ...   3000     NaN      20     yes_20\n",
              "13   7934  MILLER      CLERK  7782.0  ...   1300     NaN      10       Nope\n",
              "\n",
              "[14 rows x 9 columns]"
            ]
          },
          "metadata": {
            "tags": []
          },
          "execution_count": 11
        }
      ]
    },
    {
      "cell_type": "code",
      "metadata": {
        "id": "lcFaPhC9pwuX",
        "colab_type": "code",
        "colab": {}
      },
      "source": [
        "emp_data.drop('deptno_20',axis = 1, inplace= True)"
      ],
      "execution_count": null,
      "outputs": []
    },
    {
      "cell_type": "code",
      "metadata": {
        "id": "VEbAmeAuqCRk",
        "colab_type": "code",
        "colab": {
          "base_uri": "https://localhost:8080/",
          "height": 195
        },
        "outputId": "9333261e-eb80-46c2-b7d5-d91b107bac79"
      },
      "source": [
        "emp_data.head()"
      ],
      "execution_count": null,
      "outputs": [
        {
          "output_type": "execute_result",
          "data": {
            "text/html": [
              "<div>\n",
              "<style scoped>\n",
              "    .dataframe tbody tr th:only-of-type {\n",
              "        vertical-align: middle;\n",
              "    }\n",
              "\n",
              "    .dataframe tbody tr th {\n",
              "        vertical-align: top;\n",
              "    }\n",
              "\n",
              "    .dataframe thead th {\n",
              "        text-align: right;\n",
              "    }\n",
              "</style>\n",
              "<table border=\"1\" class=\"dataframe\">\n",
              "  <thead>\n",
              "    <tr style=\"text-align: right;\">\n",
              "      <th></th>\n",
              "      <th>empno</th>\n",
              "      <th>ename</th>\n",
              "      <th>job</th>\n",
              "      <th>mgr</th>\n",
              "      <th>hiredate</th>\n",
              "      <th>sal</th>\n",
              "      <th>comm</th>\n",
              "      <th>deptno</th>\n",
              "    </tr>\n",
              "  </thead>\n",
              "  <tbody>\n",
              "    <tr>\n",
              "      <th>0</th>\n",
              "      <td>7369</td>\n",
              "      <td>SMITH</td>\n",
              "      <td>CLERK</td>\n",
              "      <td>7902.0</td>\n",
              "      <td>12/17/1980</td>\n",
              "      <td>10000</td>\n",
              "      <td>NaN</td>\n",
              "      <td>20</td>\n",
              "    </tr>\n",
              "    <tr>\n",
              "      <th>1</th>\n",
              "      <td>7499</td>\n",
              "      <td>ALLEN</td>\n",
              "      <td>SALESMAN</td>\n",
              "      <td>7698.0</td>\n",
              "      <td>2/20/1981</td>\n",
              "      <td>1600</td>\n",
              "      <td>300.0</td>\n",
              "      <td>30</td>\n",
              "    </tr>\n",
              "    <tr>\n",
              "      <th>2</th>\n",
              "      <td>7521</td>\n",
              "      <td>WARD</td>\n",
              "      <td>SALESMAN</td>\n",
              "      <td>7698.0</td>\n",
              "      <td>2/22/1981</td>\n",
              "      <td>1250</td>\n",
              "      <td>500.0</td>\n",
              "      <td>30</td>\n",
              "    </tr>\n",
              "    <tr>\n",
              "      <th>3</th>\n",
              "      <td>7566</td>\n",
              "      <td>JONES</td>\n",
              "      <td>MANAGER</td>\n",
              "      <td>7839.0</td>\n",
              "      <td>4/2/1981</td>\n",
              "      <td>1500</td>\n",
              "      <td>NaN</td>\n",
              "      <td>20</td>\n",
              "    </tr>\n",
              "    <tr>\n",
              "      <th>4</th>\n",
              "      <td>7654</td>\n",
              "      <td>MARTIN</td>\n",
              "      <td>SALESMAN</td>\n",
              "      <td>7698.0</td>\n",
              "      <td>9/28/1981</td>\n",
              "      <td>1250</td>\n",
              "      <td>1400.0</td>\n",
              "      <td>30</td>\n",
              "    </tr>\n",
              "  </tbody>\n",
              "</table>\n",
              "</div>"
            ],
            "text/plain": [
              "   empno   ename       job     mgr    hiredate    sal    comm  deptno\n",
              "0   7369   SMITH     CLERK  7902.0  12/17/1980  10000     NaN      20\n",
              "1   7499   ALLEN  SALESMAN  7698.0   2/20/1981   1600   300.0      30\n",
              "2   7521    WARD  SALESMAN  7698.0   2/22/1981   1250   500.0      30\n",
              "3   7566   JONES   MANAGER  7839.0    4/2/1981   1500     NaN      20\n",
              "4   7654  MARTIN  SALESMAN  7698.0   9/28/1981   1250  1400.0      30"
            ]
          },
          "metadata": {
            "tags": []
          },
          "execution_count": 13
        }
      ]
    },
    {
      "cell_type": "code",
      "metadata": {
        "id": "5qTwwt5dqJpc",
        "colab_type": "code",
        "colab": {
          "base_uri": "https://localhost:8080/",
          "height": 34
        },
        "outputId": "c457e09c-f3a4-4c40-ab26-27c29b0770a6"
      },
      "source": [
        "np.histogram(emp_data['deptno'] , bins = 4)"
      ],
      "execution_count": null,
      "outputs": [
        {
          "output_type": "execute_result",
          "data": {
            "text/plain": [
              "(array([3, 0, 5, 6]), array([10., 15., 20., 25., 30.]))"
            ]
          },
          "metadata": {
            "tags": []
          },
          "execution_count": 14
        }
      ]
    },
    {
      "cell_type": "code",
      "metadata": {
        "id": "Npekc4m8tunS",
        "colab_type": "code",
        "colab": {}
      },
      "source": [
        "np.histogram?"
      ],
      "execution_count": null,
      "outputs": []
    },
    {
      "cell_type": "code",
      "metadata": {
        "id": "LQTglssEt1VN",
        "colab_type": "code",
        "colab": {}
      },
      "source": [
        "counts,bin_edges = np.histogram(emp_data['deptno'] , bins = 4)"
      ],
      "execution_count": null,
      "outputs": []
    },
    {
      "cell_type": "code",
      "metadata": {
        "id": "-dK3LsSGu9AJ",
        "colab_type": "code",
        "colab": {}
      },
      "source": [
        "import matplotlib.pyplot as plt\n"
      ],
      "execution_count": null,
      "outputs": []
    },
    {
      "cell_type": "code",
      "metadata": {
        "id": "yR8QKwO9u_3D",
        "colab_type": "code",
        "colab": {}
      },
      "source": [
        "plt.hist?"
      ],
      "execution_count": null,
      "outputs": []
    },
    {
      "cell_type": "code",
      "metadata": {
        "id": "y_sY_XrzvBWb",
        "colab_type": "code",
        "colab": {
          "base_uri": "https://localhost:8080/",
          "height": 265
        },
        "outputId": "76a48c49-ef1f-4a47-82ff-ccb14bb52261"
      },
      "source": [
        "plt.hist(emp_data['deptno'] , bins = bin_edges)\n",
        "plt.show()"
      ],
      "execution_count": null,
      "outputs": [
        {
          "output_type": "display_data",
          "data": {
            "image/png": "[encoded data removed]",
            "text/plain": [
              "<Figure size 432x288 with 1 Axes>"
            ]
          },
          "metadata": {
            "tags": []
          }
        }
      ]
    },
    {
      "cell_type": "code",
      "metadata": {
        "id": "UpII0LKVvY4L",
        "colab_type": "code",
        "colab": {
          "base_uri": "https://localhost:8080/",
          "height": 265
        },
        "outputId": "310bba1b-6268-4e3b-846f-867277c5a57f"
      },
      "source": [
        "plt.hist(emp_data['deptno'] , bins = 4)\n",
        "plt.show()"
      ],
      "execution_count": null,
      "outputs": [
        {
          "output_type": "display_data",
          "data": {
            "image/png": "[encoded data removed]",
            "text/plain": [
              "<Figure size 432x288 with 1 Axes>"
            ]
          },
          "metadata": {
            "tags": []
          }
        }
      ]
    },
    {
      "cell_type": "code",
      "metadata": {
        "id": "bmcoMrHMvPTp",
        "colab_type": "code",
        "colab": {}
      },
      "source": [
        "plt.hist?"
      ],
      "execution_count": null,
      "outputs": []
    },
    {
      "cell_type": "code",
      "metadata": {
        "id": "_0eAVE2N2lui",
        "colab_type": "code",
        "colab": {}
      },
      "source": [
        "#Implemeting Bow using SkLearm\n",
        "corpus = [\"abc def aaa prq\", \"lmn pqr aaaaaaa aaa abbb baaa\"]"
      ],
      "execution_count": null,
      "outputs": []
    },
    {
      "cell_type": "code",
      "metadata": {
        "id": "-BJjmoPGvYs1",
        "colab_type": "code",
        "colab": {}
      },
      "source": [
        "from sklearn.feature_extraction.text import CountVectorizer"
      ],
      "execution_count": null,
      "outputs": []
    },
    {
      "cell_type": "code",
      "metadata": {
        "id": "Qb1Rqhlovf3m",
        "colab_type": "code",
        "colab": {}
      },
      "source": [
        "vectorizer = CountVectorizer()"
      ],
      "execution_count": null,
      "outputs": []
    },
    {
      "cell_type": "code",
      "metadata": {
        "id": "J7-uZ7hiwQdx",
        "colab_type": "code",
        "colab": {}
      },
      "source": [
        "X = vectorizer.fit(corpus)"
      ],
      "execution_count": null,
      "outputs": []
    },
    {
      "cell_type": "code",
      "metadata": {
        "id": "vpoy1KutwQaM",
        "colab_type": "code",
        "colab": {
          "base_uri": "https://localhost:8080/",
          "height": 34
        },
        "outputId": "aa638651-cf27-42a0-ee52-d8438852afd0"
      },
      "source": [
        "X.get_feature_names()"
      ],
      "execution_count": null,
      "outputs": [
        {
          "output_type": "execute_result",
          "data": {
            "text/plain": [
              "['aaa', 'aaaaaaa', 'abbb', 'abc', 'baaa', 'def', 'lmn', 'pqr', 'prq']"
            ]
          },
          "metadata": {
            "tags": []
          },
          "execution_count": 26
        }
      ]
    },
    {
      "cell_type": "code",
      "metadata": {
        "id": "Yn8OdM4qwQYh",
        "colab_type": "code",
        "colab": {
          "base_uri": "https://localhost:8080/",
          "height": 302
        },
        "outputId": "59593062-1c08-4bab-ad5f-4f59fb72450e"
      },
      "source": [
        "X.get_params()"
      ],
      "execution_count": null,
      "outputs": [
        {
          "output_type": "execute_result",
          "data": {
            "text/plain": [
              "{'analyzer': 'word',\n",
              " 'binary': False,\n",
              " 'decode_error': 'strict',\n",
              " 'dtype': numpy.int64,\n",
              " 'encoding': 'utf-8',\n",
              " 'input': 'content',\n",
              " 'lowercase': True,\n",
              " 'max_df': 1.0,\n",
              " 'max_features': None,\n",
              " 'min_df': 1,\n",
              " 'ngram_range': (1, 1),\n",
              " 'preprocessor': None,\n",
              " 'stop_words': None,\n",
              " 'strip_accents': None,\n",
              " 'token_pattern': '(?u)\\\\b\\\\w\\\\w+\\\\b',\n",
              " 'tokenizer': None,\n",
              " 'vocabulary': None}"
            ]
          },
          "metadata": {
            "tags": []
          },
          "execution_count": 27
        }
      ]
    },
    {
      "cell_type": "code",
      "metadata": {
        "id": "5tcGtiPnxgxr",
        "colab_type": "code",
        "colab": {
          "base_uri": "https://localhost:8080/",
          "height": 168
        },
        "outputId": "620ab11a-053c-421e-9867-aef57e64d2d4"
      },
      "source": [
        "X.vocabulary_"
      ],
      "execution_count": null,
      "outputs": [
        {
          "output_type": "execute_result",
          "data": {
            "text/plain": [
              "{'aaa': 0,\n",
              " 'aaaaaaa': 1,\n",
              " 'abbb': 2,\n",
              " 'abc': 3,\n",
              " 'baaa': 4,\n",
              " 'def': 5,\n",
              " 'lmn': 6,\n",
              " 'pqr': 7,\n",
              " 'prq': 8}"
            ]
          },
          "metadata": {
            "tags": []
          },
          "execution_count": 28
        }
      ]
    },
    {
      "cell_type": "code",
      "metadata": {
        "id": "Vsoj2WBExguF",
        "colab_type": "code",
        "colab": {}
      },
      "source": [
        "y = X.transform( [\"abc aaa def aaa sai haha prq\"])"
      ],
      "execution_count": null,
      "outputs": []
    },
    {
      "cell_type": "code",
      "metadata": {
        "id": "nuxpTzKAxgsh",
        "colab_type": "code",
        "colab": {
          "base_uri": "https://localhost:8080/",
          "height": 84
        },
        "outputId": "21e697a9-9c0d-4d6a-f820-9a5890bc96c8"
      },
      "source": [
        "print(y)"
      ],
      "execution_count": null,
      "outputs": [
        {
          "output_type": "stream",
          "text": [
            "  (0, 0)\t2\n",
            "  (0, 3)\t1\n",
            "  (0, 5)\t1\n",
            "  (0, 8)\t1\n"
          ],
          "name": "stdout"
        }
      ]
    },
    {
      "cell_type": "code",
      "metadata": {
        "id": "BiKDziaNxgoi",
        "colab_type": "code",
        "colab": {
          "base_uri": "https://localhost:8080/",
          "height": 34
        },
        "outputId": "9f4612ce-8820-4192-a2de-a63bef4d8b13"
      },
      "source": [
        "print(y.toarray())"
      ],
      "execution_count": null,
      "outputs": [
        {
          "output_type": "stream",
          "text": [
            "[[2 0 0 1 0 1 0 0 1]]\n"
          ],
          "name": "stdout"
        }
      ]
    },
    {
      "cell_type": "code",
      "metadata": {
        "id": "wEIxMvYAxgmz",
        "colab_type": "code",
        "colab": {}
      },
      "source": [
        "import pandas as pd"
      ],
      "execution_count": null,
      "outputs": []
    },
    {
      "cell_type": "code",
      "metadata": {
        "id": "ir66_gr673Vx",
        "colab_type": "code",
        "colab": {
          "base_uri": "https://localhost:8080/",
          "height": 77
        },
        "outputId": "d63923ce-7bee-4800-e709-b4ed92ba3ef2"
      },
      "source": [
        "pd.DataFrame(y.toarray(), columns = X.get_feature_names())"
      ],
      "execution_count": null,
      "outputs": [
        {
          "output_type": "execute_result",
          "data": {
            "text/html": [
              "<div>\n",
              "<style scoped>\n",
              "    .dataframe tbody tr th:only-of-type {\n",
              "        vertical-align: middle;\n",
              "    }\n",
              "\n",
              "    .dataframe tbody tr th {\n",
              "        vertical-align: top;\n",
              "    }\n",
              "\n",
              "    .dataframe thead th {\n",
              "        text-align: right;\n",
              "    }\n",
              "</style>\n",
              "<table border=\"1\" class=\"dataframe\">\n",
              "  <thead>\n",
              "    <tr style=\"text-align: right;\">\n",
              "      <th></th>\n",
              "      <th>aaa</th>\n",
              "      <th>aaaaaaa</th>\n",
              "      <th>abbb</th>\n",
              "      <th>abc</th>\n",
              "      <th>baaa</th>\n",
              "      <th>def</th>\n",
              "      <th>lmn</th>\n",
              "      <th>pqr</th>\n",
              "      <th>prq</th>\n",
              "    </tr>\n",
              "  </thead>\n",
              "  <tbody>\n",
              "    <tr>\n",
              "      <th>0</th>\n",
              "      <td>2</td>\n",
              "      <td>0</td>\n",
              "      <td>0</td>\n",
              "      <td>1</td>\n",
              "      <td>0</td>\n",
              "      <td>1</td>\n",
              "      <td>0</td>\n",
              "      <td>0</td>\n",
              "      <td>1</td>\n",
              "    </tr>\n",
              "  </tbody>\n",
              "</table>\n",
              "</div>"
            ],
            "text/plain": [
              "   aaa  aaaaaaa  abbb  abc  baaa  def  lmn  pqr  prq\n",
              "0    2        0     0    1     0    1    0    0    1"
            ]
          },
          "metadata": {
            "tags": []
          },
          "execution_count": 33
        }
      ]
    },
    {
      "cell_type": "markdown",
      "metadata": {
        "id": "0M6x28gyvYwV",
        "colab_type": "text"
      },
      "source": [
        "Implementing **Bag of Words** without using SkLearn"
      ]
    },
    {
      "cell_type": "code",
      "metadata": {
        "id": "QqTH9Po78Rws",
        "colab_type": "code",
        "colab": {
          "base_uri": "https://localhost:8080/",
          "height": 34
        },
        "outputId": "8ee3b75e-1ad2-4146-aff1-f471226b8f96"
      },
      "source": [
        "corpus = [\"abc def aaa prq\", \"lmn pqr aaaaaaa aaa abbb baaa\"]\n",
        "\n",
        "#getting all the unique words from corpus\n",
        "unique_words = set()\n",
        "\n",
        "for document in corpus:\n",
        "\n",
        "  for word in document.split():   #This will avoid the punctuation and extra spaces like things\n",
        "    if len(word)<2:\n",
        "        continue\n",
        "    unique_words.add(word)\n",
        "\n",
        "# print(unique_words)\n",
        "\n",
        "#sorting unique words to get vocucabulary similar to sklearn vocabulary_\n",
        "unique_words = sorted(unique_words)\n",
        "# print(unique_words)\n",
        "\n",
        "vocab = dict([(word,idx) for idx,word in enumerate(unique_words)])\n",
        "print(vocab)"
      ],
      "execution_count": null,
      "outputs": [
        {
          "output_type": "stream",
          "text": [
            "{'aaa': 0, 'aaaaaaa': 1, 'abbb': 2, 'abc': 3, 'baaa': 4, 'def': 5, 'lmn': 6, 'pqr': 7, 'prq': 8}\n"
          ],
          "name": "stdout"
        }
      ]
    },
    {
      "cell_type": "markdown",
      "metadata": {
        "id": "AWYt6KAa-gIu",
        "colab_type": "text"
      },
      "source": [
        "**Fit method for BoW**"
      ]
    },
    {
      "cell_type": "code",
      "metadata": {
        "id": "Izf-XZub_aU1",
        "colab_type": "code",
        "colab": {}
      },
      "source": [
        "def fit_Bow(corpus):\n",
        "  \n",
        "  if isinstance(corpus,(list,)):\n",
        "    #getting all the unique words from corpus\n",
        "    unique_words = set()\n",
        "\n",
        "    for document in corpus:\n",
        "      for word in document.split():   #This will avoid the punctuation and extra spaces like things\n",
        "        if len(word)<2:\n",
        "            continue\n",
        "        unique_words.add(word)\n",
        "\n",
        "    #sorting unique words to get vocucabulary similar to sklearn vocabulary_\n",
        "    unique_words = sorted(unique_words)\n",
        "\n",
        "    vocab = {word:idx for idx,word in enumerate(unique_words)}\n",
        "    # print(vocab)\n",
        "    return vocab\n",
        "\n",
        "  else:\n",
        "    print('Please input the corpus as list')"
      ],
      "execution_count": null,
      "outputs": []
    },
    {
      "cell_type": "code",
      "metadata": {
        "id": "3UMIt6efAlAq",
        "colab_type": "code",
        "colab": {
          "base_uri": "https://localhost:8080/",
          "height": 34
        },
        "outputId": "7dcc75f7-c1a4-4675-c1d2-51522eb63035"
      },
      "source": [
        "corpus = [\"abc def aaa prq\", \"lmn pqr aaaaaaa aaa abbb baaa\"]\n",
        "vocab = fit_Bow(corpus)\n",
        "print(vocab)"
      ],
      "execution_count": null,
      "outputs": [
        {
          "output_type": "stream",
          "text": [
            "{'aaa': 0, 'aaaaaaa': 1, 'abbb': 2, 'abc': 3, 'baaa': 4, 'def': 5, 'lmn': 6, 'pqr': 7, 'prq': 8}\n"
          ],
          "name": "stdout"
        }
      ]
    },
    {
      "cell_type": "code",
      "metadata": {
        "id": "XcJLZXFwIkb0",
        "colab_type": "code",
        "colab": {
          "base_uri": "https://localhost:8080/",
          "height": 50
        },
        "outputId": "3f687877-47d1-4e42-e6ef-9ca1bcc6aa92"
      },
      "source": [
        "corpus = \"abc def aaa prq\"\n",
        "vocab = fit_Bow(corpus)\n",
        "print(vocab)"
      ],
      "execution_count": null,
      "outputs": [
        {
          "output_type": "stream",
          "text": [
            "Please input the corpus as list\n",
            "None\n"
          ],
          "name": "stdout"
        }
      ]
    },
    {
      "cell_type": "markdown",
      "metadata": {
        "id": "4xZXZ7bvAumH",
        "colab_type": "text"
      },
      "source": [
        "**Transform method for BoW**"
      ]
    },
    {
      "cell_type": "code",
      "metadata": {
        "id": "FZy_w106OTnN",
        "colab_type": "code",
        "colab": {}
      },
      "source": [
        "from collections import Counter\n",
        "from scipy.sparse import csr_matrix\n",
        "from tqdm import tqdm \n",
        "import math\n",
        "\n",
        "def transform_Bow(new_corpus,vocab):\n",
        "  rows =[]\n",
        "  columns =[]\n",
        "  values= []\n",
        "\n",
        "  if isinstance(new_corpus,(list,)):\n",
        "    for idx,doc in enumerate(tqdm(new_corpus)):\n",
        "      word_counter_dict = dict(Counter(doc.split()))\n",
        "      for word,word_cnt in word_counter_dict.items():\n",
        "        col_idx = vocab.get(word,-1) #if word is not in our vocabulary then take -1  \n",
        "      \n",
        "        if col_idx != -1:\n",
        "          columns.append(col_idx)\n",
        "          rows.append(idx)\n",
        "          values.append(word_cnt)\n",
        "\n",
        "    # print((values, (rows,columns)))\n",
        "    return csr_matrix( (values , (rows,columns)) , shape= (len(new_corpus),len(vocab)) )\n",
        "\n",
        "  else:\n",
        "      print('Please input the corpus as list')\n"
      ],
      "execution_count": null,
      "outputs": []
    },
    {
      "cell_type": "code",
      "metadata": {
        "id": "i6WwB6-BMybQ",
        "colab_type": "code",
        "colab": {
          "base_uri": "https://localhost:8080/",
          "height": 342
        },
        "outputId": "4deed7be-401a-4e45-a665-9608edd47d49"
      },
      "source": [
        "#example 1:\n",
        "\n",
        "new_corpus = [\"abc def aaa aaa sai hey prq\", \"lmn pqr aaaaaaa hey there aaa pqr abbb baaa\"]\n",
        "vocab = fit_Bow( [\"abc def aaa prq\", \"lmn pqr aaaaaaa aaa abbb baaa\"])\n",
        "print(transform_Bow(new_corpus,vocab))\n",
        "print('\\n',\"-\"*20,'Checking result using pandas','-'*20)\n",
        "\n",
        "y = transform_Bow(new_corpus,vocab).toarray()\n",
        "pd.DataFrame(y , columns = vocab.keys() )"
      ],
      "execution_count": null,
      "outputs": [
        {
          "output_type": "stream",
          "text": [
            "100%|██████████| 2/2 [00:00<00:00, 3992.67it/s]\n",
            "100%|██████████| 2/2 [00:00<00:00, 8905.10it/s]"
          ],
          "name": "stderr"
        },
        {
          "output_type": "stream",
          "text": [
            "  (0, 0)\t2\n",
            "  (0, 3)\t1\n",
            "  (0, 5)\t1\n",
            "  (0, 8)\t1\n",
            "  (1, 0)\t1\n",
            "  (1, 1)\t1\n",
            "  (1, 2)\t1\n",
            "  (1, 4)\t1\n",
            "  (1, 6)\t1\n",
            "  (1, 7)\t2\n",
            "\n",
            " -------------------- Checking result using pandas --------------------\n"
          ],
          "name": "stdout"
        },
        {
          "output_type": "stream",
          "text": [
            "\n"
          ],
          "name": "stderr"
        },
        {
          "output_type": "execute_result",
          "data": {
            "text/html": [
              "<div>\n",
              "<style scoped>\n",
              "    .dataframe tbody tr th:only-of-type {\n",
              "        vertical-align: middle;\n",
              "    }\n",
              "\n",
              "    .dataframe tbody tr th {\n",
              "        vertical-align: top;\n",
              "    }\n",
              "\n",
              "    .dataframe thead th {\n",
              "        text-align: right;\n",
              "    }\n",
              "</style>\n",
              "<table border=\"1\" class=\"dataframe\">\n",
              "  <thead>\n",
              "    <tr style=\"text-align: right;\">\n",
              "      <th></th>\n",
              "      <th>aaa</th>\n",
              "      <th>aaaaaaa</th>\n",
              "      <th>abbb</th>\n",
              "      <th>abc</th>\n",
              "      <th>baaa</th>\n",
              "      <th>def</th>\n",
              "      <th>lmn</th>\n",
              "      <th>pqr</th>\n",
              "      <th>prq</th>\n",
              "    </tr>\n",
              "  </thead>\n",
              "  <tbody>\n",
              "    <tr>\n",
              "      <th>0</th>\n",
              "      <td>2</td>\n",
              "      <td>0</td>\n",
              "      <td>0</td>\n",
              "      <td>1</td>\n",
              "      <td>0</td>\n",
              "      <td>1</td>\n",
              "      <td>0</td>\n",
              "      <td>0</td>\n",
              "      <td>1</td>\n",
              "    </tr>\n",
              "    <tr>\n",
              "      <th>1</th>\n",
              "      <td>1</td>\n",
              "      <td>1</td>\n",
              "      <td>1</td>\n",
              "      <td>0</td>\n",
              "      <td>1</td>\n",
              "      <td>0</td>\n",
              "      <td>1</td>\n",
              "      <td>2</td>\n",
              "      <td>0</td>\n",
              "    </tr>\n",
              "  </tbody>\n",
              "</table>\n",
              "</div>"
            ],
            "text/plain": [
              "   aaa  aaaaaaa  abbb  abc  baaa  def  lmn  pqr  prq\n",
              "0    2        0     0    1     0    1    0    0    1\n",
              "1    1        1     1    0     1    0    1    2    0"
            ]
          },
          "metadata": {
            "tags": []
          },
          "execution_count": 71
        }
      ]
    },
    {
      "cell_type": "code",
      "metadata": {
        "id": "Qvibz4MeOTld",
        "colab_type": "code",
        "colab": {
          "base_uri": "https://localhost:8080/",
          "height": 227
        },
        "outputId": "fe711e60-3a97-4aa3-94ea-c9b0fb207454"
      },
      "source": [
        "#example 2:\n",
        "\n",
        "new_corpus = [\"the method of lagrange multipliers is the economists workhorse for solving optimization problems\",\n",
        "           \"the technique is a centerpiece of economic theory but unfortunately its usually taught poorly\"]\n",
        "\n",
        "vocab = fit_Bow( new_corpus)\n",
        "print(transform_Bow(new_corpus,vocab).toarray())\n",
        "print('\\n',\"-\"*20,'Checking result using pandas','-'*20)\n",
        "\n",
        "y = transform_Bow(new_corpus,vocab).toarray()\n",
        "pd.DataFrame(y , columns = vocab.keys() )\n",
        "\n"
      ],
      "execution_count": null,
      "outputs": [
        {
          "output_type": "stream",
          "text": [
            "100%|██████████| 2/2 [00:00<00:00, 5886.74it/s]\n",
            "100%|██████████| 2/2 [00:00<00:00, 6748.68it/s]"
          ],
          "name": "stderr"
        },
        {
          "output_type": "stream",
          "text": [
            "[[0 0 0 1 1 1 0 1 1 1 1 1 0 1 1 0 0 2 0 0 0 1]\n",
            " [1 1 1 0 0 1 1 0 0 0 1 0 1 0 0 1 1 1 1 1 1 0]]\n",
            "\n",
            " -------------------- Checking result using pandas --------------------\n"
          ],
          "name": "stdout"
        },
        {
          "output_type": "stream",
          "text": [
            "\n"
          ],
          "name": "stderr"
        },
        {
          "output_type": "execute_result",
          "data": {
            "text/html": [
              "<div>\n",
              "<style scoped>\n",
              "    .dataframe tbody tr th:only-of-type {\n",
              "        vertical-align: middle;\n",
              "    }\n",
              "\n",
              "    .dataframe tbody tr th {\n",
              "        vertical-align: top;\n",
              "    }\n",
              "\n",
              "    .dataframe thead th {\n",
              "        text-align: right;\n",
              "    }\n",
              "</style>\n",
              "<table border=\"1\" class=\"dataframe\">\n",
              "  <thead>\n",
              "    <tr style=\"text-align: right;\">\n",
              "      <th></th>\n",
              "      <th>but</th>\n",
              "      <th>centerpiece</th>\n",
              "      <th>economic</th>\n",
              "      <th>economists</th>\n",
              "      <th>for</th>\n",
              "      <th>is</th>\n",
              "      <th>its</th>\n",
              "      <th>lagrange</th>\n",
              "      <th>method</th>\n",
              "      <th>multipliers</th>\n",
              "      <th>of</th>\n",
              "      <th>optimization</th>\n",
              "      <th>poorly</th>\n",
              "      <th>problems</th>\n",
              "      <th>solving</th>\n",
              "      <th>taught</th>\n",
              "      <th>technique</th>\n",
              "      <th>the</th>\n",
              "      <th>theory</th>\n",
              "      <th>unfortunately</th>\n",
              "      <th>usually</th>\n",
              "      <th>workhorse</th>\n",
              "    </tr>\n",
              "  </thead>\n",
              "  <tbody>\n",
              "    <tr>\n",
              "      <th>0</th>\n",
              "      <td>0</td>\n",
              "      <td>0</td>\n",
              "      <td>0</td>\n",
              "      <td>1</td>\n",
              "      <td>1</td>\n",
              "      <td>1</td>\n",
              "      <td>0</td>\n",
              "      <td>1</td>\n",
              "      <td>1</td>\n",
              "      <td>1</td>\n",
              "      <td>1</td>\n",
              "      <td>1</td>\n",
              "      <td>0</td>\n",
              "      <td>1</td>\n",
              "      <td>1</td>\n",
              "      <td>0</td>\n",
              "      <td>0</td>\n",
              "      <td>2</td>\n",
              "      <td>0</td>\n",
              "      <td>0</td>\n",
              "      <td>0</td>\n",
              "      <td>1</td>\n",
              "    </tr>\n",
              "    <tr>\n",
              "      <th>1</th>\n",
              "      <td>1</td>\n",
              "      <td>1</td>\n",
              "      <td>1</td>\n",
              "      <td>0</td>\n",
              "      <td>0</td>\n",
              "      <td>1</td>\n",
              "      <td>1</td>\n",
              "      <td>0</td>\n",
              "      <td>0</td>\n",
              "      <td>0</td>\n",
              "      <td>1</td>\n",
              "      <td>0</td>\n",
              "      <td>1</td>\n",
              "      <td>0</td>\n",
              "      <td>0</td>\n",
              "      <td>1</td>\n",
              "      <td>1</td>\n",
              "      <td>1</td>\n",
              "      <td>1</td>\n",
              "      <td>1</td>\n",
              "      <td>1</td>\n",
              "      <td>0</td>\n",
              "    </tr>\n",
              "  </tbody>\n",
              "</table>\n",
              "</div>"
            ],
            "text/plain": [
              "   but  centerpiece  economic  ...  unfortunately  usually  workhorse\n",
              "0    0            0         0  ...              0        0          1\n",
              "1    1            1         1  ...              1        1          0\n",
              "\n",
              "[2 rows x 22 columns]"
            ]
          },
          "metadata": {
            "tags": []
          },
          "execution_count": 74
        }
      ]
    },
    {
      "cell_type": "code",
      "metadata": {
        "id": "e4lixXYiNRRS",
        "colab_type": "code",
        "colab": {}
      },
      "source": [
        ""
      ],
      "execution_count": null,
      "outputs": []
    },
    {
      "cell_type": "code",
      "metadata": {
        "id": "UlRwTbQiUMtj",
        "colab_type": "code",
        "colab": {}
      },
      "source": [
        "#checking the result using SKlearn\n",
        "from sklearn.feature_extraction.text import CountVectorizer"
      ],
      "execution_count": null,
      "outputs": []
    },
    {
      "cell_type": "code",
      "metadata": {
        "id": "gQnuVbYLUMpj",
        "colab_type": "code",
        "colab": {
          "base_uri": "https://localhost:8080/",
          "height": 50
        },
        "outputId": "daa7d846-7700-4b13-fcf8-1b4109f7dfb7"
      },
      "source": [
        "#using fit_transform\n",
        "\n",
        "new_corpus = [\"the method of lagrange multipliers is the economists workhorse for solving optimization problems\",\n",
        "           \"the technique is a centerpiece of economic theory but unfortunately its usually taught poorly\"]\n",
        "\n",
        "vectorizer = CountVectorizer()\n",
        "X = vectorizer.fit_transform(new_corpus)\n",
        "print(X.toarray())"
      ],
      "execution_count": null,
      "outputs": [
        {
          "output_type": "stream",
          "text": [
            "[[0 0 0 1 1 1 0 1 1 1 1 1 0 1 1 0 0 2 0 0 0 1]\n",
            " [1 1 1 0 0 1 1 0 0 0 1 0 1 0 0 1 1 1 1 1 1 0]]\n"
          ],
          "name": "stdout"
        }
      ]
    },
    {
      "cell_type": "code",
      "metadata": {
        "id": "qr6tczJ-WFjZ",
        "colab_type": "code",
        "colab": {
          "base_uri": "https://localhost:8080/",
          "height": 50
        },
        "outputId": "3fb89cad-456b-4bfe-b996-32526d3adc12"
      },
      "source": [
        "#using fit and transform seperately\n",
        "\n",
        "new_corpus = [\"the method of lagrange multipliers is the economists workhorse for solving optimization problems\",\n",
        "           \"the technique is a centerpiece of economic theory but unfortunately its usually taught poorly\"]\n",
        "\n",
        "vectorizer = CountVectorizer()\n",
        "vectorizer.fit(new_corpus)\n",
        "y = vectorizer.transform(new_corpus)\n",
        "print(y.toarray())"
      ],
      "execution_count": null,
      "outputs": [
        {
          "output_type": "stream",
          "text": [
            "[[0 0 0 1 1 1 0 1 1 1 1 1 0 1 1 0 0 2 0 0 0 1]\n",
            " [1 1 1 0 0 1 1 0 0 0 1 0 1 0 0 1 1 1 1 1 1 0]]\n"
          ],
          "name": "stdout"
        }
      ]
    },
    {
      "cell_type": "code",
      "metadata": {
        "id": "d2F6Qk9uW4Hg",
        "colab_type": "code",
        "colab": {}
      },
      "source": [
        ""
      ],
      "execution_count": null,
      "outputs": []
    },
    {
      "cell_type": "markdown",
      "metadata": {
        "id": "-aPrhqiLYqY2",
        "colab_type": "text"
      },
      "source": [
        "Implementing **TF-IDF**  using SkLearn"
      ]
    },
    {
      "cell_type": "code",
      "metadata": {
        "id": "q1b1L-y1XbrK",
        "colab_type": "code",
        "colab": {}
      },
      "source": [
        "#TF-IDF Vectorizer by using sklearn\n",
        "#Note it will calcuate the TF-IDF Values and Vocuabulary will be based upon the Train set used in the fit method "
      ],
      "execution_count": null,
      "outputs": []
    },
    {
      "cell_type": "code",
      "metadata": {
        "id": "2ve-49ZjX01v",
        "colab_type": "code",
        "colab": {}
      },
      "source": [
        "## SkLearn# Collection of string documents\n",
        "\n",
        "corpus = ['this is the first document' ,\n",
        "          'this document is the second document',          \n",
        "          'and this is the third one',\n",
        "          'is this the first document']"
      ],
      "execution_count": null,
      "outputs": []
    },
    {
      "cell_type": "code",
      "metadata": {
        "id": "6JH8UJJAX3fE",
        "colab_type": "code",
        "colab": {}
      },
      "source": [
        "from sklearn.feature_extraction.text import TfidfVectorizer"
      ],
      "execution_count": null,
      "outputs": []
    },
    {
      "cell_type": "code",
      "metadata": {
        "id": "EA2BrY8iX3dC",
        "colab_type": "code",
        "colab": {
          "base_uri": "https://localhost:8080/",
          "height": 34
        },
        "outputId": "05cd0734-cbcd-41e1-c6bb-e89a8d98c97a"
      },
      "source": [
        "vectorizer = TfidfVectorizer()\n",
        "vectorizer.fit(corpus)\n",
        "print('')"
      ],
      "execution_count": null,
      "outputs": [
        {
          "output_type": "stream",
          "text": [
            "\n"
          ],
          "name": "stdout"
        }
      ]
    },
    {
      "cell_type": "code",
      "metadata": {
        "id": "fPk4MjbgX3ZM",
        "colab_type": "code",
        "colab": {
          "base_uri": "https://localhost:8080/",
          "height": 34
        },
        "outputId": "49fd2f14-aca2-4bd7-fcaf-533973248e66"
      },
      "source": [
        "vocab = vectorizer.get_feature_names()\n",
        "print(vocab)"
      ],
      "execution_count": null,
      "outputs": [
        {
          "output_type": "stream",
          "text": [
            "['and', 'document', 'first', 'is', 'one', 'second', 'the', 'third', 'this']\n"
          ],
          "name": "stdout"
        }
      ]
    },
    {
      "cell_type": "code",
      "metadata": {
        "id": "MlPRE2aDX3Xi",
        "colab_type": "code",
        "colab": {
          "base_uri": "https://localhost:8080/",
          "height": 127
        },
        "outputId": "50ac8ce7-4ed0-4c41-b004-e9c5ac6113c6"
      },
      "source": [
        "\n",
        "IDF_values = vectorizer.idf_\n",
        "\n",
        "print('\\n')\n",
        "print('-'*30,'Displaying IDF values using pandas','-'*30)\n",
        "\n",
        "\n",
        "corpus = ['this is the first document' ,\n",
        "          'this document is the second document',          \n",
        "          'and this is the third one',\n",
        "          'is this the first document']\n",
        "\n",
        "pd.DataFrame(IDF_values.reshape(1,-1), columns = vectorizer.get_feature_names())"
      ],
      "execution_count": null,
      "outputs": [
        {
          "output_type": "stream",
          "text": [
            "\n",
            "\n",
            "------------------------------ Displaying IDF values using pandas ------------------------------\n"
          ],
          "name": "stdout"
        },
        {
          "output_type": "execute_result",
          "data": {
            "text/html": [
              "<div>\n",
              "<style scoped>\n",
              "    .dataframe tbody tr th:only-of-type {\n",
              "        vertical-align: middle;\n",
              "    }\n",
              "\n",
              "    .dataframe tbody tr th {\n",
              "        vertical-align: top;\n",
              "    }\n",
              "\n",
              "    .dataframe thead th {\n",
              "        text-align: right;\n",
              "    }\n",
              "</style>\n",
              "<table border=\"1\" class=\"dataframe\">\n",
              "  <thead>\n",
              "    <tr style=\"text-align: right;\">\n",
              "      <th></th>\n",
              "      <th>and</th>\n",
              "      <th>document</th>\n",
              "      <th>first</th>\n",
              "      <th>is</th>\n",
              "      <th>one</th>\n",
              "      <th>second</th>\n",
              "      <th>the</th>\n",
              "      <th>third</th>\n",
              "      <th>this</th>\n",
              "    </tr>\n",
              "  </thead>\n",
              "  <tbody>\n",
              "    <tr>\n",
              "      <th>0</th>\n",
              "      <td>1.916291</td>\n",
              "      <td>1.223144</td>\n",
              "      <td>1.510826</td>\n",
              "      <td>1.0</td>\n",
              "      <td>1.916291</td>\n",
              "      <td>1.916291</td>\n",
              "      <td>1.0</td>\n",
              "      <td>1.916291</td>\n",
              "      <td>1.0</td>\n",
              "    </tr>\n",
              "  </tbody>\n",
              "</table>\n",
              "</div>"
            ],
            "text/plain": [
              "        and  document     first   is       one    second  the     third  this\n",
              "0  1.916291  1.223144  1.510826  1.0  1.916291  1.916291  1.0  1.916291   1.0"
            ]
          },
          "metadata": {
            "tags": []
          },
          "execution_count": 180
        }
      ]
    },
    {
      "cell_type": "code",
      "metadata": {
        "id": "JnWfS_PNoPA_",
        "colab_type": "code",
        "colab": {
          "base_uri": "https://localhost:8080/",
          "height": 50
        },
        "outputId": "f28d6374-9aca-4db3-ee94-a3fd3b19e967"
      },
      "source": [
        "print(\"IDF value for word 'document' :\" , 1+math.log( (1+4)/(1+3))  )\n",
        "print(\"IDF value for word 'second' :\" , 1+math.log( (1+4)/(1+1))  )"
      ],
      "execution_count": null,
      "outputs": [
        {
          "output_type": "stream",
          "text": [
            "IDF value for word 'document' : 1.2231435513142097\n",
            "IDF value for word 'second' : 1.916290731874155\n"
          ],
          "name": "stdout"
        }
      ]
    },
    {
      "cell_type": "code",
      "metadata": {
        "id": "gGnC-zOqk4vJ",
        "colab_type": "code",
        "colab": {}
      },
      "source": [
        ""
      ],
      "execution_count": null,
      "outputs": []
    },
    {
      "cell_type": "code",
      "metadata": {
        "id": "K1E5oQJqX3U7",
        "colab_type": "code",
        "colab": {
          "base_uri": "https://localhost:8080/",
          "height": 250
        },
        "outputId": "25531313-c69e-44e5-c50f-6a719205e0cb"
      },
      "source": [
        "y = vectorizer.transform(corpus)\n",
        "print(y.toarray()[0])\n",
        "\n",
        "print('\\n')\n",
        "print('-'*30,'Displaying TF-IDF results using pandas','-'*30)\n",
        "pd.DataFrame( y.toarray() , columns = vectorizer.get_feature_names())"
      ],
      "execution_count": null,
      "outputs": [
        {
          "output_type": "stream",
          "text": [
            "[0.         0.46979139 0.58028582 0.38408524 0.         0.\n",
            " 0.38408524 0.         0.38408524]\n",
            "\n",
            "\n",
            "------------------------------ Displaying TF-IDF results using pandas ------------------------------\n"
          ],
          "name": "stdout"
        },
        {
          "output_type": "execute_result",
          "data": {
            "text/html": [
              "<div>\n",
              "<style scoped>\n",
              "    .dataframe tbody tr th:only-of-type {\n",
              "        vertical-align: middle;\n",
              "    }\n",
              "\n",
              "    .dataframe tbody tr th {\n",
              "        vertical-align: top;\n",
              "    }\n",
              "\n",
              "    .dataframe thead th {\n",
              "        text-align: right;\n",
              "    }\n",
              "</style>\n",
              "<table border=\"1\" class=\"dataframe\">\n",
              "  <thead>\n",
              "    <tr style=\"text-align: right;\">\n",
              "      <th></th>\n",
              "      <th>and</th>\n",
              "      <th>document</th>\n",
              "      <th>first</th>\n",
              "      <th>is</th>\n",
              "      <th>one</th>\n",
              "      <th>second</th>\n",
              "      <th>the</th>\n",
              "      <th>third</th>\n",
              "      <th>this</th>\n",
              "    </tr>\n",
              "  </thead>\n",
              "  <tbody>\n",
              "    <tr>\n",
              "      <th>0</th>\n",
              "      <td>0.000000</td>\n",
              "      <td>0.469791</td>\n",
              "      <td>0.580286</td>\n",
              "      <td>0.384085</td>\n",
              "      <td>0.000000</td>\n",
              "      <td>0.000000</td>\n",
              "      <td>0.384085</td>\n",
              "      <td>0.000000</td>\n",
              "      <td>0.384085</td>\n",
              "    </tr>\n",
              "    <tr>\n",
              "      <th>1</th>\n",
              "      <td>0.000000</td>\n",
              "      <td>0.687624</td>\n",
              "      <td>0.000000</td>\n",
              "      <td>0.281089</td>\n",
              "      <td>0.000000</td>\n",
              "      <td>0.538648</td>\n",
              "      <td>0.281089</td>\n",
              "      <td>0.000000</td>\n",
              "      <td>0.281089</td>\n",
              "    </tr>\n",
              "    <tr>\n",
              "      <th>2</th>\n",
              "      <td>0.511849</td>\n",
              "      <td>0.000000</td>\n",
              "      <td>0.000000</td>\n",
              "      <td>0.267104</td>\n",
              "      <td>0.511849</td>\n",
              "      <td>0.000000</td>\n",
              "      <td>0.267104</td>\n",
              "      <td>0.511849</td>\n",
              "      <td>0.267104</td>\n",
              "    </tr>\n",
              "    <tr>\n",
              "      <th>3</th>\n",
              "      <td>0.000000</td>\n",
              "      <td>0.469791</td>\n",
              "      <td>0.580286</td>\n",
              "      <td>0.384085</td>\n",
              "      <td>0.000000</td>\n",
              "      <td>0.000000</td>\n",
              "      <td>0.384085</td>\n",
              "      <td>0.000000</td>\n",
              "      <td>0.384085</td>\n",
              "    </tr>\n",
              "  </tbody>\n",
              "</table>\n",
              "</div>"
            ],
            "text/plain": [
              "        and  document     first  ...       the     third      this\n",
              "0  0.000000  0.469791  0.580286  ...  0.384085  0.000000  0.384085\n",
              "1  0.000000  0.687624  0.000000  ...  0.281089  0.000000  0.281089\n",
              "2  0.511849  0.000000  0.000000  ...  0.267104  0.511849  0.267104\n",
              "3  0.000000  0.469791  0.580286  ...  0.384085  0.000000  0.384085\n",
              "\n",
              "[4 rows x 9 columns]"
            ]
          },
          "metadata": {
            "tags": []
          },
          "execution_count": 195
        }
      ]
    },
    {
      "cell_type": "code",
      "metadata": {
        "id": "VZzNDgfu9jzS",
        "colab_type": "code",
        "colab": {
          "base_uri": "https://localhost:8080/",
          "height": 161
        },
        "outputId": "2e7ae8a6-f081-4ff5-fd2d-bb0c50e2287b"
      },
      "source": [
        "corpus = ['this document is the second document']\n",
        "y = vectorizer.transform(corpus)\n",
        "print(y.toarray()[0])\n",
        "\n",
        "print('\\n')\n",
        "print('-'*30,'Displaying TF-IDF results using pandas','-'*30)\n",
        "pd.DataFrame( y.toarray() , columns = vectorizer.get_feature_names())"
      ],
      "execution_count": null,
      "outputs": [
        {
          "output_type": "stream",
          "text": [
            "[0.         0.6876236  0.         0.28108867 0.         0.53864762\n",
            " 0.28108867 0.         0.28108867]\n",
            "\n",
            "\n",
            "------------------------------ Displaying TF-IDF results using pandas ------------------------------\n"
          ],
          "name": "stdout"
        },
        {
          "output_type": "execute_result",
          "data": {
            "text/html": [
              "<div>\n",
              "<style scoped>\n",
              "    .dataframe tbody tr th:only-of-type {\n",
              "        vertical-align: middle;\n",
              "    }\n",
              "\n",
              "    .dataframe tbody tr th {\n",
              "        vertical-align: top;\n",
              "    }\n",
              "\n",
              "    .dataframe thead th {\n",
              "        text-align: right;\n",
              "    }\n",
              "</style>\n",
              "<table border=\"1\" class=\"dataframe\">\n",
              "  <thead>\n",
              "    <tr style=\"text-align: right;\">\n",
              "      <th></th>\n",
              "      <th>and</th>\n",
              "      <th>document</th>\n",
              "      <th>first</th>\n",
              "      <th>is</th>\n",
              "      <th>one</th>\n",
              "      <th>second</th>\n",
              "      <th>the</th>\n",
              "      <th>third</th>\n",
              "      <th>this</th>\n",
              "    </tr>\n",
              "  </thead>\n",
              "  <tbody>\n",
              "    <tr>\n",
              "      <th>0</th>\n",
              "      <td>0.0</td>\n",
              "      <td>0.687624</td>\n",
              "      <td>0.0</td>\n",
              "      <td>0.281089</td>\n",
              "      <td>0.0</td>\n",
              "      <td>0.538648</td>\n",
              "      <td>0.281089</td>\n",
              "      <td>0.0</td>\n",
              "      <td>0.281089</td>\n",
              "    </tr>\n",
              "  </tbody>\n",
              "</table>\n",
              "</div>"
            ],
            "text/plain": [
              "   and  document  first        is  one    second       the  third      this\n",
              "0  0.0  0.687624    0.0  0.281089  0.0  0.538648  0.281089    0.0  0.281089"
            ]
          },
          "metadata": {
            "tags": []
          },
          "execution_count": 196
        }
      ]
    },
    {
      "cell_type": "code",
      "metadata": {
        "id": "ybt63Qcbqbkx",
        "colab_type": "code",
        "colab": {}
      },
      "source": [
        ""
      ],
      "execution_count": null,
      "outputs": []
    },
    {
      "cell_type": "code",
      "metadata": {
        "id": "IIPuqQ2JqbgV",
        "colab_type": "code",
        "colab": {}
      },
      "source": [
        ""
      ],
      "execution_count": null,
      "outputs": []
    },
    {
      "cell_type": "markdown",
      "metadata": {
        "id": "ZGZvYkiJqbeb",
        "colab_type": "text"
      },
      "source": [
        "Implementing **TF-IDF** without using SkLearn"
      ]
    },
    {
      "cell_type": "markdown",
      "metadata": {
        "id": "59QyCW9Pqbci",
        "colab_type": "text"
      },
      "source": [
        "**This fit function will return (Vocabulary ,TF_IDF) values**\n",
        "1. Will return Voacbulary as dict\n",
        "2. Will return idf_vales as dict"
      ]
    },
    {
      "cell_type": "code",
      "metadata": {
        "id": "2wwb2Eu2qbZ9",
        "colab_type": "code",
        "colab": {}
      },
      "source": [
        "#creating a vocabulary using fit method\n",
        "def fit_TF_IDF(corpus):\n",
        "\n",
        "  # ***************************Part - 1 --> Creating Vocabulary *******************************\n",
        "  unique_words =set()\n",
        "  \n",
        "  if isinstance(corpus, (list,)):\n",
        "    for doc in corpus:\n",
        "      for word in doc.split():\n",
        "        if len(word) < 2:\n",
        "          continue\n",
        "        unique_words.add(word)\n",
        "\n",
        "    unique_words = sorted(unique_words)\n",
        "    vocab = {word:idx for idx,word in enumerate(unique_words)}\n",
        "    #print(vocab)\n",
        "\n",
        "  # ***************************Part - 2 --> Computing IDF values *******************************\n",
        "\n",
        "    N = len(corpus)           # Total no of docs in corpus\n",
        "    idf_values = dict()       # {'and': 2.09861} -- word:idf_value as dictionary\n",
        "\n",
        "    for word in vocab.keys():\n",
        "      n = 0     # of docs in which req word is present \n",
        "      for doc in corpus:\n",
        "        if word in doc.split():\n",
        "          n+=1\n",
        "      idf_values[word] = 1+math.log((1+N)/(1+n))               \n",
        "    return vocab,idf_values\n",
        "\n",
        "  else:\n",
        "    print('Please enter the input corpus as a list')\n"
      ],
      "execution_count": null,
      "outputs": []
    },
    {
      "cell_type": "code",
      "metadata": {
        "id": "IJ9R0S9mqbWb",
        "colab_type": "code",
        "colab": {
          "base_uri": "https://localhost:8080/",
          "height": 144
        },
        "outputId": "fa744bb5-588e-47c5-c40f-148878093371"
      },
      "source": [
        "corpus = ['this is the first document' ,\n",
        "          'this document is the second document',          \n",
        "          'and this is the third one',\n",
        "          'is this the first document']\n",
        "          \n",
        "\n",
        "vocab,idf_dict = fit_TF_IDF(corpus)\n",
        "\n",
        "print('-'*30,'Displaying custom made IDF values and Vocab ','-'*30,'\\n')\n",
        "print(vocab,'\\n')\n",
        "idf_dict_keys = list(idf_dict.keys() )\n",
        "idf_dict_values = np.array(list(idf_dict.values())).reshape(1,-1)\n",
        "pd.DataFrame(idf_dict_values , columns = idf_dict_keys )\n"
      ],
      "execution_count": null,
      "outputs": [
        {
          "output_type": "stream",
          "text": [
            "------------------------------ Displaying custom made IDF values and Vocab  ------------------------------ \n",
            "\n",
            "{'and': 0, 'document': 1, 'first': 2, 'is': 3, 'one': 4, 'second': 5, 'the': 6, 'third': 7, 'this': 8} \n",
            "\n"
          ],
          "name": "stdout"
        },
        {
          "output_type": "execute_result",
          "data": {
            "text/html": [
              "<div>\n",
              "<style scoped>\n",
              "    .dataframe tbody tr th:only-of-type {\n",
              "        vertical-align: middle;\n",
              "    }\n",
              "\n",
              "    .dataframe tbody tr th {\n",
              "        vertical-align: top;\n",
              "    }\n",
              "\n",
              "    .dataframe thead th {\n",
              "        text-align: right;\n",
              "    }\n",
              "</style>\n",
              "<table border=\"1\" class=\"dataframe\">\n",
              "  <thead>\n",
              "    <tr style=\"text-align: right;\">\n",
              "      <th></th>\n",
              "      <th>and</th>\n",
              "      <th>document</th>\n",
              "      <th>first</th>\n",
              "      <th>is</th>\n",
              "      <th>one</th>\n",
              "      <th>second</th>\n",
              "      <th>the</th>\n",
              "      <th>third</th>\n",
              "      <th>this</th>\n",
              "    </tr>\n",
              "  </thead>\n",
              "  <tbody>\n",
              "    <tr>\n",
              "      <th>0</th>\n",
              "      <td>1.916291</td>\n",
              "      <td>1.223144</td>\n",
              "      <td>1.510826</td>\n",
              "      <td>1.0</td>\n",
              "      <td>1.916291</td>\n",
              "      <td>1.916291</td>\n",
              "      <td>1.0</td>\n",
              "      <td>1.916291</td>\n",
              "      <td>1.0</td>\n",
              "    </tr>\n",
              "  </tbody>\n",
              "</table>\n",
              "</div>"
            ],
            "text/plain": [
              "        and  document     first   is       one    second  the     third  this\n",
              "0  1.916291  1.223144  1.510826  1.0  1.916291  1.916291  1.0  1.916291   1.0"
            ]
          },
          "metadata": {
            "tags": []
          },
          "execution_count": 248
        }
      ]
    },
    {
      "cell_type": "code",
      "metadata": {
        "id": "wFxUHTcDn9qO",
        "colab_type": "code",
        "colab": {
          "base_uri": "https://localhost:8080/",
          "height": 144
        },
        "outputId": "2d23cade-b7f3-4af5-a58c-767958b2b599"
      },
      "source": [
        "#Checking the result with sklearn values its matching\n",
        "\n",
        "\n",
        "\n",
        "IDF_values = vectorizer.idf_\n",
        "print('-'*30,'Displaying SkLearn vocab and IDF values','-'*30,'\\n')\n",
        "\n",
        "print(vectorizer.vocabulary_, '\\n')\n",
        "pd.DataFrame(IDF_values.reshape(1,-1), columns = vocab)"
      ],
      "execution_count": null,
      "outputs": [
        {
          "output_type": "stream",
          "text": [
            "------------------------------ Displaying SkLearn vocab and IDF values ------------------------------ \n",
            "\n",
            "{'this': 8, 'is': 3, 'the': 6, 'first': 2, 'document': 1, 'second': 5, 'and': 0, 'third': 7, 'one': 4} \n",
            "\n"
          ],
          "name": "stdout"
        },
        {
          "output_type": "execute_result",
          "data": {
            "text/html": [
              "<div>\n",
              "<style scoped>\n",
              "    .dataframe tbody tr th:only-of-type {\n",
              "        vertical-align: middle;\n",
              "    }\n",
              "\n",
              "    .dataframe tbody tr th {\n",
              "        vertical-align: top;\n",
              "    }\n",
              "\n",
              "    .dataframe thead th {\n",
              "        text-align: right;\n",
              "    }\n",
              "</style>\n",
              "<table border=\"1\" class=\"dataframe\">\n",
              "  <thead>\n",
              "    <tr style=\"text-align: right;\">\n",
              "      <th></th>\n",
              "      <th>and</th>\n",
              "      <th>document</th>\n",
              "      <th>first</th>\n",
              "      <th>is</th>\n",
              "      <th>one</th>\n",
              "      <th>second</th>\n",
              "      <th>the</th>\n",
              "      <th>third</th>\n",
              "      <th>this</th>\n",
              "    </tr>\n",
              "  </thead>\n",
              "  <tbody>\n",
              "    <tr>\n",
              "      <th>0</th>\n",
              "      <td>1.916291</td>\n",
              "      <td>1.223144</td>\n",
              "      <td>1.510826</td>\n",
              "      <td>1.0</td>\n",
              "      <td>1.916291</td>\n",
              "      <td>1.916291</td>\n",
              "      <td>1.0</td>\n",
              "      <td>1.916291</td>\n",
              "      <td>1.0</td>\n",
              "    </tr>\n",
              "  </tbody>\n",
              "</table>\n",
              "</div>"
            ],
            "text/plain": [
              "        and  document     first   is       one    second  the     third  this\n",
              "0  1.916291  1.223144  1.510826  1.0  1.916291  1.916291  1.0  1.916291   1.0"
            ]
          },
          "metadata": {
            "tags": []
          },
          "execution_count": 185
        }
      ]
    },
    {
      "cell_type": "code",
      "metadata": {
        "id": "LQPGBA892xnh",
        "colab_type": "code",
        "colab": {}
      },
      "source": [
        ""
      ],
      "execution_count": null,
      "outputs": []
    },
    {
      "cell_type": "code",
      "metadata": {
        "id": "arM943rs2xlt",
        "colab_type": "code",
        "colab": {}
      },
      "source": [
        ""
      ],
      "execution_count": null,
      "outputs": []
    },
    {
      "cell_type": "markdown",
      "metadata": {
        "id": "Va7s_IWvhZJo",
        "colab_type": "text"
      },
      "source": [
        "**Transform method of TF_IDF Vectorizer custom made:**"
      ]
    },
    {
      "cell_type": "code",
      "metadata": {
        "colab_type": "code",
        "id": "-Jd9_ovkv-XG",
        "colab": {}
      },
      "source": [
        ""
      ],
      "execution_count": null,
      "outputs": []
    },
    {
      "cell_type": "markdown",
      "metadata": {
        "id": "y6yvjpzN46lE",
        "colab_type": "text"
      },
      "source": [
        "**Note:**\n",
        "\n",
        "L2 Norm of matrix  https://machinelearningmastery.com/vector-norms-machine-learning/ \n",
        "\n",
        "For Normalisation of a matrix using [sklearn.preprocessing.normalize](https://scikit-learn.org/stable/modules/generated/sklearn.preprocessing.normalize.html)\n",
        "\n",
        "**Ex :**\n",
        "\n",
        "A = [[1 2 3 4]]"
      ]
    },
    {
      "cell_type": "markdown",
      "metadata": {
        "id": "CP77C_U46l3T",
        "colab_type": "text"
      },
      "source": [
        "**L2 Normalization custom made without using SkLearn**\n",
        "\n",
        "\n"
      ]
    },
    {
      "cell_type": "code",
      "metadata": {
        "id": "O9XDmwLQ5il4",
        "colab_type": "code",
        "colab": {
          "base_uri": "https://localhost:8080/",
          "height": 34
        },
        "outputId": "2a205040-8125-40e7-89d0-1f1fe301fa31"
      },
      "source": [
        "import math\n",
        "\n",
        "A = [1,2,3,4]\n",
        "sum_of_sq = sum([x**2 for x in A])\n",
        "#print(sum_of_sq)\n",
        "A_norm = [x/math.sqrt(sum_of_sq) for x in A]\n",
        "print(A_norm)"
      ],
      "execution_count": null,
      "outputs": [
        {
          "output_type": "stream",
          "text": [
            "[0.18257418583505536, 0.3651483716701107, 0.5477225575051661, 0.7302967433402214]\n"
          ],
          "name": "stdout"
        }
      ]
    },
    {
      "cell_type": "markdown",
      "metadata": {
        "id": "IQhk8kIo6_dx",
        "colab_type": "text"
      },
      "source": [
        "**L2 Normalization using [sklearn.preprocessing.normalize](https://scikit-learn.org/stable/modules/generated/sklearn.preprocessing.normalize.html)**"
      ]
    },
    {
      "cell_type": "code",
      "metadata": {
        "id": "4k9isSi154fU",
        "colab_type": "code",
        "colab": {
          "base_uri": "https://localhost:8080/",
          "height": 34
        },
        "outputId": "ff6af598-2fc2-47cf-a08f-f5cf9427178b"
      },
      "source": [
        "from sklearn.preprocessing import normalize\n",
        "normalize([[1,2,3,4]])"
      ],
      "execution_count": null,
      "outputs": [
        {
          "output_type": "execute_result",
          "data": {
            "text/plain": [
              "array([[0.18257419, 0.36514837, 0.54772256, 0.73029674]])"
            ]
          },
          "metadata": {
            "tags": []
          },
          "execution_count": 188
        }
      ]
    },
    {
      "cell_type": "code",
      "metadata": {
        "id": "PjzGKkoWxG35",
        "colab_type": "code",
        "colab": {}
      },
      "source": [
        "from sklearn.preprocessing import normalize\n",
        "\n",
        "def transform_TF_IDF(new_corpus,vocab,idf_dict):\n",
        "\n",
        "  rows =[]\n",
        "  columns =[]\n",
        "  tfidf_values = []\n",
        "\n",
        "  if isinstance(new_corpus,(list,)):\n",
        "    for row_idx,doc in enumerate(new_corpus):\n",
        "      doc_list = doc.split()\n",
        "      for word in set(doc_list):  ##Please read the note with Heading 'why set(doc_list)?'\n",
        "        col_idx = vocab.get(word,-1)  \n",
        "        if col_idx == -1:\n",
        "          continue\n",
        "        columns.append(col_idx)     #appending col num: value of a word in Vocab dict\n",
        "        rows.append(row_idx)        #appending row num : Row number from the corpus or document no\n",
        "        \n",
        "        tf = ( doc_list.count(word) / len(doc_list) )\n",
        "        idf = idf_dict.get(word)\n",
        "        tfidf_values.append(tf*idf)\n",
        "    sparse_tfidf_output = csr_matrix((tfidf_values,(rows,columns)),shape = (len(new_corpus),len(vocab)) )  #check csr_matrix? initialisations\n",
        "    sparse_tfidf_output = normalize(sparse_tfidf_output)             #Applying L2 norm to get the output similar to sklearn output\n",
        "\n",
        "    return sparse_tfidf_output\n",
        "\n",
        "  else:\n",
        "    print('Please input the new_corpus as a list')\n",
        "\n"
      ],
      "execution_count": null,
      "outputs": []
    },
    {
      "cell_type": "code",
      "metadata": {
        "id": "mFQ7qC-y0Bn9",
        "colab_type": "code",
        "colab": {
          "base_uri": "https://localhost:8080/",
          "height": 50
        },
        "outputId": "43340a95-18d3-4dd1-9227-a571ddde7e34"
      },
      "source": [
        "corpus = ['this is the first document' ,\n",
        "          'this document is the second document',          \n",
        "          'and this is the third one',\n",
        "          'is this the first document']\n",
        "          \n",
        "\n",
        "vocab,idf_dict = fit_TF_IDF(corpus)\n",
        "\n",
        "output = transform_TF_IDF(corpus,vocab,idf_dict)\n",
        "print(output.toarray()[0])"
      ],
      "execution_count": null,
      "outputs": [
        {
          "output_type": "stream",
          "text": [
            "[0.         0.46979139 0.58028582 0.38408524 0.         0.\n",
            " 0.38408524 0.         0.38408524]\n"
          ],
          "name": "stdout"
        }
      ]
    },
    {
      "cell_type": "code",
      "metadata": {
        "id": "TY3V6rP90Bjg",
        "colab_type": "code",
        "colab": {
          "base_uri": "https://localhost:8080/",
          "height": 166
        },
        "outputId": "8adf2523-1692-4674-dbdd-240b79ad373f"
      },
      "source": [
        "pd.DataFrame(output.toarray() , columns = vocab)"
      ],
      "execution_count": null,
      "outputs": [
        {
          "output_type": "execute_result",
          "data": {
            "text/html": [
              "<div>\n",
              "<style scoped>\n",
              "    .dataframe tbody tr th:only-of-type {\n",
              "        vertical-align: middle;\n",
              "    }\n",
              "\n",
              "    .dataframe tbody tr th {\n",
              "        vertical-align: top;\n",
              "    }\n",
              "\n",
              "    .dataframe thead th {\n",
              "        text-align: right;\n",
              "    }\n",
              "</style>\n",
              "<table border=\"1\" class=\"dataframe\">\n",
              "  <thead>\n",
              "    <tr style=\"text-align: right;\">\n",
              "      <th></th>\n",
              "      <th>and</th>\n",
              "      <th>document</th>\n",
              "      <th>first</th>\n",
              "      <th>is</th>\n",
              "      <th>one</th>\n",
              "      <th>second</th>\n",
              "      <th>the</th>\n",
              "      <th>third</th>\n",
              "      <th>this</th>\n",
              "    </tr>\n",
              "  </thead>\n",
              "  <tbody>\n",
              "    <tr>\n",
              "      <th>0</th>\n",
              "      <td>0.000000</td>\n",
              "      <td>0.469791</td>\n",
              "      <td>0.580286</td>\n",
              "      <td>0.384085</td>\n",
              "      <td>0.000000</td>\n",
              "      <td>0.000000</td>\n",
              "      <td>0.384085</td>\n",
              "      <td>0.000000</td>\n",
              "      <td>0.384085</td>\n",
              "    </tr>\n",
              "    <tr>\n",
              "      <th>1</th>\n",
              "      <td>0.000000</td>\n",
              "      <td>0.687624</td>\n",
              "      <td>0.000000</td>\n",
              "      <td>0.281089</td>\n",
              "      <td>0.000000</td>\n",
              "      <td>0.538648</td>\n",
              "      <td>0.281089</td>\n",
              "      <td>0.000000</td>\n",
              "      <td>0.281089</td>\n",
              "    </tr>\n",
              "    <tr>\n",
              "      <th>2</th>\n",
              "      <td>0.511849</td>\n",
              "      <td>0.000000</td>\n",
              "      <td>0.000000</td>\n",
              "      <td>0.267104</td>\n",
              "      <td>0.511849</td>\n",
              "      <td>0.000000</td>\n",
              "      <td>0.267104</td>\n",
              "      <td>0.511849</td>\n",
              "      <td>0.267104</td>\n",
              "    </tr>\n",
              "    <tr>\n",
              "      <th>3</th>\n",
              "      <td>0.000000</td>\n",
              "      <td>0.469791</td>\n",
              "      <td>0.580286</td>\n",
              "      <td>0.384085</td>\n",
              "      <td>0.000000</td>\n",
              "      <td>0.000000</td>\n",
              "      <td>0.384085</td>\n",
              "      <td>0.000000</td>\n",
              "      <td>0.384085</td>\n",
              "    </tr>\n",
              "  </tbody>\n",
              "</table>\n",
              "</div>"
            ],
            "text/plain": [
              "        and  document     first  ...       the     third      this\n",
              "0  0.000000  0.469791  0.580286  ...  0.384085  0.000000  0.384085\n",
              "1  0.000000  0.687624  0.000000  ...  0.281089  0.000000  0.281089\n",
              "2  0.511849  0.000000  0.000000  ...  0.267104  0.511849  0.267104\n",
              "3  0.000000  0.469791  0.580286  ...  0.384085  0.000000  0.384085\n",
              "\n",
              "[4 rows x 9 columns]"
            ]
          },
          "metadata": {
            "tags": []
          },
          "execution_count": 230
        }
      ]
    },
    {
      "cell_type": "code",
      "metadata": {
        "id": "HK9uokyn0BiB",
        "colab_type": "code",
        "colab": {
          "base_uri": "https://localhost:8080/",
          "height": 250
        },
        "outputId": "3d7b8ad1-a8c2-447a-a30c-3f1be6e457ab"
      },
      "source": [
        "y = vectorizer.transform(corpus)\n",
        "print(y.toarray()[0])\n",
        "\n",
        "print('\\n')\n",
        "print('-'*30,'Displaying TF-IDF results using pandas','-'*30)\n",
        "pd.DataFrame( y.toarray() , columns = vectorizer.get_feature_names())"
      ],
      "execution_count": null,
      "outputs": [
        {
          "output_type": "stream",
          "text": [
            "[0.         0.46979139 0.58028582 0.38408524 0.         0.\n",
            " 0.38408524 0.         0.38408524]\n",
            "\n",
            "\n",
            "------------------------------ Displaying TF-IDF results using pandas ------------------------------\n"
          ],
          "name": "stdout"
        },
        {
          "output_type": "execute_result",
          "data": {
            "text/html": [
              "<div>\n",
              "<style scoped>\n",
              "    .dataframe tbody tr th:only-of-type {\n",
              "        vertical-align: middle;\n",
              "    }\n",
              "\n",
              "    .dataframe tbody tr th {\n",
              "        vertical-align: top;\n",
              "    }\n",
              "\n",
              "    .dataframe thead th {\n",
              "        text-align: right;\n",
              "    }\n",
              "</style>\n",
              "<table border=\"1\" class=\"dataframe\">\n",
              "  <thead>\n",
              "    <tr style=\"text-align: right;\">\n",
              "      <th></th>\n",
              "      <th>and</th>\n",
              "      <th>document</th>\n",
              "      <th>first</th>\n",
              "      <th>is</th>\n",
              "      <th>one</th>\n",
              "      <th>second</th>\n",
              "      <th>the</th>\n",
              "      <th>third</th>\n",
              "      <th>this</th>\n",
              "    </tr>\n",
              "  </thead>\n",
              "  <tbody>\n",
              "    <tr>\n",
              "      <th>0</th>\n",
              "      <td>0.000000</td>\n",
              "      <td>0.469791</td>\n",
              "      <td>0.580286</td>\n",
              "      <td>0.384085</td>\n",
              "      <td>0.000000</td>\n",
              "      <td>0.000000</td>\n",
              "      <td>0.384085</td>\n",
              "      <td>0.000000</td>\n",
              "      <td>0.384085</td>\n",
              "    </tr>\n",
              "    <tr>\n",
              "      <th>1</th>\n",
              "      <td>0.000000</td>\n",
              "      <td>0.687624</td>\n",
              "      <td>0.000000</td>\n",
              "      <td>0.281089</td>\n",
              "      <td>0.000000</td>\n",
              "      <td>0.538648</td>\n",
              "      <td>0.281089</td>\n",
              "      <td>0.000000</td>\n",
              "      <td>0.281089</td>\n",
              "    </tr>\n",
              "    <tr>\n",
              "      <th>2</th>\n",
              "      <td>0.511849</td>\n",
              "      <td>0.000000</td>\n",
              "      <td>0.000000</td>\n",
              "      <td>0.267104</td>\n",
              "      <td>0.511849</td>\n",
              "      <td>0.000000</td>\n",
              "      <td>0.267104</td>\n",
              "      <td>0.511849</td>\n",
              "      <td>0.267104</td>\n",
              "    </tr>\n",
              "    <tr>\n",
              "      <th>3</th>\n",
              "      <td>0.000000</td>\n",
              "      <td>0.469791</td>\n",
              "      <td>0.580286</td>\n",
              "      <td>0.384085</td>\n",
              "      <td>0.000000</td>\n",
              "      <td>0.000000</td>\n",
              "      <td>0.384085</td>\n",
              "      <td>0.000000</td>\n",
              "      <td>0.384085</td>\n",
              "    </tr>\n",
              "  </tbody>\n",
              "</table>\n",
              "</div>"
            ],
            "text/plain": [
              "        and  document     first  ...       the     third      this\n",
              "0  0.000000  0.469791  0.580286  ...  0.384085  0.000000  0.384085\n",
              "1  0.000000  0.687624  0.000000  ...  0.281089  0.000000  0.281089\n",
              "2  0.511849  0.000000  0.000000  ...  0.267104  0.511849  0.267104\n",
              "3  0.000000  0.469791  0.580286  ...  0.384085  0.000000  0.384085\n",
              "\n",
              "[4 rows x 9 columns]"
            ]
          },
          "metadata": {
            "tags": []
          },
          "execution_count": 232
        }
      ]
    },
    {
      "cell_type": "code",
      "metadata": {
        "id": "uqMjH5Wh0BY5",
        "colab_type": "code",
        "colab": {}
      },
      "source": [
        ""
      ],
      "execution_count": null,
      "outputs": []
    },
    {
      "cell_type": "code",
      "metadata": {
        "id": "G7GwVloJ0BXK",
        "colab_type": "code",
        "colab": {}
      },
      "source": [
        "from sklearn.preprocessing import normalize"
      ],
      "execution_count": null,
      "outputs": []
    },
    {
      "cell_type": "code",
      "metadata": {
        "id": "_LSEfB3J4ESF",
        "colab_type": "code",
        "colab": {}
      },
      "source": [
        "X = normalize(output)"
      ],
      "execution_count": null,
      "outputs": []
    },
    {
      "cell_type": "code",
      "metadata": {
        "id": "LyQLGZd64LTB",
        "colab_type": "code",
        "colab": {
          "base_uri": "https://localhost:8080/",
          "height": 370
        },
        "outputId": "8d7f75c4-fa9e-4e37-db89-c49bfa799b01"
      },
      "source": [
        "print(X)"
      ],
      "execution_count": null,
      "outputs": [
        {
          "output_type": "stream",
          "text": [
            "  (0, 1)\t0.4697913855799205\n",
            "  (0, 2)\t0.580285823684436\n",
            "  (0, 3)\t0.3840852409148149\n",
            "  (0, 6)\t0.3840852409148149\n",
            "  (0, 8)\t0.3840852409148149\n",
            "  (1, 1)\t0.8843203931656719\n",
            "  (1, 3)\t0.18074746668441155\n",
            "  (1, 5)\t0.3463646952170705\n",
            "  (1, 6)\t0.18074746668441155\n",
            "  (1, 8)\t0.18074746668441155\n",
            "  (2, 0)\t0.511848512707169\n",
            "  (2, 3)\t0.267103787642168\n",
            "  (2, 4)\t0.511848512707169\n",
            "  (2, 6)\t0.267103787642168\n",
            "  (2, 7)\t0.511848512707169\n",
            "  (2, 8)\t0.267103787642168\n",
            "  (3, 1)\t0.4697913855799205\n",
            "  (3, 2)\t0.580285823684436\n",
            "  (3, 3)\t0.3840852409148149\n",
            "  (3, 6)\t0.3840852409148149\n",
            "  (3, 8)\t0.3840852409148149\n"
          ],
          "name": "stdout"
        }
      ]
    },
    {
      "cell_type": "code",
      "metadata": {
        "id": "2Jnp5qU04Mam",
        "colab_type": "code",
        "colab": {
          "base_uri": "https://localhost:8080/",
          "height": 50
        },
        "outputId": "f8d405ff-766d-43a9-c889-73f811b79a7d"
      },
      "source": [
        "print(output[0])"
      ],
      "execution_count": null,
      "outputs": [
        {
          "output_type": "execute_result",
          "data": {
            "text/plain": [
              "<1x9 sparse matrix of type '<class 'numpy.float64'>'\n",
              "\twith 5 stored elements in Compressed Sparse Row format>"
            ]
          },
          "metadata": {
            "tags": []
          },
          "execution_count": 159
        }
      ]
    },
    {
      "cell_type": "code",
      "metadata": {
        "id": "VzIY0NQn4c6B",
        "colab_type": "code",
        "colab": {
          "base_uri": "https://localhost:8080/",
          "height": 101
        },
        "outputId": "e99e7196-892b-49eb-8f4e-765f0eca2ced"
      },
      "source": [
        "X = normalize(output[0])\n",
        "print(X)"
      ],
      "execution_count": null,
      "outputs": [
        {
          "output_type": "stream",
          "text": [
            "  (0, 1)\t0.4697913855799205\n",
            "  (0, 2)\t0.580285823684436\n",
            "  (0, 3)\t0.3840852409148149\n",
            "  (0, 6)\t0.3840852409148149\n",
            "  (0, 8)\t0.3840852409148149\n"
          ],
          "name": "stdout"
        }
      ]
    },
    {
      "cell_type": "markdown",
      "metadata": {
        "id": "W7Y8vUvlE0Oa",
        "colab_type": "text"
      },
      "source": [
        "**Creation of Sparse matrices using *csr_matrix((values, (rows,columns)))***"
      ]
    },
    {
      "cell_type": "code",
      "metadata": {
        "id": "uNLEZWUWCTJ0",
        "colab_type": "code",
        "colab": {
          "base_uri": "https://localhost:8080/",
          "height": 84
        },
        "outputId": "78a6ce03-cd33-4a69-8fe0-902ce8ba55cd"
      },
      "source": [
        "#Creation of CSR_MATRIX sparse matrix using \n",
        "# csr_matrix((values,(rows,columns)), shape = (x,y))\n",
        "\n",
        "values =[10,20,30,40]\n",
        "rows=[0,1,2,3]\n",
        "columns=[0,1,2,3]\n",
        "print( csr_matrix((values,(rows,columns)), shape = (4,4)).toarray() )\n",
        "\n",
        "#intution rows[0],columns[0] = values[0]\n",
        "# 0,0 = 10\n",
        "# 1,1 = 20"
      ],
      "execution_count": null,
      "outputs": [
        {
          "output_type": "stream",
          "text": [
            "[[10  0  0  0]\n",
            " [ 0 20  0  0]\n",
            " [ 0  0 30  0]\n",
            " [ 0  0  0 40]]\n"
          ],
          "name": "stdout"
        }
      ]
    },
    {
      "cell_type": "code",
      "metadata": {
        "id": "cbBrDXQHDHXx",
        "colab_type": "code",
        "colab": {
          "base_uri": "https://localhost:8080/",
          "height": 84
        },
        "outputId": "5cc64c67-ae66-4bd9-89d3-81df2fa1f549"
      },
      "source": [
        "#re assigning a value to same index will add to previous value\n",
        "#In the above At A - 0,0 = 10 is there \n",
        "#if I again assign 0,0 as 12 it will go add to prev values\n",
        "\n",
        "\n",
        "values =[10,20,30,40, 12]\n",
        "rows=[0,1,2,3 ,0]\n",
        "columns=[0,1,2,3 ,0]\n",
        "print( csr_matrix((values,(rows,columns)), shape = (4,4)).toarray() )\n",
        "\n",
        "\n",
        "# if u see lat element of rows and cols I am taking zeros \n",
        "# that is I am assigning a value to 0,0 index in Marix \n",
        "# first 0,0 = 10\n",
        "# last 0,0 = 12\n",
        "# new value at 0,0 will be 10+12 =22"
      ],
      "execution_count": null,
      "outputs": [
        {
          "output_type": "stream",
          "text": [
            "[[22  0  0  0]\n",
            " [ 0 20  0  0]\n",
            " [ 0  0 30  0]\n",
            " [ 0  0  0 40]]\n"
          ],
          "name": "stdout"
        }
      ]
    },
    {
      "cell_type": "markdown",
      "metadata": {
        "id": "a8TCJOTBgsT8",
        "colab_type": "text"
      },
      "source": [
        ""
      ]
    },
    {
      "cell_type": "markdown",
      "metadata": {
        "id": "f4v5GjLPhG5x",
        "colab_type": "text"
      },
      "source": [
        "**why use set(doc_list)?**\n",
        "\n",
        "So when we have same word multiple times in a documnet of corpus,\n",
        "\n",
        "if we dont use set(doc_list) the  we might end up in calculating the IDF value for word 'document' in 2 document of corpus\n",
        "it will effect ten sparse matrix values that we are computing \n",
        "\n",
        "So, Compute idf values for unique words of a document"
      ]
    },
    {
      "cell_type": "code",
      "metadata": {
        "id": "aZ6AkAGqhosT",
        "colab_type": "code",
        "colab": {}
      },
      "source": [
        "import math"
      ],
      "execution_count": null,
      "outputs": []
    },
    {
      "cell_type": "code",
      "metadata": {
        "id": "DBLFYlVZtoMr",
        "colab_type": "code",
        "colab": {
          "base_uri": "https://localhost:8080/",
          "height": 34
        },
        "outputId": "b57b61f6-a0c7-408c-e430-ec1b31bee209"
      },
      "source": [
        "# Below is the code to load the cleaned_strings pickle file provided\n",
        "# Here corpus is of list type\n",
        "\n",
        "import pickle\n",
        "with open('/content/drive/My Drive/AA Colab Notebooks/cleaned_strings', 'rb') as f:\n",
        "    corpus = pickle.load(f)\n",
        "    \n",
        "# printing the length of the corpus loaded\n",
        "print(\"Number of documents in corpus = \",len(corpus))"
      ],
      "execution_count": null,
      "outputs": [
        {
          "output_type": "stream",
          "text": [
            "Number of documents in corpus =  746\n"
          ],
          "name": "stdout"
        }
      ]
    },
    {
      "cell_type": "code",
      "metadata": {
        "id": "60du07s-toy1",
        "colab_type": "code",
        "colab": {}
      },
      "source": [
        "#Using fit method to compute all IDF values first"
      ],
      "execution_count": null,
      "outputs": []
    },
    {
      "cell_type": "code",
      "metadata": {
        "id": "5s69Xqaqtu-t",
        "colab_type": "code",
        "colab": {}
      },
      "source": [
        "#creating a vocabulary using fit method\n",
        "def fit_TF_IDF(corpus):\n",
        "\n",
        "  # ***************************Part - 1 --> Creating Vocabulary *******************************\n",
        "  unique_words =set()\n",
        "  \n",
        "  if isinstance(corpus, (list,)):\n",
        "    for doc in corpus:\n",
        "      for word in doc.split():\n",
        "        if len(word) < 2:\n",
        "          continue\n",
        "        unique_words.add(word)\n",
        "\n",
        "    unique_words = sorted(unique_words)\n",
        "    vocab = {word:idx for idx,word in enumerate(unique_words)}\n",
        "    #print(vocab)\n",
        "\n",
        "  # ***************************Part - 2 --> Computing IDF values *******************************\n",
        "\n",
        "    N = len(corpus)           # Total no of docs in corpus\n",
        "    idf_values = dict()       # {'and': 2.09861} -- word:idf_value as dictionary\n",
        "\n",
        "    for word in vocab.keys():\n",
        "      n = 0     # of docs in which req word is present \n",
        "      for doc in corpus:\n",
        "        if word in doc.split():\n",
        "          n+=1\n",
        "      idf_values[word] = 1+math.log((1+N)/(1+n))\n",
        "\n",
        "    #sorted in Desc order of IDF values\n",
        "    idf_values = dict(sorted(idf_values.items() , key = lambda kv:kv[1], reverse = True))\n",
        "    #selecting only words corresponding top 50 IDF values\n",
        "    top50_idf_values = dict(list(idf_values.items())[0:50])\n",
        "\n",
        "    #*************** filtering vocab based on the words that are present in the top50_idf_values***************\n",
        "    #Voacb is all words arranged in alpahabetic order\n",
        "    #we are getting all that from top50_idf_idfvalues.keys() and sorting them \n",
        "    top50_vocab = sorted(list(top50_idf_values.keys()))\n",
        "    top50_vocab = {word:idx for idx,word in enumerate(top50_vocab)}\n",
        "    print(top50_vocab)\n",
        "\n",
        "    return top50_vocab,top50_idf_values\n",
        "\n",
        "  else:\n",
        "    print('Please enter the input corpus as a list')\n"
      ],
      "execution_count": null,
      "outputs": []
    },
    {
      "cell_type": "code",
      "metadata": {
        "id": "Bcui_At7umn6",
        "colab_type": "code",
        "colab": {
          "base_uri": "https://localhost:8080/",
          "height": 104
        },
        "outputId": "748f046e-8a57-435f-8ff2-7706bd49b2ec"
      },
      "source": [
        "vocab,idf_values = fit_TF_IDF(corpus)\n",
        "\n",
        "print(len(vocab))\n",
        "print(len(idf_values))\n",
        "#Making sure that all the words in vocabulary has idf values \n",
        "print(vocab.keys() == idf_values.keys())"
      ],
      "execution_count": null,
      "outputs": [
        {
          "output_type": "stream",
          "text": [
            "{'aailiyah': 0, 'abandoned': 1, 'abroad': 2, 'abstruse': 3, 'academy': 4, 'accents': 5, 'accessible': 6, 'acclaimed': 7, 'accolades': 8, 'accurate': 9, 'accurately': 10, 'achille': 11, 'ackerman': 12, 'actions': 13, 'adams': 14, 'add': 15, 'added': 16, 'admins': 17, 'admiration': 18, 'admitted': 19, 'adrift': 20, 'adventure': 21, 'aesthetically': 22, 'affected': 23, 'affleck': 24, 'afternoon': 25, 'aged': 26, 'ages': 27, 'agree': 28, 'agreed': 29, 'aimless': 30, 'aired': 31, 'akasha': 32, 'akin': 33, 'alert': 34, 'alike': 35, 'allison': 36, 'allow': 37, 'allowing': 38, 'alongside': 39, 'amateurish': 40, 'amaze': 41, 'amazed': 42, 'amazingly': 43, 'amusing': 44, 'amust': 45, 'anatomist': 46, 'angel': 47, 'angela': 48, 'angelina': 49}\n",
            "50\n",
            "50\n",
            "True\n"
          ],
          "name": "stdout"
        }
      ]
    },
    {
      "cell_type": "markdown",
      "metadata": {
        "id": "leHiriYv-_uK",
        "colab_type": "text"
      },
      "source": [
        "**Transform method**"
      ]
    },
    {
      "cell_type": "code",
      "metadata": {
        "id": "zaHmSWq7-yZK",
        "colab_type": "code",
        "colab": {}
      },
      "source": [
        "from sklearn.preprocessing import normalize \n",
        "\n",
        "def transform_TF_IDF(new_corpus,vocab,idf_dict):\n",
        "\n",
        "  rows =[]\n",
        "  columns =[]\n",
        "  tfidf_values = []\n",
        "\n",
        "  if isinstance(new_corpus,(list,)):\n",
        "    for row_idx,doc in enumerate(new_corpus):\n",
        "      doc_list = doc.split()\n",
        "      for word in set(doc_list):  ##Please read the note with Heading 'why set(doc_list)?'\n",
        "        col_idx = vocab.get(word,-1)  \n",
        "        if col_idx == -1:\n",
        "          continue\n",
        "        columns.append(col_idx)     #appending col num: value of a word in Vocab dict\n",
        "        rows.append(row_idx)        #appending row num : Row number from the corpus or document no\n",
        "        \n",
        "        tf = ( doc_list.count(word) / len(doc_list) )\n",
        "        idf = idf_dict.get(word)\n",
        "        tfidf_values.append(tf*idf)\n",
        "    sparse_tfidf_output = csr_matrix((tfidf_values,(rows,columns)),shape = (len(new_corpus),len(vocab)) )  #check csr_matrix? initialisations\n",
        "    sparse_tfidf_output = normalize(sparse_tfidf_output)             #Applying L2 norm and is explained clearly in the below cells\n",
        "\n",
        "    return sparse_tfidf_output\n",
        "\n",
        "  else:\n",
        "    print('Please input the new_corpus as a list')\n",
        "\n"
      ],
      "execution_count": null,
      "outputs": []
    },
    {
      "cell_type": "code",
      "metadata": {
        "id": "pQok-7Dc-yWl",
        "colab_type": "code",
        "colab": {
          "base_uri": "https://localhost:8080/",
          "height": 121
        },
        "outputId": "5b85b819-ca7e-4ee2-a958-990492cc0b5b"
      },
      "source": [
        "\n",
        "new_vocab,new_idf_dict = fit_TF_IDF(corpus)\n",
        "\n",
        "output = transform_TF_IDF(corpus,new_vocab,new_idf_dict)\n",
        "print(output.shape)\n",
        "print(output.toarray()[0])"
      ],
      "execution_count": null,
      "outputs": [
        {
          "output_type": "stream",
          "text": [
            "{'aailiyah': 0, 'abandoned': 1, 'abroad': 2, 'abstruse': 3, 'academy': 4, 'accents': 5, 'accessible': 6, 'acclaimed': 7, 'accolades': 8, 'accurate': 9, 'accurately': 10, 'achille': 11, 'ackerman': 12, 'actions': 13, 'adams': 14, 'add': 15, 'added': 16, 'admins': 17, 'admiration': 18, 'admitted': 19, 'adrift': 20, 'adventure': 21, 'aesthetically': 22, 'affected': 23, 'affleck': 24, 'afternoon': 25, 'aged': 26, 'ages': 27, 'agree': 28, 'agreed': 29, 'aimless': 30, 'aired': 31, 'akasha': 32, 'akin': 33, 'alert': 34, 'alike': 35, 'allison': 36, 'allow': 37, 'allowing': 38, 'alongside': 39, 'amateurish': 40, 'amaze': 41, 'amazed': 42, 'amazingly': 43, 'amusing': 44, 'amust': 45, 'anatomist': 46, 'angel': 47, 'angela': 48, 'angelina': 49}\n",
            "(746, 50)\n",
            "[0. 0. 0. 0. 0. 0. 0. 0. 0. 0. 0. 0. 0. 0. 0. 0. 0. 0. 0. 0. 0. 0. 0. 0.\n",
            " 0. 0. 0. 0. 0. 0. 1. 0. 0. 0. 0. 0. 0. 0. 0. 0. 0. 0. 0. 0. 0. 0. 0. 0.\n",
            " 0. 0.]\n"
          ],
          "name": "stdout"
        }
      ]
    },
    {
      "cell_type": "code",
      "metadata": {
        "id": "4y9DlqBO-yVC",
        "colab_type": "code",
        "colab": {}
      },
      "source": [
        "from scipy.sparse import csr_matrix"
      ],
      "execution_count": null,
      "outputs": []
    },
    {
      "cell_type": "code",
      "metadata": {
        "id": "a51My3eo-yRd",
        "colab_type": "code",
        "colab": {}
      },
      "source": [
        ""
      ],
      "execution_count": null,
      "outputs": []
    },
    {
      "cell_type": "markdown",
      "metadata": {
        "id": "Pay0SHI9pP9h",
        "colab_type": "text"
      },
      "source": [
        "\n",
        "<font color = 'darkgreen'>I know i shud not use any extra modules #But using pandas here for only to display the output properly  </font>"
      ]
    },
    {
      "cell_type": "code",
      "metadata": {
        "id": "eDHTa4Xlt6nX",
        "colab_type": "code",
        "colab": {
          "base_uri": "https://localhost:8080/",
          "height": 455
        },
        "outputId": "bf1725fa-3a03-4f43-c118-6a62d061903a"
      },
      "source": [
        "import pandas as pd\n",
        "print('---------------------Displaying Custom made TF_IDF output -----------------\\n')\n",
        "pd.DataFrame(output.toarray() , columns = vocab )"
      ],
      "execution_count": null,
      "outputs": [
        {
          "output_type": "stream",
          "text": [
            "---------------------Displaying Custom made TF_IDF output -----------------\n",
            "\n"
          ],
          "name": "stdout"
        },
        {
          "output_type": "execute_result",
          "data": {
            "text/html": [
              "<div>\n",
              "<style scoped>\n",
              "    .dataframe tbody tr th:only-of-type {\n",
              "        vertical-align: middle;\n",
              "    }\n",
              "\n",
              "    .dataframe tbody tr th {\n",
              "        vertical-align: top;\n",
              "    }\n",
              "\n",
              "    .dataframe thead th {\n",
              "        text-align: right;\n",
              "    }\n",
              "</style>\n",
              "<table border=\"1\" class=\"dataframe\">\n",
              "  <thead>\n",
              "    <tr style=\"text-align: right;\">\n",
              "      <th></th>\n",
              "      <th>aailiyah</th>\n",
              "      <th>abandoned</th>\n",
              "      <th>abroad</th>\n",
              "      <th>abstruse</th>\n",
              "      <th>academy</th>\n",
              "      <th>accents</th>\n",
              "      <th>accessible</th>\n",
              "      <th>acclaimed</th>\n",
              "      <th>accolades</th>\n",
              "      <th>accurate</th>\n",
              "      <th>accurately</th>\n",
              "      <th>achille</th>\n",
              "      <th>ackerman</th>\n",
              "      <th>actions</th>\n",
              "      <th>adams</th>\n",
              "      <th>add</th>\n",
              "      <th>added</th>\n",
              "      <th>admins</th>\n",
              "      <th>admiration</th>\n",
              "      <th>admitted</th>\n",
              "      <th>adrift</th>\n",
              "      <th>adventure</th>\n",
              "      <th>aesthetically</th>\n",
              "      <th>affected</th>\n",
              "      <th>affleck</th>\n",
              "      <th>afternoon</th>\n",
              "      <th>aged</th>\n",
              "      <th>ages</th>\n",
              "      <th>agree</th>\n",
              "      <th>agreed</th>\n",
              "      <th>aimless</th>\n",
              "      <th>aired</th>\n",
              "      <th>akasha</th>\n",
              "      <th>akin</th>\n",
              "      <th>alert</th>\n",
              "      <th>alike</th>\n",
              "      <th>allison</th>\n",
              "      <th>allow</th>\n",
              "      <th>allowing</th>\n",
              "      <th>alongside</th>\n",
              "      <th>amateurish</th>\n",
              "      <th>amaze</th>\n",
              "      <th>amazed</th>\n",
              "      <th>amazingly</th>\n",
              "      <th>amusing</th>\n",
              "      <th>amust</th>\n",
              "      <th>anatomist</th>\n",
              "      <th>angel</th>\n",
              "      <th>angela</th>\n",
              "      <th>angelina</th>\n",
              "    </tr>\n",
              "  </thead>\n",
              "  <tbody>\n",
              "    <tr>\n",
              "      <th>0</th>\n",
              "      <td>0.0</td>\n",
              "      <td>0.0</td>\n",
              "      <td>0.0</td>\n",
              "      <td>0.0</td>\n",
              "      <td>0.0</td>\n",
              "      <td>0.0</td>\n",
              "      <td>0.0</td>\n",
              "      <td>0.0</td>\n",
              "      <td>0.0</td>\n",
              "      <td>0.0</td>\n",
              "      <td>0.0</td>\n",
              "      <td>0.0</td>\n",
              "      <td>0.0</td>\n",
              "      <td>0.0</td>\n",
              "      <td>0.0</td>\n",
              "      <td>0.0</td>\n",
              "      <td>0.0</td>\n",
              "      <td>0.0</td>\n",
              "      <td>0.0</td>\n",
              "      <td>0.0</td>\n",
              "      <td>0.0</td>\n",
              "      <td>0.0</td>\n",
              "      <td>0.0</td>\n",
              "      <td>0.0</td>\n",
              "      <td>0.0</td>\n",
              "      <td>0.0</td>\n",
              "      <td>0.0</td>\n",
              "      <td>0.0</td>\n",
              "      <td>0.0</td>\n",
              "      <td>0.0</td>\n",
              "      <td>1.0</td>\n",
              "      <td>0.0</td>\n",
              "      <td>0.0</td>\n",
              "      <td>0.0</td>\n",
              "      <td>0.0</td>\n",
              "      <td>0.0</td>\n",
              "      <td>0.0</td>\n",
              "      <td>0.0</td>\n",
              "      <td>0.0</td>\n",
              "      <td>0.0</td>\n",
              "      <td>0.0</td>\n",
              "      <td>0.0</td>\n",
              "      <td>0.0</td>\n",
              "      <td>0.0</td>\n",
              "      <td>0.0</td>\n",
              "      <td>0.0</td>\n",
              "      <td>0.0</td>\n",
              "      <td>0.0</td>\n",
              "      <td>0.0</td>\n",
              "      <td>0.0</td>\n",
              "    </tr>\n",
              "    <tr>\n",
              "      <th>1</th>\n",
              "      <td>0.0</td>\n",
              "      <td>0.0</td>\n",
              "      <td>0.0</td>\n",
              "      <td>0.0</td>\n",
              "      <td>0.0</td>\n",
              "      <td>0.0</td>\n",
              "      <td>0.0</td>\n",
              "      <td>0.0</td>\n",
              "      <td>0.0</td>\n",
              "      <td>0.0</td>\n",
              "      <td>0.0</td>\n",
              "      <td>0.0</td>\n",
              "      <td>0.0</td>\n",
              "      <td>0.0</td>\n",
              "      <td>0.0</td>\n",
              "      <td>0.0</td>\n",
              "      <td>0.0</td>\n",
              "      <td>0.0</td>\n",
              "      <td>0.0</td>\n",
              "      <td>0.0</td>\n",
              "      <td>0.0</td>\n",
              "      <td>0.0</td>\n",
              "      <td>0.0</td>\n",
              "      <td>0.0</td>\n",
              "      <td>0.0</td>\n",
              "      <td>0.0</td>\n",
              "      <td>0.0</td>\n",
              "      <td>0.0</td>\n",
              "      <td>0.0</td>\n",
              "      <td>0.0</td>\n",
              "      <td>0.0</td>\n",
              "      <td>0.0</td>\n",
              "      <td>0.0</td>\n",
              "      <td>0.0</td>\n",
              "      <td>0.0</td>\n",
              "      <td>0.0</td>\n",
              "      <td>0.0</td>\n",
              "      <td>0.0</td>\n",
              "      <td>0.0</td>\n",
              "      <td>0.0</td>\n",
              "      <td>0.0</td>\n",
              "      <td>0.0</td>\n",
              "      <td>0.0</td>\n",
              "      <td>0.0</td>\n",
              "      <td>0.0</td>\n",
              "      <td>0.0</td>\n",
              "      <td>0.0</td>\n",
              "      <td>0.0</td>\n",
              "      <td>0.0</td>\n",
              "      <td>0.0</td>\n",
              "    </tr>\n",
              "    <tr>\n",
              "      <th>2</th>\n",
              "      <td>0.0</td>\n",
              "      <td>0.0</td>\n",
              "      <td>0.0</td>\n",
              "      <td>0.0</td>\n",
              "      <td>0.0</td>\n",
              "      <td>0.0</td>\n",
              "      <td>0.0</td>\n",
              "      <td>0.0</td>\n",
              "      <td>0.0</td>\n",
              "      <td>0.0</td>\n",
              "      <td>0.0</td>\n",
              "      <td>0.0</td>\n",
              "      <td>0.0</td>\n",
              "      <td>0.0</td>\n",
              "      <td>0.0</td>\n",
              "      <td>0.0</td>\n",
              "      <td>0.0</td>\n",
              "      <td>0.0</td>\n",
              "      <td>0.0</td>\n",
              "      <td>0.0</td>\n",
              "      <td>0.0</td>\n",
              "      <td>0.0</td>\n",
              "      <td>0.0</td>\n",
              "      <td>0.0</td>\n",
              "      <td>0.0</td>\n",
              "      <td>0.0</td>\n",
              "      <td>0.0</td>\n",
              "      <td>0.0</td>\n",
              "      <td>0.0</td>\n",
              "      <td>0.0</td>\n",
              "      <td>0.0</td>\n",
              "      <td>0.0</td>\n",
              "      <td>0.0</td>\n",
              "      <td>0.0</td>\n",
              "      <td>0.0</td>\n",
              "      <td>0.0</td>\n",
              "      <td>0.0</td>\n",
              "      <td>0.0</td>\n",
              "      <td>0.0</td>\n",
              "      <td>0.0</td>\n",
              "      <td>0.0</td>\n",
              "      <td>0.0</td>\n",
              "      <td>0.0</td>\n",
              "      <td>0.0</td>\n",
              "      <td>0.0</td>\n",
              "      <td>0.0</td>\n",
              "      <td>0.0</td>\n",
              "      <td>0.0</td>\n",
              "      <td>0.0</td>\n",
              "      <td>0.0</td>\n",
              "    </tr>\n",
              "    <tr>\n",
              "      <th>3</th>\n",
              "      <td>0.0</td>\n",
              "      <td>0.0</td>\n",
              "      <td>0.0</td>\n",
              "      <td>0.0</td>\n",
              "      <td>0.0</td>\n",
              "      <td>0.0</td>\n",
              "      <td>0.0</td>\n",
              "      <td>0.0</td>\n",
              "      <td>0.0</td>\n",
              "      <td>0.0</td>\n",
              "      <td>0.0</td>\n",
              "      <td>0.0</td>\n",
              "      <td>0.0</td>\n",
              "      <td>0.0</td>\n",
              "      <td>0.0</td>\n",
              "      <td>0.0</td>\n",
              "      <td>0.0</td>\n",
              "      <td>0.0</td>\n",
              "      <td>0.0</td>\n",
              "      <td>0.0</td>\n",
              "      <td>0.0</td>\n",
              "      <td>0.0</td>\n",
              "      <td>0.0</td>\n",
              "      <td>0.0</td>\n",
              "      <td>0.0</td>\n",
              "      <td>0.0</td>\n",
              "      <td>0.0</td>\n",
              "      <td>0.0</td>\n",
              "      <td>0.0</td>\n",
              "      <td>0.0</td>\n",
              "      <td>0.0</td>\n",
              "      <td>0.0</td>\n",
              "      <td>0.0</td>\n",
              "      <td>0.0</td>\n",
              "      <td>0.0</td>\n",
              "      <td>0.0</td>\n",
              "      <td>0.0</td>\n",
              "      <td>0.0</td>\n",
              "      <td>0.0</td>\n",
              "      <td>0.0</td>\n",
              "      <td>0.0</td>\n",
              "      <td>0.0</td>\n",
              "      <td>0.0</td>\n",
              "      <td>0.0</td>\n",
              "      <td>0.0</td>\n",
              "      <td>0.0</td>\n",
              "      <td>0.0</td>\n",
              "      <td>0.0</td>\n",
              "      <td>0.0</td>\n",
              "      <td>0.0</td>\n",
              "    </tr>\n",
              "    <tr>\n",
              "      <th>4</th>\n",
              "      <td>0.0</td>\n",
              "      <td>0.0</td>\n",
              "      <td>0.0</td>\n",
              "      <td>0.0</td>\n",
              "      <td>0.0</td>\n",
              "      <td>0.0</td>\n",
              "      <td>0.0</td>\n",
              "      <td>0.0</td>\n",
              "      <td>0.0</td>\n",
              "      <td>0.0</td>\n",
              "      <td>0.0</td>\n",
              "      <td>0.0</td>\n",
              "      <td>0.0</td>\n",
              "      <td>0.0</td>\n",
              "      <td>0.0</td>\n",
              "      <td>0.0</td>\n",
              "      <td>0.0</td>\n",
              "      <td>0.0</td>\n",
              "      <td>0.0</td>\n",
              "      <td>0.0</td>\n",
              "      <td>0.0</td>\n",
              "      <td>0.0</td>\n",
              "      <td>0.0</td>\n",
              "      <td>0.0</td>\n",
              "      <td>0.0</td>\n",
              "      <td>0.0</td>\n",
              "      <td>0.0</td>\n",
              "      <td>0.0</td>\n",
              "      <td>0.0</td>\n",
              "      <td>0.0</td>\n",
              "      <td>0.0</td>\n",
              "      <td>0.0</td>\n",
              "      <td>0.0</td>\n",
              "      <td>0.0</td>\n",
              "      <td>0.0</td>\n",
              "      <td>0.0</td>\n",
              "      <td>0.0</td>\n",
              "      <td>0.0</td>\n",
              "      <td>0.0</td>\n",
              "      <td>0.0</td>\n",
              "      <td>0.0</td>\n",
              "      <td>0.0</td>\n",
              "      <td>0.0</td>\n",
              "      <td>0.0</td>\n",
              "      <td>0.0</td>\n",
              "      <td>0.0</td>\n",
              "      <td>0.0</td>\n",
              "      <td>0.0</td>\n",
              "      <td>0.0</td>\n",
              "      <td>0.0</td>\n",
              "    </tr>\n",
              "    <tr>\n",
              "      <th>...</th>\n",
              "      <td>...</td>\n",
              "      <td>...</td>\n",
              "      <td>...</td>\n",
              "      <td>...</td>\n",
              "      <td>...</td>\n",
              "      <td>...</td>\n",
              "      <td>...</td>\n",
              "      <td>...</td>\n",
              "      <td>...</td>\n",
              "      <td>...</td>\n",
              "      <td>...</td>\n",
              "      <td>...</td>\n",
              "      <td>...</td>\n",
              "      <td>...</td>\n",
              "      <td>...</td>\n",
              "      <td>...</td>\n",
              "      <td>...</td>\n",
              "      <td>...</td>\n",
              "      <td>...</td>\n",
              "      <td>...</td>\n",
              "      <td>...</td>\n",
              "      <td>...</td>\n",
              "      <td>...</td>\n",
              "      <td>...</td>\n",
              "      <td>...</td>\n",
              "      <td>...</td>\n",
              "      <td>...</td>\n",
              "      <td>...</td>\n",
              "      <td>...</td>\n",
              "      <td>...</td>\n",
              "      <td>...</td>\n",
              "      <td>...</td>\n",
              "      <td>...</td>\n",
              "      <td>...</td>\n",
              "      <td>...</td>\n",
              "      <td>...</td>\n",
              "      <td>...</td>\n",
              "      <td>...</td>\n",
              "      <td>...</td>\n",
              "      <td>...</td>\n",
              "      <td>...</td>\n",
              "      <td>...</td>\n",
              "      <td>...</td>\n",
              "      <td>...</td>\n",
              "      <td>...</td>\n",
              "      <td>...</td>\n",
              "      <td>...</td>\n",
              "      <td>...</td>\n",
              "      <td>...</td>\n",
              "      <td>...</td>\n",
              "    </tr>\n",
              "    <tr>\n",
              "      <th>741</th>\n",
              "      <td>0.0</td>\n",
              "      <td>0.0</td>\n",
              "      <td>0.0</td>\n",
              "      <td>0.0</td>\n",
              "      <td>0.0</td>\n",
              "      <td>0.0</td>\n",
              "      <td>0.0</td>\n",
              "      <td>0.0</td>\n",
              "      <td>0.0</td>\n",
              "      <td>0.0</td>\n",
              "      <td>0.0</td>\n",
              "      <td>0.0</td>\n",
              "      <td>0.0</td>\n",
              "      <td>0.0</td>\n",
              "      <td>0.0</td>\n",
              "      <td>0.0</td>\n",
              "      <td>0.0</td>\n",
              "      <td>0.0</td>\n",
              "      <td>0.0</td>\n",
              "      <td>0.0</td>\n",
              "      <td>0.0</td>\n",
              "      <td>0.0</td>\n",
              "      <td>0.0</td>\n",
              "      <td>0.0</td>\n",
              "      <td>0.0</td>\n",
              "      <td>0.0</td>\n",
              "      <td>0.0</td>\n",
              "      <td>0.0</td>\n",
              "      <td>0.0</td>\n",
              "      <td>0.0</td>\n",
              "      <td>0.0</td>\n",
              "      <td>0.0</td>\n",
              "      <td>0.0</td>\n",
              "      <td>0.0</td>\n",
              "      <td>0.0</td>\n",
              "      <td>0.0</td>\n",
              "      <td>0.0</td>\n",
              "      <td>0.0</td>\n",
              "      <td>0.0</td>\n",
              "      <td>0.0</td>\n",
              "      <td>0.0</td>\n",
              "      <td>0.0</td>\n",
              "      <td>0.0</td>\n",
              "      <td>0.0</td>\n",
              "      <td>0.0</td>\n",
              "      <td>0.0</td>\n",
              "      <td>0.0</td>\n",
              "      <td>0.0</td>\n",
              "      <td>0.0</td>\n",
              "      <td>0.0</td>\n",
              "    </tr>\n",
              "    <tr>\n",
              "      <th>742</th>\n",
              "      <td>0.0</td>\n",
              "      <td>0.0</td>\n",
              "      <td>0.0</td>\n",
              "      <td>0.0</td>\n",
              "      <td>0.0</td>\n",
              "      <td>0.0</td>\n",
              "      <td>0.0</td>\n",
              "      <td>0.0</td>\n",
              "      <td>0.0</td>\n",
              "      <td>0.0</td>\n",
              "      <td>0.0</td>\n",
              "      <td>0.0</td>\n",
              "      <td>0.0</td>\n",
              "      <td>0.0</td>\n",
              "      <td>0.0</td>\n",
              "      <td>0.0</td>\n",
              "      <td>0.0</td>\n",
              "      <td>0.0</td>\n",
              "      <td>0.0</td>\n",
              "      <td>0.0</td>\n",
              "      <td>0.0</td>\n",
              "      <td>0.0</td>\n",
              "      <td>0.0</td>\n",
              "      <td>0.0</td>\n",
              "      <td>0.0</td>\n",
              "      <td>0.0</td>\n",
              "      <td>0.0</td>\n",
              "      <td>0.0</td>\n",
              "      <td>0.0</td>\n",
              "      <td>0.0</td>\n",
              "      <td>0.0</td>\n",
              "      <td>0.0</td>\n",
              "      <td>0.0</td>\n",
              "      <td>0.0</td>\n",
              "      <td>0.0</td>\n",
              "      <td>0.0</td>\n",
              "      <td>0.0</td>\n",
              "      <td>0.0</td>\n",
              "      <td>0.0</td>\n",
              "      <td>0.0</td>\n",
              "      <td>0.0</td>\n",
              "      <td>0.0</td>\n",
              "      <td>0.0</td>\n",
              "      <td>0.0</td>\n",
              "      <td>0.0</td>\n",
              "      <td>0.0</td>\n",
              "      <td>0.0</td>\n",
              "      <td>0.0</td>\n",
              "      <td>0.0</td>\n",
              "      <td>0.0</td>\n",
              "    </tr>\n",
              "    <tr>\n",
              "      <th>743</th>\n",
              "      <td>0.0</td>\n",
              "      <td>0.0</td>\n",
              "      <td>0.0</td>\n",
              "      <td>0.0</td>\n",
              "      <td>0.0</td>\n",
              "      <td>0.0</td>\n",
              "      <td>0.0</td>\n",
              "      <td>0.0</td>\n",
              "      <td>0.0</td>\n",
              "      <td>0.0</td>\n",
              "      <td>0.0</td>\n",
              "      <td>0.0</td>\n",
              "      <td>0.0</td>\n",
              "      <td>0.0</td>\n",
              "      <td>0.0</td>\n",
              "      <td>0.0</td>\n",
              "      <td>0.0</td>\n",
              "      <td>0.0</td>\n",
              "      <td>0.0</td>\n",
              "      <td>0.0</td>\n",
              "      <td>0.0</td>\n",
              "      <td>0.0</td>\n",
              "      <td>0.0</td>\n",
              "      <td>0.0</td>\n",
              "      <td>0.0</td>\n",
              "      <td>0.0</td>\n",
              "      <td>0.0</td>\n",
              "      <td>0.0</td>\n",
              "      <td>0.0</td>\n",
              "      <td>0.0</td>\n",
              "      <td>0.0</td>\n",
              "      <td>0.0</td>\n",
              "      <td>0.0</td>\n",
              "      <td>0.0</td>\n",
              "      <td>0.0</td>\n",
              "      <td>0.0</td>\n",
              "      <td>0.0</td>\n",
              "      <td>0.0</td>\n",
              "      <td>0.0</td>\n",
              "      <td>0.0</td>\n",
              "      <td>0.0</td>\n",
              "      <td>0.0</td>\n",
              "      <td>0.0</td>\n",
              "      <td>0.0</td>\n",
              "      <td>0.0</td>\n",
              "      <td>0.0</td>\n",
              "      <td>0.0</td>\n",
              "      <td>0.0</td>\n",
              "      <td>0.0</td>\n",
              "      <td>0.0</td>\n",
              "    </tr>\n",
              "    <tr>\n",
              "      <th>744</th>\n",
              "      <td>0.0</td>\n",
              "      <td>0.0</td>\n",
              "      <td>0.0</td>\n",
              "      <td>0.0</td>\n",
              "      <td>0.0</td>\n",
              "      <td>0.0</td>\n",
              "      <td>0.0</td>\n",
              "      <td>0.0</td>\n",
              "      <td>0.0</td>\n",
              "      <td>0.0</td>\n",
              "      <td>0.0</td>\n",
              "      <td>0.0</td>\n",
              "      <td>0.0</td>\n",
              "      <td>0.0</td>\n",
              "      <td>0.0</td>\n",
              "      <td>0.0</td>\n",
              "      <td>0.0</td>\n",
              "      <td>0.0</td>\n",
              "      <td>0.0</td>\n",
              "      <td>0.0</td>\n",
              "      <td>0.0</td>\n",
              "      <td>0.0</td>\n",
              "      <td>0.0</td>\n",
              "      <td>0.0</td>\n",
              "      <td>0.0</td>\n",
              "      <td>0.0</td>\n",
              "      <td>0.0</td>\n",
              "      <td>0.0</td>\n",
              "      <td>0.0</td>\n",
              "      <td>0.0</td>\n",
              "      <td>0.0</td>\n",
              "      <td>0.0</td>\n",
              "      <td>0.0</td>\n",
              "      <td>0.0</td>\n",
              "      <td>0.0</td>\n",
              "      <td>0.0</td>\n",
              "      <td>0.0</td>\n",
              "      <td>0.0</td>\n",
              "      <td>0.0</td>\n",
              "      <td>0.0</td>\n",
              "      <td>0.0</td>\n",
              "      <td>0.0</td>\n",
              "      <td>0.0</td>\n",
              "      <td>0.0</td>\n",
              "      <td>0.0</td>\n",
              "      <td>0.0</td>\n",
              "      <td>0.0</td>\n",
              "      <td>0.0</td>\n",
              "      <td>0.0</td>\n",
              "      <td>0.0</td>\n",
              "    </tr>\n",
              "    <tr>\n",
              "      <th>745</th>\n",
              "      <td>0.0</td>\n",
              "      <td>0.0</td>\n",
              "      <td>0.0</td>\n",
              "      <td>0.0</td>\n",
              "      <td>0.0</td>\n",
              "      <td>0.0</td>\n",
              "      <td>0.0</td>\n",
              "      <td>0.0</td>\n",
              "      <td>0.0</td>\n",
              "      <td>0.0</td>\n",
              "      <td>0.0</td>\n",
              "      <td>0.0</td>\n",
              "      <td>0.0</td>\n",
              "      <td>0.0</td>\n",
              "      <td>0.0</td>\n",
              "      <td>0.0</td>\n",
              "      <td>0.0</td>\n",
              "      <td>0.0</td>\n",
              "      <td>0.0</td>\n",
              "      <td>0.0</td>\n",
              "      <td>0.0</td>\n",
              "      <td>0.0</td>\n",
              "      <td>0.0</td>\n",
              "      <td>0.0</td>\n",
              "      <td>0.0</td>\n",
              "      <td>0.0</td>\n",
              "      <td>0.0</td>\n",
              "      <td>0.0</td>\n",
              "      <td>0.0</td>\n",
              "      <td>0.0</td>\n",
              "      <td>0.0</td>\n",
              "      <td>0.0</td>\n",
              "      <td>0.0</td>\n",
              "      <td>0.0</td>\n",
              "      <td>0.0</td>\n",
              "      <td>0.0</td>\n",
              "      <td>0.0</td>\n",
              "      <td>0.0</td>\n",
              "      <td>0.0</td>\n",
              "      <td>0.0</td>\n",
              "      <td>0.0</td>\n",
              "      <td>0.0</td>\n",
              "      <td>0.0</td>\n",
              "      <td>0.0</td>\n",
              "      <td>0.0</td>\n",
              "      <td>0.0</td>\n",
              "      <td>0.0</td>\n",
              "      <td>0.0</td>\n",
              "      <td>0.0</td>\n",
              "      <td>0.0</td>\n",
              "    </tr>\n",
              "  </tbody>\n",
              "</table>\n",
              "<p>746 rows × 50 columns</p>\n",
              "</div>"
            ],
            "text/plain": [
              "     aailiyah  abandoned  abroad  abstruse  ...  anatomist  angel  angela  angelina\n",
              "0         0.0        0.0     0.0       0.0  ...        0.0    0.0     0.0       0.0\n",
              "1         0.0        0.0     0.0       0.0  ...        0.0    0.0     0.0       0.0\n",
              "2         0.0        0.0     0.0       0.0  ...        0.0    0.0     0.0       0.0\n",
              "3         0.0        0.0     0.0       0.0  ...        0.0    0.0     0.0       0.0\n",
              "4         0.0        0.0     0.0       0.0  ...        0.0    0.0     0.0       0.0\n",
              "..        ...        ...     ...       ...  ...        ...    ...     ...       ...\n",
              "741       0.0        0.0     0.0       0.0  ...        0.0    0.0     0.0       0.0\n",
              "742       0.0        0.0     0.0       0.0  ...        0.0    0.0     0.0       0.0\n",
              "743       0.0        0.0     0.0       0.0  ...        0.0    0.0     0.0       0.0\n",
              "744       0.0        0.0     0.0       0.0  ...        0.0    0.0     0.0       0.0\n",
              "745       0.0        0.0     0.0       0.0  ...        0.0    0.0     0.0       0.0\n",
              "\n",
              "[746 rows x 50 columns]"
            ]
          },
          "metadata": {
            "tags": []
          },
          "execution_count": 74
        }
      ]
    },
    {
      "cell_type": "code",
      "metadata": {
        "id": "B0fJibUq-yPX",
        "colab_type": "code",
        "colab": {
          "base_uri": "https://localhost:8080/",
          "height": 151
        },
        "outputId": "69fd11f5-9e04-4185-dd3d-3b73b3f3ef27"
      },
      "source": [
        "corpus[0].split()"
      ],
      "execution_count": null,
      "outputs": [
        {
          "output_type": "execute_result",
          "data": {
            "text/plain": [
              "['slow',\n",
              " 'moving',\n",
              " 'aimless',\n",
              " 'movie',\n",
              " 'distressed',\n",
              " 'drifting',\n",
              " 'young',\n",
              " 'man']"
            ]
          },
          "metadata": {
            "tags": []
          },
          "execution_count": 81
        }
      ]
    },
    {
      "cell_type": "code",
      "metadata": {
        "id": "TBj8uUf8BRF5",
        "colab_type": "code",
        "colab": {
          "base_uri": "https://localhost:8080/",
          "height": 874
        },
        "outputId": "d89ccb0c-bfc9-4359-b538-50eae31dbad0"
      },
      "source": [
        "pd.DataFrame(output.toarray() , columns = vocab ).iloc[722]"
      ],
      "execution_count": null,
      "outputs": [
        {
          "output_type": "execute_result",
          "data": {
            "text/plain": [
              "aailiyah         0.0\n",
              "abandoned        0.0\n",
              "abroad           0.0\n",
              "abstruse         0.0\n",
              "academy          0.0\n",
              "accents          0.0\n",
              "accessible       0.0\n",
              "acclaimed        0.0\n",
              "accolades        0.0\n",
              "accurate         0.0\n",
              "accurately       0.0\n",
              "achille          0.0\n",
              "ackerman         0.0\n",
              "actions          0.0\n",
              "adams            0.0\n",
              "add              0.0\n",
              "added            1.0\n",
              "admins           0.0\n",
              "admiration       0.0\n",
              "admitted         0.0\n",
              "adrift           0.0\n",
              "adventure        0.0\n",
              "aesthetically    0.0\n",
              "affected         0.0\n",
              "affleck          0.0\n",
              "afternoon        0.0\n",
              "aged             0.0\n",
              "ages             0.0\n",
              "agree            0.0\n",
              "agreed           0.0\n",
              "aimless          0.0\n",
              "aired            0.0\n",
              "akasha           0.0\n",
              "akin             0.0\n",
              "alert            0.0\n",
              "alike            0.0\n",
              "allison          0.0\n",
              "allow            0.0\n",
              "allowing         0.0\n",
              "alongside        0.0\n",
              "amateurish       0.0\n",
              "amaze            0.0\n",
              "amazed           0.0\n",
              "amazingly        0.0\n",
              "amusing          0.0\n",
              "amust            0.0\n",
              "anatomist        0.0\n",
              "angel            0.0\n",
              "angela           0.0\n",
              "angelina         0.0\n",
              "Name: 722, dtype: float64"
            ]
          },
          "metadata": {
            "tags": []
          },
          "execution_count": 82
        }
      ]
    },
    {
      "cell_type": "code",
      "metadata": {
        "id": "_wJofjcJBLII",
        "colab_type": "code",
        "colab": {
          "base_uri": "https://localhost:8080/",
          "height": 34
        },
        "outputId": "e84cce81-f87a-4b71-dd9c-83e9c98b2e08"
      },
      "source": [
        "for word in corpus[0].split():\n",
        "  if word in vocab.keys():\n",
        "    print(word)"
      ],
      "execution_count": null,
      "outputs": [
        {
          "output_type": "stream",
          "text": [
            "aimless\n"
          ],
          "name": "stdout"
        }
      ]
    },
    {
      "cell_type": "code",
      "metadata": {
        "id": "yukskho8-yMe",
        "colab_type": "code",
        "colab": {
          "base_uri": "https://localhost:8080/",
          "height": 34
        },
        "outputId": "99e85e6e-60f7-4fb2-ec25-8ba51264fcf2"
      },
      "source": [
        "for word in corpus[722].split():\n",
        "  if word in vocab.keys():\n",
        "    print(word)"
      ],
      "execution_count": null,
      "outputs": [
        {
          "output_type": "stream",
          "text": [
            "added\n"
          ],
          "name": "stdout"
        }
      ]
    },
    {
      "cell_type": "code",
      "metadata": {
        "id": "WjhX1TaW-yKC",
        "colab_type": "code",
        "colab": {
          "base_uri": "https://localhost:8080/",
          "height": 874
        },
        "outputId": "286375fa-ae44-4d6d-cdd6-e2978c4797d9"
      },
      "source": [
        "pd.DataFrame(output.toarray() , columns = vocab ).iloc[722]"
      ],
      "execution_count": null,
      "outputs": [
        {
          "output_type": "execute_result",
          "data": {
            "text/plain": [
              "aailiyah         0.0\n",
              "abandoned        0.0\n",
              "abroad           0.0\n",
              "abstruse         0.0\n",
              "academy          0.0\n",
              "accents          0.0\n",
              "accessible       0.0\n",
              "acclaimed        0.0\n",
              "accolades        0.0\n",
              "accurate         0.0\n",
              "accurately       0.0\n",
              "achille          0.0\n",
              "ackerman         0.0\n",
              "actions          0.0\n",
              "adams            0.0\n",
              "add              0.0\n",
              "added            1.0\n",
              "admins           0.0\n",
              "admiration       0.0\n",
              "admitted         0.0\n",
              "adrift           0.0\n",
              "adventure        0.0\n",
              "aesthetically    0.0\n",
              "affected         0.0\n",
              "affleck          0.0\n",
              "afternoon        0.0\n",
              "aged             0.0\n",
              "ages             0.0\n",
              "agree            0.0\n",
              "agreed           0.0\n",
              "aimless          0.0\n",
              "aired            0.0\n",
              "akasha           0.0\n",
              "akin             0.0\n",
              "alert            0.0\n",
              "alike            0.0\n",
              "allison          0.0\n",
              "allow            0.0\n",
              "allowing         0.0\n",
              "alongside        0.0\n",
              "amateurish       0.0\n",
              "amaze            0.0\n",
              "amazed           0.0\n",
              "amazingly        0.0\n",
              "amusing          0.0\n",
              "amust            0.0\n",
              "anatomist        0.0\n",
              "angel            0.0\n",
              "angela           0.0\n",
              "angelina         0.0\n",
              "Name: 722, dtype: float64"
            ]
          },
          "metadata": {
            "tags": []
          },
          "execution_count": 77
        }
      ]
    },
    {
      "cell_type": "code",
      "metadata": {
        "id": "PnikK4g9-yIC",
        "colab_type": "code",
        "colab": {}
      },
      "source": [
        ""
      ],
      "execution_count": null,
      "outputs": []
    },
    {
      "cell_type": "code",
      "metadata": {
        "id": "BMQH5ouz-yGE",
        "colab_type": "code",
        "colab": {}
      },
      "source": [
        ""
      ],
      "execution_count": null,
      "outputs": []
    },
    {
      "cell_type": "code",
      "metadata": {
        "id": "oTGyFFvN-yES",
        "colab_type": "code",
        "colab": {}
      },
      "source": [
        ""
      ],
      "execution_count": null,
      "outputs": []
    },
    {
      "cell_type": "code",
      "metadata": {
        "id": "XvPfPDO6-yCM",
        "colab_type": "code",
        "colab": {}
      },
      "source": [
        ""
      ],
      "execution_count": null,
      "outputs": []
    },
    {
      "cell_type": "code",
      "metadata": {
        "id": "BlpAU9pA-x_-",
        "colab_type": "code",
        "colab": {}
      },
      "source": [
        ""
      ],
      "execution_count": null,
      "outputs": []
    },
    {
      "cell_type": "code",
      "metadata": {
        "id": "OQrUJGlovDtc",
        "colab_type": "code",
        "colab": {}
      },
      "source": [
        "#So total 2886 unique words are there in cleaned_strings 'corpus' vocabulary\n",
        "#Our task is to return only top 50 words with largest IDF values\n",
        "#So we got idf_values as dictionary which has 2886 values in it sort them and take top 50 only"
      ],
      "execution_count": null,
      "outputs": []
    },
    {
      "cell_type": "code",
      "metadata": {
        "id": "5qZIbfDtwfaN",
        "colab_type": "code",
        "colab": {
          "base_uri": "https://localhost:8080/",
          "height": 118
        },
        "outputId": "6dd8cc0d-5f53-4ebb-9571-69badff843ad"
      },
      "source": [
        "#example #How to sort and get top 5 elements from the dictionary with 10 values\n",
        "\n",
        "d = dict()\n",
        "values = [ 3, 4 , 5, 7, 9,1,8,2,6,10]\n",
        "keys = list('abcdefghij')\n",
        "print(keys)\n",
        "print(values,'\\n')\n",
        "\n",
        "d = { key:val for key,val in zip(keys,values)}\n",
        "print(d)\n",
        "\n",
        "#sorting and selecting the top 5 values\n",
        "d = dict(sorted(d.items() , key = lambda kv:kv[1] , reverse = True))\n",
        "print(d)\n",
        "top5_d = dict(list(d.items())[:5])\n",
        "print(top5_d)"
      ],
      "execution_count": null,
      "outputs": [
        {
          "output_type": "stream",
          "text": [
            "['a', 'b', 'c', 'd', 'e', 'f', 'g', 'h', 'i', 'j']\n",
            "[3, 4, 5, 7, 9, 1, 8, 2, 6, 10] \n",
            "\n",
            "{'a': 3, 'b': 4, 'c': 5, 'd': 7, 'e': 9, 'f': 1, 'g': 8, 'h': 2, 'i': 6, 'j': 10}\n",
            "{'j': 10, 'e': 9, 'g': 8, 'd': 7, 'i': 6, 'c': 5, 'b': 4, 'a': 3, 'h': 2, 'f': 1}\n",
            "{'j': 10, 'e': 9, 'g': 8, 'd': 7, 'i': 6}\n"
          ],
          "name": "stdout"
        }
      ]
    },
    {
      "cell_type": "code",
      "metadata": {
        "id": "p_fi_RzQxOyF",
        "colab_type": "code",
        "colab": {
          "base_uri": "https://localhost:8080/",
          "height": 34
        },
        "outputId": "13d7329d-877d-4e07-84fa-e160d2cb0d3c"
      },
      "source": [
        "#sample code\n",
        "vocab = {'a': 3, 'b': 4, 'c': 5, 'd': 7, 'e': 9, 'f': 1, 'g': 8, 'h': 2, 'i': 6, 'j': 10}\n",
        "top5_d = {'j': 186, 'e': 956, 'g': 878, 'd': 700, 'i': 687}\n",
        "\n",
        "top50_vocab = top5_d.keys()\n",
        "print({word:idx for idx,word in top5_d.keys()})"
      ],
      "execution_count": null,
      "outputs": [
        {
          "output_type": "execute_result",
          "data": {
            "text/plain": [
              "dict_keys(['j', 'e', 'g', 'd', 'i'])"
            ]
          },
          "metadata": {
            "tags": []
          },
          "execution_count": 26
        }
      ]
    },
    {
      "cell_type": "code",
      "metadata": {
        "id": "vDqepJGF0yDK",
        "colab_type": "code",
        "colab": {}
      },
      "source": [
        ""
      ],
      "execution_count": null,
      "outputs": []
    },
    {
      "cell_type": "code",
      "metadata": {
        "id": "4jvqh8ZCyjCo",
        "colab_type": "code",
        "colab": {
          "base_uri": "https://localhost:8080/",
          "height": 34
        },
        "outputId": "3010c348-fdfb-42d4-d0ae-ad428a08cc3f"
      },
      "source": [
        "len(idf_values)"
      ],
      "execution_count": null,
      "outputs": [
        {
          "output_type": "execute_result",
          "data": {
            "text/plain": [
              "2886"
            ]
          },
          "metadata": {
            "tags": []
          },
          "execution_count": 16
        }
      ]
    },
    {
      "cell_type": "code",
      "metadata": {
        "id": "rQkNQkCvznRG",
        "colab_type": "code",
        "colab": {
          "base_uri": "https://localhost:8080/",
          "height": 104
        },
        "outputId": "232e90cb-a76e-41fb-a948-d33186d71787"
      },
      "source": [
        "#sorting the idf_values dict\n",
        "vocab,idf_values = fit_TF_IDF(corpus)\n",
        "print()\n",
        "print(idf_values)\n",
        "\n",
        "#sorted in Desc order of IDF values\n",
        "idf_values = dict(sorted(idf_values.items() , key = lambda kv:kv[1], reverse = True))\n",
        "print(idf_values)\n",
        "\n",
        "#selecting only words corresponding top 50 IDF values\n",
        "top50_idf_values = dict(list(idf_values.items())[0:50])\n",
        "print(len(top50_idf_values))\n",
        "print(top50_idf_values)"
      ],
      "execution_count": null,
      "outputs": [
        {
          "output_type": "stream",
          "text": [
            "{'aailiyah': 6.922918004572872, 'abandoned': 6.922918004572872, 'ability': 6.229770824012927, 'abroad': 6.922918004572872, 'absolutely': 5.3134800921387715, 'abstruse': 6.922918004572872, 'abysmal': 6.517452896464707, 'academy': 6.922918004572872, 'accents': 6.922918004572872, 'accessible': 6.922918004572872, 'acclaimed': 6.922918004572872, 'accolades': 6.922918004572872, 'accurate': 6.922918004572872, 'accurately': 6.922918004572872, 'accused': 6.517452896464707, 'achievement': 6.517452896464707, 'achille': 6.922918004572872, 'ackerman': 6.922918004572872, 'act': 6.517452896464707, 'acted': 6.229770824012927, 'acting': 3.9784790254064317, 'action': 5.536623643452981, 'actions': 6.922918004572872, 'actor': 5.3134800921387715, 'actors': 4.671626205966376, 'actress': 6.229770824012927, 'actresses': 6.229770824012927, 'actually': 5.218169912334447, 'adams': 6.922918004572872, 'adaptation': 6.517452896464707, 'add': 6.922918004572872, 'added': 6.922918004572872, 'addition': 6.229770824012927, 'admins': 6.922918004572872, 'admiration': 6.922918004572872, 'admitted': 6.922918004572872, 'adorable': 6.006627272698717, 'adrift': 6.922918004572872, 'adventure': 6.922918004572872, 'advise': 6.517452896464707, 'aerial': 6.229770824012927, 'aesthetically': 6.922918004572872, 'affected': 6.922918004572872, 'affleck': 6.922918004572872, 'afraid': 6.517452896464707, 'africa': 6.517452896464707, 'afternoon': 6.922918004572872, 'age': 6.006627272698717, 'aged': 6.922918004572872, 'ages': 6.922918004572872, 'ago': 6.517452896464707, 'agree': 6.922918004572872, 'agreed': 6.922918004572872, 'aimless': 6.922918004572872, 'air': 6.517452896464707, 'aired': 6.922918004572872, 'akasha': 6.922918004572872, 'akin': 6.922918004572872, 'alert': 6.922918004572872, 'alexander': 6.517452896464707, 'alike': 6.922918004572872, 'allison': 6.922918004572872, 'allow': 6.922918004572872, 'allowing': 6.922918004572872, 'almost': 5.3134800921387715, 'along': 6.229770824012927, 'alongside': 6.922918004572872, 'already': 6.006627272698717, 'also': 4.397189360264616, 'although': 6.229770824012927, 'always': 6.006627272698717, 'amateurish': 6.922918004572872, 'amaze': 6.922918004572872, 'amazed': 6.922918004572872, 'amazing': 5.670155036077504, 'amazingly': 6.922918004572872, 'america': 6.517452896464707, 'american': 6.517452896464707, 'americans': 6.517452896464707, 'among': 6.517452896464707, 'amount': 5.824305715904762, 'amusing': 6.922918004572872, 'amust': 6.922918004572872, 'anatomist': 6.922918004572872, 'angel': 6.922918004572872, 'angela': 6.922918004572872, 'angeles': 6.517452896464707, 'angelina': 6.922918004572872, 'angle': 6.922918004572872, 'angles': 6.517452896464707, 'angry': 6.922918004572872, 'anguish': 6.922918004572872, 'angus': 6.922918004572872, 'animals': 6.922918004572872, 'animated': 6.922918004572872, 'animation': 6.517452896464707, 'anita': 6.922918004572872, 'ann': 6.922918004572872, 'anne': 6.229770824012927, 'anniversary': 6.922918004572872, 'annoying': 5.670155036077504, 'another': 5.824305715904762, 'anthony': 6.922918004572872, 'antithesis': 6.922918004572872, 'anyone': 4.843476462893037, 'anything': 5.418840607796598, 'anyway': 6.922918004572872, 'apart': 6.922918004572872, 'appalling': 6.517452896464707, 'appealing': 6.517452896464707, 'appearance': 6.229770824012927, 'appears': 6.922918004572872, 'applauded': 6.922918004572872, 'applause': 6.922918004572872, 'appreciate': 6.229770824012927, 'appropriate': 6.922918004572872, 'apt': 6.922918004572872, 'argued': 6.922918004572872, 'armageddon': 6.922918004572872, 'armand': 6.922918004572872, 'around': 5.824305715904762, 'array': 6.922918004572872, 'art': 5.218169912334447, 'articulated': 6.922918004572872, 'artiness': 6.922918004572872, 'artist': 6.517452896464707, 'artistic': 6.922918004572872, 'artless': 6.922918004572872, 'arts': 6.922918004572872, 'aside': 6.517452896464707, 'ask': 6.517452896464707, 'asleep': 6.517452896464707, 'aspect': 6.517452896464707, 'aspects': 6.922918004572872, 'ass': 6.517452896464707, 'assante': 6.922918004572872, 'assaulted': 6.922918004572872, 'assistant': 6.922918004572872, 'astonishingly': 6.922918004572872, 'astronaut': 6.922918004572872, 'atmosphere': 6.922918004572872, 'atrocious': 6.922918004572872, 'atrocity': 6.922918004572872, 'attempt': 6.006627272698717, 'attempted': 6.922918004572872, 'attempting': 6.922918004572872, 'attempts': 6.517452896464707, 'attention': 6.517452896464707, 'attractive': 6.922918004572872, 'audience': 5.824305715904762, 'audio': 6.922918004572872, 'aurv': 6.922918004572872, 'austen': 6.922918004572872, 'austere': 6.922918004572872, 'author': 6.922918004572872, 'average': 6.229770824012927, 'aversion': 6.922918004572872, 'avoid': 5.824305715904762, 'avoided': 6.922918004572872, 'award': 6.922918004572872, 'awarded': 6.922918004572872, 'awards': 6.922918004572872, 'away': 5.824305715904762, 'awesome': 6.229770824012927, 'awful': 4.9770078555175585, 'awkwardly': 6.922918004572872, 'aye': 6.922918004572872, 'baaaaaad': 6.922918004572872, 'babbling': 6.922918004572872, 'babie': 6.922918004572872, 'baby': 6.922918004572872, 'babysitting': 6.922918004572872, 'back': 6.006627272698717, 'backdrop': 6.922918004572872, 'backed': 6.922918004572872, 'bad': 3.627081138568543, 'badly': 6.517452896464707, 'bag': 6.922918004572872, 'bailey': 6.922918004572872, 'bakery': 6.922918004572872, 'balance': 6.517452896464707, 'balanced': 6.517452896464707, 'ball': 6.922918004572872, 'ballet': 6.922918004572872, 'balls': 6.922918004572872, 'band': 6.922918004572872, 'barcelona': 6.922918004572872, 'barely': 6.006627272698717, 'barking': 6.922918004572872, 'barney': 6.922918004572872, 'barren': 6.922918004572872, 'based': 6.922918004572872, 'basic': 6.922918004572872, 'basically': 6.517452896464707, 'bat': 6.922918004572872, 'bates': 6.922918004572872, 'baxendale': 6.922918004572872, 'bear': 6.517452896464707, 'beautiful': 5.218169912334447, 'beautifully': 6.517452896464707, 'bec': 6.922918004572872, 'became': 6.517452896464707, 'bechard': 6.922918004572872, 'become': 6.006627272698717, 'becomes': 6.922918004572872, 'began': 6.517452896464707, 'begin': 6.517452896464707, 'beginning': 6.006627272698717, 'behind': 6.922918004572872, 'behold': 6.922918004572872, 'bela': 6.922918004572872, 'believable': 5.670155036077504, 'believe': 5.418840607796598, 'believed': 6.922918004572872, 'bell': 6.922918004572872, 'bellucci': 6.922918004572872, 'belly': 6.922918004572872, 'belmondo': 6.922918004572872, 'ben': 6.922918004572872, 'bendingly': 6.922918004572872, 'bennett': 6.922918004572872, 'bergen': 6.922918004572872, 'bertolucci': 6.922918004572872, 'best': 4.571542747409394, 'better': 4.782851841076601, 'betty': 6.517452896464707, 'beware': 6.922918004572872, 'beyond': 5.824305715904762, 'bible': 6.922918004572872, 'big': 5.218169912334447, 'biggest': 6.922918004572872, 'billy': 6.229770824012927, 'biographical': 6.922918004572872, 'bipolarity': 6.922918004572872, 'bit': 5.824305715904762, 'bitchy': 6.922918004572872, 'black': 5.3134800921387715, 'blah': 6.922918004572872, 'blake': 6.922918004572872, 'bland': 6.922918004572872, 'blandly': 6.922918004572872, 'blare': 6.922918004572872, 'blatant': 6.922918004572872, 'blew': 6.922918004572872, 'blood': 6.517452896464707, 'blown': 6.922918004572872, 'blue': 6.922918004572872, 'blush': 6.922918004572872, 'boasts': 6.922918004572872, 'bob': 6.922918004572872, 'body': 6.922918004572872, 'bohemian': 6.922918004572872, 'boiling': 6.922918004572872, 'bold': 6.517452896464707, 'bombardments': 6.922918004572872, 'bond': 6.922918004572872, 'bonding': 6.922918004572872, 'bonus': 6.922918004572872, 'bonuses': 6.922918004572872, 'boobs': 6.922918004572872, 'boogeyman': 6.922918004572872, 'book': 6.006627272698717, 'boost': 6.922918004572872, 'bop': 6.922918004572872, 'bordered': 6.922918004572872, 'borderlines': 6.922918004572872, 'borders': 6.922918004572872, 'bore': 6.229770824012927, 'bored': 6.006627272698717, 'boring': 5.3134800921387715, 'borrowed': 6.922918004572872, 'boss': 6.922918004572872, 'bother': 6.517452896464707, 'bothersome': 6.922918004572872, 'bought': 6.229770824012927, 'box': 6.922918004572872, 'boyfriend': 6.922918004572872, 'boyle': 6.922918004572872, 'brain': 6.229770824012927, 'brainsucking': 6.922918004572872, 'brat': 6.922918004572872, 'breaking': 6.922918004572872, 'breeders': 6.922918004572872, 'brevity': 6.922918004572872, 'brian': 6.517452896464707, 'brief': 6.517452896464707, 'brigand': 6.922918004572872, 'bright': 6.922918004572872, 'brilliance': 6.229770824012927, 'brilliant': 5.670155036077504, 'brilliantly': 6.922918004572872, 'bring': 6.517452896464707, 'brings': 6.922918004572872, 'broad': 6.922918004572872, 'broke': 6.922918004572872, 'brooding': 6.922918004572872, 'brother': 6.922918004572872, 'brutal': 6.922918004572872, 'buddy': 6.922918004572872, 'budget': 5.536623643452981, 'buffalo': 6.922918004572872, 'buffet': 6.922918004572872, 'build': 6.922918004572872, 'builders': 6.922918004572872, 'buildings': 6.922918004572872, 'built': 6.922918004572872, 'bullock': 6.517452896464707, 'bully': 6.922918004572872, 'bunch': 6.517452896464707, 'burton': 6.922918004572872, 'business': 6.517452896464707, 'buy': 6.517452896464707, 'cable': 6.922918004572872, 'cailles': 6.922918004572872, 'california': 6.922918004572872, 'call': 6.517452896464707, 'called': 6.229770824012927, 'calls': 6.922918004572872, 'came': 6.006627272698717, 'cameo': 6.922918004572872, 'camera': 5.218169912334447, 'camerawork': 6.922918004572872, 'camp': 6.922918004572872, 'campy': 6.922918004572872, 'canada': 6.517452896464707, 'cancan': 6.922918004572872, 'candace': 6.922918004572872, 'candle': 6.922918004572872, 'cannot': 6.517452896464707, 'cant': 6.922918004572872, 'captain': 6.922918004572872, 'captured': 6.922918004572872, 'captures': 6.922918004572872, 'car': 6.922918004572872, 'card': 6.922918004572872, 'cardboard': 6.517452896464707, 'cardellini': 6.922918004572872, 'care': 5.824305715904762, 'carol': 6.922918004572872, 'carrell': 6.922918004572872, 'carries': 6.922918004572872, 'carry': 6.922918004572872, 'cars': 6.922918004572872, 'cartoon': 6.229770824012927, 'cartoons': 6.517452896464707, 'case': 6.517452896464707, 'cases': 6.922918004572872, 'cast': 4.671626205966376, 'casted': 6.922918004572872, 'casting': 5.670155036077504, 'cat': 6.922918004572872, 'catchy': 6.922918004572872, 'caught': 6.922918004572872, 'cause': 6.517452896464707, 'ceases': 6.517452896464707, 'celebration': 6.922918004572872, 'celebrity': 6.922918004572872, 'celluloid': 6.922918004572872, 'centers': 6.922918004572872, 'central': 6.517452896464707, 'century': 6.517452896464707, 'certain': 6.922918004572872, 'certainly': 5.536623643452981, 'cg': 6.922918004572872, 'cgi': 6.922918004572872, 'chalkboard': 6.922918004572872, 'challenges': 6.922918004572872, 'chance': 6.517452896464707, 'change': 6.517452896464707, 'changes': 6.922918004572872, 'changing': 6.922918004572872, 'channel': 6.922918004572872, 'character': 4.571542747409394, 'characterisation': 6.922918004572872, 'characters': 4.150329282333091, 'charisma': 6.517452896464707, 'charismatic': 6.922918004572872, 'charles': 6.517452896464707, 'charlie': 6.922918004572872, 'charm': 6.517452896464707, 'charming': 6.229770824012927, 'chase': 6.922918004572872, 'chasing': 6.922918004572872, 'cheap': 5.536623643452981, 'cheaply': 6.922918004572872, 'check': 6.922918004572872, 'checking': 6.229770824012927, 'cheek': 6.922918004572872, 'cheekbones': 6.922918004572872, 'cheerfull': 6.922918004572872, 'cheerless': 6.922918004572872, 'cheesiness': 6.922918004572872, 'cheesy': 6.517452896464707, 'chemistry': 6.006627272698717, 'chick': 6.517452896464707, 'child': 5.824305715904762, 'childhood': 6.517452896464707, 'children': 6.229770824012927, 'childrens': 6.922918004572872, 'chills': 6.922918004572872, 'chilly': 6.922918004572872, 'chimp': 6.922918004572872, 'chodorov': 6.922918004572872, 'choice': 6.922918004572872, 'choices': 6.922918004572872, 'choked': 6.922918004572872, 'chosen': 6.922918004572872, 'chow': 6.922918004572872, 'christmas': 6.517452896464707, 'christopher': 6.922918004572872, 'church': 6.517452896464707, 'cinema': 5.536623643452981, 'cinematic': 6.922918004572872, 'cinematographers': 6.922918004572872, 'cinematography': 5.3134800921387715, 'circumstances': 6.922918004572872, 'class': 6.922918004572872, 'classic': 5.670155036077504, 'classical': 6.922918004572872, 'clear': 6.922918004572872, 'clearly': 6.517452896464707, 'clever': 5.824305715904762, 'clich': 6.229770824012927, 'cliche': 6.922918004572872, 'clients': 6.922918004572872, 'cliff': 6.922918004572872, 'climax': 6.922918004572872, 'close': 6.229770824012927, 'closed': 6.922918004572872, 'clothes': 6.922918004572872, 'club': 6.922918004572872, 'co': 6.922918004572872, 'coach': 6.922918004572872, 'coal': 6.922918004572872, 'coastal': 6.922918004572872, 'coaster': 6.922918004572872, 'coherent': 6.922918004572872, 'cold': 6.922918004572872, 'cole': 6.517452896464707, 'collect': 6.922918004572872, 'collective': 6.922918004572872, 'colored': 6.922918004572872, 'colorful': 6.922918004572872, 'colours': 6.922918004572872, 'columbo': 6.922918004572872, 'come': 5.824305715904762, 'comedic': 6.922918004572872, 'comedy': 5.536623643452981, 'comes': 6.006627272698717, 'comfortable': 6.922918004572872, 'comforting': 6.922918004572872, 'comical': 6.922918004572872, 'coming': 6.229770824012927, 'commands': 6.922918004572872, 'comment': 6.922918004572872, 'commentary': 6.922918004572872, 'commented': 6.922918004572872, 'comments': 6.922918004572872, 'commercial': 6.922918004572872, 'community': 6.922918004572872, 'company': 6.922918004572872, 'compelling': 6.517452896464707, 'competent': 6.922918004572872, 'complete': 6.229770824012927, 'completed': 6.922918004572872, 'completely': 6.006627272698717, 'complex': 6.517452896464707, 'complexity': 6.922918004572872, 'composed': 6.922918004572872, 'composition': 6.517452896464707, 'comprehensible': 6.922918004572872, 'compromise': 6.922918004572872, 'computer': 6.517452896464707, 'concentrate': 6.922918004572872, 'conception': 6.922918004572872, 'conceptually': 6.922918004572872, 'concerning': 6.922918004572872, 'concerns': 6.922918004572872, 'concert': 6.922918004572872, 'conclusion': 6.229770824012927, 'condescends': 6.922918004572872, 'confidence': 6.922918004572872, 'configuration': 6.922918004572872, 'confirm': 6.922918004572872, 'conflict': 6.229770824012927, 'confuses': 6.922918004572872, 'confusing': 6.922918004572872, 'connections': 6.922918004572872, 'connery': 6.517452896464707, 'connor': 6.922918004572872, 'conrad': 6.922918004572872, 'consequences': 6.922918004572872, 'consider': 6.006627272698717, 'considerable': 6.922918004572872, 'considered': 6.922918004572872, 'considering': 6.517452896464707, 'considers': 6.922918004572872, 'consistent': 6.922918004572872, 'consolations': 6.922918004572872, 'constant': 6.922918004572872, 'constantine': 6.922918004572872, 'constructed': 6.922918004572872, 'contained': 6.517452896464707, 'containing': 6.922918004572872, 'contains': 6.517452896464707, 'content': 6.922918004572872, 'continually': 6.922918004572872, 'continuation': 6.922918004572872, 'continue': 6.922918004572872, 'continuity': 6.517452896464707, 'continuously': 6.922918004572872, 'contract': 6.922918004572872, 'contrast': 6.517452896464707, 'contributing': 6.922918004572872, 'contributory': 6.922918004572872, 'contrived': 6.922918004572872, 'control': 6.517452896464707, 'controversy': 6.922918004572872, 'convention': 6.922918004572872, 'convey': 6.922918004572872, 'convince': 6.922918004572872, 'convincing': 6.006627272698717, 'convoluted': 6.922918004572872, 'cool': 5.536623643452981, 'coppola': 6.517452896464707, 'cords': 6.922918004572872, 'core': 6.517452896464707, 'corn': 6.922918004572872, 'corny': 6.922918004572872, 'correct': 6.922918004572872, 'cost': 6.517452896464707, 'costs': 6.229770824012927, 'costumes': 6.922918004572872, 'cotton': 6.922918004572872, 'could': 4.397189360264616, 'couple': 6.922918004572872, 'course': 6.229770824012927, 'court': 6.922918004572872, 'courtroom': 6.517452896464707, 'cover': 6.006627272698717, 'cowardice': 6.922918004572872, 'cox': 6.922918004572872, 'crackles': 6.922918004572872, 'crafted': 6.517452896464707, 'crap': 5.824305715904762, 'crash': 6.922918004572872, 'crashed': 6.922918004572872, 'crayon': 6.922918004572872, 'crayons': 6.922918004572872, 'crazy': 6.517452896464707, 'create': 6.517452896464707, 'created': 6.006627272698717, 'creates': 6.517452896464707, 'creative': 6.922918004572872, 'creativity': 6.922918004572872, 'creature': 6.922918004572872, 'credible': 6.922918004572872, 'credit': 6.517452896464707, 'credits': 6.922918004572872, 'crew': 6.922918004572872, 'crime': 6.922918004572872, 'crisp': 6.922918004572872, 'critic': 6.922918004572872, 'critical': 6.922918004572872, 'crocdodile': 6.922918004572872, 'crocs': 6.922918004572872, 'cross': 6.922918004572872, 'crowd': 6.517452896464707, 'crowe': 6.922918004572872, 'cruel': 6.922918004572872, 'cruise': 6.922918004572872, 'cry': 6.922918004572872, 'cult': 6.006627272698717, 'culture': 6.517452896464707, 'curtain': 6.922918004572872, 'custer': 6.922918004572872, 'cute': 6.517452896464707, 'cutest': 6.922918004572872, 'cutie': 6.922918004572872, 'cutouts': 6.922918004572872, 'cuts': 6.922918004572872, 'cutting': 6.922918004572872, 'dads': 6.922918004572872, 'damian': 6.922918004572872, 'damn': 6.922918004572872, 'dance': 6.006627272698717, 'dancing': 6.517452896464707, 'dangerous': 6.517452896464707, 'dark': 6.517452896464707, 'darren': 6.922918004572872, 'daughter': 6.517452896464707, 'daughters': 6.922918004572872, 'day': 5.824305715904762, 'days': 6.922918004572872, 'de': 6.517452896464707, 'dead': 6.517452896464707, 'deadly': 6.922918004572872, 'deadpan': 6.922918004572872, 'deal': 6.922918004572872, 'dealt': 6.922918004572872, 'death': 6.006627272698717, 'debated': 6.922918004572872, 'debbie': 6.922918004572872, 'debits': 6.922918004572872, 'debut': 6.922918004572872, 'decay': 6.517452896464707, 'decent': 6.229770824012927, 'decidely': 6.922918004572872, 'decipher': 6.922918004572872, 'decisions': 6.922918004572872, 'dedication': 6.517452896464707, 'dee': 6.922918004572872, 'deep': 6.922918004572872, 'deeply': 6.517452896464707, 'defensemen': 6.922918004572872, 'defined': 6.922918004572872, 'definitely': 5.3134800921387715, 'delete': 6.922918004572872, 'delight': 6.517452896464707, 'delightful': 6.922918004572872, 'delights': 6.922918004572872, 'deliver': 6.922918004572872, 'delivered': 6.922918004572872, 'delivering': 6.517452896464707, 'delivers': 6.229770824012927, 'dependant': 6.922918004572872, 'depending': 6.922918004572872, 'depends': 6.922918004572872, 'depicted': 6.922918004572872, 'depicts': 6.517452896464707, 'depressing': 6.517452896464707, 'depth': 6.006627272698717, 'derivative': 6.922918004572872, 'describe': 6.517452896464707, 'describes': 6.922918004572872, 'desert': 6.922918004572872, 'deserved': 6.517452896464707, 'deserves': 6.517452896464707, 'deserving': 6.517452896464707, 'design': 6.922918004572872, 'designed': 6.922918004572872, 'designer': 6.922918004572872, 'desperately': 6.922918004572872, 'desperation': 6.922918004572872, 'despised': 6.922918004572872, 'despite': 6.517452896464707, 'destroy': 6.922918004572872, 'detailing': 6.922918004572872, 'details': 6.922918004572872, 'develop': 6.922918004572872, 'development': 6.922918004572872, 'developments': 6.922918004572872, 'di': 6.922918004572872, 'diabetic': 6.922918004572872, 'dialog': 6.229770824012927, 'dialogs': 6.922918004572872, 'dialogue': 5.131158535344817, 'diaper': 6.922918004572872, 'dickens': 6.922918004572872, 'difference': 6.922918004572872, 'different': 5.824305715904762, 'dignity': 6.922918004572872, 'dimensional': 6.922918004572872, 'direct': 6.922918004572872, 'directed': 6.229770824012927, 'directing': 5.418840607796598, 'direction': 6.006627272698717, 'director': 5.3134800921387715, 'directorial': 6.517452896464707, 'directors': 6.922918004572872, 'disappointed': 5.670155036077504, 'disappointing': 6.517452896464707, 'disappointment': 6.517452896464707, 'disaster': 6.517452896464707, 'disbelief': 6.922918004572872, 'discomfort': 6.922918004572872, 'discovering': 6.517452896464707, 'discovery': 6.922918004572872, 'disgrace': 6.922918004572872, 'disgusting': 6.922918004572872, 'dislike': 6.517452896464707, 'disliked': 6.517452896464707, 'disney': 6.922918004572872, 'disparate': 6.922918004572872, 'distant': 6.922918004572872, 'distinction': 6.922918004572872, 'distorted': 6.922918004572872, 'distract': 6.922918004572872, 'distressed': 6.922918004572872, 'disturbing': 6.517452896464707, 'diving': 6.922918004572872, 'doctor': 6.517452896464707, 'documentaries': 6.517452896464707, 'documentary': 6.229770824012927, 'dodge': 6.922918004572872, 'dogs': 6.517452896464707, 'dollars': 6.922918004572872, 'dominated': 6.922918004572872, 'done': 5.670155036077504, 'donlevy': 6.922918004572872, 'dont': 6.922918004572872, 'doomed': 6.922918004572872, 'dose': 6.922918004572872, 'doubt': 6.922918004572872, 'downs': 6.922918004572872, 'dozen': 6.922918004572872, 'dr': 6.922918004572872, 'dracula': 6.922918004572872, 'draft': 6.922918004572872, 'drag': 6.922918004572872, 'drago': 6.229770824012927, 'drama': 5.418840607796598, 'dramatic': 6.517452896464707, 'drawings': 6.922918004572872, 'drawn': 6.922918004572872, 'dream': 6.922918004572872, 'dreams': 6.517452896464707, 'dreary': 6.922918004572872, 'dribble': 6.922918004572872, 'drift': 6.922918004572872, 'drifting': 6.922918004572872, 'drive': 6.229770824012927, 'drooling': 6.922918004572872, 'dropped': 6.922918004572872, 'dry': 6.922918004572872, 'due': 6.229770824012927, 'duet': 6.517452896464707, 'dull': 6.517452896464707, 'dumb': 6.517452896464707, 'dumbest': 6.922918004572872, 'duper': 6.922918004572872, 'duris': 6.922918004572872, 'dustin': 6.922918004572872, 'dvd': 6.229770824012927, 'dwight': 6.922918004572872, 'dysfunction': 6.922918004572872, 'earlier': 6.229770824012927, 'early': 6.229770824012927, 'earth': 6.517452896464707, 'easily': 6.229770824012927, 'easy': 6.229770824012927, 'eating': 6.922918004572872, 'ebay': 6.922918004572872, 'ebola': 6.922918004572872, 'eccleston': 6.922918004572872, 'ed': 6.229770824012927, 'edge': 6.517452896464707, 'editing': 5.824305715904762, 'edition': 6.922918004572872, 'educational': 6.922918004572872, 'edward': 6.922918004572872, 'effect': 6.922918004572872, 'effective': 6.229770824012927, 'effects': 5.418840607796598, 'effort': 6.922918004572872, 'efforts': 6.922918004572872, 'egotism': 6.922918004572872, 'eighth': 6.922918004572872, 'eiko': 6.922918004572872, 'either': 6.229770824012927, 'elaborately': 6.922918004572872, 'elderly': 6.922918004572872, 'elegant': 6.922918004572872, 'element': 6.517452896464707, 'elias': 6.922918004572872, 'eloquently': 6.922918004572872, 'else': 6.006627272698717, 'elsewhere': 6.922918004572872, 'embarrassed': 6.922918004572872, 'embarrassing': 6.229770824012927, 'embassy': 6.922918004572872, 'emerge': 6.922918004572872, 'emilio': 6.517452896464707, 'emily': 6.517452896464707, 'emoting': 6.922918004572872, 'emotion': 6.922918004572872, 'emotionally': 6.922918004572872, 'emotions': 6.517452896464707, 'emperor': 6.922918004572872, 'empowerment': 6.922918004572872, 'emptiness': 6.922918004572872, 'empty': 6.517452896464707, 'en': 6.922918004572872, 'enchanting': 6.922918004572872, 'end': 5.131158535344817, 'endearing': 6.922918004572872, 'ended': 6.922918004572872, 'ending': 5.131158535344817, 'endlessly': 6.922918004572872, 'ends': 6.922918004572872, 'energetic': 6.922918004572872, 'energy': 6.006627272698717, 'engaging': 6.517452896464707, 'english': 6.922918004572872, 'enhanced': 6.922918004572872, 'enjoy': 5.824305715904762, 'enjoyable': 6.229770824012927, 'enjoyed': 5.418840607796598, 'enjoyment': 6.922918004572872, 'enough': 5.218169912334447, 'enter': 6.922918004572872, 'enterprise': 6.922918004572872, 'entertained': 6.922918004572872, 'entertaining': 6.006627272698717, 'entire': 5.670155036077504, 'entirely': 6.517452896464707, 'entrance': 6.922918004572872, 'episode': 6.229770824012927, 'episodes': 6.922918004572872, 'equivalent': 6.922918004572872, 'era': 6.517452896464707, 'errol': 6.517452896464707, 'errors': 6.922918004572872, 'escalating': 6.922918004572872, 'escapism': 6.922918004572872, 'especially': 5.418840607796598, 'essence': 6.922918004572872, 'establish': 6.922918004572872, 'established': 6.922918004572872, 'estate': 6.922918004572872, 'estevez': 6.922918004572872, 'etc': 6.229770824012927, 'european': 6.517452896464707, 'evaluate': 6.922918004572872, 'even': 4.0325462466767075, 'events': 6.922918004572872, 'ever': 4.480570969203668, 'every': 4.843476462893037, 'everybody': 6.922918004572872, 'everyone': 5.418840607796598, 'everything': 5.05111582767128, 'everywhere': 6.922918004572872, 'evidently': 6.922918004572872, 'evil': 6.517452896464707, 'evinced': 6.922918004572872, 'evokes': 6.922918004572872, 'exactly': 6.229770824012927, 'exaggerating': 6.922918004572872, 'example': 6.229770824012927, 'excellent': 4.9770078555175585, 'excellently': 6.517452896464707, 'except': 6.922918004572872, 'exceptional': 6.517452896464707, 'exceptionally': 6.922918004572872, 'excerpts': 6.922918004572872, 'excessively': 6.922918004572872, 'exchange': 6.922918004572872, 'exciting': 6.922918004572872, 'excruciatingly': 6.922918004572872, 'excuse': 6.922918004572872, 'excuses': 6.922918004572872, 'executed': 6.922918004572872, 'exemplars': 6.922918004572872, 'existent': 6.922918004572872, 'existential': 6.922918004572872, 'expansive': 6.922918004572872, 'expect': 6.006627272698717, 'expectations': 6.922918004572872, 'expected': 6.922918004572872, 'expecting': 6.922918004572872, 'experience': 5.670155036077504, 'experiences': 6.922918004572872, 'expert': 6.922918004572872, 'explain': 6.517452896464707, 'explains': 6.922918004572872, 'explanation': 6.517452896464707, 'exploit': 6.922918004572872, 'explorations': 6.922918004572872, 'explosion': 6.922918004572872, 'expression': 6.922918004572872, 'exquisite': 6.517452896464707, 'extant': 6.922918004572872, 'exteriors': 6.922918004572872, 'extraneous': 6.922918004572872, 'extraordinary': 6.922918004572872, 'extremely': 6.517452896464707, 'eye': 6.517452896464707, 'eyes': 6.006627272698717, 'fabulous': 6.922918004572872, 'face': 5.824305715904762, 'faces': 6.922918004572872, 'facial': 6.922918004572872, 'facing': 6.922918004572872, 'fact': 5.418840607796598, 'factory': 6.922918004572872, 'failed': 6.922918004572872, 'fails': 5.824305715904762, 'fair': 6.922918004572872, 'fairly': 6.922918004572872, 'faithful': 6.922918004572872, 'fall': 6.517452896464707, 'falling': 6.922918004572872, 'falls': 6.922918004572872, 'falsely': 6.922918004572872, 'falwell': 6.922918004572872, 'fame': 6.922918004572872, 'famed': 6.922918004572872, 'family': 5.536623643452981, 'famous': 6.922918004572872, 'fan': 6.229770824012927, 'fanciful': 6.922918004572872, 'fans': 5.824305715904762, 'fantastic': 6.229770824012927, 'fantasy': 6.922918004572872, 'far': 5.536623643452981, 'farce': 6.922918004572872, 'fare': 6.922918004572872, 'fascinated': 6.922918004572872, 'fascinating': 6.517452896464707, 'fascination': 6.922918004572872, 'fashioned': 6.922918004572872, 'fast': 6.006627272698717, 'faster': 6.922918004572872, 'fat': 6.517452896464707, 'father': 6.922918004572872, 'faultless': 6.922918004572872, 'fausa': 6.922918004572872, 'faux': 6.229770824012927, 'favorite': 6.922918004572872, 'favourite': 6.229770824012927, 'fear': 6.229770824012927, 'feature': 6.922918004572872, 'features': 6.229770824012927, 'feel': 6.229770824012927, 'feeling': 5.418840607796598, 'feelings': 6.922918004572872, 'feet': 6.922918004572872, 'feisty': 6.922918004572872, 'fellowes': 6.922918004572872, 'felt': 5.824305715904762, 'female': 6.517452896464707, 'females': 6.922918004572872, 'ferry': 6.922918004572872, 'fest': 6.922918004572872, 'fi': 6.517452896464707, 'fields': 6.922918004572872, 'fifteen': 6.922918004572872, 'fifties': 6.922918004572872, 'fill': 6.922918004572872, 'film': 2.771878098674226, 'filmed': 6.517452896464707, 'filmiing': 6.922918004572872, 'filmmaker': 6.922918004572872, 'filmography': 6.922918004572872, 'films': 4.671626205966376, 'final': 6.229770824012927, 'finale': 6.922918004572872, 'finally': 6.229770824012927, 'financial': 6.922918004572872, 'find': 5.218169912334447, 'finds': 6.922918004572872, 'fine': 5.824305715904762, 'finest': 6.922918004572872, 'fingernails': 6.922918004572872, 'finished': 6.922918004572872, 'fire': 6.922918004572872, 'first': 5.218169912334447, 'fish': 6.922918004572872, 'fishnet': 6.922918004572872, 'fisted': 6.922918004572872, 'fit': 6.922918004572872, 'five': 6.517452896464707, 'flag': 6.922918004572872, 'flakes': 6.922918004572872, 'flaming': 6.922918004572872, 'flashbacks': 6.922918004572872, 'flat': 6.517452896464707, 'flaw': 6.922918004572872, 'flawed': 6.517452896464707, 'flaws': 6.517452896464707, 'fleshed': 6.922918004572872, 'flick': 5.824305715904762, 'flicks': 6.922918004572872, 'florida': 6.922918004572872, 'flowed': 6.922918004572872, 'flying': 6.922918004572872, 'flynn': 6.517452896464707, 'focus': 6.517452896464707, 'fodder': 6.922918004572872, 'follow': 6.229770824012927, 'following': 6.517452896464707, 'follows': 6.922918004572872, 'foolish': 6.922918004572872, 'footage': 6.229770824012927, 'football': 6.922918004572872, 'force': 6.922918004572872, 'forced': 6.922918004572872, 'forces': 6.517452896464707, 'ford': 6.922918004572872, 'foreign': 6.922918004572872, 'foreigner': 6.922918004572872, 'forever': 6.922918004572872, 'forget': 6.517452896464707, 'forgettable': 6.922918004572872, 'forgetting': 6.922918004572872, 'forgot': 6.922918004572872, 'forgotten': 6.922918004572872, 'form': 6.517452896464707, 'format': 6.922918004572872, 'former': 6.922918004572872, 'fort': 6.922918004572872, 'forth': 6.922918004572872, 'forwarded': 6.922918004572872, 'found': 5.536623643452981, 'four': 6.922918004572872, 'fox': 6.517452896464707, 'foxx': 6.922918004572872, 'frances': 6.922918004572872, 'francis': 6.922918004572872, 'frankly': 6.517452896464707, 'free': 6.229770824012927, 'freedom': 6.517452896464707, 'freeman': 6.922918004572872, 'french': 6.517452896464707, 'fresh': 6.517452896464707, 'freshness': 6.922918004572872, 'friends': 6.517452896464707, 'friendship': 6.922918004572872, 'frightening': 6.229770824012927, 'front': 6.517452896464707, 'frontier': 6.922918004572872, 'frost': 6.922918004572872, 'frustration': 6.922918004572872, 'fulci': 6.517452896464707, 'fulfilling': 6.922918004572872, 'full': 5.824305715904762, 'fully': 6.922918004572872, 'fumbling': 6.922918004572872, 'fun': 5.824305715904762, 'function': 6.922918004572872, 'fundamental': 6.922918004572872, 'funniest': 6.922918004572872, 'funny': 4.782851841076601, 'future': 6.517452896464707, 'fx': 6.517452896464707, 'gabriel': 6.922918004572872, 'gadget': 6.922918004572872, 'gain': 6.922918004572872, 'gake': 6.922918004572872, 'galley': 6.922918004572872, 'gallon': 6.922918004572872, 'game': 6.229770824012927, 'games': 6.229770824012927, 'garage': 6.922918004572872, 'garbage': 5.536623643452981, 'garbo': 6.922918004572872, 'garfield': 6.922918004572872, 'gas': 6.922918004572872, 'gaudi': 6.922918004572872, 'gave': 5.824305715904762, 'gay': 6.922918004572872, 'geek': 6.922918004572872, 'gem': 6.229770824012927, 'general': 6.922918004572872, 'generally': 6.006627272698717, 'generates': 6.922918004572872, 'generic': 6.922918004572872, 'genius': 6.517452896464707, 'genre': 6.517452896464707, 'gently': 6.922918004572872, 'genuine': 6.229770824012927, 'george': 6.922918004572872, 'gerardo': 6.922918004572872, 'gere': 6.922918004572872, 'get': 5.05111582767128, 'gets': 5.670155036077504, 'getting': 6.922918004572872, 'ghibili': 6.922918004572872, 'giallo': 6.229770824012927, 'gibberish': 6.922918004572872, 'gifted': 6.922918004572872, 'giovanni': 6.922918004572872, 'girl': 5.536623643452981, 'girlfriend': 6.517452896464707, 'girls': 6.922918004572872, 'girolamo': 6.922918004572872, 'give': 5.218169912334447, 'given': 6.229770824012927, 'gives': 5.824305715904762, 'giving': 6.922918004572872, 'glad': 6.229770824012927, 'glance': 6.517452896464707, 'glasses': 6.922918004572872, 'gloriously': 6.922918004572872, 'go': 5.05111582767128, 'goalies': 6.922918004572872, 'god': 6.006627272698717, 'goes': 6.517452896464707, 'going': 5.218169912334447, 'gone': 6.922918004572872, 'gonna': 6.517452896464707, 'good': 3.7874237886437223, 'gore': 6.922918004572872, 'goremeister': 6.922918004572872, 'gorman': 6.922918004572872, 'gosh': 6.922918004572872, 'got': 5.418840607796598, 'goth': 6.922918004572872, 'gotta': 6.922918004572872, 'gotten': 6.922918004572872, 'government': 6.922918004572872, 'grace': 6.229770824012927, 'grade': 6.922918004572872, 'gradually': 6.922918004572872, 'grainy': 6.922918004572872, 'granted': 6.922918004572872, 'graphics': 6.922918004572872, 'grasp': 6.922918004572872, 'grates': 6.922918004572872, 'great': 4.182077980647671, 'greatest': 6.229770824012927, 'greatness': 6.922918004572872, 'green': 6.922918004572872, 'greenstreet': 6.922918004572872, 'grew': 6.922918004572872, 'grim': 6.922918004572872, 'grimes': 6.922918004572872, 'gripping': 6.517452896464707, 'groove': 6.922918004572872, 'gross': 6.922918004572872, 'ground': 6.922918004572872, 'guards': 6.922918004572872, 'guess': 5.824305715904762, 'guests': 6.922918004572872, 'guilt': 6.922918004572872, 'gung': 6.922918004572872, 'guy': 6.517452896464707, 'guys': 6.922918004572872, 'hackneyed': 6.517452896464707, 'haggis': 6.922918004572872, 'hair': 6.922918004572872, 'hairsplitting': 6.922918004572872, 'half': 5.670155036077504, 'halfway': 6.922918004572872, 'ham': 6.922918004572872, 'hand': 6.517452896464707, 'handle': 6.922918004572872, 'handled': 6.517452896464707, 'handles': 6.922918004572872, 'hands': 6.517452896464707, 'hang': 6.922918004572872, 'hankies': 6.922918004572872, 'hanks': 6.922918004572872, 'happen': 6.229770824012927, 'happened': 6.229770824012927, 'happiness': 6.922918004572872, 'happy': 6.922918004572872, 'hard': 6.229770824012927, 'harris': 6.922918004572872, 'hate': 6.517452896464707, 'hated': 6.517452896464707, 'hatred': 6.922918004572872, 'havilland': 6.922918004572872, 'hay': 6.922918004572872, 'hayao': 6.922918004572872, 'hayworth': 6.922918004572872, 'hbo': 6.922918004572872, 'head': 6.229770824012927, 'heads': 6.922918004572872, 'hear': 6.517452896464707, 'heard': 6.517452896464707, 'heart': 6.229770824012927, 'hearts': 6.922918004572872, 'heartwarming': 6.922918004572872, 'heaven': 6.517452896464707, 'heche': 6.922918004572872, 'heels': 6.922918004572872, 'heist': 6.922918004572872, 'helen': 6.922918004572872, 'hell': 6.517452896464707, 'hellish': 6.922918004572872, 'helms': 6.922918004572872, 'help': 6.922918004572872, 'helping': 6.922918004572872, 'helps': 6.517452896464707, 'hence': 6.517452896464707, 'hendrikson': 6.922918004572872, 'hernandez': 6.922918004572872, 'hero': 6.922918004572872, 'heroes': 6.922918004572872, 'heroine': 6.922918004572872, 'heroism': 6.922918004572872, 'hes': 6.922918004572872, 'hide': 6.922918004572872, 'high': 6.517452896464707, 'higher': 6.922918004572872, 'highest': 6.922918004572872, 'highlights': 6.922918004572872, 'highly': 5.3134800921387715, 'hilarious': 5.670155036077504, 'hill': 6.229770824012927, 'hilt': 6.922918004572872, 'hip': 6.922918004572872, 'history': 5.670155036077504, 'hitchcock': 6.229770824012927, 'ho': 6.922918004572872, 'hockey': 6.922918004572872, 'hoffman': 6.922918004572872, 'hold': 6.922918004572872, 'holding': 6.922918004572872, 'holds': 6.922918004572872, 'holes': 6.006627272698717, 'hollander': 6.922918004572872, 'hollow': 6.517452896464707, 'hollywood': 6.517452896464707, 'home': 6.517452896464707, 'homework': 6.922918004572872, 'honest': 6.922918004572872, 'honestly': 6.922918004572872, 'hoot': 6.922918004572872, 'hope': 6.006627272698717, 'hopefully': 6.922918004572872, 'hopeless': 6.922918004572872, 'horrendous': 6.922918004572872, 'horrendously': 6.922918004572872, 'horrible': 5.824305715904762, 'horrid': 6.922918004572872, 'horrified': 6.922918004572872, 'horror': 5.418840607796598, 'horse': 6.922918004572872, 'hosting': 6.922918004572872, 'hot': 6.922918004572872, 'hour': 6.006627272698717, 'hours': 6.229770824012927, 'house': 6.229770824012927, 'houses': 6.922918004572872, 'howdy': 6.922918004572872, 'howe': 6.922918004572872, 'howell': 6.922918004572872, 'however': 5.218169912334447, 'huge': 6.006627272698717, 'hugo': 6.922918004572872, 'human': 5.670155036077504, 'humanity': 6.922918004572872, 'humans': 6.922918004572872, 'hummh': 6.922918004572872, 'humor': 6.922918004572872, 'humorous': 6.517452896464707, 'humour': 6.517452896464707, 'hurt': 6.922918004572872, 'huston': 6.229770824012927, 'hype': 6.922918004572872, 'hypocrisy': 6.922918004572872, 'idea': 6.006627272698717, 'idealogical': 6.922918004572872, 'identified': 6.922918004572872, 'identifies': 6.922918004572872, 'identify': 6.517452896464707, 'idiot': 6.517452896464707, 'idiotic': 6.922918004572872, 'idyllic': 6.922918004572872, 'iffy': 6.922918004572872, 'im': 6.922918004572872, 'imaginable': 6.517452896464707, 'imagination': 6.006627272698717, 'imaginative': 6.517452896464707, 'imagine': 6.922918004572872, 'imdb': 6.922918004572872, 'imitation': 6.922918004572872, 'impact': 6.922918004572872, 'imperial': 6.922918004572872, 'implausible': 6.517452896464707, 'important': 6.517452896464707, 'impossible': 6.922918004572872, 'impressed': 6.517452896464707, 'impression': 6.922918004572872, 'impressive': 6.517452896464707, 'improved': 6.922918004572872, 'improvement': 6.922918004572872, 'improvisation': 6.922918004572872, 'impulse': 6.922918004572872, 'inappropriate': 6.922918004572872, 'incendiary': 6.922918004572872, 'includes': 6.922918004572872, 'including': 6.229770824012927, 'incomprehensible': 6.922918004572872, 'inconsistencies': 6.922918004572872, 'incorrectness': 6.922918004572872, 'incredible': 6.006627272698717, 'incredibly': 6.229770824012927, 'indeed': 6.006627272698717, 'indescribably': 6.922918004572872, 'indication': 6.922918004572872, 'indictment': 6.922918004572872, 'indie': 6.922918004572872, 'individual': 6.922918004572872, 'indoor': 6.922918004572872, 'indulgent': 6.229770824012927, 'industry': 6.517452896464707, 'ineptly': 6.922918004572872, 'inexperience': 6.922918004572872, 'inexplicable': 6.922918004572872, 'initially': 6.922918004572872, 'innocence': 6.922918004572872, 'insane': 6.922918004572872, 'inside': 6.922918004572872, 'insincere': 6.922918004572872, 'insipid': 6.922918004572872, 'insomniacs': 6.922918004572872, 'inspiration': 6.922918004572872, 'inspiring': 6.922918004572872, 'instant': 6.922918004572872, 'instead': 6.517452896464707, 'instruments': 6.922918004572872, 'insulin': 6.922918004572872, 'insult': 6.006627272698717, 'intangibles': 6.922918004572872, 'integral': 6.922918004572872, 'integration': 6.922918004572872, 'intelligence': 6.006627272698717, 'intelligent': 6.006627272698717, 'intense': 6.922918004572872, 'intensity': 6.922918004572872, 'intentions': 6.922918004572872, 'interacting': 6.922918004572872, 'interest': 6.229770824012927, 'interested': 6.517452896464707, 'interesting': 5.131158535344817, 'interim': 6.922918004572872, 'interplay': 6.517452896464707, 'interpretations': 6.922918004572872, 'interview': 6.922918004572872, 'intoning': 6.922918004572872, 'intrigued': 6.922918004572872, 'inventive': 6.922918004572872, 'involved': 5.824305715904762, 'involves': 6.922918004572872, 'involving': 6.922918004572872, 'iq': 6.922918004572872, 'ireland': 6.922918004572872, 'ironically': 6.922918004572872, 'irons': 6.922918004572872, 'ironside': 6.922918004572872, 'irritating': 6.922918004572872, 'ishioka': 6.922918004572872, 'iso': 6.922918004572872, 'issue': 6.922918004572872, 'issues': 6.517452896464707, 'istagey': 6.922918004572872, 'italian': 6.517452896464707, 'ive': 6.922918004572872, 'jack': 6.922918004572872, 'jaclyn': 6.922918004572872, 'james': 6.006627272698717, 'jamie': 6.517452896464707, 'japanese': 6.922918004572872, 'jason': 6.922918004572872, 'jay': 6.922918004572872, 'jealousy': 6.922918004572872, 'jean': 6.517452896464707, 'jennifer': 6.922918004572872, 'jerky': 6.517452896464707, 'jerry': 6.922918004572872, 'jessica': 6.922918004572872, 'jessice': 6.922918004572872, 'jet': 6.922918004572872, 'jim': 6.922918004572872, 'jimmy': 6.517452896464707, 'job': 5.3134800921387715, 'jobs': 6.517452896464707, 'joe': 6.922918004572872, 'john': 5.824305715904762, 'joins': 6.922918004572872, 'joke': 6.517452896464707, 'jokes': 6.922918004572872, 'jonah': 6.517452896464707, 'jones': 6.922918004572872, 'journey': 6.517452896464707, 'joy': 5.824305715904762, 'joyce': 6.922918004572872, 'juano': 6.922918004572872, 'judge': 6.922918004572872, 'judging': 6.922918004572872, 'judith': 6.922918004572872, 'judo': 6.922918004572872, 'julian': 6.922918004572872, 'june': 6.517452896464707, 'junk': 6.922918004572872, 'junkyard': 6.922918004572872, 'justice': 6.922918004572872, 'jutland': 6.922918004572872, 'kanaly': 6.922918004572872, 'kathy': 6.922918004572872, 'keep': 6.006627272698717, 'keeps': 6.517452896464707, 'keira': 6.922918004572872, 'keith': 6.922918004572872, 'kept': 6.922918004572872, 'kevin': 6.922918004572872, 'kid': 6.922918004572872, 'kidnapped': 6.922918004572872, 'kids': 5.418840607796598, 'kieslowski': 6.922918004572872, 'kill': 6.922918004572872, 'killer': 6.517452896464707, 'killing': 6.517452896464707, 'killings': 6.922918004572872, 'kind': 5.418840607796598, 'kinda': 6.517452896464707, 'kirk': 6.922918004572872, 'kitchy': 6.922918004572872, 'knew': 6.229770824012927, 'knightley': 6.922918004572872, 'knocked': 6.922918004572872, 'know': 4.908014984030608, 'known': 6.517452896464707, 'knows': 6.922918004572872, 'koteas': 6.922918004572872, 'kris': 6.922918004572872, 'kristoffersen': 6.922918004572872, 'kudos': 6.922918004572872, 'la': 6.922918004572872, 'labute': 6.922918004572872, 'lack': 6.922918004572872, 'lacked': 6.517452896464707, 'lacks': 5.824305715904762, 'ladies': 6.922918004572872, 'lady': 6.922918004572872, 'lame': 5.824305715904762, 'lance': 6.922918004572872, 'landscapes': 6.922918004572872, 'lane': 6.517452896464707, 'lange': 6.517452896464707, 'largely': 6.922918004572872, 'laselva': 6.922918004572872, 'lassie': 6.922918004572872, 'last': 6.006627272698717, 'lasting': 6.922918004572872, 'latched': 6.922918004572872, 'late': 6.922918004572872, 'later': 6.922918004572872, 'latest': 6.922918004572872, 'latifa': 6.922918004572872, 'latin': 6.922918004572872, 'latter': 6.922918004572872, 'laugh': 6.517452896464707, 'laughable': 6.229770824012927, 'laughed': 6.922918004572872, 'laughs': 6.922918004572872, 'layers': 6.922918004572872, 'lazy': 6.517452896464707, 'lead': 5.824305715904762, 'leading': 6.922918004572872, 'leap': 6.922918004572872, 'learn': 6.229770824012927, 'least': 5.536623643452981, 'leave': 6.517452896464707, 'leaves': 6.517452896464707, 'leaving': 6.922918004572872, 'lee': 6.922918004572872, 'left': 6.229770824012927, 'legal': 6.922918004572872, 'legendary': 6.922918004572872, 'length': 6.517452896464707, 'leni': 6.922918004572872, 'less': 6.006627272698717, 'lesser': 6.517452896464707, 'lestat': 6.922918004572872, 'let': 5.824305715904762, 'lets': 6.922918004572872, 'letting': 6.922918004572872, 'level': 6.006627272698717, 'levels': 6.517452896464707, 'lewis': 6.922918004572872, 'lid': 6.922918004572872, 'lie': 6.922918004572872, 'lies': 6.922918004572872, 'lieutenant': 6.922918004572872, 'life': 5.05111582767128, 'lifetime': 6.922918004572872, 'light': 6.517452896464707, 'lighting': 6.517452896464707, 'like': 4.005147272488593, 'liked': 5.3134800921387715, 'likes': 6.517452896464707, 'lilli': 6.922918004572872, 'lilt': 6.922918004572872, 'limitations': 6.922918004572872, 'limited': 6.922918004572872, 'linda': 6.922918004572872, 'line': 5.536623643452981, 'linear': 6.922918004572872, 'lines': 5.536623643452981, 'lino': 6.922918004572872, 'lion': 6.229770824012927, 'list': 6.517452896464707, 'literally': 6.517452896464707, 'littered': 6.922918004572872, 'little': 4.725693427236653, 'lived': 6.922918004572872, 'lives': 6.517452896464707, 'living': 6.229770824012927, 'loads': 6.517452896464707, 'local': 6.922918004572872, 'location': 6.517452896464707, 'locations': 6.922918004572872, 'loewenhielm': 6.922918004572872, 'logic': 6.922918004572872, 'london': 6.922918004572872, 'loneliness': 6.517452896464707, 'long': 5.418840607796598, 'longer': 6.922918004572872, 'look': 4.620332911578826, 'looked': 6.006627272698717, 'looking': 6.229770824012927, 'looks': 6.229770824012927, 'loose': 6.922918004572872, 'loosely': 6.922918004572872, 'lord': 6.517452896464707, 'los': 6.517452896464707, 'losing': 6.517452896464707, 'lost': 6.006627272698717, 'lot': 5.536623643452981, 'lots': 6.229770824012927, 'lousy': 6.517452896464707, 'lovable': 6.922918004572872, 'love': 4.571542747409394, 'loved': 5.3134800921387715, 'lovely': 6.006627272698717, 'loves': 6.922918004572872, 'low': 5.824305715904762, 'lower': 6.922918004572872, 'loyalty': 6.922918004572872, 'lucio': 6.922918004572872, 'lucy': 6.517452896464707, 'lugosi': 6.922918004572872, 'lust': 6.922918004572872, 'luv': 6.922918004572872, 'lyrics': 6.922918004572872, 'macbeth': 6.517452896464707, 'machine': 6.517452896464707, 'mad': 6.517452896464707, 'made': 4.480570969203668, 'magnificent': 6.922918004572872, 'main': 6.229770824012927, 'mainly': 6.922918004572872, 'major': 6.922918004572872, 'make': 4.671626205966376, 'maker': 6.922918004572872, 'makers': 6.922918004572872, 'makes': 5.418840607796598, 'making': 5.670155036077504, 'male': 6.517452896464707, 'males': 6.922918004572872, 'malta': 6.922918004572872, 'man': 5.131158535344817, 'managed': 6.922918004572872, 'manages': 6.922918004572872, 'manna': 6.922918004572872, 'mansonites': 6.922918004572872, 'many': 4.908014984030608, 'marbles': 6.922918004572872, 'march': 6.922918004572872, 'marine': 6.922918004572872, 'marion': 6.922918004572872, 'mark': 6.517452896464707, 'marred': 6.922918004572872, 'marriage': 6.922918004572872, 'martin': 6.517452896464707, 'masculine': 6.922918004572872, 'masculinity': 6.922918004572872, 'massive': 6.922918004572872, 'master': 6.006627272698717, 'masterful': 6.517452896464707, 'masterpiece': 6.517452896464707, 'masterpieces': 6.517452896464707, 'material': 6.517452896464707, 'matrix': 6.922918004572872, 'matter': 6.517452896464707, 'matthews': 6.922918004572872, 'mature': 6.229770824012927, 'may': 6.229770824012927, 'maybe': 6.006627272698717, 'mchattie': 6.922918004572872, 'mclaglen': 6.922918004572872, 'meagre': 6.922918004572872, 'mean': 6.006627272698717, 'meanders': 6.922918004572872, 'meaning': 6.229770824012927, 'meanings': 6.922918004572872, 'meant': 6.922918004572872, 'medical': 6.922918004572872, 'mediocre': 6.006627272698717, 'meld': 6.922918004572872, 'melodrama': 6.922918004572872, 'melville': 6.922918004572872, 'member': 6.517452896464707, 'members': 6.922918004572872, 'memorable': 5.670155036077504, 'memories': 6.229770824012927, 'memorized': 6.922918004572872, 'menace': 6.922918004572872, 'menacing': 6.922918004572872, 'mention': 5.824305715904762, 'mercy': 6.517452896464707, 'meredith': 6.922918004572872, 'merit': 6.922918004572872, 'mesmerising': 6.922918004572872, 'mess': 5.536623643452981, 'messages': 6.922918004572872, 'meteorite': 6.922918004572872, 'mexican': 6.922918004572872, 'michael': 6.922918004572872, 'mickey': 6.006627272698717, 'microsoft': 6.922918004572872, 'middle': 6.922918004572872, 'might': 6.517452896464707, 'mighty': 6.922918004572872, 'mind': 5.824305715904762, 'mindblowing': 6.922918004572872, 'miner': 6.922918004572872, 'mini': 6.517452896464707, 'minor': 6.922918004572872, 'minute': 6.229770824012927, 'minutes': 5.418840607796598, 'mirrormask': 6.922918004572872, 'miserable': 6.922918004572872, 'miserably': 6.922918004572872, 'mishima': 6.517452896464707, 'misplace': 6.922918004572872, 'miss': 6.922918004572872, 'missed': 6.517452896464707, 'mistakes': 6.922918004572872, 'miyazaki': 6.229770824012927, 'modern': 6.517452896464707, 'modest': 6.922918004572872, 'mollusk': 6.922918004572872, 'moment': 6.229770824012927, 'moments': 6.517452896464707, 'momentum': 6.922918004572872, 'money': 5.824305715904762, 'monica': 6.922918004572872, 'monolog': 6.922918004572872, 'monotonous': 6.922918004572872, 'monster': 6.922918004572872, 'monstrous': 6.922918004572872, 'monumental': 6.922918004572872, 'moral': 6.517452896464707, 'morgan': 6.517452896464707, 'morons': 6.922918004572872, 'mostly': 5.670155036077504, 'mother': 6.517452896464707, 'motion': 6.922918004572872, 'motivations': 6.922918004572872, 'mountain': 6.922918004572872, 'mouse': 6.517452896464707, 'mouth': 6.517452896464707, 'move': 6.922918004572872, 'moved': 6.922918004572872, 'movements': 6.922918004572872, 'moves': 6.922918004572872, 'movie': 2.7182253851819063, 'movies': 4.480570969203668, 'moving': 6.006627272698717, 'ms': 6.922918004572872, 'much': 4.725693427236653, 'muddled': 6.922918004572872, 'muppets': 6.922918004572872, 'murder': 6.922918004572872, 'murdered': 6.517452896464707, 'murdering': 6.922918004572872, 'murky': 6.922918004572872, 'music': 4.908014984030608, 'musician': 6.922918004572872, 'must': 5.536623643452981, 'mystifying': 6.922918004572872, 'naked': 6.922918004572872, 'narration': 6.922918004572872, 'narrative': 6.229770824012927, 'nasty': 6.922918004572872, 'national': 6.922918004572872, 'nationalities': 6.922918004572872, 'native': 6.922918004572872, 'natural': 6.517452896464707, 'nature': 6.517452896464707, 'naughty': 6.922918004572872, 'nearly': 6.922918004572872, 'necklace': 6.922918004572872, 'need': 6.517452896464707, 'needed': 6.517452896464707, 'needlessly': 6.922918004572872, 'negative': 6.229770824012927, 'negulesco': 6.922918004572872, 'neighbour': 6.922918004572872, 'neil': 6.517452896464707, 'nerves': 6.922918004572872, 'nervous': 6.922918004572872, 'net': 6.922918004572872, 'netflix': 6.922918004572872, 'network': 6.922918004572872, 'never': 4.725693427236653, 'nevertheless': 6.922918004572872, 'nevsky': 6.922918004572872, 'new': 5.824305715904762, 'next': 6.229770824012927, 'nice': 5.670155036077504, 'nicola': 6.922918004572872, 'night': 5.824305715904762, 'nimoy': 6.922918004572872, 'nine': 6.922918004572872, 'no': 4.357968647111335, 'noble': 6.922918004572872, 'nobody': 6.229770824012927, 'noir': 6.517452896464707, 'non': 6.006627272698717, 'none': 6.517452896464707, 'nonetheless': 6.922918004572872, 'nonsense': 6.229770824012927, 'nor': 6.922918004572872, 'normally': 6.922918004572872, 'northern': 6.922918004572872, 'nostalgia': 6.922918004572872, 'not': 2.897566313837723, 'notable': 6.517452896464707, 'notch': 6.922918004572872, 'note': 6.229770824012927, 'noteworthy': 6.517452896464707, 'nothing': 5.131158535344817, 'novella': 6.922918004572872, 'number': 6.922918004572872, 'numbers': 6.922918004572872, 'nun': 6.922918004572872, 'nuns': 6.922918004572872, 'nurse': 6.922918004572872, 'nut': 6.517452896464707, 'nuts': 6.517452896464707, 'obliged': 6.922918004572872, 'obsessed': 6.922918004572872, 'obvious': 6.922918004572872, 'obviously': 6.229770824012927, 'occasionally': 6.006627272698717, 'occupied': 6.517452896464707, 'occur': 6.922918004572872, 'occurs': 6.922918004572872, 'odd': 6.517452896464707, 'offend': 6.922918004572872, 'offensive': 6.517452896464707, 'offer': 6.922918004572872, 'offers': 6.517452896464707, 'often': 6.006627272698717, 'oh': 5.824305715904762, 'okay': 6.922918004572872, 'old': 5.670155036077504, 'olde': 6.922918004572872, 'older': 6.922918004572872, 'ole': 6.922918004572872, 'olivia': 6.922918004572872, 'omit': 6.922918004572872, 'one': 3.573013917298267, 'ones': 6.922918004572872, 'open': 6.922918004572872, 'opened': 6.517452896464707, 'opening': 6.517452896464707, 'operas': 6.922918004572872, 'opinion': 6.922918004572872, 'ordeal': 6.922918004572872, 'oriented': 6.922918004572872, 'original': 6.006627272698717, 'originality': 6.922918004572872, 'origins': 6.922918004572872, 'ortolani': 6.922918004572872, 'oscar': 6.229770824012927, 'others': 6.922918004572872, 'otherwise': 6.922918004572872, 'ought': 6.922918004572872, 'outlandish': 6.922918004572872, 'outlets': 6.922918004572872, 'outside': 6.922918004572872, 'outward': 6.922918004572872, 'overacting': 6.517452896464707, 'overall': 5.824305715904762, 'overcome': 6.922918004572872, 'overdue': 6.922918004572872, 'overly': 6.517452896464707, 'overs': 6.922918004572872, 'overt': 6.922918004572872, 'overwrought': 6.922918004572872, 'owed': 6.922918004572872, 'owls': 6.922918004572872, 'owned': 6.922918004572872, 'owns': 6.922918004572872, 'oy': 6.922918004572872, 'pace': 6.922918004572872, 'paced': 6.229770824012927, 'pacing': 6.517452896464707, 'pack': 6.922918004572872, 'paid': 6.517452896464707, 'painful': 6.517452896464707, 'painfully': 6.922918004572872, 'paint': 6.922918004572872, 'painted': 6.922918004572872, 'pair': 6.922918004572872, 'palance': 6.922918004572872, 'pandering': 6.922918004572872, 'pans': 6.922918004572872, 'paolo': 6.922918004572872, 'pap': 6.922918004572872, 'paper': 6.922918004572872, 'par': 6.517452896464707, 'parents': 6.517452896464707, 'park': 6.922918004572872, 'parker': 6.922918004572872, 'part': 5.131158535344817, 'partaking': 6.922918004572872, 'particular': 6.229770824012927, 'particularly': 5.824305715904762, 'parts': 6.006627272698717, 'passed': 6.922918004572872, 'passion': 6.922918004572872, 'past': 6.517452896464707, 'patent': 6.922918004572872, 'pathetic': 6.006627272698717, 'patriotism': 6.922918004572872, 'paul': 6.229770824012927, 'pay': 6.922918004572872, 'peaking': 6.922918004572872, 'pearls': 6.922918004572872, 'peculiarity': 6.922918004572872, 'pedestal': 6.922918004572872, 'pencil': 6.922918004572872, 'people': 4.9770078555175585, 'perabo': 6.922918004572872, 'perfect': 5.670155036077504, 'perfected': 6.922918004572872, 'perfectly': 6.229770824012927, 'performance': 5.05111582767128, 'performances': 6.006627272698717, 'perhaps': 6.006627272698717, 'period': 6.006627272698717, 'perplexing': 6.922918004572872, 'person': 6.922918004572872, 'personalities': 6.922918004572872, 'personally': 6.922918004572872, 'peter': 6.517452896464707, 'pg': 6.922918004572872, 'phantasm': 6.922918004572872, 'phenomenal': 6.922918004572872, 'philippa': 6.922918004572872, 'phony': 6.922918004572872, 'photograph': 6.922918004572872, 'photography': 6.229770824012927, 'phrase': 6.922918004572872, 'physical': 6.922918004572872, 'pi': 6.922918004572872, 'picked': 6.922918004572872, 'picture': 6.229770824012927, 'pictures': 6.517452896464707, 'piece': 5.218169912334447, 'pieces': 6.517452896464707, 'pile': 6.922918004572872, 'pillow': 6.922918004572872, 'pitch': 6.922918004572872, 'pitiful': 6.517452896464707, 'pixar': 6.922918004572872, 'place': 6.006627272698717, 'places': 6.229770824012927, 'plain': 6.517452896464707, 'plane': 6.922918004572872, 'planned': 6.922918004572872, 'plants': 6.922918004572872, 'play': 5.3134800921387715, 'played': 5.218169912334447, 'player': 6.517452896464707, 'players': 6.922918004572872, 'playing': 5.536623643452981, 'plays': 6.229770824012927, 'pleasant': 6.922918004572872, 'pleased': 6.517452896464707, 'pleaser': 6.517452896464707, 'pleasing': 6.922918004572872, 'pledge': 6.922918004572872, 'plenty': 6.517452896464707, 'plmer': 6.922918004572872, 'plot': 4.357968647111335, 'plug': 6.922918004572872, 'plus': 6.229770824012927, 'pm': 6.922918004572872, 'poet': 6.922918004572872, 'poetry': 6.517452896464707, 'poignant': 6.922918004572872, 'point': 6.006627272698717, 'pointillistic': 6.922918004572872, 'pointless': 6.229770824012927, 'poised': 6.922918004572872, 'poler': 6.922918004572872, 'political': 6.922918004572872, 'politically': 6.922918004572872, 'politics': 6.922918004572872, 'ponyo': 6.922918004572872, 'poor': 5.670155036077504, 'poorly': 6.517452896464707, 'popcorn': 6.922918004572872, 'popular': 6.517452896464707, 'portrayal': 5.670155036077504, 'portrayals': 6.922918004572872, 'portrayed': 6.922918004572872, 'portraying': 6.517452896464707, 'positive': 6.922918004572872, 'possible': 6.229770824012927, 'possibly': 6.229770824012927, 'post': 6.922918004572872, 'potted': 6.922918004572872, 'power': 6.922918004572872, 'powerful': 6.922918004572872, 'powerhouse': 6.922918004572872, 'practical': 6.922918004572872, 'practically': 6.922918004572872, 'pray': 6.922918004572872, 'precisely': 6.922918004572872, 'predict': 6.922918004572872, 'predictable': 5.218169912334447, 'predictably': 6.517452896464707, 'prejudice': 6.922918004572872, 'prelude': 6.922918004572872, 'premise': 6.006627272698717, 'prepared': 6.922918004572872, 'presence': 6.517452896464707, 'presents': 6.229770824012927, 'preservation': 6.922918004572872, 'president': 6.922918004572872, 'pretentious': 6.229770824012927, 'pretext': 6.922918004572872, 'pretty': 4.9770078555175585, 'previous': 6.517452896464707, 'primal': 6.922918004572872, 'primary': 6.922918004572872, 'probably': 5.536623643452981, 'problem': 6.517452896464707, 'problems': 6.006627272698717, 'proceedings': 6.517452896464707, 'process': 6.517452896464707, 'produce': 6.922918004572872, 'produced': 6.229770824012927, 'producer': 6.922918004572872, 'producers': 6.922918004572872, 'product': 6.922918004572872, 'production': 5.824305715904762, 'professionals': 6.922918004572872, 'professor': 6.922918004572872, 'progresses': 6.922918004572872, 'promote': 6.922918004572872, 'prompted': 6.922918004572872, 'prone': 6.922918004572872, 'propaganda': 6.922918004572872, 'properly': 6.922918004572872, 'proud': 6.517452896464707, 'proudly': 6.922918004572872, 'provided': 6.922918004572872, 'provokes': 6.922918004572872, 'provoking': 6.229770824012927, 'ps': 6.922918004572872, 'pseudo': 6.922918004572872, 'psychological': 6.517452896464707, 'psychotic': 6.922918004572872, 'public': 6.922918004572872, 'pull': 6.517452896464707, 'pulling': 6.922918004572872, 'pulls': 6.922918004572872, 'punched': 6.922918004572872, 'punches': 6.922918004572872, 'punish': 6.922918004572872, 'punishment': 6.922918004572872, 'puppet': 6.922918004572872, 'puppets': 6.517452896464707, 'pure': 6.229770824012927, 'purity': 6.922918004572872, 'put': 5.824305715904762, 'putting': 6.517452896464707, 'puzzle': 6.922918004572872, 'pyromaniac': 6.922918004572872, 'qu': 6.922918004572872, 'quaid': 6.922918004572872, 'qualities': 6.922918004572872, 'quality': 6.229770824012927, 'question': 6.517452896464707, 'questioning': 6.922918004572872, 'quick': 6.922918004572872, 'quicker': 6.922918004572872, 'quiet': 6.922918004572872, 'quinn': 6.517452896464707, 'quite': 5.3134800921387715, 'race': 6.229770824012927, 'racial': 6.517452896464707, 'racism': 6.517452896464707, 'radiant': 6.922918004572872, 'raging': 6.922918004572872, 'random': 6.922918004572872, 'range': 6.922918004572872, 'ranks': 6.229770824012927, 'rare': 6.922918004572872, 'rate': 6.229770824012927, 'rated': 6.517452896464707, 'rather': 5.670155036077504, 'rating': 6.006627272698717, 'ratings': 6.517452896464707, 'raver': 6.922918004572872, 'raw': 6.922918004572872, 'ray': 6.517452896464707, 'reactions': 6.517452896464707, 'readers': 6.922918004572872, 'reading': 6.517452896464707, 'ready': 6.229770824012927, 'real': 4.571542747409394, 'realised': 6.922918004572872, 'realistic': 6.517452896464707, 'reality': 6.517452896464707, 'realize': 6.922918004572872, 'realized': 6.922918004572872, 'really': 4.089704660516656, 'reason': 6.229770824012927, 'reasonable': 6.922918004572872, 'reasons': 6.922918004572872, 'receive': 6.922918004572872, 'received': 6.517452896464707, 'recent': 6.229770824012927, 'recently': 6.517452896464707, 'recommend': 5.05111582767128, 'recommended': 5.670155036077504, 'reconciliation': 6.922918004572872, 'recover': 6.922918004572872, 'recurring': 6.922918004572872, 'redeemed': 6.922918004572872, 'redeeming': 6.517452896464707, 'reenactments': 6.922918004572872, 'references': 6.517452896464707, 'reflected': 6.922918004572872, 'refreshing': 6.922918004572872, 'regardless': 6.922918004572872, 'regret': 6.517452896464707, 'regrettable': 6.922918004572872, 'regrettably': 6.922918004572872, 'rejection': 6.922918004572872, 'relate': 6.922918004572872, 'related': 6.922918004572872, 'relation': 6.922918004572872, 'relations': 6.517452896464707, 'relationship': 6.922918004572872, 'relationships': 6.517452896464707, 'relatively': 6.922918004572872, 'relaxing': 6.922918004572872, 'release': 6.922918004572872, 'released': 6.229770824012927, 'relief': 6.922918004572872, 'relying': 6.922918004572872, 'remaining': 6.517452896464707, 'remake': 6.229770824012927, 'remarkable': 6.922918004572872, 'remember': 6.229770824012927, 'reminded': 6.922918004572872, 'remotely': 6.517452896464707, 'removing': 6.922918004572872, 'rendering': 6.922918004572872, 'rendition': 6.922918004572872, 'renowned': 6.922918004572872, 'rent': 5.670155036077504, 'repair': 6.922918004572872, 'repeated': 6.922918004572872, 'repeating': 6.922918004572872, 'repeats': 6.922918004572872, 'repertory': 6.922918004572872, 'reporter': 6.922918004572872, 'represents': 6.922918004572872, 'require': 6.922918004572872, 'rescue': 6.922918004572872, 'researched': 6.922918004572872, 'resounding': 6.922918004572872, 'respecting': 6.922918004572872, 'rest': 6.006627272698717, 'restrained': 6.922918004572872, 'result': 6.517452896464707, 'results': 6.922918004572872, 'resume': 6.922918004572872, 'retarded': 6.922918004572872, 'retreat': 6.922918004572872, 'return': 6.517452896464707, 'revealing': 6.517452896464707, 'revenge': 6.922918004572872, 'revere': 6.922918004572872, 'reverse': 6.922918004572872, 'review': 6.517452896464707, 'reviewer': 6.517452896464707, 'reviewers': 6.922918004572872, 'reviews': 6.922918004572872, 'rice': 6.922918004572872, 'rickman': 6.922918004572872, 'ridiculous': 5.824305715904762, 'ridiculousness': 6.922918004572872, 'right': 5.05111582767128, 'riot': 6.922918004572872, 'rips': 6.922918004572872, 'rise': 6.922918004572872, 'rita': 6.922918004572872, 'rivalry': 6.922918004572872, 'riveted': 6.922918004572872, 'riz': 6.922918004572872, 'road': 6.922918004572872, 'robert': 6.517452896464707, 'robotic': 6.922918004572872, 'rochon': 6.922918004572872, 'rocked': 6.922918004572872, 'rocks': 6.922918004572872, 'roeg': 6.922918004572872, 'role': 6.006627272698717, 'roles': 6.006627272698717, 'roller': 6.922918004572872, 'rolls': 6.922918004572872, 'romantic': 6.922918004572872, 'room': 6.517452896464707, 'roosevelt': 6.922918004572872, 'roth': 6.922918004572872, 'rough': 6.922918004572872, 'round': 6.922918004572872, 'routine': 6.922918004572872, 'row': 6.922918004572872, 'rpg': 6.922918004572872, 'rpger': 6.922918004572872, 'rubbish': 6.922918004572872, 'rubin': 6.922918004572872, 'rumbles': 6.922918004572872, 'run': 6.517452896464707, 'running': 6.517452896464707, 'ruthless': 6.517452896464707, 'ryan': 6.922918004572872, 'ryans': 6.922918004572872, 'sabotages': 6.922918004572872, 'sack': 6.922918004572872, 'sacrifice': 6.922918004572872, 'sad': 6.922918004572872, 'said': 6.006627272698717, 'sake': 6.517452896464707, 'salesman': 6.922918004572872, 'sam': 6.922918004572872, 'sample': 6.922918004572872, 'sand': 6.517452896464707, 'sandra': 6.517452896464707, 'sappiest': 6.922918004572872, 'sarcophage': 6.922918004572872, 'sat': 6.922918004572872, 'satanic': 6.922918004572872, 'savalas': 6.922918004572872, 'savant': 6.922918004572872, 'save': 6.922918004572872, 'savor': 6.922918004572872, 'saw': 5.05111582767128, 'say': 5.131158535344817, 'says': 6.922918004572872, 'scale': 6.229770824012927, 'scamp': 6.922918004572872, 'scare': 6.922918004572872, 'scared': 6.229770824012927, 'scares': 6.922918004572872, 'scary': 6.517452896464707, 'scene': 5.131158535344817, 'scenery': 6.229770824012927, 'scenes': 4.782851841076601, 'schilling': 6.922918004572872, 'schizophrenic': 6.922918004572872, 'school': 6.922918004572872, 'schoolers': 6.922918004572872, 'schrader': 6.517452896464707, 'schultz': 6.922918004572872, 'sci': 6.517452896464707, 'science': 6.922918004572872, 'scientist': 6.922918004572872, 'score': 6.229770824012927, 'scot': 6.922918004572872, 'scream': 6.922918004572872, 'screamy': 6.922918004572872, 'screen': 5.3134800921387715, 'screened': 6.922918004572872, 'screenplay': 6.922918004572872, 'screenwriter': 6.229770824012927, 'scrimm': 6.922918004572872, 'script': 4.671626205966376, 'scripted': 6.922918004572872, 'scripting': 6.922918004572872, 'scripts': 6.922918004572872, 'sculpture': 6.922918004572872, 'sea': 6.229770824012927, 'seamless': 6.922918004572872, 'seamlessly': 6.922918004572872, 'sean': 6.922918004572872, 'season': 6.517452896464707, 'seat': 6.922918004572872, 'second': 5.670155036077504, 'secondary': 6.922918004572872, 'secondly': 6.922918004572872, 'see': 4.0325462466767075, 'seeing': 5.536623643452981, 'seem': 6.006627272698717, 'seemed': 6.229770824012927, 'seems': 6.229770824012927, 'seen': 4.480570969203668, 'selections': 6.922918004572872, 'self': 5.670155036077504, 'sells': 6.922918004572872, 'semi': 6.922918004572872, 'senior': 6.922918004572872, 'sense': 6.517452896464707, 'senses': 6.517452896464707, 'sensibility': 6.922918004572872, 'sensitivities': 6.922918004572872, 'sentiment': 6.517452896464707, 'seperate': 6.922918004572872, 'sequel': 6.517452896464707, 'sequels': 6.922918004572872, 'sequence': 6.517452896464707, 'sequences': 6.922918004572872, 'series': 5.418840607796598, 'serious': 6.006627272698717, 'seriously': 6.229770824012927, 'served': 6.922918004572872, 'set': 6.229770824012927, 'sets': 6.006627272698717, 'setting': 6.517452896464707, 'settings': 6.922918004572872, 'seuss': 6.922918004572872, 'several': 6.517452896464707, 'sex': 6.922918004572872, 'shakespear': 6.922918004572872, 'shakespears': 6.922918004572872, 'shallow': 6.922918004572872, 'shame': 6.517452896464707, 'shameful': 6.922918004572872, 'share': 6.229770824012927, 'sharing': 6.922918004572872, 'sharply': 6.922918004572872, 'shatner': 6.922918004572872, 'shattered': 6.922918004572872, 'shed': 6.517452896464707, 'sheer': 6.922918004572872, 'shelf': 6.922918004572872, 'shell': 6.922918004572872, 'shelves': 6.922918004572872, 'shenanigans': 6.922918004572872, 'shepard': 6.922918004572872, 'shined': 6.922918004572872, 'shirley': 6.922918004572872, 'shocking': 6.922918004572872, 'shooting': 6.922918004572872, 'short': 5.131158535344817, 'shortlist': 6.922918004572872, 'shot': 5.824305715904762, 'shots': 6.229770824012927, 'show': 4.782851841076601, 'showcasing': 6.922918004572872, 'showed': 6.229770824012927, 'shows': 6.229770824012927, 'shut': 6.922918004572872, 'sibling': 6.922918004572872, 'sick': 6.517452896464707, 'side': 6.922918004572872, 'sidelined': 6.922918004572872, 'sign': 6.922918004572872, 'significant': 6.517452896464707, 'silent': 6.229770824012927, 'silly': 6.922918004572872, 'simmering': 6.922918004572872, 'simplifying': 6.922918004572872, 'simply': 5.418840607796598, 'since': 5.824305715904762, 'sincere': 6.922918004572872, 'sing': 6.922918004572872, 'singing': 6.229770824012927, 'single': 5.824305715904762, 'sinister': 6.922918004572872, 'sink': 6.922918004572872, 'sinking': 6.922918004572872, 'sister': 6.922918004572872, 'sisters': 6.517452896464707, 'sit': 6.922918004572872, 'sitcoms': 6.922918004572872, 'site': 6.922918004572872, 'sites': 6.922918004572872, 'sits': 6.922918004572872, 'situation': 6.517452896464707, 'situations': 6.922918004572872, 'skilled': 6.922918004572872, 'skip': 6.922918004572872, 'slackers': 6.922918004572872, 'slavic': 6.922918004572872, 'sleep': 6.517452896464707, 'slideshow': 6.922918004572872, 'slightest': 6.517452896464707, 'slightly': 6.922918004572872, 'slimy': 6.922918004572872, 'sloppy': 6.922918004572872, 'slow': 5.670155036077504, 'slurs': 6.922918004572872, 'smack': 6.922918004572872, 'small': 6.006627272698717, 'smart': 6.229770824012927, 'smells': 6.922918004572872, 'smile': 6.517452896464707, 'smiling': 6.922918004572872, 'smith': 6.922918004572872, 'smoothly': 6.922918004572872, 'snider': 6.922918004572872, 'snow': 6.922918004572872, 'soap': 6.922918004572872, 'sobering': 6.922918004572872, 'social': 6.922918004572872, 'soldiers': 6.922918004572872, 'sole': 6.922918004572872, 'solid': 5.824305715904762, 'solidifying': 6.922918004572872, 'solving': 6.922918004572872, 'someone': 6.229770824012927, 'something': 6.006627272698717, 'sometimes': 6.006627272698717, 'somewhat': 6.517452896464707, 'son': 6.517452896464707, 'song': 6.229770824012927, 'songs': 6.006627272698717, 'soon': 6.922918004572872, 'sophisticated': 6.922918004572872, 'sorrentino': 6.922918004572872, 'sorry': 6.922918004572872, 'sort': 6.229770824012927, 'soul': 6.517452896464707, 'sound': 5.670155036077504, 'sounded': 6.922918004572872, 'sounds': 6.922918004572872, 'soundtrack': 6.006627272698717, 'sour': 6.922918004572872, 'south': 6.229770824012927, 'southern': 6.922918004572872, 'space': 6.229770824012927, 'spacek': 6.922918004572872, 'spacey': 6.922918004572872, 'span': 6.922918004572872, 'speak': 6.229770824012927, 'speaking': 6.922918004572872, 'special': 5.418840607796598, 'speed': 6.517452896464707, 'spend': 6.922918004572872, 'spent': 6.229770824012927, 'spew': 6.922918004572872, 'sphere': 6.922918004572872, 'spiffy': 6.922918004572872, 'splendid': 6.922918004572872, 'spock': 6.922918004572872, 'spoil': 6.922918004572872, 'spoiled': 6.922918004572872, 'spoiler': 6.517452896464707, 'spoilers': 6.229770824012927, 'spot': 6.922918004572872, 'spy': 6.922918004572872, 'squibs': 6.922918004572872, 'stable': 6.922918004572872, 'stage': 6.517452896464707, 'stagy': 6.922918004572872, 'stand': 6.517452896464707, 'standout': 6.922918004572872, 'stanwyck': 6.229770824012927, 'star': 6.006627272698717, 'starlet': 6.922918004572872, 'starring': 6.922918004572872, 'stars': 6.229770824012927, 'start': 6.517452896464707, 'started': 5.824305715904762, 'starts': 6.922918004572872, 'state': 6.922918004572872, 'stay': 6.517452896464707, 'stayed': 6.922918004572872, 'stealing': 6.922918004572872, 'steamboat': 6.922918004572872, 'steele': 6.922918004572872, 'step': 6.517452896464707, 'stephen': 6.922918004572872, 'stereotypes': 6.517452896464707, 'stereotypically': 6.922918004572872, 'steve': 6.517452896464707, 'stewart': 6.922918004572872, 'stick': 6.922918004572872, 'still': 4.908014984030608, 'stinker': 6.922918004572872, 'stinks': 6.922918004572872, 'stocking': 6.922918004572872, 'stockings': 6.922918004572872, 'stoic': 6.922918004572872, 'store': 6.517452896464707, 'stories': 6.006627272698717, 'storm': 6.922918004572872, 'story': 4.571542747409394, 'storyline': 6.006627272698717, 'storytelling': 6.922918004572872, 'stowe': 6.922918004572872, 'strange': 6.922918004572872, 'stranger': 6.922918004572872, 'stratus': 6.922918004572872, 'straw': 6.922918004572872, 'street': 6.922918004572872, 'strident': 6.922918004572872, 'string': 6.922918004572872, 'strives': 6.922918004572872, 'strokes': 6.922918004572872, 'strong': 5.824305715904762, 'struck': 6.922918004572872, 'structure': 6.922918004572872, 'struggle': 6.922918004572872, 'stuart': 6.922918004572872, 'student': 6.922918004572872, 'students': 6.922918004572872, 'studio': 6.517452896464707, 'study': 6.922918004572872, 'stuff': 6.922918004572872, 'stunning': 6.517452896464707, 'stupid': 4.9770078555175585, 'stupidity': 6.922918004572872, 'style': 5.670155036077504, 'stylized': 6.922918004572872, 'sub': 6.229770824012927, 'subject': 6.922918004572872, 'subjects': 6.922918004572872, 'sublime': 6.517452896464707, 'sublimely': 6.922918004572872, 'subplots': 6.922918004572872, 'subtitles': 6.922918004572872, 'subtle': 5.670155036077504, 'subversive': 6.922918004572872, 'subverting': 6.922918004572872, 'succeeded': 6.922918004572872, 'succeeds': 6.922918004572872, 'success': 6.922918004572872, 'suck': 6.922918004572872, 'sucked': 6.229770824012927, 'sucks': 6.922918004572872, 'suffered': 6.922918004572872, 'suffering': 6.517452896464707, 'suggest': 6.922918004572872, 'suggests': 6.922918004572872, 'suited': 6.922918004572872, 'sum': 6.517452896464707, 'summary': 6.517452896464707, 'sundays': 6.922918004572872, 'super': 6.229770824012927, 'superb': 5.824305715904762, 'superbad': 6.922918004572872, 'superbly': 6.517452896464707, 'superficial': 6.922918004572872, 'superlative': 6.922918004572872, 'supernatural': 6.922918004572872, 'supporting': 6.922918004572872, 'supposed': 6.517452896464707, 'supposedly': 6.517452896464707, 'sure': 6.229770824012927, 'surely': 6.922918004572872, 'surf': 6.922918004572872, 'surface': 6.922918004572872, 'surprised': 6.922918004572872, 'surprises': 6.922918004572872, 'surprising': 6.517452896464707, 'surprisingly': 6.229770824012927, 'surrounding': 6.517452896464707, 'surroundings': 6.922918004572872, 'survivors': 6.922918004572872, 'suspense': 5.418840607796598, 'suspension': 6.922918004572872, 'sven': 6.922918004572872, 'swamp': 6.922918004572872, 'sweep': 6.922918004572872, 'sweet': 6.922918004572872, 'switched': 6.922918004572872, 'swords': 6.922918004572872, 'sydney': 6.922918004572872, 'sympathetic': 6.922918004572872, 'syrupy': 6.922918004572872, 'system': 6.922918004572872, 'tacky': 6.922918004572872, 'taelons': 6.922918004572872, 'take': 5.670155036077504, 'taken': 6.922918004572872, 'takes': 6.517452896464707, 'taking': 6.517452896464707, 'tale': 6.006627272698717, 'talent': 6.517452896464707, 'talented': 6.229770824012927, 'talents': 6.922918004572872, 'talk': 5.824305715904762, 'tanks': 6.922918004572872, 'taped': 6.517452896464707, 'tardis': 6.922918004572872, 'task': 6.922918004572872, 'taste': 6.922918004572872, 'taxidermists': 6.922918004572872, 'taylor': 6.517452896464707, 'teacher': 6.922918004572872, 'teaches': 6.922918004572872, 'team': 6.922918004572872, 'tear': 6.922918004572872, 'tears': 6.922918004572872, 'technically': 6.922918004572872, 'teddy': 6.922918004572872, 'tedium': 6.922918004572872, 'teen': 6.922918004572872, 'teenagers': 6.922918004572872, 'teeth': 6.922918004572872, 'telephone': 6.922918004572872, 'television': 6.922918004572872, 'tell': 6.006627272698717, 'telly': 6.922918004572872, 'temperaments': 6.922918004572872, 'ten': 6.517452896464707, 'tender': 6.922918004572872, 'tension': 6.517452896464707, 'tensions': 6.922918004572872, 'terminology': 6.922918004572872, 'terms': 6.517452896464707, 'terrible': 5.218169912334447, 'terribly': 6.517452896464707, 'terrific': 6.006627272698717, 'terror': 6.922918004572872, 'th': 6.922918004572872, 'thanks': 6.922918004572872, 'theater': 6.006627272698717, 'theatre': 6.922918004572872, 'theatres': 6.922918004572872, 'theatrical': 6.922918004572872, 'theme': 6.517452896464707, 'themes': 6.517452896464707, 'therapy': 6.922918004572872, 'thick': 6.922918004572872, 'thing': 5.131158535344817, 'things': 5.05111582767128, 'think': 4.671626205966376, 'thinking': 6.229770824012927, 'thomerson': 6.922918004572872, 'thoroughly': 6.229770824012927, 'thorsen': 6.922918004572872, 'though': 5.131158535344817, 'thought': 5.05111582767128, 'thoughts': 6.517452896464707, 'thousand': 6.922918004572872, 'thread': 6.922918004572872, 'three': 6.922918004572872, 'threshold': 6.922918004572872, 'thrilled': 6.517452896464707, 'thriller': 6.229770824012927, 'thrillers': 6.922918004572872, 'throughout': 5.670155036077504, 'throwback': 6.922918004572872, 'thrown': 6.229770824012927, 'thug': 6.922918004572872, 'thumper': 6.922918004572872, 'thunderbirds': 6.922918004572872, 'thus': 6.922918004572872, 'ticker': 6.922918004572872, 'tickets': 6.922918004572872, 'tightly': 6.922918004572872, 'time': 3.9525035390031706, 'timeless': 6.922918004572872, 'timely': 6.922918004572872, 'timers': 6.922918004572872, 'times': 5.824305715904762, 'timing': 6.922918004572872, 'tiny': 6.922918004572872, 'tired': 6.922918004572872, 'title': 6.922918004572872, 'titta': 6.922918004572872, 'today': 6.006627272698717, 'together': 5.536623643452981, 'told': 6.229770824012927, 'tolerable': 6.922918004572872, 'tolerate': 6.922918004572872, 'tom': 5.824305715904762, 'tomorrow': 6.922918004572872, 'tone': 6.922918004572872, 'tongue': 6.922918004572872, 'tonight': 6.922918004572872, 'tons': 6.922918004572872, 'tony': 6.922918004572872, 'took': 6.517452896464707, 'toons': 6.922918004572872, 'top': 5.536623643452981, 'tops': 6.922918004572872, 'torture': 6.006627272698717, 'tortured': 6.922918004572872, 'total': 6.922918004572872, 'totally': 5.05111582767128, 'touch': 6.922918004572872, 'touches': 6.922918004572872, 'touching': 6.229770824012927, 'tough': 6.922918004572872, 'towards': 6.517452896464707, 'towers': 6.922918004572872, 'townsend': 6.922918004572872, 'track': 6.922918004572872, 'tract': 6.922918004572872, 'traditional': 6.922918004572872, 'traffic': 6.922918004572872, 'trailer': 6.922918004572872, 'train': 6.922918004572872, 'tranquillity': 6.922918004572872, 'transcend': 6.922918004572872, 'transfers': 6.922918004572872, 'translate': 6.922918004572872, 'translating': 6.922918004572872, 'trap': 6.922918004572872, 'trash': 6.006627272698717, 'trashy': 6.922918004572872, 'treachery': 6.922918004572872, 'treasure': 6.922918004572872, 'treat': 6.922918004572872, 'treatments': 6.922918004572872, 'trek': 6.922918004572872, 'tremendous': 6.922918004572872, 'tremendously': 6.517452896464707, 'tries': 6.922918004572872, 'trilogy': 6.922918004572872, 'trinity': 6.922918004572872, 'trip': 6.922918004572872, 'triumphed': 6.922918004572872, 'trond': 6.922918004572872, 'trooper': 6.922918004572872, 'trouble': 6.922918004572872, 'truck': 6.922918004572872, 'true': 6.006627272698717, 'truly': 5.418840607796598, 'trumbull': 6.922918004572872, 'trumpeter': 6.922918004572872, 'truth': 6.922918004572872, 'try': 6.229770824012927, 'trying': 6.006627272698717, 'trysts': 6.922918004572872, 'tsunami': 6.922918004572872, 'tuneful': 6.922918004572872, 'turkey': 6.922918004572872, 'turn': 6.229770824012927, 'turned': 6.517452896464707, 'turns': 6.517452896464707, 'tv': 5.536623643452981, 'twice': 6.517452896464707, 'twirling': 6.922918004572872, 'twist': 6.517452896464707, 'twists': 6.922918004572872, 'two': 5.3134800921387715, 'tying': 6.922918004572872, 'type': 6.517452896464707, 'typical': 6.922918004572872, 'ue': 6.922918004572872, 'ugliest': 6.922918004572872, 'ugly': 6.922918004572872, 'uhura': 6.922918004572872, 'ultra': 6.922918004572872, 'um': 6.922918004572872, 'unaccompanied': 6.922918004572872, 'unbearable': 6.922918004572872, 'unbearably': 6.922918004572872, 'unbelievable': 6.006627272698717, 'uncalled': 6.922918004572872, 'unconditional': 6.922918004572872, 'unconvincing': 6.229770824012927, 'underacting': 6.922918004572872, 'underappreciated': 6.922918004572872, 'underbite': 6.922918004572872, 'underlines': 6.922918004572872, 'underlying': 6.517452896464707, 'underneath': 6.517452896464707, 'underrated': 6.922918004572872, 'understand': 5.3134800921387715, 'understanding': 6.922918004572872, 'understated': 6.517452896464707, 'understatement': 6.922918004572872, 'understood': 6.922918004572872, 'undertone': 6.922918004572872, 'underwater': 6.922918004572872, 'undoubtedly': 6.517452896464707, 'uneasy': 6.922918004572872, 'unemployed': 6.922918004572872, 'unethical': 6.922918004572872, 'unfaithful': 6.922918004572872, 'unfolds': 6.517452896464707, 'unforgettable': 6.922918004572872, 'unfortunate': 6.922918004572872, 'unfortunately': 6.006627272698717, 'unfunny': 6.517452896464707, 'unintentionally': 6.922918004572872, 'uninteresting': 6.517452896464707, 'union': 6.922918004572872, 'unique': 6.922918004572872, 'uniqueness': 6.922918004572872, 'universal': 6.922918004572872, 'universe': 6.922918004572872, 'unless': 6.922918004572872, 'unlockable': 6.922918004572872, 'unmatched': 6.922918004572872, 'unmitigated': 6.922918004572872, 'unmoving': 6.922918004572872, 'unnecessary': 6.922918004572872, 'unneeded': 6.922918004572872, 'unoriginal': 6.922918004572872, 'unpleasant': 6.922918004572872, 'unpredictability': 6.922918004572872, 'unpredictable': 6.517452896464707, 'unrealistic': 6.922918004572872, 'unrecognizable': 6.517452896464707, 'unrecommended': 6.922918004572872, 'unremarkable': 6.922918004572872, 'unrestrained': 6.922918004572872, 'unsatisfactory': 6.922918004572872, 'unwatchable': 6.922918004572872, 'upa': 6.922918004572872, 'uplifting': 6.517452896464707, 'upper': 6.922918004572872, 'ups': 6.006627272698717, 'uptight': 6.922918004572872, 'ursula': 6.922918004572872, 'us': 6.006627272698717, 'use': 5.670155036077504, 'used': 5.536623643452981, 'user': 6.922918004572872, 'uses': 6.517452896464707, 'using': 6.922918004572872, 'ussr': 6.922918004572872, 'usual': 6.006627272698717, 'utter': 6.922918004572872, 'utterly': 6.006627272698717, 'valentine': 6.922918004572872, 'value': 6.922918004572872, 'values': 6.229770824012927, 'vampire': 6.922918004572872, 'vandiver': 6.922918004572872, 'variation': 6.922918004572872, 'vehicles': 6.922918004572872, 'ventura': 6.922918004572872, 'verbal': 6.922918004572872, 'verbatim': 6.922918004572872, 'versatile': 6.922918004572872, 'version': 6.922918004572872, 'versus': 6.922918004572872, 'vessel': 6.922918004572872, 'veteran': 6.922918004572872, 'vey': 6.922918004572872, 'vibe': 6.922918004572872, 'victor': 6.922918004572872, 'video': 6.517452896464707, 'view': 6.922918004572872, 'viewer': 6.922918004572872, 'viewing': 6.517452896464707, 'views': 6.922918004572872, 'villain': 6.922918004572872, 'villains': 6.922918004572872, 'violence': 6.922918004572872, 'violin': 6.922918004572872, 'virtue': 6.922918004572872, 'virus': 6.922918004572872, 'vision': 6.922918004572872, 'visual': 6.006627272698717, 'visually': 6.517452896464707, 'vitally': 6.922918004572872, 'vivian': 6.922918004572872, 'vivid': 6.922918004572872, 'vocal': 6.922918004572872, 'voice': 6.517452896464707, 'volatile': 6.922918004572872, 'volcano': 6.517452896464707, 'vomit': 6.517452896464707, 'vomited': 6.922918004572872, 'voyage': 6.922918004572872, 'vulcan': 6.922918004572872, 'waiting': 6.922918004572872, 'waitress': 6.922918004572872, 'walk': 6.922918004572872, 'walked': 6.517452896464707, 'wall': 6.517452896464707, 'want': 5.670155036077504, 'wanted': 6.517452896464707, 'wanting': 6.922918004572872, 'wants': 6.922918004572872, 'war': 6.229770824012927, 'warmth': 6.517452896464707, 'warn': 6.922918004572872, 'warning': 6.922918004572872, 'wartime': 6.922918004572872, 'warts': 6.922918004572872, 'washed': 6.922918004572872, 'washing': 6.922918004572872, 'waste': 4.9770078555175585, 'wasted': 5.824305715904762, 'waster': 6.922918004572872, 'wasting': 6.922918004572872, 'watch': 4.725693427236653, 'watchable': 6.517452896464707, 'watched': 5.418840607796598, 'watching': 4.671626205966376, 'water': 6.922918004572872, 'watkins': 6.517452896464707, 'watson': 6.517452896464707, 'wave': 6.922918004572872, 'way': 4.525022731774501, 'waylaid': 6.922918004572872, 'wayne': 6.922918004572872, 'ways': 6.517452896464707, 'wb': 6.922918004572872, 'weak': 6.517452896464707, 'weaker': 6.922918004572872, 'weariness': 6.922918004572872, 'weaving': 6.922918004572872, 'website': 6.922918004572872, 'wedding': 6.922918004572872, 'weight': 6.922918004572872, 'weird': 6.517452896464707, 'well': 4.119557623666337, 'welsh': 6.922918004572872, 'went': 6.922918004572872, 'whatever': 5.670155036077504, 'whatsoever': 6.229770824012927, 'whenever': 6.922918004572872, 'whether': 6.229770824012927, 'whine': 6.922918004572872, 'whiny': 6.517452896464707, 'white': 5.418840607796598, 'whites': 6.922918004572872, 'whoever': 6.922918004572872, 'whole': 5.670155036077504, 'wholesome': 6.517452896464707, 'wide': 6.922918004572872, 'widmark': 6.922918004572872, 'wife': 6.922918004572872, 'wih': 6.922918004572872, 'wild': 6.922918004572872, 'wilkinson': 6.229770824012927, 'william': 6.922918004572872, 'willie': 6.922918004572872, 'wily': 6.922918004572872, 'win': 6.922918004572872, 'wind': 6.229770824012927, 'wise': 6.922918004572872, 'wish': 6.229770824012927, 'within': 6.922918004572872, 'without': 6.006627272698717, 'witticisms': 6.922918004572872, 'witty': 6.517452896464707, 'woa': 6.922918004572872, 'women': 6.229770824012927, 'wonder': 6.517452896464707, 'wondered': 6.922918004572872, 'wonderful': 4.671626205966376, 'wonderfully': 6.229770824012927, 'wong': 6.922918004572872, 'wont': 6.922918004572872, 'woo': 6.922918004572872, 'wooden': 6.517452896464707, 'word': 5.824305715904762, 'words': 6.229770824012927, 'work': 4.671626205966376, 'worked': 6.922918004572872, 'working': 6.517452896464707, 'works': 5.824305715904762, 'world': 5.824305715904762, 'worry': 6.922918004572872, 'worse': 5.218169912334447, 'worst': 5.218169912334447, 'worth': 4.9770078555175585, 'worthless': 6.922918004572872, 'worthwhile': 6.922918004572872, 'worthy': 6.922918004572872, 'would': 4.283860674957613, 'wouldnt': 6.922918004572872, 'woven': 6.922918004572872, 'wow': 6.922918004572872, 'wrap': 6.922918004572872, 'write': 6.517452896464707, 'writer': 6.229770824012927, 'writers': 6.922918004572872, 'writing': 4.9770078555175585, 'written': 5.536623643452981, 'wrong': 6.229770824012927, 'wrote': 6.922918004572872, 'yardley': 6.922918004572872, 'yawn': 6.922918004572872, 'yeah': 6.517452896464707, 'year': 6.229770824012927, 'years': 5.05111582767128, 'yelps': 6.922918004572872, 'yes': 6.229770824012927, 'yet': 5.824305715904762, 'young': 6.006627272698717, 'younger': 6.922918004572872, 'youthful': 6.922918004572872, 'youtube': 6.922918004572872, 'yun': 6.922918004572872, 'zillion': 6.922918004572872, 'zombie': 6.517452896464707, 'zombiez': 6.922918004572872}\n",
            "{'aailiyah': 6.922918004572872, 'abandoned': 6.922918004572872, 'abroad': 6.922918004572872, 'abstruse': 6.922918004572872, 'academy': 6.922918004572872, 'accents': 6.922918004572872, 'accessible': 6.922918004572872, 'acclaimed': 6.922918004572872, 'accolades': 6.922918004572872, 'accurate': 6.922918004572872, 'accurately': 6.922918004572872, 'achille': 6.922918004572872, 'ackerman': 6.922918004572872, 'actions': 6.922918004572872, 'adams': 6.922918004572872, 'add': 6.922918004572872, 'added': 6.922918004572872, 'admins': 6.922918004572872, 'admiration': 6.922918004572872, 'admitted': 6.922918004572872, 'adrift': 6.922918004572872, 'adventure': 6.922918004572872, 'aesthetically': 6.922918004572872, 'affected': 6.922918004572872, 'affleck': 6.922918004572872, 'afternoon': 6.922918004572872, 'aged': 6.922918004572872, 'ages': 6.922918004572872, 'agree': 6.922918004572872, 'agreed': 6.922918004572872, 'aimless': 6.922918004572872, 'aired': 6.922918004572872, 'akasha': 6.922918004572872, 'akin': 6.922918004572872, 'alert': 6.922918004572872, 'alike': 6.922918004572872, 'allison': 6.922918004572872, 'allow': 6.922918004572872, 'allowing': 6.922918004572872, 'alongside': 6.922918004572872, 'amateurish': 6.922918004572872, 'amaze': 6.922918004572872, 'amazed': 6.922918004572872, 'amazingly': 6.922918004572872, 'amusing': 6.922918004572872, 'amust': 6.922918004572872, 'anatomist': 6.922918004572872, 'angel': 6.922918004572872, 'angela': 6.922918004572872, 'angelina': 6.922918004572872, 'angle': 6.922918004572872, 'angry': 6.922918004572872, 'anguish': 6.922918004572872, 'angus': 6.922918004572872, 'animals': 6.922918004572872, 'animated': 6.922918004572872, 'anita': 6.922918004572872, 'ann': 6.922918004572872, 'anniversary': 6.922918004572872, 'anthony': 6.922918004572872, 'antithesis': 6.922918004572872, 'anyway': 6.922918004572872, 'apart': 6.922918004572872, 'appears': 6.922918004572872, 'applauded': 6.922918004572872, 'applause': 6.922918004572872, 'appropriate': 6.922918004572872, 'apt': 6.922918004572872, 'argued': 6.922918004572872, 'armageddon': 6.922918004572872, 'armand': 6.922918004572872, 'array': 6.922918004572872, 'articulated': 6.922918004572872, 'artiness': 6.922918004572872, 'artistic': 6.922918004572872, 'artless': 6.922918004572872, 'arts': 6.922918004572872, 'aspects': 6.922918004572872, 'assante': 6.922918004572872, 'assaulted': 6.922918004572872, 'assistant': 6.922918004572872, 'astonishingly': 6.922918004572872, 'astronaut': 6.922918004572872, 'atmosphere': 6.922918004572872, 'atrocious': 6.922918004572872, 'atrocity': 6.922918004572872, 'attempted': 6.922918004572872, 'attempting': 6.922918004572872, 'attractive': 6.922918004572872, 'audio': 6.922918004572872, 'aurv': 6.922918004572872, 'austen': 6.922918004572872, 'austere': 6.922918004572872, 'author': 6.922918004572872, 'aversion': 6.922918004572872, 'avoided': 6.922918004572872, 'award': 6.922918004572872, 'awarded': 6.922918004572872, 'awards': 6.922918004572872, 'awkwardly': 6.922918004572872, 'aye': 6.922918004572872, 'baaaaaad': 6.922918004572872, 'babbling': 6.922918004572872, 'babie': 6.922918004572872, 'baby': 6.922918004572872, 'babysitting': 6.922918004572872, 'backdrop': 6.922918004572872, 'backed': 6.922918004572872, 'bag': 6.922918004572872, 'bailey': 6.922918004572872, 'bakery': 6.922918004572872, 'ball': 6.922918004572872, 'ballet': 6.922918004572872, 'balls': 6.922918004572872, 'band': 6.922918004572872, 'barcelona': 6.922918004572872, 'barking': 6.922918004572872, 'barney': 6.922918004572872, 'barren': 6.922918004572872, 'based': 6.922918004572872, 'basic': 6.922918004572872, 'bat': 6.922918004572872, 'bates': 6.922918004572872, 'baxendale': 6.922918004572872, 'bec': 6.922918004572872, 'bechard': 6.922918004572872, 'becomes': 6.922918004572872, 'behind': 6.922918004572872, 'behold': 6.922918004572872, 'bela': 6.922918004572872, 'believed': 6.922918004572872, 'bell': 6.922918004572872, 'bellucci': 6.922918004572872, 'belly': 6.922918004572872, 'belmondo': 6.922918004572872, 'ben': 6.922918004572872, 'bendingly': 6.922918004572872, 'bennett': 6.922918004572872, 'bergen': 6.922918004572872, 'bertolucci': 6.922918004572872, 'beware': 6.922918004572872, 'bible': 6.922918004572872, 'biggest': 6.922918004572872, 'biographical': 6.922918004572872, 'bipolarity': 6.922918004572872, 'bitchy': 6.922918004572872, 'blah': 6.922918004572872, 'blake': 6.922918004572872, 'bland': 6.922918004572872, 'blandly': 6.922918004572872, 'blare': 6.922918004572872, 'blatant': 6.922918004572872, 'blew': 6.922918004572872, 'blown': 6.922918004572872, 'blue': 6.922918004572872, 'blush': 6.922918004572872, 'boasts': 6.922918004572872, 'bob': 6.922918004572872, 'body': 6.922918004572872, 'bohemian': 6.922918004572872, 'boiling': 6.922918004572872, 'bombardments': 6.922918004572872, 'bond': 6.922918004572872, 'bonding': 6.922918004572872, 'bonus': 6.922918004572872, 'bonuses': 6.922918004572872, 'boobs': 6.922918004572872, 'boogeyman': 6.922918004572872, 'boost': 6.922918004572872, 'bop': 6.922918004572872, 'bordered': 6.922918004572872, 'borderlines': 6.922918004572872, 'borders': 6.922918004572872, 'borrowed': 6.922918004572872, 'boss': 6.922918004572872, 'bothersome': 6.922918004572872, 'box': 6.922918004572872, 'boyfriend': 6.922918004572872, 'boyle': 6.922918004572872, 'brainsucking': 6.922918004572872, 'brat': 6.922918004572872, 'breaking': 6.922918004572872, 'breeders': 6.922918004572872, 'brevity': 6.922918004572872, 'brigand': 6.922918004572872, 'bright': 6.922918004572872, 'brilliantly': 6.922918004572872, 'brings': 6.922918004572872, 'broad': 6.922918004572872, 'broke': 6.922918004572872, 'brooding': 6.922918004572872, 'brother': 6.922918004572872, 'brutal': 6.922918004572872, 'buddy': 6.922918004572872, 'buffalo': 6.922918004572872, 'buffet': 6.922918004572872, 'build': 6.922918004572872, 'builders': 6.922918004572872, 'buildings': 6.922918004572872, 'built': 6.922918004572872, 'bully': 6.922918004572872, 'burton': 6.922918004572872, 'cable': 6.922918004572872, 'cailles': 6.922918004572872, 'california': 6.922918004572872, 'calls': 6.922918004572872, 'cameo': 6.922918004572872, 'camerawork': 6.922918004572872, 'camp': 6.922918004572872, 'campy': 6.922918004572872, 'cancan': 6.922918004572872, 'candace': 6.922918004572872, 'candle': 6.922918004572872, 'cant': 6.922918004572872, 'captain': 6.922918004572872, 'captured': 6.922918004572872, 'captures': 6.922918004572872, 'car': 6.922918004572872, 'card': 6.922918004572872, 'cardellini': 6.922918004572872, 'carol': 6.922918004572872, 'carrell': 6.922918004572872, 'carries': 6.922918004572872, 'carry': 6.922918004572872, 'cars': 6.922918004572872, 'cases': 6.922918004572872, 'casted': 6.922918004572872, 'cat': 6.922918004572872, 'catchy': 6.922918004572872, 'caught': 6.922918004572872, 'celebration': 6.922918004572872, 'celebrity': 6.922918004572872, 'celluloid': 6.922918004572872, 'centers': 6.922918004572872, 'certain': 6.922918004572872, 'cg': 6.922918004572872, 'cgi': 6.922918004572872, 'chalkboard': 6.922918004572872, 'challenges': 6.922918004572872, 'changes': 6.922918004572872, 'changing': 6.922918004572872, 'channel': 6.922918004572872, 'characterisation': 6.922918004572872, 'charismatic': 6.922918004572872, 'charlie': 6.922918004572872, 'chase': 6.922918004572872, 'chasing': 6.922918004572872, 'cheaply': 6.922918004572872, 'check': 6.922918004572872, 'cheek': 6.922918004572872, 'cheekbones': 6.922918004572872, 'cheerfull': 6.922918004572872, 'cheerless': 6.922918004572872, 'cheesiness': 6.922918004572872, 'childrens': 6.922918004572872, 'chills': 6.922918004572872, 'chilly': 6.922918004572872, 'chimp': 6.922918004572872, 'chodorov': 6.922918004572872, 'choice': 6.922918004572872, 'choices': 6.922918004572872, 'choked': 6.922918004572872, 'chosen': 6.922918004572872, 'chow': 6.922918004572872, 'christopher': 6.922918004572872, 'cinematic': 6.922918004572872, 'cinematographers': 6.922918004572872, 'circumstances': 6.922918004572872, 'class': 6.922918004572872, 'classical': 6.922918004572872, 'clear': 6.922918004572872, 'cliche': 6.922918004572872, 'clients': 6.922918004572872, 'cliff': 6.922918004572872, 'climax': 6.922918004572872, 'closed': 6.922918004572872, 'clothes': 6.922918004572872, 'club': 6.922918004572872, 'co': 6.922918004572872, 'coach': 6.922918004572872, 'coal': 6.922918004572872, 'coastal': 6.922918004572872, 'coaster': 6.922918004572872, 'coherent': 6.922918004572872, 'cold': 6.922918004572872, 'collect': 6.922918004572872, 'collective': 6.922918004572872, 'colored': 6.922918004572872, 'colorful': 6.922918004572872, 'colours': 6.922918004572872, 'columbo': 6.922918004572872, 'comedic': 6.922918004572872, 'comfortable': 6.922918004572872, 'comforting': 6.922918004572872, 'comical': 6.922918004572872, 'commands': 6.922918004572872, 'comment': 6.922918004572872, 'commentary': 6.922918004572872, 'commented': 6.922918004572872, 'comments': 6.922918004572872, 'commercial': 6.922918004572872, 'community': 6.922918004572872, 'company': 6.922918004572872, 'competent': 6.922918004572872, 'completed': 6.922918004572872, 'complexity': 6.922918004572872, 'composed': 6.922918004572872, 'comprehensible': 6.922918004572872, 'compromise': 6.922918004572872, 'concentrate': 6.922918004572872, 'conception': 6.922918004572872, 'conceptually': 6.922918004572872, 'concerning': 6.922918004572872, 'concerns': 6.922918004572872, 'concert': 6.922918004572872, 'condescends': 6.922918004572872, 'confidence': 6.922918004572872, 'configuration': 6.922918004572872, 'confirm': 6.922918004572872, 'confuses': 6.922918004572872, 'confusing': 6.922918004572872, 'connections': 6.922918004572872, 'connor': 6.922918004572872, 'conrad': 6.922918004572872, 'consequences': 6.922918004572872, 'considerable': 6.922918004572872, 'considered': 6.922918004572872, 'considers': 6.922918004572872, 'consistent': 6.922918004572872, 'consolations': 6.922918004572872, 'constant': 6.922918004572872, 'constantine': 6.922918004572872, 'constructed': 6.922918004572872, 'containing': 6.922918004572872, 'content': 6.922918004572872, 'continually': 6.922918004572872, 'continuation': 6.922918004572872, 'continue': 6.922918004572872, 'continuously': 6.922918004572872, 'contract': 6.922918004572872, 'contributing': 6.922918004572872, 'contributory': 6.922918004572872, 'contrived': 6.922918004572872, 'controversy': 6.922918004572872, 'convention': 6.922918004572872, 'convey': 6.922918004572872, 'convince': 6.922918004572872, 'convoluted': 6.922918004572872, 'cords': 6.922918004572872, 'corn': 6.922918004572872, 'corny': 6.922918004572872, 'correct': 6.922918004572872, 'costumes': 6.922918004572872, 'cotton': 6.922918004572872, 'couple': 6.922918004572872, 'court': 6.922918004572872, 'cowardice': 6.922918004572872, 'cox': 6.922918004572872, 'crackles': 6.922918004572872, 'crash': 6.922918004572872, 'crashed': 6.922918004572872, 'crayon': 6.922918004572872, 'crayons': 6.922918004572872, 'creative': 6.922918004572872, 'creativity': 6.922918004572872, 'creature': 6.922918004572872, 'credible': 6.922918004572872, 'credits': 6.922918004572872, 'crew': 6.922918004572872, 'crime': 6.922918004572872, 'crisp': 6.922918004572872, 'critic': 6.922918004572872, 'critical': 6.922918004572872, 'crocdodile': 6.922918004572872, 'crocs': 6.922918004572872, 'cross': 6.922918004572872, 'crowe': 6.922918004572872, 'cruel': 6.922918004572872, 'cruise': 6.922918004572872, 'cry': 6.922918004572872, 'curtain': 6.922918004572872, 'custer': 6.922918004572872, 'cutest': 6.922918004572872, 'cutie': 6.922918004572872, 'cutouts': 6.922918004572872, 'cuts': 6.922918004572872, 'cutting': 6.922918004572872, 'dads': 6.922918004572872, 'damian': 6.922918004572872, 'damn': 6.922918004572872, 'darren': 6.922918004572872, 'daughters': 6.922918004572872, 'days': 6.922918004572872, 'deadly': 6.922918004572872, 'deadpan': 6.922918004572872, 'deal': 6.922918004572872, 'dealt': 6.922918004572872, 'debated': 6.922918004572872, 'debbie': 6.922918004572872, 'debits': 6.922918004572872, 'debut': 6.922918004572872, 'decidely': 6.922918004572872, 'decipher': 6.922918004572872, 'decisions': 6.922918004572872, 'dee': 6.922918004572872, 'deep': 6.922918004572872, 'defensemen': 6.922918004572872, 'defined': 6.922918004572872, 'delete': 6.922918004572872, 'delightful': 6.922918004572872, 'delights': 6.922918004572872, 'deliver': 6.922918004572872, 'delivered': 6.922918004572872, 'dependant': 6.922918004572872, 'depending': 6.922918004572872, 'depends': 6.922918004572872, 'depicted': 6.922918004572872, 'derivative': 6.922918004572872, 'describes': 6.922918004572872, 'desert': 6.922918004572872, 'design': 6.922918004572872, 'designed': 6.922918004572872, 'designer': 6.922918004572872, 'desperately': 6.922918004572872, 'desperation': 6.922918004572872, 'despised': 6.922918004572872, 'destroy': 6.922918004572872, 'detailing': 6.922918004572872, 'details': 6.922918004572872, 'develop': 6.922918004572872, 'development': 6.922918004572872, 'developments': 6.922918004572872, 'di': 6.922918004572872, 'diabetic': 6.922918004572872, 'dialogs': 6.922918004572872, 'diaper': 6.922918004572872, 'dickens': 6.922918004572872, 'difference': 6.922918004572872, 'dignity': 6.922918004572872, 'dimensional': 6.922918004572872, 'direct': 6.922918004572872, 'directors': 6.922918004572872, 'disbelief': 6.922918004572872, 'discomfort': 6.922918004572872, 'discovery': 6.922918004572872, 'disgrace': 6.922918004572872, 'disgusting': 6.922918004572872, 'disney': 6.922918004572872, 'disparate': 6.922918004572872, 'distant': 6.922918004572872, 'distinction': 6.922918004572872, 'distorted': 6.922918004572872, 'distract': 6.922918004572872, 'distressed': 6.922918004572872, 'diving': 6.922918004572872, 'dodge': 6.922918004572872, 'dollars': 6.922918004572872, 'dominated': 6.922918004572872, 'donlevy': 6.922918004572872, 'dont': 6.922918004572872, 'doomed': 6.922918004572872, 'dose': 6.922918004572872, 'doubt': 6.922918004572872, 'downs': 6.922918004572872, 'dozen': 6.922918004572872, 'dr': 6.922918004572872, 'dracula': 6.922918004572872, 'draft': 6.922918004572872, 'drag': 6.922918004572872, 'drawings': 6.922918004572872, 'drawn': 6.922918004572872, 'dream': 6.922918004572872, 'dreary': 6.922918004572872, 'dribble': 6.922918004572872, 'drift': 6.922918004572872, 'drifting': 6.922918004572872, 'drooling': 6.922918004572872, 'dropped': 6.922918004572872, 'dry': 6.922918004572872, 'dumbest': 6.922918004572872, 'duper': 6.922918004572872, 'duris': 6.922918004572872, 'dustin': 6.922918004572872, 'dwight': 6.922918004572872, 'dysfunction': 6.922918004572872, 'eating': 6.922918004572872, 'ebay': 6.922918004572872, 'ebola': 6.922918004572872, 'eccleston': 6.922918004572872, 'edition': 6.922918004572872, 'educational': 6.922918004572872, 'edward': 6.922918004572872, 'effect': 6.922918004572872, 'effort': 6.922918004572872, 'efforts': 6.922918004572872, 'egotism': 6.922918004572872, 'eighth': 6.922918004572872, 'eiko': 6.922918004572872, 'elaborately': 6.922918004572872, 'elderly': 6.922918004572872, 'elegant': 6.922918004572872, 'elias': 6.922918004572872, 'eloquently': 6.922918004572872, 'elsewhere': 6.922918004572872, 'embarrassed': 6.922918004572872, 'embassy': 6.922918004572872, 'emerge': 6.922918004572872, 'emoting': 6.922918004572872, 'emotion': 6.922918004572872, 'emotionally': 6.922918004572872, 'emperor': 6.922918004572872, 'empowerment': 6.922918004572872, 'emptiness': 6.922918004572872, 'en': 6.922918004572872, 'enchanting': 6.922918004572872, 'endearing': 6.922918004572872, 'ended': 6.922918004572872, 'endlessly': 6.922918004572872, 'ends': 6.922918004572872, 'energetic': 6.922918004572872, 'english': 6.922918004572872, 'enhanced': 6.922918004572872, 'enjoyment': 6.922918004572872, 'enter': 6.922918004572872, 'enterprise': 6.922918004572872, 'entertained': 6.922918004572872, 'entrance': 6.922918004572872, 'episodes': 6.922918004572872, 'equivalent': 6.922918004572872, 'errors': 6.922918004572872, 'escalating': 6.922918004572872, 'escapism': 6.922918004572872, 'essence': 6.922918004572872, 'establish': 6.922918004572872, 'established': 6.922918004572872, 'estate': 6.922918004572872, 'estevez': 6.922918004572872, 'evaluate': 6.922918004572872, 'events': 6.922918004572872, 'everybody': 6.922918004572872, 'everywhere': 6.922918004572872, 'evidently': 6.922918004572872, 'evinced': 6.922918004572872, 'evokes': 6.922918004572872, 'exaggerating': 6.922918004572872, 'except': 6.922918004572872, 'exceptionally': 6.922918004572872, 'excerpts': 6.922918004572872, 'excessively': 6.922918004572872, 'exchange': 6.922918004572872, 'exciting': 6.922918004572872, 'excruciatingly': 6.922918004572872, 'excuse': 6.922918004572872, 'excuses': 6.922918004572872, 'executed': 6.922918004572872, 'exemplars': 6.922918004572872, 'existent': 6.922918004572872, 'existential': 6.922918004572872, 'expansive': 6.922918004572872, 'expectations': 6.922918004572872, 'expected': 6.922918004572872, 'expecting': 6.922918004572872, 'experiences': 6.922918004572872, 'expert': 6.922918004572872, 'explains': 6.922918004572872, 'exploit': 6.922918004572872, 'explorations': 6.922918004572872, 'explosion': 6.922918004572872, 'expression': 6.922918004572872, 'extant': 6.922918004572872, 'exteriors': 6.922918004572872, 'extraneous': 6.922918004572872, 'extraordinary': 6.922918004572872, 'fabulous': 6.922918004572872, 'faces': 6.922918004572872, 'facial': 6.922918004572872, 'facing': 6.922918004572872, 'factory': 6.922918004572872, 'failed': 6.922918004572872, 'fair': 6.922918004572872, 'fairly': 6.922918004572872, 'faithful': 6.922918004572872, 'falling': 6.922918004572872, 'falls': 6.922918004572872, 'falsely': 6.922918004572872, 'falwell': 6.922918004572872, 'fame': 6.922918004572872, 'famed': 6.922918004572872, 'famous': 6.922918004572872, 'fanciful': 6.922918004572872, 'fantasy': 6.922918004572872, 'farce': 6.922918004572872, 'fare': 6.922918004572872, 'fascinated': 6.922918004572872, 'fascination': 6.922918004572872, 'fashioned': 6.922918004572872, 'faster': 6.922918004572872, 'father': 6.922918004572872, 'faultless': 6.922918004572872, 'fausa': 6.922918004572872, 'favorite': 6.922918004572872, 'feature': 6.922918004572872, 'feelings': 6.922918004572872, 'feet': 6.922918004572872, 'feisty': 6.922918004572872, 'fellowes': 6.922918004572872, 'females': 6.922918004572872, 'ferry': 6.922918004572872, 'fest': 6.922918004572872, 'fields': 6.922918004572872, 'fifteen': 6.922918004572872, 'fifties': 6.922918004572872, 'fill': 6.922918004572872, 'filmiing': 6.922918004572872, 'filmmaker': 6.922918004572872, 'filmography': 6.922918004572872, 'finale': 6.922918004572872, 'financial': 6.922918004572872, 'finds': 6.922918004572872, 'finest': 6.922918004572872, 'fingernails': 6.922918004572872, 'finished': 6.922918004572872, 'fire': 6.922918004572872, 'fish': 6.922918004572872, 'fishnet': 6.922918004572872, 'fisted': 6.922918004572872, 'fit': 6.922918004572872, 'flag': 6.922918004572872, 'flakes': 6.922918004572872, 'flaming': 6.922918004572872, 'flashbacks': 6.922918004572872, 'flaw': 6.922918004572872, 'fleshed': 6.922918004572872, 'flicks': 6.922918004572872, 'florida': 6.922918004572872, 'flowed': 6.922918004572872, 'flying': 6.922918004572872, 'fodder': 6.922918004572872, 'follows': 6.922918004572872, 'foolish': 6.922918004572872, 'football': 6.922918004572872, 'force': 6.922918004572872, 'forced': 6.922918004572872, 'ford': 6.922918004572872, 'foreign': 6.922918004572872, 'foreigner': 6.922918004572872, 'forever': 6.922918004572872, 'forgettable': 6.922918004572872, 'forgetting': 6.922918004572872, 'forgot': 6.922918004572872, 'forgotten': 6.922918004572872, 'format': 6.922918004572872, 'former': 6.922918004572872, 'fort': 6.922918004572872, 'forth': 6.922918004572872, 'forwarded': 6.922918004572872, 'four': 6.922918004572872, 'foxx': 6.922918004572872, 'frances': 6.922918004572872, 'francis': 6.922918004572872, 'freeman': 6.922918004572872, 'freshness': 6.922918004572872, 'friendship': 6.922918004572872, 'frontier': 6.922918004572872, 'frost': 6.922918004572872, 'frustration': 6.922918004572872, 'fulfilling': 6.922918004572872, 'fully': 6.922918004572872, 'fumbling': 6.922918004572872, 'function': 6.922918004572872, 'fundamental': 6.922918004572872, 'funniest': 6.922918004572872, 'gabriel': 6.922918004572872, 'gadget': 6.922918004572872, 'gain': 6.922918004572872, 'gake': 6.922918004572872, 'galley': 6.922918004572872, 'gallon': 6.922918004572872, 'garage': 6.922918004572872, 'garbo': 6.922918004572872, 'garfield': 6.922918004572872, 'gas': 6.922918004572872, 'gaudi': 6.922918004572872, 'gay': 6.922918004572872, 'geek': 6.922918004572872, 'general': 6.922918004572872, 'generates': 6.922918004572872, 'generic': 6.922918004572872, 'gently': 6.922918004572872, 'george': 6.922918004572872, 'gerardo': 6.922918004572872, 'gere': 6.922918004572872, 'getting': 6.922918004572872, 'ghibili': 6.922918004572872, 'gibberish': 6.922918004572872, 'gifted': 6.922918004572872, 'giovanni': 6.922918004572872, 'girls': 6.922918004572872, 'girolamo': 6.922918004572872, 'giving': 6.922918004572872, 'glasses': 6.922918004572872, 'gloriously': 6.922918004572872, 'goalies': 6.922918004572872, 'gone': 6.922918004572872, 'gore': 6.922918004572872, 'goremeister': 6.922918004572872, 'gorman': 6.922918004572872, 'gosh': 6.922918004572872, 'goth': 6.922918004572872, 'gotta': 6.922918004572872, 'gotten': 6.922918004572872, 'government': 6.922918004572872, 'grade': 6.922918004572872, 'gradually': 6.922918004572872, 'grainy': 6.922918004572872, 'granted': 6.922918004572872, 'graphics': 6.922918004572872, 'grasp': 6.922918004572872, 'grates': 6.922918004572872, 'greatness': 6.922918004572872, 'green': 6.922918004572872, 'greenstreet': 6.922918004572872, 'grew': 6.922918004572872, 'grim': 6.922918004572872, 'grimes': 6.922918004572872, 'groove': 6.922918004572872, 'gross': 6.922918004572872, 'ground': 6.922918004572872, 'guards': 6.922918004572872, 'guests': 6.922918004572872, 'guilt': 6.922918004572872, 'gung': 6.922918004572872, 'guys': 6.922918004572872, 'haggis': 6.922918004572872, 'hair': 6.922918004572872, 'hairsplitting': 6.922918004572872, 'halfway': 6.922918004572872, 'ham': 6.922918004572872, 'handle': 6.922918004572872, 'handles': 6.922918004572872, 'hang': 6.922918004572872, 'hankies': 6.922918004572872, 'hanks': 6.922918004572872, 'happiness': 6.922918004572872, 'happy': 6.922918004572872, 'harris': 6.922918004572872, 'hatred': 6.922918004572872, 'havilland': 6.922918004572872, 'hay': 6.922918004572872, 'hayao': 6.922918004572872, 'hayworth': 6.922918004572872, 'hbo': 6.922918004572872, 'heads': 6.922918004572872, 'hearts': 6.922918004572872, 'heartwarming': 6.922918004572872, 'heche': 6.922918004572872, 'heels': 6.922918004572872, 'heist': 6.922918004572872, 'helen': 6.922918004572872, 'hellish': 6.922918004572872, 'helms': 6.922918004572872, 'help': 6.922918004572872, 'helping': 6.922918004572872, 'hendrikson': 6.922918004572872, 'hernandez': 6.922918004572872, 'hero': 6.922918004572872, 'heroes': 6.922918004572872, 'heroine': 6.922918004572872, 'heroism': 6.922918004572872, 'hes': 6.922918004572872, 'hide': 6.922918004572872, 'higher': 6.922918004572872, 'highest': 6.922918004572872, 'highlights': 6.922918004572872, 'hilt': 6.922918004572872, 'hip': 6.922918004572872, 'ho': 6.922918004572872, 'hockey': 6.922918004572872, 'hoffman': 6.922918004572872, 'hold': 6.922918004572872, 'holding': 6.922918004572872, 'holds': 6.922918004572872, 'hollander': 6.922918004572872, 'homework': 6.922918004572872, 'honest': 6.922918004572872, 'honestly': 6.922918004572872, 'hoot': 6.922918004572872, 'hopefully': 6.922918004572872, 'hopeless': 6.922918004572872, 'horrendous': 6.922918004572872, 'horrendously': 6.922918004572872, 'horrid': 6.922918004572872, 'horrified': 6.922918004572872, 'horse': 6.922918004572872, 'hosting': 6.922918004572872, 'hot': 6.922918004572872, 'houses': 6.922918004572872, 'howdy': 6.922918004572872, 'howe': 6.922918004572872, 'howell': 6.922918004572872, 'hugo': 6.922918004572872, 'humanity': 6.922918004572872, 'humans': 6.922918004572872, 'hummh': 6.922918004572872, 'humor': 6.922918004572872, 'hurt': 6.922918004572872, 'hype': 6.922918004572872, 'hypocrisy': 6.922918004572872, 'idealogical': 6.922918004572872, 'identified': 6.922918004572872, 'identifies': 6.922918004572872, 'idiotic': 6.922918004572872, 'idyllic': 6.922918004572872, 'iffy': 6.922918004572872, 'im': 6.922918004572872, 'imagine': 6.922918004572872, 'imdb': 6.922918004572872, 'imitation': 6.922918004572872, 'impact': 6.922918004572872, 'imperial': 6.922918004572872, 'impossible': 6.922918004572872, 'impression': 6.922918004572872, 'improved': 6.922918004572872, 'improvement': 6.922918004572872, 'improvisation': 6.922918004572872, 'impulse': 6.922918004572872, 'inappropriate': 6.922918004572872, 'incendiary': 6.922918004572872, 'includes': 6.922918004572872, 'incomprehensible': 6.922918004572872, 'inconsistencies': 6.922918004572872, 'incorrectness': 6.922918004572872, 'indescribably': 6.922918004572872, 'indication': 6.922918004572872, 'indictment': 6.922918004572872, 'indie': 6.922918004572872, 'individual': 6.922918004572872, 'indoor': 6.922918004572872, 'ineptly': 6.922918004572872, 'inexperience': 6.922918004572872, 'inexplicable': 6.922918004572872, 'initially': 6.922918004572872, 'innocence': 6.922918004572872, 'insane': 6.922918004572872, 'inside': 6.922918004572872, 'insincere': 6.922918004572872, 'insipid': 6.922918004572872, 'insomniacs': 6.922918004572872, 'inspiration': 6.922918004572872, 'inspiring': 6.922918004572872, 'instant': 6.922918004572872, 'instruments': 6.922918004572872, 'insulin': 6.922918004572872, 'intangibles': 6.922918004572872, 'integral': 6.922918004572872, 'integration': 6.922918004572872, 'intense': 6.922918004572872, 'intensity': 6.922918004572872, 'intentions': 6.922918004572872, 'interacting': 6.922918004572872, 'interim': 6.922918004572872, 'interpretations': 6.922918004572872, 'interview': 6.922918004572872, 'intoning': 6.922918004572872, 'intrigued': 6.922918004572872, 'inventive': 6.922918004572872, 'involves': 6.922918004572872, 'involving': 6.922918004572872, 'iq': 6.922918004572872, 'ireland': 6.922918004572872, 'ironically': 6.922918004572872, 'irons': 6.922918004572872, 'ironside': 6.922918004572872, 'irritating': 6.922918004572872, 'ishioka': 6.922918004572872, 'iso': 6.922918004572872, 'issue': 6.922918004572872, 'istagey': 6.922918004572872, 'ive': 6.922918004572872, 'jack': 6.922918004572872, 'jaclyn': 6.922918004572872, 'japanese': 6.922918004572872, 'jason': 6.922918004572872, 'jay': 6.922918004572872, 'jealousy': 6.922918004572872, 'jennifer': 6.922918004572872, 'jerry': 6.922918004572872, 'jessica': 6.922918004572872, 'jessice': 6.922918004572872, 'jet': 6.922918004572872, 'jim': 6.922918004572872, 'joe': 6.922918004572872, 'joins': 6.922918004572872, 'jokes': 6.922918004572872, 'jones': 6.922918004572872, 'joyce': 6.922918004572872, 'juano': 6.922918004572872, 'judge': 6.922918004572872, 'judging': 6.922918004572872, 'judith': 6.922918004572872, 'judo': 6.922918004572872, 'julian': 6.922918004572872, 'junk': 6.922918004572872, 'junkyard': 6.922918004572872, 'justice': 6.922918004572872, 'jutland': 6.922918004572872, 'kanaly': 6.922918004572872, 'kathy': 6.922918004572872, 'keira': 6.922918004572872, 'keith': 6.922918004572872, 'kept': 6.922918004572872, 'kevin': 6.922918004572872, 'kid': 6.922918004572872, 'kidnapped': 6.922918004572872, 'kieslowski': 6.922918004572872, 'kill': 6.922918004572872, 'killings': 6.922918004572872, 'kirk': 6.922918004572872, 'kitchy': 6.922918004572872, 'knightley': 6.922918004572872, 'knocked': 6.922918004572872, 'knows': 6.922918004572872, 'koteas': 6.922918004572872, 'kris': 6.922918004572872, 'kristoffersen': 6.922918004572872, 'kudos': 6.922918004572872, 'la': 6.922918004572872, 'labute': 6.922918004572872, 'lack': 6.922918004572872, 'ladies': 6.922918004572872, 'lady': 6.922918004572872, 'lance': 6.922918004572872, 'landscapes': 6.922918004572872, 'largely': 6.922918004572872, 'laselva': 6.922918004572872, 'lassie': 6.922918004572872, 'lasting': 6.922918004572872, 'latched': 6.922918004572872, 'late': 6.922918004572872, 'later': 6.922918004572872, 'latest': 6.922918004572872, 'latifa': 6.922918004572872, 'latin': 6.922918004572872, 'latter': 6.922918004572872, 'laughed': 6.922918004572872, 'laughs': 6.922918004572872, 'layers': 6.922918004572872, 'leading': 6.922918004572872, 'leap': 6.922918004572872, 'leaving': 6.922918004572872, 'lee': 6.922918004572872, 'legal': 6.922918004572872, 'legendary': 6.922918004572872, 'leni': 6.922918004572872, 'lestat': 6.922918004572872, 'lets': 6.922918004572872, 'letting': 6.922918004572872, 'lewis': 6.922918004572872, 'lid': 6.922918004572872, 'lie': 6.922918004572872, 'lies': 6.922918004572872, 'lieutenant': 6.922918004572872, 'lifetime': 6.922918004572872, 'lilli': 6.922918004572872, 'lilt': 6.922918004572872, 'limitations': 6.922918004572872, 'limited': 6.922918004572872, 'linda': 6.922918004572872, 'linear': 6.922918004572872, 'lino': 6.922918004572872, 'littered': 6.922918004572872, 'lived': 6.922918004572872, 'local': 6.922918004572872, 'locations': 6.922918004572872, 'loewenhielm': 6.922918004572872, 'logic': 6.922918004572872, 'london': 6.922918004572872, 'longer': 6.922918004572872, 'loose': 6.922918004572872, 'loosely': 6.922918004572872, 'lovable': 6.922918004572872, 'loves': 6.922918004572872, 'lower': 6.922918004572872, 'loyalty': 6.922918004572872, 'lucio': 6.922918004572872, 'lugosi': 6.922918004572872, 'lust': 6.922918004572872, 'luv': 6.922918004572872, 'lyrics': 6.922918004572872, 'magnificent': 6.922918004572872, 'mainly': 6.922918004572872, 'major': 6.922918004572872, 'maker': 6.922918004572872, 'makers': 6.922918004572872, 'males': 6.922918004572872, 'malta': 6.922918004572872, 'managed': 6.922918004572872, 'manages': 6.922918004572872, 'manna': 6.922918004572872, 'mansonites': 6.922918004572872, 'marbles': 6.922918004572872, 'march': 6.922918004572872, 'marine': 6.922918004572872, 'marion': 6.922918004572872, 'marred': 6.922918004572872, 'marriage': 6.922918004572872, 'masculine': 6.922918004572872, 'masculinity': 6.922918004572872, 'massive': 6.922918004572872, 'matrix': 6.922918004572872, 'matthews': 6.922918004572872, 'mchattie': 6.922918004572872, 'mclaglen': 6.922918004572872, 'meagre': 6.922918004572872, 'meanders': 6.922918004572872, 'meanings': 6.922918004572872, 'meant': 6.922918004572872, 'medical': 6.922918004572872, 'meld': 6.922918004572872, 'melodrama': 6.922918004572872, 'melville': 6.922918004572872, 'members': 6.922918004572872, 'memorized': 6.922918004572872, 'menace': 6.922918004572872, 'menacing': 6.922918004572872, 'meredith': 6.922918004572872, 'merit': 6.922918004572872, 'mesmerising': 6.922918004572872, 'messages': 6.922918004572872, 'meteorite': 6.922918004572872, 'mexican': 6.922918004572872, 'michael': 6.922918004572872, 'microsoft': 6.922918004572872, 'middle': 6.922918004572872, 'mighty': 6.922918004572872, 'mindblowing': 6.922918004572872, 'miner': 6.922918004572872, 'minor': 6.922918004572872, 'mirrormask': 6.922918004572872, 'miserable': 6.922918004572872, 'miserably': 6.922918004572872, 'misplace': 6.922918004572872, 'miss': 6.922918004572872, 'mistakes': 6.922918004572872, 'modest': 6.922918004572872, 'mollusk': 6.922918004572872, 'momentum': 6.922918004572872, 'monica': 6.922918004572872, 'monolog': 6.922918004572872, 'monotonous': 6.922918004572872, 'monster': 6.922918004572872, 'monstrous': 6.922918004572872, 'monumental': 6.922918004572872, 'morons': 6.922918004572872, 'motion': 6.922918004572872, 'motivations': 6.922918004572872, 'mountain': 6.922918004572872, 'move': 6.922918004572872, 'moved': 6.922918004572872, 'movements': 6.922918004572872, 'moves': 6.922918004572872, 'ms': 6.922918004572872, 'muddled': 6.922918004572872, 'muppets': 6.922918004572872, 'murder': 6.922918004572872, 'murdering': 6.922918004572872, 'murky': 6.922918004572872, 'musician': 6.922918004572872, 'mystifying': 6.922918004572872, 'naked': 6.922918004572872, 'narration': 6.922918004572872, 'nasty': 6.922918004572872, 'national': 6.922918004572872, 'nationalities': 6.922918004572872, 'native': 6.922918004572872, 'naughty': 6.922918004572872, 'nearly': 6.922918004572872, 'necklace': 6.922918004572872, 'needlessly': 6.922918004572872, 'negulesco': 6.922918004572872, 'neighbour': 6.922918004572872, 'nerves': 6.922918004572872, 'nervous': 6.922918004572872, 'net': 6.922918004572872, 'netflix': 6.922918004572872, 'network': 6.922918004572872, 'nevertheless': 6.922918004572872, 'nevsky': 6.922918004572872, 'nicola': 6.922918004572872, 'nimoy': 6.922918004572872, 'nine': 6.922918004572872, 'noble': 6.922918004572872, 'nonetheless': 6.922918004572872, 'nor': 6.922918004572872, 'normally': 6.922918004572872, 'northern': 6.922918004572872, 'nostalgia': 6.922918004572872, 'notch': 6.922918004572872, 'novella': 6.922918004572872, 'number': 6.922918004572872, 'numbers': 6.922918004572872, 'nun': 6.922918004572872, 'nuns': 6.922918004572872, 'nurse': 6.922918004572872, 'obliged': 6.922918004572872, 'obsessed': 6.922918004572872, 'obvious': 6.922918004572872, 'occur': 6.922918004572872, 'occurs': 6.922918004572872, 'offend': 6.922918004572872, 'offer': 6.922918004572872, 'okay': 6.922918004572872, 'olde': 6.922918004572872, 'older': 6.922918004572872, 'ole': 6.922918004572872, 'olivia': 6.922918004572872, 'omit': 6.922918004572872, 'ones': 6.922918004572872, 'open': 6.922918004572872, 'operas': 6.922918004572872, 'opinion': 6.922918004572872, 'ordeal': 6.922918004572872, 'oriented': 6.922918004572872, 'originality': 6.922918004572872, 'origins': 6.922918004572872, 'ortolani': 6.922918004572872, 'others': 6.922918004572872, 'otherwise': 6.922918004572872, 'ought': 6.922918004572872, 'outlandish': 6.922918004572872, 'outlets': 6.922918004572872, 'outside': 6.922918004572872, 'outward': 6.922918004572872, 'overcome': 6.922918004572872, 'overdue': 6.922918004572872, 'overs': 6.922918004572872, 'overt': 6.922918004572872, 'overwrought': 6.922918004572872, 'owed': 6.922918004572872, 'owls': 6.922918004572872, 'owned': 6.922918004572872, 'owns': 6.922918004572872, 'oy': 6.922918004572872, 'pace': 6.922918004572872, 'pack': 6.922918004572872, 'painfully': 6.922918004572872, 'paint': 6.922918004572872, 'painted': 6.922918004572872, 'pair': 6.922918004572872, 'palance': 6.922918004572872, 'pandering': 6.922918004572872, 'pans': 6.922918004572872, 'paolo': 6.922918004572872, 'pap': 6.922918004572872, 'paper': 6.922918004572872, 'park': 6.922918004572872, 'parker': 6.922918004572872, 'partaking': 6.922918004572872, 'passed': 6.922918004572872, 'passion': 6.922918004572872, 'patent': 6.922918004572872, 'patriotism': 6.922918004572872, 'pay': 6.922918004572872, 'peaking': 6.922918004572872, 'pearls': 6.922918004572872, 'peculiarity': 6.922918004572872, 'pedestal': 6.922918004572872, 'pencil': 6.922918004572872, 'perabo': 6.922918004572872, 'perfected': 6.922918004572872, 'perplexing': 6.922918004572872, 'person': 6.922918004572872, 'personalities': 6.922918004572872, 'personally': 6.922918004572872, 'pg': 6.922918004572872, 'phantasm': 6.922918004572872, 'phenomenal': 6.922918004572872, 'philippa': 6.922918004572872, 'phony': 6.922918004572872, 'photograph': 6.922918004572872, 'phrase': 6.922918004572872, 'physical': 6.922918004572872, 'pi': 6.922918004572872, 'picked': 6.922918004572872, 'pile': 6.922918004572872, 'pillow': 6.922918004572872, 'pitch': 6.922918004572872, 'pixar': 6.922918004572872, 'plane': 6.922918004572872, 'planned': 6.922918004572872, 'plants': 6.922918004572872, 'players': 6.922918004572872, 'pleasant': 6.922918004572872, 'pleasing': 6.922918004572872, 'pledge': 6.922918004572872, 'plmer': 6.922918004572872, 'plug': 6.922918004572872, 'pm': 6.922918004572872, 'poet': 6.922918004572872, 'poignant': 6.922918004572872, 'pointillistic': 6.922918004572872, 'poised': 6.922918004572872, 'poler': 6.922918004572872, 'political': 6.922918004572872, 'politically': 6.922918004572872, 'politics': 6.922918004572872, 'ponyo': 6.922918004572872, 'popcorn': 6.922918004572872, 'portrayals': 6.922918004572872, 'portrayed': 6.922918004572872, 'positive': 6.922918004572872, 'post': 6.922918004572872, 'potted': 6.922918004572872, 'power': 6.922918004572872, 'powerful': 6.922918004572872, 'powerhouse': 6.922918004572872, 'practical': 6.922918004572872, 'practically': 6.922918004572872, 'pray': 6.922918004572872, 'precisely': 6.922918004572872, 'predict': 6.922918004572872, 'prejudice': 6.922918004572872, 'prelude': 6.922918004572872, 'prepared': 6.922918004572872, 'preservation': 6.922918004572872, 'president': 6.922918004572872, 'pretext': 6.922918004572872, 'primal': 6.922918004572872, 'primary': 6.922918004572872, 'produce': 6.922918004572872, 'producer': 6.922918004572872, 'producers': 6.922918004572872, 'product': 6.922918004572872, 'professionals': 6.922918004572872, 'professor': 6.922918004572872, 'progresses': 6.922918004572872, 'promote': 6.922918004572872, 'prompted': 6.922918004572872, 'prone': 6.922918004572872, 'propaganda': 6.922918004572872, 'properly': 6.922918004572872, 'proudly': 6.922918004572872, 'provided': 6.922918004572872, 'provokes': 6.922918004572872, 'ps': 6.922918004572872, 'pseudo': 6.922918004572872, 'psychotic': 6.922918004572872, 'public': 6.922918004572872, 'pulling': 6.922918004572872, 'pulls': 6.922918004572872, 'punched': 6.922918004572872, 'punches': 6.922918004572872, 'punish': 6.922918004572872, 'punishment': 6.922918004572872, 'puppet': 6.922918004572872, 'purity': 6.922918004572872, 'puzzle': 6.922918004572872, 'pyromaniac': 6.922918004572872, 'qu': 6.922918004572872, 'quaid': 6.922918004572872, 'qualities': 6.922918004572872, 'questioning': 6.922918004572872, 'quick': 6.922918004572872, 'quicker': 6.922918004572872, 'quiet': 6.922918004572872, 'radiant': 6.922918004572872, 'raging': 6.922918004572872, 'random': 6.922918004572872, 'range': 6.922918004572872, 'rare': 6.922918004572872, 'raver': 6.922918004572872, 'raw': 6.922918004572872, 'readers': 6.922918004572872, 'realised': 6.922918004572872, 'realize': 6.922918004572872, 'realized': 6.922918004572872, 'reasonable': 6.922918004572872, 'reasons': 6.922918004572872, 'receive': 6.922918004572872, 'reconciliation': 6.922918004572872, 'recover': 6.922918004572872, 'recurring': 6.922918004572872, 'redeemed': 6.922918004572872, 'reenactments': 6.922918004572872, 'reflected': 6.922918004572872, 'refreshing': 6.922918004572872, 'regardless': 6.922918004572872, 'regrettable': 6.922918004572872, 'regrettably': 6.922918004572872, 'rejection': 6.922918004572872, 'relate': 6.922918004572872, 'related': 6.922918004572872, 'relation': 6.922918004572872, 'relationship': 6.922918004572872, 'relatively': 6.922918004572872, 'relaxing': 6.922918004572872, 'release': 6.922918004572872, 'relief': 6.922918004572872, 'relying': 6.922918004572872, 'remarkable': 6.922918004572872, 'reminded': 6.922918004572872, 'removing': 6.922918004572872, 'rendering': 6.922918004572872, 'rendition': 6.922918004572872, 'renowned': 6.922918004572872, 'repair': 6.922918004572872, 'repeated': 6.922918004572872, 'repeating': 6.922918004572872, 'repeats': 6.922918004572872, 'repertory': 6.922918004572872, 'reporter': 6.922918004572872, 'represents': 6.922918004572872, 'require': 6.922918004572872, 'rescue': 6.922918004572872, 'researched': 6.922918004572872, 'resounding': 6.922918004572872, 'respecting': 6.922918004572872, 'restrained': 6.922918004572872, 'results': 6.922918004572872, 'resume': 6.922918004572872, 'retarded': 6.922918004572872, 'retreat': 6.922918004572872, 'revenge': 6.922918004572872, 'revere': 6.922918004572872, 'reverse': 6.922918004572872, 'reviewers': 6.922918004572872, 'reviews': 6.922918004572872, 'rice': 6.922918004572872, 'rickman': 6.922918004572872, 'ridiculousness': 6.922918004572872, 'riot': 6.922918004572872, 'rips': 6.922918004572872, 'rise': 6.922918004572872, 'rita': 6.922918004572872, 'rivalry': 6.922918004572872, 'riveted': 6.922918004572872, 'riz': 6.922918004572872, 'road': 6.922918004572872, 'robotic': 6.922918004572872, 'rochon': 6.922918004572872, 'rocked': 6.922918004572872, 'rocks': 6.922918004572872, 'roeg': 6.922918004572872, 'roller': 6.922918004572872, 'rolls': 6.922918004572872, 'romantic': 6.922918004572872, 'roosevelt': 6.922918004572872, 'roth': 6.922918004572872, 'rough': 6.922918004572872, 'round': 6.922918004572872, 'routine': 6.922918004572872, 'row': 6.922918004572872, 'rpg': 6.922918004572872, 'rpger': 6.922918004572872, 'rubbish': 6.922918004572872, 'rubin': 6.922918004572872, 'rumbles': 6.922918004572872, 'ryan': 6.922918004572872, 'ryans': 6.922918004572872, 'sabotages': 6.922918004572872, 'sack': 6.922918004572872, 'sacrifice': 6.922918004572872, 'sad': 6.922918004572872, 'salesman': 6.922918004572872, 'sam': 6.922918004572872, 'sample': 6.922918004572872, 'sappiest': 6.922918004572872, 'sarcophage': 6.922918004572872, 'sat': 6.922918004572872, 'satanic': 6.922918004572872, 'savalas': 6.922918004572872, 'savant': 6.922918004572872, 'save': 6.922918004572872, 'savor': 6.922918004572872, 'says': 6.922918004572872, 'scamp': 6.922918004572872, 'scare': 6.922918004572872, 'scares': 6.922918004572872, 'schilling': 6.922918004572872, 'schizophrenic': 6.922918004572872, 'school': 6.922918004572872, 'schoolers': 6.922918004572872, 'schultz': 6.922918004572872, 'science': 6.922918004572872, 'scientist': 6.922918004572872, 'scot': 6.922918004572872, 'scream': 6.922918004572872, 'screamy': 6.922918004572872, 'screened': 6.922918004572872, 'screenplay': 6.922918004572872, 'scrimm': 6.922918004572872, 'scripted': 6.922918004572872, 'scripting': 6.922918004572872, 'scripts': 6.922918004572872, 'sculpture': 6.922918004572872, 'seamless': 6.922918004572872, 'seamlessly': 6.922918004572872, 'sean': 6.922918004572872, 'seat': 6.922918004572872, 'secondary': 6.922918004572872, 'secondly': 6.922918004572872, 'selections': 6.922918004572872, 'sells': 6.922918004572872, 'semi': 6.922918004572872, 'senior': 6.922918004572872, 'sensibility': 6.922918004572872, 'sensitivities': 6.922918004572872, 'seperate': 6.922918004572872, 'sequels': 6.922918004572872, 'sequences': 6.922918004572872, 'served': 6.922918004572872, 'settings': 6.922918004572872, 'seuss': 6.922918004572872, 'sex': 6.922918004572872, 'shakespear': 6.922918004572872, 'shakespears': 6.922918004572872, 'shallow': 6.922918004572872, 'shameful': 6.922918004572872, 'sharing': 6.922918004572872, 'sharply': 6.922918004572872, 'shatner': 6.922918004572872, 'shattered': 6.922918004572872, 'sheer': 6.922918004572872, 'shelf': 6.922918004572872, 'shell': 6.922918004572872, 'shelves': 6.922918004572872, 'shenanigans': 6.922918004572872, 'shepard': 6.922918004572872, 'shined': 6.922918004572872, 'shirley': 6.922918004572872, 'shocking': 6.922918004572872, 'shooting': 6.922918004572872, 'shortlist': 6.922918004572872, 'showcasing': 6.922918004572872, 'shut': 6.922918004572872, 'sibling': 6.922918004572872, 'side': 6.922918004572872, 'sidelined': 6.922918004572872, 'sign': 6.922918004572872, 'silly': 6.922918004572872, 'simmering': 6.922918004572872, 'simplifying': 6.922918004572872, 'sincere': 6.922918004572872, 'sing': 6.922918004572872, 'sinister': 6.922918004572872, 'sink': 6.922918004572872, 'sinking': 6.922918004572872, 'sister': 6.922918004572872, 'sit': 6.922918004572872, 'sitcoms': 6.922918004572872, 'site': 6.922918004572872, 'sites': 6.922918004572872, 'sits': 6.922918004572872, 'situations': 6.922918004572872, 'skilled': 6.922918004572872, 'skip': 6.922918004572872, 'slackers': 6.922918004572872, 'slavic': 6.922918004572872, 'slideshow': 6.922918004572872, 'slightly': 6.922918004572872, 'slimy': 6.922918004572872, 'sloppy': 6.922918004572872, 'slurs': 6.922918004572872, 'smack': 6.922918004572872, 'smells': 6.922918004572872, 'smiling': 6.922918004572872, 'smith': 6.922918004572872, 'smoothly': 6.922918004572872, 'snider': 6.922918004572872, 'snow': 6.922918004572872, 'soap': 6.922918004572872, 'sobering': 6.922918004572872, 'social': 6.922918004572872, 'soldiers': 6.922918004572872, 'sole': 6.922918004572872, 'solidifying': 6.922918004572872, 'solving': 6.922918004572872, 'soon': 6.922918004572872, 'sophisticated': 6.922918004572872, 'sorrentino': 6.922918004572872, 'sorry': 6.922918004572872, 'sounded': 6.922918004572872, 'sounds': 6.922918004572872, 'sour': 6.922918004572872, 'southern': 6.922918004572872, 'spacek': 6.922918004572872, 'spacey': 6.922918004572872, 'span': 6.922918004572872, 'speaking': 6.922918004572872, 'spend': 6.922918004572872, 'spew': 6.922918004572872, 'sphere': 6.922918004572872, 'spiffy': 6.922918004572872, 'splendid': 6.922918004572872, 'spock': 6.922918004572872, 'spoil': 6.922918004572872, 'spoiled': 6.922918004572872, 'spot': 6.922918004572872, 'spy': 6.922918004572872, 'squibs': 6.922918004572872, 'stable': 6.922918004572872, 'stagy': 6.922918004572872, 'standout': 6.922918004572872, 'starlet': 6.922918004572872, 'starring': 6.922918004572872, 'starts': 6.922918004572872, 'state': 6.922918004572872, 'stayed': 6.922918004572872, 'stealing': 6.922918004572872, 'steamboat': 6.922918004572872, 'steele': 6.922918004572872, 'stephen': 6.922918004572872, 'stereotypically': 6.922918004572872, 'stewart': 6.922918004572872, 'stick': 6.922918004572872, 'stinker': 6.922918004572872, 'stinks': 6.922918004572872, 'stocking': 6.922918004572872, 'stockings': 6.922918004572872, 'stoic': 6.922918004572872, 'storm': 6.922918004572872, 'storytelling': 6.922918004572872, 'stowe': 6.922918004572872, 'strange': 6.922918004572872, 'stranger': 6.922918004572872, 'stratus': 6.922918004572872, 'straw': 6.922918004572872, 'street': 6.922918004572872, 'strident': 6.922918004572872, 'string': 6.922918004572872, 'strives': 6.922918004572872, 'strokes': 6.922918004572872, 'struck': 6.922918004572872, 'structure': 6.922918004572872, 'struggle': 6.922918004572872, 'stuart': 6.922918004572872, 'student': 6.922918004572872, 'students': 6.922918004572872, 'study': 6.922918004572872, 'stuff': 6.922918004572872, 'stupidity': 6.922918004572872, 'stylized': 6.922918004572872, 'subject': 6.922918004572872, 'subjects': 6.922918004572872, 'sublimely': 6.922918004572872, 'subplots': 6.922918004572872, 'subtitles': 6.922918004572872, 'subversive': 6.922918004572872, 'subverting': 6.922918004572872, 'succeeded': 6.922918004572872, 'succeeds': 6.922918004572872, 'success': 6.922918004572872, 'suck': 6.922918004572872, 'sucks': 6.922918004572872, 'suffered': 6.922918004572872, 'suggest': 6.922918004572872, 'suggests': 6.922918004572872, 'suited': 6.922918004572872, 'sundays': 6.922918004572872, 'superbad': 6.922918004572872, 'superficial': 6.922918004572872, 'superlative': 6.922918004572872, 'supernatural': 6.922918004572872, 'supporting': 6.922918004572872, 'surely': 6.922918004572872, 'surf': 6.922918004572872, 'surface': 6.922918004572872, 'surprised': 6.922918004572872, 'surprises': 6.922918004572872, 'surroundings': 6.922918004572872, 'survivors': 6.922918004572872, 'suspension': 6.922918004572872, 'sven': 6.922918004572872, 'swamp': 6.922918004572872, 'sweep': 6.922918004572872, 'sweet': 6.922918004572872, 'switched': 6.922918004572872, 'swords': 6.922918004572872, 'sydney': 6.922918004572872, 'sympathetic': 6.922918004572872, 'syrupy': 6.922918004572872, 'system': 6.922918004572872, 'tacky': 6.922918004572872, 'taelons': 6.922918004572872, 'taken': 6.922918004572872, 'talents': 6.922918004572872, 'tanks': 6.922918004572872, 'tardis': 6.922918004572872, 'task': 6.922918004572872, 'taste': 6.922918004572872, 'taxidermists': 6.922918004572872, 'teacher': 6.922918004572872, 'teaches': 6.922918004572872, 'team': 6.922918004572872, 'tear': 6.922918004572872, 'tears': 6.922918004572872, 'technically': 6.922918004572872, 'teddy': 6.922918004572872, 'tedium': 6.922918004572872, 'teen': 6.922918004572872, 'teenagers': 6.922918004572872, 'teeth': 6.922918004572872, 'telephone': 6.922918004572872, 'television': 6.922918004572872, 'telly': 6.922918004572872, 'temperaments': 6.922918004572872, 'tender': 6.922918004572872, 'tensions': 6.922918004572872, 'terminology': 6.922918004572872, 'terror': 6.922918004572872, 'th': 6.922918004572872, 'thanks': 6.922918004572872, 'theatre': 6.922918004572872, 'theatres': 6.922918004572872, 'theatrical': 6.922918004572872, 'therapy': 6.922918004572872, 'thick': 6.922918004572872, 'thomerson': 6.922918004572872, 'thorsen': 6.922918004572872, 'thousand': 6.922918004572872, 'thread': 6.922918004572872, 'three': 6.922918004572872, 'threshold': 6.922918004572872, 'thrillers': 6.922918004572872, 'throwback': 6.922918004572872, 'thug': 6.922918004572872, 'thumper': 6.922918004572872, 'thunderbirds': 6.922918004572872, 'thus': 6.922918004572872, 'ticker': 6.922918004572872, 'tickets': 6.922918004572872, 'tightly': 6.922918004572872, 'timeless': 6.922918004572872, 'timely': 6.922918004572872, 'timers': 6.922918004572872, 'timing': 6.922918004572872, 'tiny': 6.922918004572872, 'tired': 6.922918004572872, 'title': 6.922918004572872, 'titta': 6.922918004572872, 'tolerable': 6.922918004572872, 'tolerate': 6.922918004572872, 'tomorrow': 6.922918004572872, 'tone': 6.922918004572872, 'tongue': 6.922918004572872, 'tonight': 6.922918004572872, 'tons': 6.922918004572872, 'tony': 6.922918004572872, 'toons': 6.922918004572872, 'tops': 6.922918004572872, 'tortured': 6.922918004572872, 'total': 6.922918004572872, 'touch': 6.922918004572872, 'touches': 6.922918004572872, 'tough': 6.922918004572872, 'towers': 6.922918004572872, 'townsend': 6.922918004572872, 'track': 6.922918004572872, 'tract': 6.922918004572872, 'traditional': 6.922918004572872, 'traffic': 6.922918004572872, 'trailer': 6.922918004572872, 'train': 6.922918004572872, 'tranquillity': 6.922918004572872, 'transcend': 6.922918004572872, 'transfers': 6.922918004572872, 'translate': 6.922918004572872, 'translating': 6.922918004572872, 'trap': 6.922918004572872, 'trashy': 6.922918004572872, 'treachery': 6.922918004572872, 'treasure': 6.922918004572872, 'treat': 6.922918004572872, 'treatments': 6.922918004572872, 'trek': 6.922918004572872, 'tremendous': 6.922918004572872, 'tries': 6.922918004572872, 'trilogy': 6.922918004572872, 'trinity': 6.922918004572872, 'trip': 6.922918004572872, 'triumphed': 6.922918004572872, 'trond': 6.922918004572872, 'trooper': 6.922918004572872, 'trouble': 6.922918004572872, 'truck': 6.922918004572872, 'trumbull': 6.922918004572872, 'trumpeter': 6.922918004572872, 'truth': 6.922918004572872, 'trysts': 6.922918004572872, 'tsunami': 6.922918004572872, 'tuneful': 6.922918004572872, 'turkey': 6.922918004572872, 'twirling': 6.922918004572872, 'twists': 6.922918004572872, 'tying': 6.922918004572872, 'typical': 6.922918004572872, 'ue': 6.922918004572872, 'ugliest': 6.922918004572872, 'ugly': 6.922918004572872, 'uhura': 6.922918004572872, 'ultra': 6.922918004572872, 'um': 6.922918004572872, 'unaccompanied': 6.922918004572872, 'unbearable': 6.922918004572872, 'unbearably': 6.922918004572872, 'uncalled': 6.922918004572872, 'unconditional': 6.922918004572872, 'underacting': 6.922918004572872, 'underappreciated': 6.922918004572872, 'underbite': 6.922918004572872, 'underlines': 6.922918004572872, 'underrated': 6.922918004572872, 'understanding': 6.922918004572872, 'understatement': 6.922918004572872, 'understood': 6.922918004572872, 'undertone': 6.922918004572872, 'underwater': 6.922918004572872, 'uneasy': 6.922918004572872, 'unemployed': 6.922918004572872, 'unethical': 6.922918004572872, 'unfaithful': 6.922918004572872, 'unforgettable': 6.922918004572872, 'unfortunate': 6.922918004572872, 'unintentionally': 6.922918004572872, 'union': 6.922918004572872, 'unique': 6.922918004572872, 'uniqueness': 6.922918004572872, 'universal': 6.922918004572872, 'universe': 6.922918004572872, 'unless': 6.922918004572872, 'unlockable': 6.922918004572872, 'unmatched': 6.922918004572872, 'unmitigated': 6.922918004572872, 'unmoving': 6.922918004572872, 'unnecessary': 6.922918004572872, 'unneeded': 6.922918004572872, 'unoriginal': 6.922918004572872, 'unpleasant': 6.922918004572872, 'unpredictability': 6.922918004572872, 'unrealistic': 6.922918004572872, 'unrecommended': 6.922918004572872, 'unremarkable': 6.922918004572872, 'unrestrained': 6.922918004572872, 'unsatisfactory': 6.922918004572872, 'unwatchable': 6.922918004572872, 'upa': 6.922918004572872, 'upper': 6.922918004572872, 'uptight': 6.922918004572872, 'ursula': 6.922918004572872, 'user': 6.922918004572872, 'using': 6.922918004572872, 'ussr': 6.922918004572872, 'utter': 6.922918004572872, 'valentine': 6.922918004572872, 'value': 6.922918004572872, 'vampire': 6.922918004572872, 'vandiver': 6.922918004572872, 'variation': 6.922918004572872, 'vehicles': 6.922918004572872, 'ventura': 6.922918004572872, 'verbal': 6.922918004572872, 'verbatim': 6.922918004572872, 'versatile': 6.922918004572872, 'version': 6.922918004572872, 'versus': 6.922918004572872, 'vessel': 6.922918004572872, 'veteran': 6.922918004572872, 'vey': 6.922918004572872, 'vibe': 6.922918004572872, 'victor': 6.922918004572872, 'view': 6.922918004572872, 'viewer': 6.922918004572872, 'views': 6.922918004572872, 'villain': 6.922918004572872, 'villains': 6.922918004572872, 'violence': 6.922918004572872, 'violin': 6.922918004572872, 'virtue': 6.922918004572872, 'virus': 6.922918004572872, 'vision': 6.922918004572872, 'vitally': 6.922918004572872, 'vivian': 6.922918004572872, 'vivid': 6.922918004572872, 'vocal': 6.922918004572872, 'volatile': 6.922918004572872, 'vomited': 6.922918004572872, 'voyage': 6.922918004572872, 'vulcan': 6.922918004572872, 'waiting': 6.922918004572872, 'waitress': 6.922918004572872, 'walk': 6.922918004572872, 'wanting': 6.922918004572872, 'wants': 6.922918004572872, 'warn': 6.922918004572872, 'warning': 6.922918004572872, 'wartime': 6.922918004572872, 'warts': 6.922918004572872, 'washed': 6.922918004572872, 'washing': 6.922918004572872, 'waster': 6.922918004572872, 'wasting': 6.922918004572872, 'water': 6.922918004572872, 'wave': 6.922918004572872, 'waylaid': 6.922918004572872, 'wayne': 6.922918004572872, 'wb': 6.922918004572872, 'weaker': 6.922918004572872, 'weariness': 6.922918004572872, 'weaving': 6.922918004572872, 'website': 6.922918004572872, 'wedding': 6.922918004572872, 'weight': 6.922918004572872, 'welsh': 6.922918004572872, 'went': 6.922918004572872, 'whenever': 6.922918004572872, 'whine': 6.922918004572872, 'whites': 6.922918004572872, 'whoever': 6.922918004572872, 'wide': 6.922918004572872, 'widmark': 6.922918004572872, 'wife': 6.922918004572872, 'wih': 6.922918004572872, 'wild': 6.922918004572872, 'william': 6.922918004572872, 'willie': 6.922918004572872, 'wily': 6.922918004572872, 'win': 6.922918004572872, 'wise': 6.922918004572872, 'within': 6.922918004572872, 'witticisms': 6.922918004572872, 'woa': 6.922918004572872, 'wondered': 6.922918004572872, 'wong': 6.922918004572872, 'wont': 6.922918004572872, 'woo': 6.922918004572872, 'worked': 6.922918004572872, 'worry': 6.922918004572872, 'worthless': 6.922918004572872, 'worthwhile': 6.922918004572872, 'worthy': 6.922918004572872, 'wouldnt': 6.922918004572872, 'woven': 6.922918004572872, 'wow': 6.922918004572872, 'wrap': 6.922918004572872, 'writers': 6.922918004572872, 'wrote': 6.922918004572872, 'yardley': 6.922918004572872, 'yawn': 6.922918004572872, 'yelps': 6.922918004572872, 'younger': 6.922918004572872, 'youthful': 6.922918004572872, 'youtube': 6.922918004572872, 'yun': 6.922918004572872, 'zillion': 6.922918004572872, 'zombiez': 6.922918004572872, 'abysmal': 6.517452896464707, 'accused': 6.517452896464707, 'achievement': 6.517452896464707, 'act': 6.517452896464707, 'adaptation': 6.517452896464707, 'advise': 6.517452896464707, 'afraid': 6.517452896464707, 'africa': 6.517452896464707, 'ago': 6.517452896464707, 'air': 6.517452896464707, 'alexander': 6.517452896464707, 'america': 6.517452896464707, 'american': 6.517452896464707, 'americans': 6.517452896464707, 'among': 6.517452896464707, 'angeles': 6.517452896464707, 'angles': 6.517452896464707, 'animation': 6.517452896464707, 'appalling': 6.517452896464707, 'appealing': 6.517452896464707, 'artist': 6.517452896464707, 'aside': 6.517452896464707, 'ask': 6.517452896464707, 'asleep': 6.517452896464707, 'aspect': 6.517452896464707, 'ass': 6.517452896464707, 'attempts': 6.517452896464707, 'attention': 6.517452896464707, 'badly': 6.517452896464707, 'balance': 6.517452896464707, 'balanced': 6.517452896464707, 'basically': 6.517452896464707, 'bear': 6.517452896464707, 'beautifully': 6.517452896464707, 'became': 6.517452896464707, 'began': 6.517452896464707, 'begin': 6.517452896464707, 'betty': 6.517452896464707, 'blood': 6.517452896464707, 'bold': 6.517452896464707, 'bother': 6.517452896464707, 'brian': 6.517452896464707, 'brief': 6.517452896464707, 'bring': 6.517452896464707, 'bullock': 6.517452896464707, 'bunch': 6.517452896464707, 'business': 6.517452896464707, 'buy': 6.517452896464707, 'call': 6.517452896464707, 'canada': 6.517452896464707, 'cannot': 6.517452896464707, 'cardboard': 6.517452896464707, 'cartoons': 6.517452896464707, 'case': 6.517452896464707, 'cause': 6.517452896464707, 'ceases': 6.517452896464707, 'central': 6.517452896464707, 'century': 6.517452896464707, 'chance': 6.517452896464707, 'change': 6.517452896464707, 'charisma': 6.517452896464707, 'charles': 6.517452896464707, 'charm': 6.517452896464707, 'cheesy': 6.517452896464707, 'chick': 6.517452896464707, 'childhood': 6.517452896464707, 'christmas': 6.517452896464707, 'church': 6.517452896464707, 'clearly': 6.517452896464707, 'cole': 6.517452896464707, 'compelling': 6.517452896464707, 'complex': 6.517452896464707, 'composition': 6.517452896464707, 'computer': 6.517452896464707, 'connery': 6.517452896464707, 'considering': 6.517452896464707, 'contained': 6.517452896464707, 'contains': 6.517452896464707, 'continuity': 6.517452896464707, 'contrast': 6.517452896464707, 'control': 6.517452896464707, 'coppola': 6.517452896464707, 'core': 6.517452896464707, 'cost': 6.517452896464707, 'courtroom': 6.517452896464707, 'crafted': 6.517452896464707, 'crazy': 6.517452896464707, 'create': 6.517452896464707, 'creates': 6.517452896464707, 'credit': 6.517452896464707, 'crowd': 6.517452896464707, 'culture': 6.517452896464707, 'cute': 6.517452896464707, 'dancing': 6.517452896464707, 'dangerous': 6.517452896464707, 'dark': 6.517452896464707, 'daughter': 6.517452896464707, 'de': 6.517452896464707, 'dead': 6.517452896464707, 'decay': 6.517452896464707, 'dedication': 6.517452896464707, 'deeply': 6.517452896464707, 'delight': 6.517452896464707, 'delivering': 6.517452896464707, 'depicts': 6.517452896464707, 'depressing': 6.517452896464707, 'describe': 6.517452896464707, 'deserved': 6.517452896464707, 'deserves': 6.517452896464707, 'deserving': 6.517452896464707, 'despite': 6.517452896464707, 'directorial': 6.517452896464707, 'disappointing': 6.517452896464707, 'disappointment': 6.517452896464707, 'disaster': 6.517452896464707, 'discovering': 6.517452896464707, 'dislike': 6.517452896464707, 'disliked': 6.517452896464707, 'disturbing': 6.517452896464707, 'doctor': 6.517452896464707, 'documentaries': 6.517452896464707, 'dogs': 6.517452896464707, 'dramatic': 6.517452896464707, 'dreams': 6.517452896464707, 'duet': 6.517452896464707, 'dull': 6.517452896464707, 'dumb': 6.517452896464707, 'earth': 6.517452896464707, 'edge': 6.517452896464707, 'element': 6.517452896464707, 'emilio': 6.517452896464707, 'emily': 6.517452896464707, 'emotions': 6.517452896464707, 'empty': 6.517452896464707, 'engaging': 6.517452896464707, 'entirely': 6.517452896464707, 'era': 6.517452896464707, 'errol': 6.517452896464707, 'european': 6.517452896464707, 'evil': 6.517452896464707, 'excellently': 6.517452896464707, 'exceptional': 6.517452896464707, 'explain': 6.517452896464707, 'explanation': 6.517452896464707, 'exquisite': 6.517452896464707, 'extremely': 6.517452896464707, 'eye': 6.517452896464707, 'fall': 6.517452896464707, 'fascinating': 6.517452896464707, 'fat': 6.517452896464707, 'female': 6.517452896464707, 'fi': 6.517452896464707, 'filmed': 6.517452896464707, 'five': 6.517452896464707, 'flat': 6.517452896464707, 'flawed': 6.517452896464707, 'flaws': 6.517452896464707, 'flynn': 6.517452896464707, 'focus': 6.517452896464707, 'following': 6.517452896464707, 'forces': 6.517452896464707, 'forget': 6.517452896464707, 'form': 6.517452896464707, 'fox': 6.517452896464707, 'frankly': 6.517452896464707, 'freedom': 6.517452896464707, 'french': 6.517452896464707, 'fresh': 6.517452896464707, 'friends': 6.517452896464707, 'front': 6.517452896464707, 'fulci': 6.517452896464707, 'future': 6.517452896464707, 'fx': 6.517452896464707, 'genius': 6.517452896464707, 'genre': 6.517452896464707, 'girlfriend': 6.517452896464707, 'glance': 6.517452896464707, 'goes': 6.517452896464707, 'gonna': 6.517452896464707, 'gripping': 6.517452896464707, 'guy': 6.517452896464707, 'hackneyed': 6.517452896464707, 'hand': 6.517452896464707, 'handled': 6.517452896464707, 'hands': 6.517452896464707, 'hate': 6.517452896464707, 'hated': 6.517452896464707, 'hear': 6.517452896464707, 'heard': 6.517452896464707, 'heaven': 6.517452896464707, 'hell': 6.517452896464707, 'helps': 6.517452896464707, 'hence': 6.517452896464707, 'high': 6.517452896464707, 'hollow': 6.517452896464707, 'hollywood': 6.517452896464707, 'home': 6.517452896464707, 'humorous': 6.517452896464707, 'humour': 6.517452896464707, 'identify': 6.517452896464707, 'idiot': 6.517452896464707, 'imaginable': 6.517452896464707, 'imaginative': 6.517452896464707, 'implausible': 6.517452896464707, 'important': 6.517452896464707, 'impressed': 6.517452896464707, 'impressive': 6.517452896464707, 'industry': 6.517452896464707, 'instead': 6.517452896464707, 'interested': 6.517452896464707, 'interplay': 6.517452896464707, 'issues': 6.517452896464707, 'italian': 6.517452896464707, 'jamie': 6.517452896464707, 'jean': 6.517452896464707, 'jerky': 6.517452896464707, 'jimmy': 6.517452896464707, 'jobs': 6.517452896464707, 'joke': 6.517452896464707, 'jonah': 6.517452896464707, 'journey': 6.517452896464707, 'june': 6.517452896464707, 'keeps': 6.517452896464707, 'killer': 6.517452896464707, 'killing': 6.517452896464707, 'kinda': 6.517452896464707, 'known': 6.517452896464707, 'lacked': 6.517452896464707, 'lane': 6.517452896464707, 'lange': 6.517452896464707, 'laugh': 6.517452896464707, 'lazy': 6.517452896464707, 'leave': 6.517452896464707, 'leaves': 6.517452896464707, 'length': 6.517452896464707, 'lesser': 6.517452896464707, 'levels': 6.517452896464707, 'light': 6.517452896464707, 'lighting': 6.517452896464707, 'likes': 6.517452896464707, 'list': 6.517452896464707, 'literally': 6.517452896464707, 'lives': 6.517452896464707, 'loads': 6.517452896464707, 'location': 6.517452896464707, 'loneliness': 6.517452896464707, 'lord': 6.517452896464707, 'los': 6.517452896464707, 'losing': 6.517452896464707, 'lousy': 6.517452896464707, 'lucy': 6.517452896464707, 'macbeth': 6.517452896464707, 'machine': 6.517452896464707, 'mad': 6.517452896464707, 'male': 6.517452896464707, 'mark': 6.517452896464707, 'martin': 6.517452896464707, 'masterful': 6.517452896464707, 'masterpiece': 6.517452896464707, 'masterpieces': 6.517452896464707, 'material': 6.517452896464707, 'matter': 6.517452896464707, 'member': 6.517452896464707, 'mercy': 6.517452896464707, 'might': 6.517452896464707, 'mini': 6.517452896464707, 'mishima': 6.517452896464707, 'missed': 6.517452896464707, 'modern': 6.517452896464707, 'moments': 6.517452896464707, 'moral': 6.517452896464707, 'morgan': 6.517452896464707, 'mother': 6.517452896464707, 'mouse': 6.517452896464707, 'mouth': 6.517452896464707, 'murdered': 6.517452896464707, 'natural': 6.517452896464707, 'nature': 6.517452896464707, 'need': 6.517452896464707, 'needed': 6.517452896464707, 'neil': 6.517452896464707, 'noir': 6.517452896464707, 'none': 6.517452896464707, 'notable': 6.517452896464707, 'noteworthy': 6.517452896464707, 'nut': 6.517452896464707, 'nuts': 6.517452896464707, 'occupied': 6.517452896464707, 'odd': 6.517452896464707, 'offensive': 6.517452896464707, 'offers': 6.517452896464707, 'opened': 6.517452896464707, 'opening': 6.517452896464707, 'overacting': 6.517452896464707, 'overly': 6.517452896464707, 'pacing': 6.517452896464707, 'paid': 6.517452896464707, 'painful': 6.517452896464707, 'par': 6.517452896464707, 'parents': 6.517452896464707, 'past': 6.517452896464707, 'peter': 6.517452896464707, 'pictures': 6.517452896464707, 'pieces': 6.517452896464707, 'pitiful': 6.517452896464707, 'plain': 6.517452896464707, 'player': 6.517452896464707, 'pleased': 6.517452896464707, 'pleaser': 6.517452896464707, 'plenty': 6.517452896464707, 'poetry': 6.517452896464707, 'poorly': 6.517452896464707, 'popular': 6.517452896464707, 'portraying': 6.517452896464707, 'predictably': 6.517452896464707, 'presence': 6.517452896464707, 'previous': 6.517452896464707, 'problem': 6.517452896464707, 'proceedings': 6.517452896464707, 'process': 6.517452896464707, 'proud': 6.517452896464707, 'psychological': 6.517452896464707, 'pull': 6.517452896464707, 'puppets': 6.517452896464707, 'putting': 6.517452896464707, 'question': 6.517452896464707, 'quinn': 6.517452896464707, 'racial': 6.517452896464707, 'racism': 6.517452896464707, 'rated': 6.517452896464707, 'ratings': 6.517452896464707, 'ray': 6.517452896464707, 'reactions': 6.517452896464707, 'reading': 6.517452896464707, 'realistic': 6.517452896464707, 'reality': 6.517452896464707, 'received': 6.517452896464707, 'recently': 6.517452896464707, 'redeeming': 6.517452896464707, 'references': 6.517452896464707, 'regret': 6.517452896464707, 'relations': 6.517452896464707, 'relationships': 6.517452896464707, 'remaining': 6.517452896464707, 'remotely': 6.517452896464707, 'result': 6.517452896464707, 'return': 6.517452896464707, 'revealing': 6.517452896464707, 'review': 6.517452896464707, 'reviewer': 6.517452896464707, 'robert': 6.517452896464707, 'room': 6.517452896464707, 'run': 6.517452896464707, 'running': 6.517452896464707, 'ruthless': 6.517452896464707, 'sake': 6.517452896464707, 'sand': 6.517452896464707, 'sandra': 6.517452896464707, 'scary': 6.517452896464707, 'schrader': 6.517452896464707, 'sci': 6.517452896464707, 'season': 6.517452896464707, 'sense': 6.517452896464707, 'senses': 6.517452896464707, 'sentiment': 6.517452896464707, 'sequel': 6.517452896464707, 'sequence': 6.517452896464707, 'setting': 6.517452896464707, 'several': 6.517452896464707, 'shame': 6.517452896464707, 'shed': 6.517452896464707, 'sick': 6.517452896464707, 'significant': 6.517452896464707, 'sisters': 6.517452896464707, 'situation': 6.517452896464707, 'sleep': 6.517452896464707, 'slightest': 6.517452896464707, 'smile': 6.517452896464707, 'somewhat': 6.517452896464707, 'son': 6.517452896464707, 'soul': 6.517452896464707, 'speed': 6.517452896464707, 'spoiler': 6.517452896464707, 'stage': 6.517452896464707, 'stand': 6.517452896464707, 'start': 6.517452896464707, 'stay': 6.517452896464707, 'step': 6.517452896464707, 'stereotypes': 6.517452896464707, 'steve': 6.517452896464707, 'store': 6.517452896464707, 'studio': 6.517452896464707, 'stunning': 6.517452896464707, 'sublime': 6.517452896464707, 'suffering': 6.517452896464707, 'sum': 6.517452896464707, 'summary': 6.517452896464707, 'superbly': 6.517452896464707, 'supposed': 6.517452896464707, 'supposedly': 6.517452896464707, 'surprising': 6.517452896464707, 'surrounding': 6.517452896464707, 'takes': 6.517452896464707, 'taking': 6.517452896464707, 'talent': 6.517452896464707, 'taped': 6.517452896464707, 'taylor': 6.517452896464707, 'ten': 6.517452896464707, 'tension': 6.517452896464707, 'terms': 6.517452896464707, 'terribly': 6.517452896464707, 'theme': 6.517452896464707, 'themes': 6.517452896464707, 'thoughts': 6.517452896464707, 'thrilled': 6.517452896464707, 'took': 6.517452896464707, 'towards': 6.517452896464707, 'tremendously': 6.517452896464707, 'turned': 6.517452896464707, 'turns': 6.517452896464707, 'twice': 6.517452896464707, 'twist': 6.517452896464707, 'type': 6.517452896464707, 'underlying': 6.517452896464707, 'underneath': 6.517452896464707, 'understated': 6.517452896464707, 'undoubtedly': 6.517452896464707, 'unfolds': 6.517452896464707, 'unfunny': 6.517452896464707, 'uninteresting': 6.517452896464707, 'unpredictable': 6.517452896464707, 'unrecognizable': 6.517452896464707, 'uplifting': 6.517452896464707, 'uses': 6.517452896464707, 'video': 6.517452896464707, 'viewing': 6.517452896464707, 'visually': 6.517452896464707, 'voice': 6.517452896464707, 'volcano': 6.517452896464707, 'vomit': 6.517452896464707, 'walked': 6.517452896464707, 'wall': 6.517452896464707, 'wanted': 6.517452896464707, 'warmth': 6.517452896464707, 'watchable': 6.517452896464707, 'watkins': 6.517452896464707, 'watson': 6.517452896464707, 'ways': 6.517452896464707, 'weak': 6.517452896464707, 'weird': 6.517452896464707, 'whiny': 6.517452896464707, 'wholesome': 6.517452896464707, 'witty': 6.517452896464707, 'wonder': 6.517452896464707, 'wooden': 6.517452896464707, 'working': 6.517452896464707, 'write': 6.517452896464707, 'yeah': 6.517452896464707, 'zombie': 6.517452896464707, 'ability': 6.229770824012927, 'acted': 6.229770824012927, 'actress': 6.229770824012927, 'actresses': 6.229770824012927, 'addition': 6.229770824012927, 'aerial': 6.229770824012927, 'along': 6.229770824012927, 'although': 6.229770824012927, 'anne': 6.229770824012927, 'appearance': 6.229770824012927, 'appreciate': 6.229770824012927, 'average': 6.229770824012927, 'awesome': 6.229770824012927, 'billy': 6.229770824012927, 'bore': 6.229770824012927, 'bought': 6.229770824012927, 'brain': 6.229770824012927, 'brilliance': 6.229770824012927, 'called': 6.229770824012927, 'cartoon': 6.229770824012927, 'charming': 6.229770824012927, 'checking': 6.229770824012927, 'children': 6.229770824012927, 'clich': 6.229770824012927, 'close': 6.229770824012927, 'coming': 6.229770824012927, 'complete': 6.229770824012927, 'conclusion': 6.229770824012927, 'conflict': 6.229770824012927, 'costs': 6.229770824012927, 'course': 6.229770824012927, 'decent': 6.229770824012927, 'delivers': 6.229770824012927, 'dialog': 6.229770824012927, 'directed': 6.229770824012927, 'documentary': 6.229770824012927, 'drago': 6.229770824012927, 'drive': 6.229770824012927, 'due': 6.229770824012927, 'dvd': 6.229770824012927, 'earlier': 6.229770824012927, 'early': 6.229770824012927, 'easily': 6.229770824012927, 'easy': 6.229770824012927, 'ed': 6.229770824012927, 'effective': 6.229770824012927, 'either': 6.229770824012927, 'embarrassing': 6.229770824012927, 'enjoyable': 6.229770824012927, 'episode': 6.229770824012927, 'etc': 6.229770824012927, 'exactly': 6.229770824012927, 'example': 6.229770824012927, 'fan': 6.229770824012927, 'fantastic': 6.229770824012927, 'faux': 6.229770824012927, 'favourite': 6.229770824012927, 'fear': 6.229770824012927, 'features': 6.229770824012927, 'feel': 6.229770824012927, 'final': 6.229770824012927, 'finally': 6.229770824012927, 'follow': 6.229770824012927, 'footage': 6.229770824012927, 'free': 6.229770824012927, 'frightening': 6.229770824012927, 'game': 6.229770824012927, 'games': 6.229770824012927, 'gem': 6.229770824012927, 'genuine': 6.229770824012927, 'giallo': 6.229770824012927, 'given': 6.229770824012927, 'glad': 6.229770824012927, 'grace': 6.229770824012927, 'greatest': 6.229770824012927, 'happen': 6.229770824012927, 'happened': 6.229770824012927, 'hard': 6.229770824012927, 'head': 6.229770824012927, 'heart': 6.229770824012927, 'hill': 6.229770824012927, 'hitchcock': 6.229770824012927, 'hours': 6.229770824012927, 'house': 6.229770824012927, 'huston': 6.229770824012927, 'including': 6.229770824012927, 'incredibly': 6.229770824012927, 'indulgent': 6.229770824012927, 'interest': 6.229770824012927, 'knew': 6.229770824012927, 'laughable': 6.229770824012927, 'learn': 6.229770824012927, 'left': 6.229770824012927, 'lion': 6.229770824012927, 'living': 6.229770824012927, 'looking': 6.229770824012927, 'looks': 6.229770824012927, 'lots': 6.229770824012927, 'main': 6.229770824012927, 'mature': 6.229770824012927, 'may': 6.229770824012927, 'meaning': 6.229770824012927, 'memories': 6.229770824012927, 'minute': 6.229770824012927, 'miyazaki': 6.229770824012927, 'moment': 6.229770824012927, 'narrative': 6.229770824012927, 'negative': 6.229770824012927, 'next': 6.229770824012927, 'nobody': 6.229770824012927, 'nonsense': 6.229770824012927, 'note': 6.229770824012927, 'obviously': 6.229770824012927, 'oscar': 6.229770824012927, 'paced': 6.229770824012927, 'particular': 6.229770824012927, 'paul': 6.229770824012927, 'perfectly': 6.229770824012927, 'photography': 6.229770824012927, 'picture': 6.229770824012927, 'places': 6.229770824012927, 'plays': 6.229770824012927, 'plus': 6.229770824012927, 'pointless': 6.229770824012927, 'possible': 6.229770824012927, 'possibly': 6.229770824012927, 'presents': 6.229770824012927, 'pretentious': 6.229770824012927, 'produced': 6.229770824012927, 'provoking': 6.229770824012927, 'pure': 6.229770824012927, 'quality': 6.229770824012927, 'race': 6.229770824012927, 'ranks': 6.229770824012927, 'rate': 6.229770824012927, 'ready': 6.229770824012927, 'reason': 6.229770824012927, 'recent': 6.229770824012927, 'released': 6.229770824012927, 'remake': 6.229770824012927, 'remember': 6.229770824012927, 'scale': 6.229770824012927, 'scared': 6.229770824012927, 'scenery': 6.229770824012927, 'score': 6.229770824012927, 'screenwriter': 6.229770824012927, 'sea': 6.229770824012927, 'seemed': 6.229770824012927, 'seems': 6.229770824012927, 'seriously': 6.229770824012927, 'set': 6.229770824012927, 'share': 6.229770824012927, 'shots': 6.229770824012927, 'showed': 6.229770824012927, 'shows': 6.229770824012927, 'silent': 6.229770824012927, 'singing': 6.229770824012927, 'smart': 6.229770824012927, 'someone': 6.229770824012927, 'song': 6.229770824012927, 'sort': 6.229770824012927, 'south': 6.229770824012927, 'space': 6.229770824012927, 'speak': 6.229770824012927, 'spent': 6.229770824012927, 'spoilers': 6.229770824012927, 'stanwyck': 6.229770824012927, 'stars': 6.229770824012927, 'sub': 6.229770824012927, 'sucked': 6.229770824012927, 'super': 6.229770824012927, 'sure': 6.229770824012927, 'surprisingly': 6.229770824012927, 'talented': 6.229770824012927, 'thinking': 6.229770824012927, 'thoroughly': 6.229770824012927, 'thriller': 6.229770824012927, 'thrown': 6.229770824012927, 'told': 6.229770824012927, 'touching': 6.229770824012927, 'try': 6.229770824012927, 'turn': 6.229770824012927, 'unconvincing': 6.229770824012927, 'values': 6.229770824012927, 'war': 6.229770824012927, 'whatsoever': 6.229770824012927, 'whether': 6.229770824012927, 'wilkinson': 6.229770824012927, 'wind': 6.229770824012927, 'wish': 6.229770824012927, 'women': 6.229770824012927, 'wonderfully': 6.229770824012927, 'words': 6.229770824012927, 'writer': 6.229770824012927, 'wrong': 6.229770824012927, 'year': 6.229770824012927, 'yes': 6.229770824012927, 'adorable': 6.006627272698717, 'age': 6.006627272698717, 'already': 6.006627272698717, 'always': 6.006627272698717, 'attempt': 6.006627272698717, 'back': 6.006627272698717, 'barely': 6.006627272698717, 'become': 6.006627272698717, 'beginning': 6.006627272698717, 'book': 6.006627272698717, 'bored': 6.006627272698717, 'came': 6.006627272698717, 'chemistry': 6.006627272698717, 'comes': 6.006627272698717, 'completely': 6.006627272698717, 'consider': 6.006627272698717, 'convincing': 6.006627272698717, 'cover': 6.006627272698717, 'created': 6.006627272698717, 'cult': 6.006627272698717, 'dance': 6.006627272698717, 'death': 6.006627272698717, 'depth': 6.006627272698717, 'direction': 6.006627272698717, 'else': 6.006627272698717, 'energy': 6.006627272698717, 'entertaining': 6.006627272698717, 'expect': 6.006627272698717, 'eyes': 6.006627272698717, 'fast': 6.006627272698717, 'generally': 6.006627272698717, 'god': 6.006627272698717, 'holes': 6.006627272698717, 'hope': 6.006627272698717, 'hour': 6.006627272698717, 'huge': 6.006627272698717, 'idea': 6.006627272698717, 'imagination': 6.006627272698717, 'incredible': 6.006627272698717, 'indeed': 6.006627272698717, 'insult': 6.006627272698717, 'intelligence': 6.006627272698717, 'intelligent': 6.006627272698717, 'james': 6.006627272698717, 'keep': 6.006627272698717, 'last': 6.006627272698717, 'less': 6.006627272698717, 'level': 6.006627272698717, 'looked': 6.006627272698717, 'lost': 6.006627272698717, 'lovely': 6.006627272698717, 'master': 6.006627272698717, 'maybe': 6.006627272698717, 'mean': 6.006627272698717, 'mediocre': 6.006627272698717, 'mickey': 6.006627272698717, 'moving': 6.006627272698717, 'non': 6.006627272698717, 'occasionally': 6.006627272698717, 'often': 6.006627272698717, 'original': 6.006627272698717, 'parts': 6.006627272698717, 'pathetic': 6.006627272698717, 'performances': 6.006627272698717, 'perhaps': 6.006627272698717, 'period': 6.006627272698717, 'place': 6.006627272698717, 'point': 6.006627272698717, 'premise': 6.006627272698717, 'problems': 6.006627272698717, 'rating': 6.006627272698717, 'rest': 6.006627272698717, 'role': 6.006627272698717, 'roles': 6.006627272698717, 'said': 6.006627272698717, 'seem': 6.006627272698717, 'serious': 6.006627272698717, 'sets': 6.006627272698717, 'small': 6.006627272698717, 'something': 6.006627272698717, 'sometimes': 6.006627272698717, 'songs': 6.006627272698717, 'soundtrack': 6.006627272698717, 'star': 6.006627272698717, 'stories': 6.006627272698717, 'storyline': 6.006627272698717, 'tale': 6.006627272698717, 'tell': 6.006627272698717, 'terrific': 6.006627272698717, 'theater': 6.006627272698717, 'today': 6.006627272698717, 'torture': 6.006627272698717, 'trash': 6.006627272698717, 'true': 6.006627272698717, 'trying': 6.006627272698717, 'unbelievable': 6.006627272698717, 'unfortunately': 6.006627272698717, 'ups': 6.006627272698717, 'us': 6.006627272698717, 'usual': 6.006627272698717, 'utterly': 6.006627272698717, 'visual': 6.006627272698717, 'without': 6.006627272698717, 'young': 6.006627272698717, 'amount': 5.824305715904762, 'another': 5.824305715904762, 'around': 5.824305715904762, 'audience': 5.824305715904762, 'avoid': 5.824305715904762, 'away': 5.824305715904762, 'beyond': 5.824305715904762, 'bit': 5.824305715904762, 'care': 5.824305715904762, 'child': 5.824305715904762, 'clever': 5.824305715904762, 'come': 5.824305715904762, 'crap': 5.824305715904762, 'day': 5.824305715904762, 'different': 5.824305715904762, 'editing': 5.824305715904762, 'enjoy': 5.824305715904762, 'face': 5.824305715904762, 'fails': 5.824305715904762, 'fans': 5.824305715904762, 'felt': 5.824305715904762, 'fine': 5.824305715904762, 'flick': 5.824305715904762, 'full': 5.824305715904762, 'fun': 5.824305715904762, 'gave': 5.824305715904762, 'gives': 5.824305715904762, 'guess': 5.824305715904762, 'horrible': 5.824305715904762, 'involved': 5.824305715904762, 'john': 5.824305715904762, 'joy': 5.824305715904762, 'lacks': 5.824305715904762, 'lame': 5.824305715904762, 'lead': 5.824305715904762, 'let': 5.824305715904762, 'low': 5.824305715904762, 'mention': 5.824305715904762, 'mind': 5.824305715904762, 'money': 5.824305715904762, 'new': 5.824305715904762, 'night': 5.824305715904762, 'oh': 5.824305715904762, 'overall': 5.824305715904762, 'particularly': 5.824305715904762, 'production': 5.824305715904762, 'put': 5.824305715904762, 'ridiculous': 5.824305715904762, 'shot': 5.824305715904762, 'since': 5.824305715904762, 'single': 5.824305715904762, 'solid': 5.824305715904762, 'started': 5.824305715904762, 'strong': 5.824305715904762, 'superb': 5.824305715904762, 'talk': 5.824305715904762, 'times': 5.824305715904762, 'tom': 5.824305715904762, 'wasted': 5.824305715904762, 'word': 5.824305715904762, 'works': 5.824305715904762, 'world': 5.824305715904762, 'yet': 5.824305715904762, 'amazing': 5.670155036077504, 'annoying': 5.670155036077504, 'believable': 5.670155036077504, 'brilliant': 5.670155036077504, 'casting': 5.670155036077504, 'classic': 5.670155036077504, 'disappointed': 5.670155036077504, 'done': 5.670155036077504, 'entire': 5.670155036077504, 'experience': 5.670155036077504, 'gets': 5.670155036077504, 'half': 5.670155036077504, 'hilarious': 5.670155036077504, 'history': 5.670155036077504, 'human': 5.670155036077504, 'making': 5.670155036077504, 'memorable': 5.670155036077504, 'mostly': 5.670155036077504, 'nice': 5.670155036077504, 'old': 5.670155036077504, 'perfect': 5.670155036077504, 'poor': 5.670155036077504, 'portrayal': 5.670155036077504, 'rather': 5.670155036077504, 'recommended': 5.670155036077504, 'rent': 5.670155036077504, 'second': 5.670155036077504, 'self': 5.670155036077504, 'slow': 5.670155036077504, 'sound': 5.670155036077504, 'style': 5.670155036077504, 'subtle': 5.670155036077504, 'take': 5.670155036077504, 'throughout': 5.670155036077504, 'use': 5.670155036077504, 'want': 5.670155036077504, 'whatever': 5.670155036077504, 'whole': 5.670155036077504, 'action': 5.536623643452981, 'budget': 5.536623643452981, 'certainly': 5.536623643452981, 'cheap': 5.536623643452981, 'cinema': 5.536623643452981, 'comedy': 5.536623643452981, 'cool': 5.536623643452981, 'family': 5.536623643452981, 'far': 5.536623643452981, 'found': 5.536623643452981, 'garbage': 5.536623643452981, 'girl': 5.536623643452981, 'least': 5.536623643452981, 'line': 5.536623643452981, 'lines': 5.536623643452981, 'lot': 5.536623643452981, 'mess': 5.536623643452981, 'must': 5.536623643452981, 'playing': 5.536623643452981, 'probably': 5.536623643452981, 'seeing': 5.536623643452981, 'together': 5.536623643452981, 'top': 5.536623643452981, 'tv': 5.536623643452981, 'used': 5.536623643452981, 'written': 5.536623643452981, 'anything': 5.418840607796598, 'believe': 5.418840607796598, 'directing': 5.418840607796598, 'drama': 5.418840607796598, 'effects': 5.418840607796598, 'enjoyed': 5.418840607796598, 'especially': 5.418840607796598, 'everyone': 5.418840607796598, 'fact': 5.418840607796598, 'feeling': 5.418840607796598, 'got': 5.418840607796598, 'horror': 5.418840607796598, 'kids': 5.418840607796598, 'kind': 5.418840607796598, 'long': 5.418840607796598, 'makes': 5.418840607796598, 'minutes': 5.418840607796598, 'series': 5.418840607796598, 'simply': 5.418840607796598, 'special': 5.418840607796598, 'suspense': 5.418840607796598, 'truly': 5.418840607796598, 'watched': 5.418840607796598, 'white': 5.418840607796598, 'absolutely': 5.3134800921387715, 'actor': 5.3134800921387715, 'almost': 5.3134800921387715, 'black': 5.3134800921387715, 'boring': 5.3134800921387715, 'cinematography': 5.3134800921387715, 'definitely': 5.3134800921387715, 'director': 5.3134800921387715, 'highly': 5.3134800921387715, 'job': 5.3134800921387715, 'liked': 5.3134800921387715, 'loved': 5.3134800921387715, 'play': 5.3134800921387715, 'quite': 5.3134800921387715, 'screen': 5.3134800921387715, 'two': 5.3134800921387715, 'understand': 5.3134800921387715, 'actually': 5.218169912334447, 'art': 5.218169912334447, 'beautiful': 5.218169912334447, 'big': 5.218169912334447, 'camera': 5.218169912334447, 'enough': 5.218169912334447, 'find': 5.218169912334447, 'first': 5.218169912334447, 'give': 5.218169912334447, 'going': 5.218169912334447, 'however': 5.218169912334447, 'piece': 5.218169912334447, 'played': 5.218169912334447, 'predictable': 5.218169912334447, 'terrible': 5.218169912334447, 'worse': 5.218169912334447, 'worst': 5.218169912334447, 'dialogue': 5.131158535344817, 'end': 5.131158535344817, 'ending': 5.131158535344817, 'interesting': 5.131158535344817, 'man': 5.131158535344817, 'nothing': 5.131158535344817, 'part': 5.131158535344817, 'say': 5.131158535344817, 'scene': 5.131158535344817, 'short': 5.131158535344817, 'thing': 5.131158535344817, 'though': 5.131158535344817, 'everything': 5.05111582767128, 'get': 5.05111582767128, 'go': 5.05111582767128, 'life': 5.05111582767128, 'performance': 5.05111582767128, 'recommend': 5.05111582767128, 'right': 5.05111582767128, 'saw': 5.05111582767128, 'things': 5.05111582767128, 'thought': 5.05111582767128, 'totally': 5.05111582767128, 'years': 5.05111582767128, 'awful': 4.9770078555175585, 'excellent': 4.9770078555175585, 'people': 4.9770078555175585, 'pretty': 4.9770078555175585, 'stupid': 4.9770078555175585, 'waste': 4.9770078555175585, 'worth': 4.9770078555175585, 'writing': 4.9770078555175585, 'know': 4.908014984030608, 'many': 4.908014984030608, 'music': 4.908014984030608, 'still': 4.908014984030608, 'anyone': 4.843476462893037, 'every': 4.843476462893037, 'better': 4.782851841076601, 'funny': 4.782851841076601, 'scenes': 4.782851841076601, 'show': 4.782851841076601, 'little': 4.725693427236653, 'much': 4.725693427236653, 'never': 4.725693427236653, 'watch': 4.725693427236653, 'actors': 4.671626205966376, 'cast': 4.671626205966376, 'films': 4.671626205966376, 'make': 4.671626205966376, 'script': 4.671626205966376, 'think': 4.671626205966376, 'watching': 4.671626205966376, 'wonderful': 4.671626205966376, 'work': 4.671626205966376, 'look': 4.620332911578826, 'best': 4.571542747409394, 'character': 4.571542747409394, 'love': 4.571542747409394, 'real': 4.571542747409394, 'story': 4.571542747409394, 'way': 4.525022731774501, 'ever': 4.480570969203668, 'made': 4.480570969203668, 'movies': 4.480570969203668, 'seen': 4.480570969203668, 'also': 4.397189360264616, 'could': 4.397189360264616, 'no': 4.357968647111335, 'plot': 4.357968647111335, 'would': 4.283860674957613, 'great': 4.182077980647671, 'characters': 4.150329282333091, 'well': 4.119557623666337, 'really': 4.089704660516656, 'even': 4.0325462466767075, 'see': 4.0325462466767075, 'like': 4.005147272488593, 'acting': 3.9784790254064317, 'time': 3.9525035390031706, 'good': 3.7874237886437223, 'bad': 3.627081138568543, 'one': 3.573013917298267, 'not': 2.897566313837723, 'film': 2.771878098674226, 'movie': 2.7182253851819063}\n",
            "50\n",
            "{'aailiyah': 6.922918004572872, 'abandoned': 6.922918004572872, 'abroad': 6.922918004572872, 'abstruse': 6.922918004572872, 'academy': 6.922918004572872, 'accents': 6.922918004572872, 'accessible': 6.922918004572872, 'acclaimed': 6.922918004572872, 'accolades': 6.922918004572872, 'accurate': 6.922918004572872, 'accurately': 6.922918004572872, 'achille': 6.922918004572872, 'ackerman': 6.922918004572872, 'actions': 6.922918004572872, 'adams': 6.922918004572872, 'add': 6.922918004572872, 'added': 6.922918004572872, 'admins': 6.922918004572872, 'admiration': 6.922918004572872, 'admitted': 6.922918004572872, 'adrift': 6.922918004572872, 'adventure': 6.922918004572872, 'aesthetically': 6.922918004572872, 'affected': 6.922918004572872, 'affleck': 6.922918004572872, 'afternoon': 6.922918004572872, 'aged': 6.922918004572872, 'ages': 6.922918004572872, 'agree': 6.922918004572872, 'agreed': 6.922918004572872, 'aimless': 6.922918004572872, 'aired': 6.922918004572872, 'akasha': 6.922918004572872, 'akin': 6.922918004572872, 'alert': 6.922918004572872, 'alike': 6.922918004572872, 'allison': 6.922918004572872, 'allow': 6.922918004572872, 'allowing': 6.922918004572872, 'alongside': 6.922918004572872, 'amateurish': 6.922918004572872, 'amaze': 6.922918004572872, 'amazed': 6.922918004572872, 'amazingly': 6.922918004572872, 'amusing': 6.922918004572872, 'amust': 6.922918004572872, 'anatomist': 6.922918004572872, 'angel': 6.922918004572872, 'angela': 6.922918004572872, 'angelina': 6.922918004572872}\n"
          ],
          "name": "stdout"
        }
      ]
    },
    {
      "cell_type": "code",
      "metadata": {
        "id": "-zfceS1mz_3d",
        "colab_type": "code",
        "colab": {
          "base_uri": "https://localhost:8080/",
          "height": 70
        },
        "outputId": "47aafae9-dd43-4391-997c-c4f57f084dd2"
      },
      "source": [
        "#Voacb is all words arranged in alpahabetic order\n",
        "#we are getting all that from top50_idf_idfvalues.keys() and sorting them \n",
        "\n",
        "top50_vocab = sorted(list(top50_idf_values.keys()))\n",
        "print(top50_vocab)\n",
        "\n",
        "top50_vocab = {word:idx for idx,word in enumerate(top50_vocab)}\n",
        "print(top50_vocab)"
      ],
      "execution_count": null,
      "outputs": [
        {
          "output_type": "stream",
          "text": [
            "['aailiyah', 'abandoned', 'abroad', 'abstruse', 'academy', 'accents', 'accessible', 'acclaimed', 'accolades', 'accurate', 'accurately', 'achille', 'ackerman', 'actions', 'adams', 'add', 'added', 'admins', 'admiration', 'admitted', 'adrift', 'adventure', 'aesthetically', 'affected', 'affleck', 'afternoon', 'aged', 'ages', 'agree', 'agreed', 'aimless', 'aired', 'akasha', 'akin', 'alert', 'alike', 'allison', 'allow', 'allowing', 'alongside', 'amateurish', 'amaze', 'amazed', 'amazingly', 'amusing', 'amust', 'anatomist', 'angel', 'angela', 'angelina']\n",
            "{'aailiyah': 0, 'abandoned': 1, 'abroad': 2, 'abstruse': 3, 'academy': 4, 'accents': 5, 'accessible': 6, 'acclaimed': 7, 'accolades': 8, 'accurate': 9, 'accurately': 10, 'achille': 11, 'ackerman': 12, 'actions': 13, 'adams': 14, 'add': 15, 'added': 16, 'admins': 17, 'admiration': 18, 'admitted': 19, 'adrift': 20, 'adventure': 21, 'aesthetically': 22, 'affected': 23, 'affleck': 24, 'afternoon': 25, 'aged': 26, 'ages': 27, 'agree': 28, 'agreed': 29, 'aimless': 30, 'aired': 31, 'akasha': 32, 'akin': 33, 'alert': 34, 'alike': 35, 'allison': 36, 'allow': 37, 'allowing': 38, 'alongside': 39, 'amateurish': 40, 'amaze': 41, 'amazed': 42, 'amazingly': 43, 'amusing': 44, 'amust': 45, 'anatomist': 46, 'angel': 47, 'angela': 48, 'angelina': 49}\n"
          ],
          "name": "stdout"
        }
      ]
    },
    {
      "cell_type": "code",
      "metadata": {
        "id": "N9opzBvf38tN",
        "colab_type": "code",
        "colab": {
          "base_uri": "https://localhost:8080/",
          "height": 857
        },
        "outputId": "d0c9468d-b43c-4c56-b4a1-24c602a584f0"
      },
      "source": [
        "top50_idf_values"
      ],
      "execution_count": null,
      "outputs": [
        {
          "output_type": "execute_result",
          "data": {
            "text/plain": [
              "{'aailiyah': 6.922918004572872,\n",
              " 'abandoned': 6.922918004572872,\n",
              " 'abroad': 6.922918004572872,\n",
              " 'abstruse': 6.922918004572872,\n",
              " 'academy': 6.922918004572872,\n",
              " 'accents': 6.922918004572872,\n",
              " 'accessible': 6.922918004572872,\n",
              " 'acclaimed': 6.922918004572872,\n",
              " 'accolades': 6.922918004572872,\n",
              " 'accurate': 6.922918004572872,\n",
              " 'accurately': 6.922918004572872,\n",
              " 'achille': 6.922918004572872,\n",
              " 'ackerman': 6.922918004572872,\n",
              " 'actions': 6.922918004572872,\n",
              " 'adams': 6.922918004572872,\n",
              " 'add': 6.922918004572872,\n",
              " 'added': 6.922918004572872,\n",
              " 'admins': 6.922918004572872,\n",
              " 'admiration': 6.922918004572872,\n",
              " 'admitted': 6.922918004572872,\n",
              " 'adrift': 6.922918004572872,\n",
              " 'adventure': 6.922918004572872,\n",
              " 'aesthetically': 6.922918004572872,\n",
              " 'affected': 6.922918004572872,\n",
              " 'affleck': 6.922918004572872,\n",
              " 'afternoon': 6.922918004572872,\n",
              " 'aged': 6.922918004572872,\n",
              " 'ages': 6.922918004572872,\n",
              " 'agree': 6.922918004572872,\n",
              " 'agreed': 6.922918004572872,\n",
              " 'aimless': 6.922918004572872,\n",
              " 'aired': 6.922918004572872,\n",
              " 'akasha': 6.922918004572872,\n",
              " 'akin': 6.922918004572872,\n",
              " 'alert': 6.922918004572872,\n",
              " 'alike': 6.922918004572872,\n",
              " 'allison': 6.922918004572872,\n",
              " 'allow': 6.922918004572872,\n",
              " 'allowing': 6.922918004572872,\n",
              " 'alongside': 6.922918004572872,\n",
              " 'amateurish': 6.922918004572872,\n",
              " 'amaze': 6.922918004572872,\n",
              " 'amazed': 6.922918004572872,\n",
              " 'amazingly': 6.922918004572872,\n",
              " 'amusing': 6.922918004572872,\n",
              " 'amust': 6.922918004572872,\n",
              " 'anatomist': 6.922918004572872,\n",
              " 'angel': 6.922918004572872,\n",
              " 'angela': 6.922918004572872,\n",
              " 'angelina': 6.922918004572872}"
            ]
          },
          "metadata": {
            "tags": []
          },
          "execution_count": 34
        }
      ]
    },
    {
      "cell_type": "code",
      "metadata": {
        "id": "cubcO0lF38o-",
        "colab_type": "code",
        "colab": {}
      },
      "source": [
        ""
      ],
      "execution_count": null,
      "outputs": []
    },
    {
      "cell_type": "code",
      "metadata": {
        "id": "BbYjWbVH38mu",
        "colab_type": "code",
        "colab": {}
      },
      "source": [
        "vocab,idf_values = fit_TF_IDF(corpus)"
      ],
      "execution_count": null,
      "outputs": []
    },
    {
      "cell_type": "code",
      "metadata": {
        "id": "Xe_N09T92Zf7",
        "colab_type": "code",
        "colab": {
          "base_uri": "https://localhost:8080/",
          "height": 54
        },
        "outputId": "c84b77a1-2de3-4faf-9196-72f2b2de783b"
      },
      "source": [
        "print(list(idf_values.values()))"
      ],
      "execution_count": null,
      "outputs": [
        {
          "output_type": "stream",
          "text": [
            "[6.922918004572872, 6.922918004572872, 6.229770824012927, 6.922918004572872, 5.3134800921387715, 6.922918004572872, 6.517452896464707, 6.922918004572872, 6.922918004572872, 6.922918004572872, 6.922918004572872, 6.922918004572872, 6.922918004572872, 6.922918004572872, 6.517452896464707, 6.517452896464707, 6.922918004572872, 6.922918004572872, 6.517452896464707, 6.229770824012927, 3.9784790254064317, 5.536623643452981, 6.922918004572872, 5.3134800921387715, 4.671626205966376, 6.229770824012927, 6.229770824012927, 5.218169912334447, 6.922918004572872, 6.517452896464707, 6.922918004572872, 6.922918004572872, 6.229770824012927, 6.922918004572872, 6.922918004572872, 6.922918004572872, 6.006627272698717, 6.922918004572872, 6.922918004572872, 6.517452896464707, 6.229770824012927, 6.922918004572872, 6.922918004572872, 6.922918004572872, 6.517452896464707, 6.517452896464707, 6.922918004572872, 6.006627272698717, 6.922918004572872, 6.922918004572872, 6.517452896464707, 6.922918004572872, 6.922918004572872, 6.922918004572872, 6.517452896464707, 6.922918004572872, 6.922918004572872, 6.922918004572872, 6.922918004572872, 6.517452896464707, 6.922918004572872, 6.922918004572872, 6.922918004572872, 6.922918004572872, 5.3134800921387715, 6.229770824012927, 6.922918004572872, 6.006627272698717, 4.397189360264616, 6.229770824012927, 6.006627272698717, 6.922918004572872, 6.922918004572872, 6.922918004572872, 5.670155036077504, 6.922918004572872, 6.517452896464707, 6.517452896464707, 6.517452896464707, 6.517452896464707, 5.824305715904762, 6.922918004572872, 6.922918004572872, 6.922918004572872, 6.922918004572872, 6.922918004572872, 6.517452896464707, 6.922918004572872, 6.922918004572872, 6.517452896464707, 6.922918004572872, 6.922918004572872, 6.922918004572872, 6.922918004572872, 6.922918004572872, 6.517452896464707, 6.922918004572872, 6.922918004572872, 6.229770824012927, 6.922918004572872, 5.670155036077504, 5.824305715904762, 6.922918004572872, 6.922918004572872, 4.843476462893037, 5.418840607796598, 6.922918004572872, 6.922918004572872, 6.517452896464707, 6.517452896464707, 6.229770824012927, 6.922918004572872, 6.922918004572872, 6.922918004572872, 6.229770824012927, 6.922918004572872, 6.922918004572872, 6.922918004572872, 6.922918004572872, 6.922918004572872, 5.824305715904762, 6.922918004572872, 5.218169912334447, 6.922918004572872, 6.922918004572872, 6.517452896464707, 6.922918004572872, 6.922918004572872, 6.922918004572872, 6.517452896464707, 6.517452896464707, 6.517452896464707, 6.517452896464707, 6.922918004572872, 6.517452896464707, 6.922918004572872, 6.922918004572872, 6.922918004572872, 6.922918004572872, 6.922918004572872, 6.922918004572872, 6.922918004572872, 6.922918004572872, 6.006627272698717, 6.922918004572872, 6.922918004572872, 6.517452896464707, 6.517452896464707, 6.922918004572872, 5.824305715904762, 6.922918004572872, 6.922918004572872, 6.922918004572872, 6.922918004572872, 6.922918004572872, 6.229770824012927, 6.922918004572872, 5.824305715904762, 6.922918004572872, 6.922918004572872, 6.922918004572872, 6.922918004572872, 5.824305715904762, 6.229770824012927, 4.9770078555175585, 6.922918004572872, 6.922918004572872, 6.922918004572872, 6.922918004572872, 6.922918004572872, 6.922918004572872, 6.922918004572872, 6.006627272698717, 6.922918004572872, 6.922918004572872, 3.627081138568543, 6.517452896464707, 6.922918004572872, 6.922918004572872, 6.922918004572872, 6.517452896464707, 6.517452896464707, 6.922918004572872, 6.922918004572872, 6.922918004572872, 6.922918004572872, 6.922918004572872, 6.006627272698717, 6.922918004572872, 6.922918004572872, 6.922918004572872, 6.922918004572872, 6.922918004572872, 6.517452896464707, 6.922918004572872, 6.922918004572872, 6.922918004572872, 6.517452896464707, 5.218169912334447, 6.517452896464707, 6.922918004572872, 6.517452896464707, 6.922918004572872, 6.006627272698717, 6.922918004572872, 6.517452896464707, 6.517452896464707, 6.006627272698717, 6.922918004572872, 6.922918004572872, 6.922918004572872, 5.670155036077504, 5.418840607796598, 6.922918004572872, 6.922918004572872, 6.922918004572872, 6.922918004572872, 6.922918004572872, 6.922918004572872, 6.922918004572872, 6.922918004572872, 6.922918004572872, 6.922918004572872, 4.571542747409394, 4.782851841076601, 6.517452896464707, 6.922918004572872, 5.824305715904762, 6.922918004572872, 5.218169912334447, 6.922918004572872, 6.229770824012927, 6.922918004572872, 6.922918004572872, 5.824305715904762, 6.922918004572872, 5.3134800921387715, 6.922918004572872, 6.922918004572872, 6.922918004572872, 6.922918004572872, 6.922918004572872, 6.922918004572872, 6.922918004572872, 6.517452896464707, 6.922918004572872, 6.922918004572872, 6.922918004572872, 6.922918004572872, 6.922918004572872, 6.922918004572872, 6.922918004572872, 6.922918004572872, 6.517452896464707, 6.922918004572872, 6.922918004572872, 6.922918004572872, 6.922918004572872, 6.922918004572872, 6.922918004572872, 6.922918004572872, 6.006627272698717, 6.922918004572872, 6.922918004572872, 6.922918004572872, 6.922918004572872, 6.922918004572872, 6.229770824012927, 6.006627272698717, 5.3134800921387715, 6.922918004572872, 6.922918004572872, 6.517452896464707, 6.922918004572872, 6.229770824012927, 6.922918004572872, 6.922918004572872, 6.922918004572872, 6.229770824012927, 6.922918004572872, 6.922918004572872, 6.922918004572872, 6.922918004572872, 6.922918004572872, 6.517452896464707, 6.517452896464707, 6.922918004572872, 6.922918004572872, 6.229770824012927, 5.670155036077504, 6.922918004572872, 6.517452896464707, 6.922918004572872, 6.922918004572872, 6.922918004572872, 6.922918004572872, 6.922918004572872, 6.922918004572872, 6.922918004572872, 5.536623643452981, 6.922918004572872, 6.922918004572872, 6.922918004572872, 6.922918004572872, 6.922918004572872, 6.922918004572872, 6.517452896464707, 6.922918004572872, 6.517452896464707, 6.922918004572872, 6.517452896464707, 6.517452896464707, 6.922918004572872, 6.922918004572872, 6.922918004572872, 6.517452896464707, 6.229770824012927, 6.922918004572872, 6.006627272698717, 6.922918004572872, 5.218169912334447, 6.922918004572872, 6.922918004572872, 6.922918004572872, 6.517452896464707, 6.922918004572872, 6.922918004572872, 6.922918004572872, 6.517452896464707, 6.922918004572872, 6.922918004572872, 6.922918004572872, 6.922918004572872, 6.922918004572872, 6.922918004572872, 6.517452896464707, 6.922918004572872, 5.824305715904762, 6.922918004572872, 6.922918004572872, 6.922918004572872, 6.922918004572872, 6.922918004572872, 6.229770824012927, 6.517452896464707, 6.517452896464707, 6.922918004572872, 4.671626205966376, 6.922918004572872, 5.670155036077504, 6.922918004572872, 6.922918004572872, 6.922918004572872, 6.517452896464707, 6.517452896464707, 6.922918004572872, 6.922918004572872, 6.922918004572872, 6.922918004572872, 6.517452896464707, 6.517452896464707, 6.922918004572872, 5.536623643452981, 6.922918004572872, 6.922918004572872, 6.922918004572872, 6.922918004572872, 6.517452896464707, 6.517452896464707, 6.922918004572872, 6.922918004572872, 6.922918004572872, 4.571542747409394, 6.922918004572872, 4.150329282333091, 6.517452896464707, 6.922918004572872, 6.517452896464707, 6.922918004572872, 6.517452896464707, 6.229770824012927, 6.922918004572872, 6.922918004572872, 5.536623643452981, 6.922918004572872, 6.922918004572872, 6.229770824012927, 6.922918004572872, 6.922918004572872, 6.922918004572872, 6.922918004572872, 6.922918004572872, 6.517452896464707, 6.006627272698717, 6.517452896464707, 5.824305715904762, 6.517452896464707, 6.229770824012927, 6.922918004572872, 6.922918004572872, 6.922918004572872, 6.922918004572872, 6.922918004572872, 6.922918004572872, 6.922918004572872, 6.922918004572872, 6.922918004572872, 6.922918004572872, 6.517452896464707, 6.922918004572872, 6.517452896464707, 5.536623643452981, 6.922918004572872, 6.922918004572872, 5.3134800921387715, 6.922918004572872, 6.922918004572872, 5.670155036077504, 6.922918004572872, 6.922918004572872, 6.517452896464707, 5.824305715904762, 6.229770824012927, 6.922918004572872, 6.922918004572872, 6.922918004572872, 6.922918004572872, 6.229770824012927, 6.922918004572872, 6.922918004572872, 6.922918004572872, 6.922918004572872, 6.922918004572872, 6.922918004572872, 6.922918004572872, 6.922918004572872, 6.922918004572872, 6.922918004572872, 6.517452896464707, 6.922918004572872, 6.922918004572872, 6.922918004572872, 6.922918004572872, 6.922918004572872, 6.922918004572872, 5.824305715904762, 6.922918004572872, 5.536623643452981, 6.006627272698717, 6.922918004572872, 6.922918004572872, 6.922918004572872, 6.229770824012927, 6.922918004572872, 6.922918004572872, 6.922918004572872, 6.922918004572872, 6.922918004572872, 6.922918004572872, 6.922918004572872, 6.922918004572872, 6.517452896464707, 6.922918004572872, 6.229770824012927, 6.922918004572872, 6.006627272698717, 6.517452896464707, 6.922918004572872, 6.922918004572872, 6.517452896464707, 6.922918004572872, 6.922918004572872, 6.517452896464707, 6.922918004572872, 6.922918004572872, 6.922918004572872, 6.922918004572872, 6.922918004572872, 6.922918004572872, 6.229770824012927, 6.922918004572872, 6.922918004572872, 6.922918004572872, 6.922918004572872, 6.229770824012927, 6.922918004572872, 6.922918004572872, 6.922918004572872, 6.517452896464707, 6.922918004572872, 6.922918004572872, 6.922918004572872, 6.006627272698717, 6.922918004572872, 6.922918004572872, 6.517452896464707, 6.922918004572872, 6.922918004572872, 6.922918004572872, 6.922918004572872, 6.922918004572872, 6.922918004572872, 6.517452896464707, 6.922918004572872, 6.517452896464707, 6.922918004572872, 6.922918004572872, 6.922918004572872, 6.922918004572872, 6.517452896464707, 6.922918004572872, 6.922918004572872, 6.517452896464707, 6.922918004572872, 6.922918004572872, 6.922918004572872, 6.517452896464707, 6.922918004572872, 6.922918004572872, 6.922918004572872, 6.922918004572872, 6.006627272698717, 6.922918004572872, 5.536623643452981, 6.517452896464707, 6.922918004572872, 6.517452896464707, 6.922918004572872, 6.922918004572872, 6.922918004572872, 6.517452896464707, 6.229770824012927, 6.922918004572872, 6.922918004572872, 4.397189360264616, 6.922918004572872, 6.229770824012927, 6.922918004572872, 6.517452896464707, 6.006627272698717, 6.922918004572872, 6.922918004572872, 6.922918004572872, 6.517452896464707, 5.824305715904762, 6.922918004572872, 6.922918004572872, 6.922918004572872, 6.922918004572872, 6.517452896464707, 6.517452896464707, 6.006627272698717, 6.517452896464707, 6.922918004572872, 6.922918004572872, 6.922918004572872, 6.922918004572872, 6.517452896464707, 6.922918004572872, 6.922918004572872, 6.922918004572872, 6.922918004572872, 6.922918004572872, 6.922918004572872, 6.922918004572872, 6.922918004572872, 6.922918004572872, 6.517452896464707, 6.922918004572872, 6.922918004572872, 6.922918004572872, 6.922918004572872, 6.006627272698717, 6.517452896464707, 6.922918004572872, 6.922918004572872, 6.517452896464707, 6.922918004572872, 6.922918004572872, 6.922918004572872, 6.922918004572872, 6.922918004572872, 6.922918004572872, 6.922918004572872, 6.922918004572872, 6.006627272698717, 6.517452896464707, 6.517452896464707, 6.517452896464707, 6.922918004572872, 6.517452896464707, 6.922918004572872, 5.824305715904762, 6.922918004572872, 6.517452896464707, 6.517452896464707, 6.922918004572872, 6.922918004572872, 6.922918004572872, 6.922918004572872, 6.006627272698717, 6.922918004572872, 6.922918004572872, 6.922918004572872, 6.922918004572872, 6.517452896464707, 6.229770824012927, 6.922918004572872, 6.922918004572872, 6.922918004572872, 6.517452896464707, 6.922918004572872, 6.922918004572872, 6.517452896464707, 6.922918004572872, 6.922918004572872, 5.3134800921387715, 6.922918004572872, 6.517452896464707, 6.922918004572872, 6.922918004572872, 6.922918004572872, 6.922918004572872, 6.517452896464707, 6.229770824012927, 6.922918004572872, 6.922918004572872, 6.922918004572872, 6.922918004572872, 6.517452896464707, 6.517452896464707, 6.006627272698717, 6.922918004572872, 6.517452896464707, 6.922918004572872, 6.922918004572872, 6.517452896464707, 6.517452896464707, 6.517452896464707, 6.922918004572872, 6.922918004572872, 6.922918004572872, 6.922918004572872, 6.922918004572872, 6.922918004572872, 6.517452896464707, 6.922918004572872, 6.922918004572872, 6.922918004572872, 6.922918004572872, 6.922918004572872, 6.922918004572872, 6.922918004572872, 6.922918004572872, 6.229770824012927, 6.922918004572872, 5.131158535344817, 6.922918004572872, 6.922918004572872, 6.922918004572872, 5.824305715904762, 6.922918004572872, 6.922918004572872, 6.922918004572872, 6.229770824012927, 5.418840607796598, 6.006627272698717, 5.3134800921387715, 6.517452896464707, 6.922918004572872, 5.670155036077504, 6.517452896464707, 6.517452896464707, 6.517452896464707, 6.922918004572872, 6.922918004572872, 6.517452896464707, 6.922918004572872, 6.922918004572872, 6.922918004572872, 6.517452896464707, 6.517452896464707, 6.922918004572872, 6.922918004572872, 6.922918004572872, 6.922918004572872, 6.922918004572872, 6.922918004572872, 6.922918004572872, 6.517452896464707, 6.922918004572872, 6.517452896464707, 6.517452896464707, 6.229770824012927, 6.922918004572872, 6.517452896464707, 6.922918004572872, 6.922918004572872, 5.670155036077504, 6.922918004572872, 6.922918004572872, 6.922918004572872, 6.922918004572872, 6.922918004572872, 6.922918004572872, 6.922918004572872, 6.922918004572872, 6.922918004572872, 6.922918004572872, 6.922918004572872, 6.229770824012927, 5.418840607796598, 6.517452896464707, 6.922918004572872, 6.922918004572872, 6.922918004572872, 6.517452896464707, 6.922918004572872, 6.922918004572872, 6.922918004572872, 6.922918004572872, 6.229770824012927, 6.922918004572872, 6.922918004572872, 6.922918004572872, 6.229770824012927, 6.517452896464707, 6.517452896464707, 6.517452896464707, 6.922918004572872, 6.922918004572872, 6.922918004572872, 6.922918004572872, 6.229770824012927, 6.922918004572872, 6.922918004572872, 6.229770824012927, 6.229770824012927, 6.517452896464707, 6.229770824012927, 6.229770824012927, 6.922918004572872, 6.922918004572872, 6.922918004572872, 6.922918004572872, 6.229770824012927, 6.517452896464707, 5.824305715904762, 6.922918004572872, 6.922918004572872, 6.922918004572872, 6.922918004572872, 6.229770824012927, 5.418840607796598, 6.922918004572872, 6.922918004572872, 6.922918004572872, 6.922918004572872, 6.922918004572872, 6.229770824012927, 6.922918004572872, 6.922918004572872, 6.922918004572872, 6.517452896464707, 6.922918004572872, 6.922918004572872, 6.006627272698717, 6.922918004572872, 6.922918004572872, 6.229770824012927, 6.922918004572872, 6.922918004572872, 6.517452896464707, 6.517452896464707, 6.922918004572872, 6.922918004572872, 6.922918004572872, 6.517452896464707, 6.922918004572872, 6.922918004572872, 6.922918004572872, 6.517452896464707, 6.922918004572872, 6.922918004572872, 5.131158535344817, 6.922918004572872, 6.922918004572872, 5.131158535344817, 6.922918004572872, 6.922918004572872, 6.922918004572872, 6.006627272698717, 6.517452896464707, 6.922918004572872, 6.922918004572872, 5.824305715904762, 6.229770824012927, 5.418840607796598, 6.922918004572872, 5.218169912334447, 6.922918004572872, 6.922918004572872, 6.922918004572872, 6.006627272698717, 5.670155036077504, 6.517452896464707, 6.922918004572872, 6.229770824012927, 6.922918004572872, 6.922918004572872, 6.517452896464707, 6.517452896464707, 6.922918004572872, 6.922918004572872, 6.922918004572872, 5.418840607796598, 6.922918004572872, 6.922918004572872, 6.922918004572872, 6.922918004572872, 6.922918004572872, 6.229770824012927, 6.517452896464707, 6.922918004572872, 4.0325462466767075, 6.922918004572872, 4.480570969203668, 4.843476462893037, 6.922918004572872, 5.418840607796598, 5.05111582767128, 6.922918004572872, 6.922918004572872, 6.517452896464707, 6.922918004572872, 6.922918004572872, 6.229770824012927, 6.922918004572872, 6.229770824012927, 4.9770078555175585, 6.517452896464707, 6.922918004572872, 6.517452896464707, 6.922918004572872, 6.922918004572872, 6.922918004572872, 6.922918004572872, 6.922918004572872, 6.922918004572872, 6.922918004572872, 6.922918004572872, 6.922918004572872, 6.922918004572872, 6.922918004572872, 6.922918004572872, 6.922918004572872, 6.006627272698717, 6.922918004572872, 6.922918004572872, 6.922918004572872, 5.670155036077504, 6.922918004572872, 6.922918004572872, 6.517452896464707, 6.922918004572872, 6.517452896464707, 6.922918004572872, 6.922918004572872, 6.922918004572872, 6.922918004572872, 6.517452896464707, 6.922918004572872, 6.922918004572872, 6.922918004572872, 6.922918004572872, 6.517452896464707, 6.517452896464707, 6.006627272698717, 6.922918004572872, 5.824305715904762, 6.922918004572872, 6.922918004572872, 6.922918004572872, 5.418840607796598, 6.922918004572872, 6.922918004572872, 5.824305715904762, 6.922918004572872, 6.922918004572872, 6.922918004572872, 6.517452896464707, 6.922918004572872, 6.922918004572872, 6.922918004572872, 6.922918004572872, 6.922918004572872, 6.922918004572872, 5.536623643452981, 6.922918004572872, 6.229770824012927, 6.922918004572872, 5.824305715904762, 6.229770824012927, 6.922918004572872, 5.536623643452981, 6.922918004572872, 6.922918004572872, 6.922918004572872, 6.517452896464707, 6.922918004572872, 6.922918004572872, 6.006627272698717, 6.922918004572872, 6.517452896464707, 6.922918004572872, 6.922918004572872, 6.922918004572872, 6.229770824012927, 6.922918004572872, 6.229770824012927, 6.229770824012927, 6.922918004572872, 6.229770824012927, 6.229770824012927, 5.418840607796598, 6.922918004572872, 6.922918004572872, 6.922918004572872, 6.922918004572872, 5.824305715904762, 6.517452896464707, 6.922918004572872, 6.922918004572872, 6.922918004572872, 6.517452896464707, 6.922918004572872, 6.922918004572872, 6.922918004572872, 6.922918004572872, 2.771878098674226, 6.517452896464707, 6.922918004572872, 6.922918004572872, 6.922918004572872, 4.671626205966376, 6.229770824012927, 6.922918004572872, 6.229770824012927, 6.922918004572872, 5.218169912334447, 6.922918004572872, 5.824305715904762, 6.922918004572872, 6.922918004572872, 6.922918004572872, 6.922918004572872, 5.218169912334447, 6.922918004572872, 6.922918004572872, 6.922918004572872, 6.922918004572872, 6.517452896464707, 6.922918004572872, 6.922918004572872, 6.922918004572872, 6.922918004572872, 6.517452896464707, 6.922918004572872, 6.517452896464707, 6.517452896464707, 6.922918004572872, 5.824305715904762, 6.922918004572872, 6.922918004572872, 6.922918004572872, 6.922918004572872, 6.517452896464707, 6.517452896464707, 6.922918004572872, 6.229770824012927, 6.517452896464707, 6.922918004572872, 6.922918004572872, 6.229770824012927, 6.922918004572872, 6.922918004572872, 6.922918004572872, 6.517452896464707, 6.922918004572872, 6.922918004572872, 6.922918004572872, 6.922918004572872, 6.517452896464707, 6.922918004572872, 6.922918004572872, 6.922918004572872, 6.922918004572872, 6.517452896464707, 6.922918004572872, 6.922918004572872, 6.922918004572872, 6.922918004572872, 6.922918004572872, 5.536623643452981, 6.922918004572872, 6.517452896464707, 6.922918004572872, 6.922918004572872, 6.922918004572872, 6.517452896464707, 6.229770824012927, 6.517452896464707, 6.922918004572872, 6.517452896464707, 6.517452896464707, 6.922918004572872, 6.517452896464707, 6.922918004572872, 6.229770824012927, 6.517452896464707, 6.922918004572872, 6.922918004572872, 6.922918004572872, 6.517452896464707, 6.922918004572872, 5.824305715904762, 6.922918004572872, 6.922918004572872, 5.824305715904762, 6.922918004572872, 6.922918004572872, 6.922918004572872, 4.782851841076601, 6.517452896464707, 6.517452896464707, 6.922918004572872, 6.922918004572872, 6.922918004572872, 6.922918004572872, 6.922918004572872, 6.922918004572872, 6.229770824012927, 6.229770824012927, 6.922918004572872, 5.536623643452981, 6.922918004572872, 6.922918004572872, 6.922918004572872, 6.922918004572872, 5.824305715904762, 6.922918004572872, 6.922918004572872, 6.229770824012927, 6.922918004572872, 6.006627272698717, 6.922918004572872, 6.922918004572872, 6.517452896464707, 6.517452896464707, 6.922918004572872, 6.229770824012927, 6.922918004572872, 6.922918004572872, 6.922918004572872, 5.05111582767128, 5.670155036077504, 6.922918004572872, 6.922918004572872, 6.229770824012927, 6.922918004572872, 6.922918004572872, 6.922918004572872, 5.536623643452981, 6.517452896464707, 6.922918004572872, 6.922918004572872, 5.218169912334447, 6.229770824012927, 5.824305715904762, 6.922918004572872, 6.229770824012927, 6.517452896464707, 6.922918004572872, 6.922918004572872, 5.05111582767128, 6.922918004572872, 6.006627272698717, 6.517452896464707, 5.218169912334447, 6.922918004572872, 6.517452896464707, 3.7874237886437223, 6.922918004572872, 6.922918004572872, 6.922918004572872, 6.922918004572872, 5.418840607796598, 6.922918004572872, 6.922918004572872, 6.922918004572872, 6.922918004572872, 6.229770824012927, 6.922918004572872, 6.922918004572872, 6.922918004572872, 6.922918004572872, 6.922918004572872, 6.922918004572872, 6.922918004572872, 4.182077980647671, 6.229770824012927, 6.922918004572872, 6.922918004572872, 6.922918004572872, 6.922918004572872, 6.922918004572872, 6.922918004572872, 6.517452896464707, 6.922918004572872, 6.922918004572872, 6.922918004572872, 6.922918004572872, 5.824305715904762, 6.922918004572872, 6.922918004572872, 6.922918004572872, 6.517452896464707, 6.922918004572872, 6.517452896464707, 6.922918004572872, 6.922918004572872, 6.922918004572872, 5.670155036077504, 6.922918004572872, 6.922918004572872, 6.517452896464707, 6.922918004572872, 6.517452896464707, 6.922918004572872, 6.517452896464707, 6.922918004572872, 6.922918004572872, 6.922918004572872, 6.229770824012927, 6.229770824012927, 6.922918004572872, 6.922918004572872, 6.229770824012927, 6.922918004572872, 6.517452896464707, 6.517452896464707, 6.922918004572872, 6.922918004572872, 6.922918004572872, 6.922918004572872, 6.922918004572872, 6.922918004572872, 6.229770824012927, 6.922918004572872, 6.517452896464707, 6.517452896464707, 6.229770824012927, 6.922918004572872, 6.922918004572872, 6.517452896464707, 6.922918004572872, 6.922918004572872, 6.922918004572872, 6.922918004572872, 6.517452896464707, 6.922918004572872, 6.922918004572872, 6.922918004572872, 6.922918004572872, 6.517452896464707, 6.517452896464707, 6.922918004572872, 6.922918004572872, 6.922918004572872, 6.922918004572872, 6.922918004572872, 6.922918004572872, 6.922918004572872, 6.922918004572872, 6.517452896464707, 6.922918004572872, 6.922918004572872, 6.922918004572872, 5.3134800921387715, 5.670155036077504, 6.229770824012927, 6.922918004572872, 6.922918004572872, 5.670155036077504, 6.229770824012927, 6.922918004572872, 6.922918004572872, 6.922918004572872, 6.922918004572872, 6.922918004572872, 6.922918004572872, 6.006627272698717, 6.922918004572872, 6.517452896464707, 6.517452896464707, 6.517452896464707, 6.922918004572872, 6.922918004572872, 6.922918004572872, 6.922918004572872, 6.006627272698717, 6.922918004572872, 6.922918004572872, 6.922918004572872, 6.922918004572872, 5.824305715904762, 6.922918004572872, 6.922918004572872, 5.418840607796598, 6.922918004572872, 6.922918004572872, 6.922918004572872, 6.006627272698717, 6.229770824012927, 6.229770824012927, 6.922918004572872, 6.922918004572872, 6.922918004572872, 6.922918004572872, 5.218169912334447, 6.006627272698717, 6.922918004572872, 5.670155036077504, 6.922918004572872, 6.922918004572872, 6.922918004572872, 6.922918004572872, 6.517452896464707, 6.517452896464707, 6.922918004572872, 6.229770824012927, 6.922918004572872, 6.922918004572872, 6.006627272698717, 6.922918004572872, 6.922918004572872, 6.922918004572872, 6.517452896464707, 6.517452896464707, 6.922918004572872, 6.922918004572872, 6.922918004572872, 6.922918004572872, 6.517452896464707, 6.006627272698717, 6.517452896464707, 6.922918004572872, 6.922918004572872, 6.922918004572872, 6.922918004572872, 6.922918004572872, 6.517452896464707, 6.517452896464707, 6.922918004572872, 6.517452896464707, 6.922918004572872, 6.517452896464707, 6.922918004572872, 6.922918004572872, 6.922918004572872, 6.922918004572872, 6.922918004572872, 6.922918004572872, 6.922918004572872, 6.229770824012927, 6.922918004572872, 6.922918004572872, 6.922918004572872, 6.006627272698717, 6.229770824012927, 6.006627272698717, 6.922918004572872, 6.922918004572872, 6.922918004572872, 6.922918004572872, 6.922918004572872, 6.922918004572872, 6.229770824012927, 6.517452896464707, 6.922918004572872, 6.922918004572872, 6.922918004572872, 6.922918004572872, 6.922918004572872, 6.922918004572872, 6.922918004572872, 6.922918004572872, 6.922918004572872, 6.922918004572872, 6.922918004572872, 6.922918004572872, 6.922918004572872, 6.517452896464707, 6.922918004572872, 6.922918004572872, 6.006627272698717, 6.922918004572872, 6.922918004572872, 6.922918004572872, 6.006627272698717, 6.006627272698717, 6.922918004572872, 6.922918004572872, 6.922918004572872, 6.922918004572872, 6.229770824012927, 6.517452896464707, 5.131158535344817, 6.922918004572872, 6.517452896464707, 6.922918004572872, 6.922918004572872, 6.922918004572872, 6.922918004572872, 6.922918004572872, 5.824305715904762, 6.922918004572872, 6.922918004572872, 6.922918004572872, 6.922918004572872, 6.922918004572872, 6.922918004572872, 6.922918004572872, 6.922918004572872, 6.922918004572872, 6.922918004572872, 6.922918004572872, 6.517452896464707, 6.922918004572872, 6.517452896464707, 6.922918004572872, 6.922918004572872, 6.922918004572872, 6.006627272698717, 6.517452896464707, 6.922918004572872, 6.922918004572872, 6.922918004572872, 6.922918004572872, 6.517452896464707, 6.922918004572872, 6.517452896464707, 6.922918004572872, 6.922918004572872, 6.922918004572872, 6.922918004572872, 6.922918004572872, 6.517452896464707, 5.3134800921387715, 6.517452896464707, 6.922918004572872, 5.824305715904762, 6.922918004572872, 6.517452896464707, 6.922918004572872, 6.517452896464707, 6.922918004572872, 6.517452896464707, 5.824305715904762, 6.922918004572872, 6.922918004572872, 6.922918004572872, 6.922918004572872, 6.922918004572872, 6.922918004572872, 6.922918004572872, 6.517452896464707, 6.922918004572872, 6.922918004572872, 6.922918004572872, 6.922918004572872, 6.922918004572872, 6.922918004572872, 6.006627272698717, 6.517452896464707, 6.922918004572872, 6.922918004572872, 6.922918004572872, 6.922918004572872, 6.922918004572872, 6.922918004572872, 5.418840607796598, 6.922918004572872, 6.922918004572872, 6.517452896464707, 6.517452896464707, 6.922918004572872, 5.418840607796598, 6.517452896464707, 6.922918004572872, 6.922918004572872, 6.229770824012927, 6.922918004572872, 6.922918004572872, 4.908014984030608, 6.517452896464707, 6.922918004572872, 6.922918004572872, 6.922918004572872, 6.922918004572872, 6.922918004572872, 6.922918004572872, 6.922918004572872, 6.922918004572872, 6.517452896464707, 5.824305715904762, 6.922918004572872, 6.922918004572872, 5.824305715904762, 6.922918004572872, 6.922918004572872, 6.517452896464707, 6.517452896464707, 6.922918004572872, 6.922918004572872, 6.922918004572872, 6.006627272698717, 6.922918004572872, 6.922918004572872, 6.922918004572872, 6.922918004572872, 6.922918004572872, 6.922918004572872, 6.922918004572872, 6.922918004572872, 6.517452896464707, 6.229770824012927, 6.922918004572872, 6.922918004572872, 6.922918004572872, 6.517452896464707, 5.824305715904762, 6.922918004572872, 6.922918004572872, 6.229770824012927, 5.536623643452981, 6.517452896464707, 6.517452896464707, 6.922918004572872, 6.922918004572872, 6.229770824012927, 6.922918004572872, 6.922918004572872, 6.517452896464707, 6.922918004572872, 6.006627272698717, 6.517452896464707, 6.922918004572872, 5.824305715904762, 6.922918004572872, 6.922918004572872, 6.006627272698717, 6.517452896464707, 6.922918004572872, 6.922918004572872, 6.922918004572872, 6.922918004572872, 6.922918004572872, 5.05111582767128, 6.922918004572872, 6.517452896464707, 6.517452896464707, 4.005147272488593, 5.3134800921387715, 6.517452896464707, 6.922918004572872, 6.922918004572872, 6.922918004572872, 6.922918004572872, 6.922918004572872, 5.536623643452981, 6.922918004572872, 5.536623643452981, 6.922918004572872, 6.229770824012927, 6.517452896464707, 6.517452896464707, 6.922918004572872, 4.725693427236653, 6.922918004572872, 6.517452896464707, 6.229770824012927, 6.517452896464707, 6.922918004572872, 6.517452896464707, 6.922918004572872, 6.922918004572872, 6.922918004572872, 6.922918004572872, 6.517452896464707, 5.418840607796598, 6.922918004572872, 4.620332911578826, 6.006627272698717, 6.229770824012927, 6.229770824012927, 6.922918004572872, 6.922918004572872, 6.517452896464707, 6.517452896464707, 6.517452896464707, 6.006627272698717, 5.536623643452981, 6.229770824012927, 6.517452896464707, 6.922918004572872, 4.571542747409394, 5.3134800921387715, 6.006627272698717, 6.922918004572872, 5.824305715904762, 6.922918004572872, 6.922918004572872, 6.922918004572872, 6.517452896464707, 6.922918004572872, 6.922918004572872, 6.922918004572872, 6.922918004572872, 6.517452896464707, 6.517452896464707, 6.517452896464707, 4.480570969203668, 6.922918004572872, 6.229770824012927, 6.922918004572872, 6.922918004572872, 4.671626205966376, 6.922918004572872, 6.922918004572872, 5.418840607796598, 5.670155036077504, 6.517452896464707, 6.922918004572872, 6.922918004572872, 5.131158535344817, 6.922918004572872, 6.922918004572872, 6.922918004572872, 6.922918004572872, 4.908014984030608, 6.922918004572872, 6.922918004572872, 6.922918004572872, 6.922918004572872, 6.517452896464707, 6.922918004572872, 6.922918004572872, 6.517452896464707, 6.922918004572872, 6.922918004572872, 6.922918004572872, 6.006627272698717, 6.517452896464707, 6.517452896464707, 6.517452896464707, 6.517452896464707, 6.922918004572872, 6.517452896464707, 6.922918004572872, 6.229770824012927, 6.229770824012927, 6.006627272698717, 6.922918004572872, 6.922918004572872, 6.922918004572872, 6.006627272698717, 6.922918004572872, 6.229770824012927, 6.922918004572872, 6.922918004572872, 6.922918004572872, 6.006627272698717, 6.922918004572872, 6.922918004572872, 6.922918004572872, 6.517452896464707, 6.922918004572872, 5.670155036077504, 6.229770824012927, 6.922918004572872, 6.922918004572872, 6.922918004572872, 5.824305715904762, 6.517452896464707, 6.922918004572872, 6.922918004572872, 6.922918004572872, 5.536623643452981, 6.922918004572872, 6.922918004572872, 6.922918004572872, 6.922918004572872, 6.006627272698717, 6.922918004572872, 6.922918004572872, 6.517452896464707, 6.922918004572872, 5.824305715904762, 6.922918004572872, 6.922918004572872, 6.517452896464707, 6.922918004572872, 6.229770824012927, 5.418840607796598, 6.922918004572872, 6.922918004572872, 6.922918004572872, 6.517452896464707, 6.922918004572872, 6.922918004572872, 6.517452896464707, 6.922918004572872, 6.229770824012927, 6.517452896464707, 6.922918004572872, 6.922918004572872, 6.229770824012927, 6.517452896464707, 6.922918004572872, 5.824305715904762, 6.922918004572872, 6.922918004572872, 6.922918004572872, 6.922918004572872, 6.922918004572872, 6.922918004572872, 6.517452896464707, 6.517452896464707, 6.922918004572872, 5.670155036077504, 6.517452896464707, 6.922918004572872, 6.922918004572872, 6.922918004572872, 6.517452896464707, 6.517452896464707, 6.922918004572872, 6.922918004572872, 6.922918004572872, 6.922918004572872, 2.7182253851819063, 4.480570969203668, 6.006627272698717, 6.922918004572872, 4.725693427236653, 6.922918004572872, 6.922918004572872, 6.922918004572872, 6.517452896464707, 6.922918004572872, 6.922918004572872, 4.908014984030608, 6.922918004572872, 5.536623643452981, 6.922918004572872, 6.922918004572872, 6.922918004572872, 6.229770824012927, 6.922918004572872, 6.922918004572872, 6.922918004572872, 6.922918004572872, 6.517452896464707, 6.517452896464707, 6.922918004572872, 6.922918004572872, 6.922918004572872, 6.517452896464707, 6.517452896464707, 6.922918004572872, 6.229770824012927, 6.922918004572872, 6.922918004572872, 6.517452896464707, 6.922918004572872, 6.922918004572872, 6.922918004572872, 6.922918004572872, 6.922918004572872, 4.725693427236653, 6.922918004572872, 6.922918004572872, 5.824305715904762, 6.229770824012927, 5.670155036077504, 6.922918004572872, 5.824305715904762, 6.922918004572872, 6.922918004572872, 4.357968647111335, 6.922918004572872, 6.229770824012927, 6.517452896464707, 6.006627272698717, 6.517452896464707, 6.922918004572872, 6.229770824012927, 6.922918004572872, 6.922918004572872, 6.922918004572872, 6.922918004572872, 2.897566313837723, 6.517452896464707, 6.922918004572872, 6.229770824012927, 6.517452896464707, 5.131158535344817, 6.922918004572872, 6.922918004572872, 6.922918004572872, 6.922918004572872, 6.922918004572872, 6.922918004572872, 6.517452896464707, 6.517452896464707, 6.922918004572872, 6.922918004572872, 6.922918004572872, 6.229770824012927, 6.006627272698717, 6.517452896464707, 6.922918004572872, 6.922918004572872, 6.517452896464707, 6.922918004572872, 6.517452896464707, 6.922918004572872, 6.517452896464707, 6.006627272698717, 5.824305715904762, 6.922918004572872, 5.670155036077504, 6.922918004572872, 6.922918004572872, 6.922918004572872, 6.922918004572872, 6.922918004572872, 3.573013917298267, 6.922918004572872, 6.922918004572872, 6.517452896464707, 6.517452896464707, 6.922918004572872, 6.922918004572872, 6.922918004572872, 6.922918004572872, 6.006627272698717, 6.922918004572872, 6.922918004572872, 6.922918004572872, 6.229770824012927, 6.922918004572872, 6.922918004572872, 6.922918004572872, 6.922918004572872, 6.922918004572872, 6.922918004572872, 6.922918004572872, 6.517452896464707, 5.824305715904762, 6.922918004572872, 6.922918004572872, 6.517452896464707, 6.922918004572872, 6.922918004572872, 6.922918004572872, 6.922918004572872, 6.922918004572872, 6.922918004572872, 6.922918004572872, 6.922918004572872, 6.922918004572872, 6.229770824012927, 6.517452896464707, 6.922918004572872, 6.517452896464707, 6.517452896464707, 6.922918004572872, 6.922918004572872, 6.922918004572872, 6.922918004572872, 6.922918004572872, 6.922918004572872, 6.922918004572872, 6.922918004572872, 6.922918004572872, 6.922918004572872, 6.517452896464707, 6.517452896464707, 6.922918004572872, 6.922918004572872, 5.131158535344817, 6.922918004572872, 6.229770824012927, 5.824305715904762, 6.006627272698717, 6.922918004572872, 6.922918004572872, 6.517452896464707, 6.922918004572872, 6.006627272698717, 6.922918004572872, 6.229770824012927, 6.922918004572872, 6.922918004572872, 6.922918004572872, 6.922918004572872, 6.922918004572872, 6.922918004572872, 4.9770078555175585, 6.922918004572872, 5.670155036077504, 6.922918004572872, 6.229770824012927, 5.05111582767128, 6.006627272698717, 6.006627272698717, 6.006627272698717, 6.922918004572872, 6.922918004572872, 6.922918004572872, 6.922918004572872, 6.517452896464707, 6.922918004572872, 6.922918004572872, 6.922918004572872, 6.922918004572872, 6.922918004572872, 6.922918004572872, 6.229770824012927, 6.922918004572872, 6.922918004572872, 6.922918004572872, 6.922918004572872, 6.229770824012927, 6.517452896464707, 5.218169912334447, 6.517452896464707, 6.922918004572872, 6.922918004572872, 6.922918004572872, 6.517452896464707, 6.922918004572872, 6.006627272698717, 6.229770824012927, 6.517452896464707, 6.922918004572872, 6.922918004572872, 6.922918004572872, 5.3134800921387715, 5.218169912334447, 6.517452896464707, 6.922918004572872, 5.536623643452981, 6.229770824012927, 6.922918004572872, 6.517452896464707, 6.517452896464707, 6.922918004572872, 6.922918004572872, 6.517452896464707, 6.922918004572872, 4.357968647111335, 6.922918004572872, 6.229770824012927, 6.922918004572872, 6.922918004572872, 6.517452896464707, 6.922918004572872, 6.006627272698717, 6.922918004572872, 6.229770824012927, 6.922918004572872, 6.922918004572872, 6.922918004572872, 6.922918004572872, 6.922918004572872, 6.922918004572872, 5.670155036077504, 6.517452896464707, 6.922918004572872, 6.517452896464707, 5.670155036077504, 6.922918004572872, 6.922918004572872, 6.517452896464707, 6.922918004572872, 6.229770824012927, 6.229770824012927, 6.922918004572872, 6.922918004572872, 6.922918004572872, 6.922918004572872, 6.922918004572872, 6.922918004572872, 6.922918004572872, 6.922918004572872, 6.922918004572872, 6.922918004572872, 5.218169912334447, 6.517452896464707, 6.922918004572872, 6.922918004572872, 6.006627272698717, 6.922918004572872, 6.517452896464707, 6.229770824012927, 6.922918004572872, 6.922918004572872, 6.229770824012927, 6.922918004572872, 4.9770078555175585, 6.517452896464707, 6.922918004572872, 6.922918004572872, 5.536623643452981, 6.517452896464707, 6.006627272698717, 6.517452896464707, 6.517452896464707, 6.922918004572872, 6.229770824012927, 6.922918004572872, 6.922918004572872, 6.922918004572872, 5.824305715904762, 6.922918004572872, 6.922918004572872, 6.922918004572872, 6.922918004572872, 6.922918004572872, 6.922918004572872, 6.922918004572872, 6.922918004572872, 6.517452896464707, 6.922918004572872, 6.922918004572872, 6.922918004572872, 6.229770824012927, 6.922918004572872, 6.922918004572872, 6.517452896464707, 6.922918004572872, 6.922918004572872, 6.517452896464707, 6.922918004572872, 6.922918004572872, 6.922918004572872, 6.922918004572872, 6.922918004572872, 6.922918004572872, 6.922918004572872, 6.517452896464707, 6.229770824012927, 6.922918004572872, 5.824305715904762, 6.517452896464707, 6.922918004572872, 6.922918004572872, 6.922918004572872, 6.922918004572872, 6.922918004572872, 6.229770824012927, 6.517452896464707, 6.922918004572872, 6.922918004572872, 6.922918004572872, 6.922918004572872, 6.517452896464707, 5.3134800921387715, 6.229770824012927, 6.517452896464707, 6.517452896464707, 6.922918004572872, 6.922918004572872, 6.922918004572872, 6.922918004572872, 6.229770824012927, 6.922918004572872, 6.229770824012927, 6.517452896464707, 5.670155036077504, 6.006627272698717, 6.517452896464707, 6.922918004572872, 6.922918004572872, 6.517452896464707, 6.517452896464707, 6.922918004572872, 6.517452896464707, 6.229770824012927, 4.571542747409394, 6.922918004572872, 6.517452896464707, 6.517452896464707, 6.922918004572872, 6.922918004572872, 4.089704660516656, 6.229770824012927, 6.922918004572872, 6.922918004572872, 6.922918004572872, 6.517452896464707, 6.229770824012927, 6.517452896464707, 5.05111582767128, 5.670155036077504, 6.922918004572872, 6.922918004572872, 6.922918004572872, 6.922918004572872, 6.517452896464707, 6.922918004572872, 6.517452896464707, 6.922918004572872, 6.922918004572872, 6.922918004572872, 6.517452896464707, 6.922918004572872, 6.922918004572872, 6.922918004572872, 6.922918004572872, 6.922918004572872, 6.922918004572872, 6.517452896464707, 6.922918004572872, 6.517452896464707, 6.922918004572872, 6.922918004572872, 6.922918004572872, 6.229770824012927, 6.922918004572872, 6.922918004572872, 6.517452896464707, 6.229770824012927, 6.922918004572872, 6.229770824012927, 6.922918004572872, 6.517452896464707, 6.922918004572872, 6.922918004572872, 6.922918004572872, 6.922918004572872, 5.670155036077504, 6.922918004572872, 6.922918004572872, 6.922918004572872, 6.922918004572872, 6.922918004572872, 6.922918004572872, 6.922918004572872, 6.922918004572872, 6.922918004572872, 6.922918004572872, 6.922918004572872, 6.922918004572872, 6.006627272698717, 6.922918004572872, 6.517452896464707, 6.922918004572872, 6.922918004572872, 6.922918004572872, 6.922918004572872, 6.517452896464707, 6.517452896464707, 6.922918004572872, 6.922918004572872, 6.922918004572872, 6.517452896464707, 6.517452896464707, 6.922918004572872, 6.922918004572872, 6.922918004572872, 6.922918004572872, 5.824305715904762, 6.922918004572872, 5.05111582767128, 6.922918004572872, 6.922918004572872, 6.922918004572872, 6.922918004572872, 6.922918004572872, 6.922918004572872, 6.922918004572872, 6.922918004572872, 6.517452896464707, 6.922918004572872, 6.922918004572872, 6.922918004572872, 6.922918004572872, 6.922918004572872, 6.006627272698717, 6.006627272698717, 6.922918004572872, 6.922918004572872, 6.922918004572872, 6.517452896464707, 6.922918004572872, 6.922918004572872, 6.922918004572872, 6.922918004572872, 6.922918004572872, 6.922918004572872, 6.922918004572872, 6.922918004572872, 6.922918004572872, 6.922918004572872, 6.922918004572872, 6.517452896464707, 6.517452896464707, 6.517452896464707, 6.922918004572872, 6.922918004572872, 6.922918004572872, 6.922918004572872, 6.922918004572872, 6.922918004572872, 6.006627272698717, 6.517452896464707, 6.922918004572872, 6.922918004572872, 6.922918004572872, 6.517452896464707, 6.517452896464707, 6.922918004572872, 6.922918004572872, 6.922918004572872, 6.922918004572872, 6.922918004572872, 6.922918004572872, 6.922918004572872, 6.922918004572872, 5.05111582767128, 5.131158535344817, 6.922918004572872, 6.229770824012927, 6.922918004572872, 6.922918004572872, 6.229770824012927, 6.922918004572872, 6.517452896464707, 5.131158535344817, 6.229770824012927, 4.782851841076601, 6.922918004572872, 6.922918004572872, 6.922918004572872, 6.922918004572872, 6.517452896464707, 6.922918004572872, 6.517452896464707, 6.922918004572872, 6.922918004572872, 6.229770824012927, 6.922918004572872, 6.922918004572872, 6.922918004572872, 5.3134800921387715, 6.922918004572872, 6.922918004572872, 6.229770824012927, 6.922918004572872, 4.671626205966376, 6.922918004572872, 6.922918004572872, 6.922918004572872, 6.922918004572872, 6.229770824012927, 6.922918004572872, 6.922918004572872, 6.922918004572872, 6.517452896464707, 6.922918004572872, 5.670155036077504, 6.922918004572872, 6.922918004572872, 4.0325462466767075, 5.536623643452981, 6.006627272698717, 6.229770824012927, 6.229770824012927, 4.480570969203668, 6.922918004572872, 5.670155036077504, 6.922918004572872, 6.922918004572872, 6.922918004572872, 6.517452896464707, 6.517452896464707, 6.922918004572872, 6.922918004572872, 6.517452896464707, 6.922918004572872, 6.517452896464707, 6.922918004572872, 6.517452896464707, 6.922918004572872, 5.418840607796598, 6.006627272698717, 6.229770824012927, 6.922918004572872, 6.229770824012927, 6.006627272698717, 6.517452896464707, 6.922918004572872, 6.922918004572872, 6.517452896464707, 6.922918004572872, 6.922918004572872, 6.922918004572872, 6.922918004572872, 6.517452896464707, 6.922918004572872, 6.229770824012927, 6.922918004572872, 6.922918004572872, 6.922918004572872, 6.922918004572872, 6.517452896464707, 6.922918004572872, 6.922918004572872, 6.922918004572872, 6.922918004572872, 6.922918004572872, 6.922918004572872, 6.922918004572872, 6.922918004572872, 6.922918004572872, 6.922918004572872, 5.131158535344817, 6.922918004572872, 5.824305715904762, 6.229770824012927, 4.782851841076601, 6.922918004572872, 6.229770824012927, 6.229770824012927, 6.922918004572872, 6.922918004572872, 6.517452896464707, 6.922918004572872, 6.922918004572872, 6.922918004572872, 6.517452896464707, 6.229770824012927, 6.922918004572872, 6.922918004572872, 6.922918004572872, 5.418840607796598, 5.824305715904762, 6.922918004572872, 6.922918004572872, 6.229770824012927, 5.824305715904762, 6.922918004572872, 6.922918004572872, 6.922918004572872, 6.922918004572872, 6.517452896464707, 6.922918004572872, 6.922918004572872, 6.922918004572872, 6.922918004572872, 6.922918004572872, 6.517452896464707, 6.922918004572872, 6.922918004572872, 6.922918004572872, 6.922918004572872, 6.922918004572872, 6.517452896464707, 6.922918004572872, 6.517452896464707, 6.922918004572872, 6.922918004572872, 6.922918004572872, 5.670155036077504, 6.922918004572872, 6.922918004572872, 6.006627272698717, 6.229770824012927, 6.922918004572872, 6.517452896464707, 6.922918004572872, 6.922918004572872, 6.922918004572872, 6.922918004572872, 6.922918004572872, 6.922918004572872, 6.922918004572872, 6.922918004572872, 6.922918004572872, 6.922918004572872, 5.824305715904762, 6.922918004572872, 6.922918004572872, 6.229770824012927, 6.006627272698717, 6.006627272698717, 6.517452896464707, 6.517452896464707, 6.229770824012927, 6.006627272698717, 6.922918004572872, 6.922918004572872, 6.922918004572872, 6.922918004572872, 6.229770824012927, 6.517452896464707, 5.670155036077504, 6.922918004572872, 6.922918004572872, 6.006627272698717, 6.922918004572872, 6.229770824012927, 6.922918004572872, 6.229770824012927, 6.922918004572872, 6.922918004572872, 6.922918004572872, 6.229770824012927, 6.922918004572872, 5.418840607796598, 6.517452896464707, 6.922918004572872, 6.229770824012927, 6.922918004572872, 6.922918004572872, 6.922918004572872, 6.922918004572872, 6.922918004572872, 6.922918004572872, 6.922918004572872, 6.517452896464707, 6.229770824012927, 6.922918004572872, 6.922918004572872, 6.922918004572872, 6.922918004572872, 6.517452896464707, 6.922918004572872, 6.517452896464707, 6.922918004572872, 6.229770824012927, 6.006627272698717, 6.922918004572872, 6.922918004572872, 6.229770824012927, 6.517452896464707, 5.824305715904762, 6.922918004572872, 6.922918004572872, 6.517452896464707, 6.922918004572872, 6.922918004572872, 6.922918004572872, 6.922918004572872, 6.517452896464707, 6.922918004572872, 6.517452896464707, 6.922918004572872, 6.517452896464707, 6.922918004572872, 6.922918004572872, 4.908014984030608, 6.922918004572872, 6.922918004572872, 6.922918004572872, 6.922918004572872, 6.922918004572872, 6.517452896464707, 6.006627272698717, 6.922918004572872, 4.571542747409394, 6.006627272698717, 6.922918004572872, 6.922918004572872, 6.922918004572872, 6.922918004572872, 6.922918004572872, 6.922918004572872, 6.922918004572872, 6.922918004572872, 6.922918004572872, 6.922918004572872, 6.922918004572872, 5.824305715904762, 6.922918004572872, 6.922918004572872, 6.922918004572872, 6.922918004572872, 6.922918004572872, 6.922918004572872, 6.517452896464707, 6.922918004572872, 6.922918004572872, 6.517452896464707, 4.9770078555175585, 6.922918004572872, 5.670155036077504, 6.922918004572872, 6.229770824012927, 6.922918004572872, 6.922918004572872, 6.517452896464707, 6.922918004572872, 6.922918004572872, 6.922918004572872, 5.670155036077504, 6.922918004572872, 6.922918004572872, 6.922918004572872, 6.922918004572872, 6.922918004572872, 6.922918004572872, 6.229770824012927, 6.922918004572872, 6.922918004572872, 6.517452896464707, 6.922918004572872, 6.922918004572872, 6.922918004572872, 6.517452896464707, 6.517452896464707, 6.922918004572872, 6.229770824012927, 5.824305715904762, 6.922918004572872, 6.517452896464707, 6.922918004572872, 6.922918004572872, 6.922918004572872, 6.922918004572872, 6.517452896464707, 6.517452896464707, 6.229770824012927, 6.922918004572872, 6.922918004572872, 6.922918004572872, 6.922918004572872, 6.922918004572872, 6.517452896464707, 6.229770824012927, 6.517452896464707, 6.922918004572872, 6.922918004572872, 5.418840607796598, 6.922918004572872, 6.922918004572872, 6.922918004572872, 6.922918004572872, 6.922918004572872, 6.922918004572872, 6.922918004572872, 6.922918004572872, 6.922918004572872, 6.922918004572872, 6.922918004572872, 6.922918004572872, 6.922918004572872, 5.670155036077504, 6.922918004572872, 6.517452896464707, 6.517452896464707, 6.006627272698717, 6.517452896464707, 6.229770824012927, 6.922918004572872, 5.824305715904762, 6.922918004572872, 6.517452896464707, 6.922918004572872, 6.922918004572872, 6.922918004572872, 6.922918004572872, 6.517452896464707, 6.922918004572872, 6.922918004572872, 6.922918004572872, 6.922918004572872, 6.922918004572872, 6.922918004572872, 6.922918004572872, 6.922918004572872, 6.922918004572872, 6.922918004572872, 6.922918004572872, 6.922918004572872, 6.922918004572872, 6.006627272698717, 6.922918004572872, 6.922918004572872, 6.517452896464707, 6.922918004572872, 6.517452896464707, 6.922918004572872, 6.922918004572872, 6.517452896464707, 5.218169912334447, 6.517452896464707, 6.006627272698717, 6.922918004572872, 6.922918004572872, 6.922918004572872, 6.006627272698717, 6.922918004572872, 6.922918004572872, 6.922918004572872, 6.517452896464707, 6.517452896464707, 6.922918004572872, 6.922918004572872, 5.131158535344817, 5.05111582767128, 4.671626205966376, 6.229770824012927, 6.922918004572872, 6.229770824012927, 6.922918004572872, 5.131158535344817, 5.05111582767128, 6.517452896464707, 6.922918004572872, 6.922918004572872, 6.922918004572872, 6.922918004572872, 6.517452896464707, 6.229770824012927, 6.922918004572872, 5.670155036077504, 6.922918004572872, 6.229770824012927, 6.922918004572872, 6.922918004572872, 6.922918004572872, 6.922918004572872, 6.922918004572872, 6.922918004572872, 6.922918004572872, 3.9525035390031706, 6.922918004572872, 6.922918004572872, 6.922918004572872, 5.824305715904762, 6.922918004572872, 6.922918004572872, 6.922918004572872, 6.922918004572872, 6.922918004572872, 6.006627272698717, 5.536623643452981, 6.229770824012927, 6.922918004572872, 6.922918004572872, 5.824305715904762, 6.922918004572872, 6.922918004572872, 6.922918004572872, 6.922918004572872, 6.922918004572872, 6.922918004572872, 6.517452896464707, 6.922918004572872, 5.536623643452981, 6.922918004572872, 6.006627272698717, 6.922918004572872, 6.922918004572872, 5.05111582767128, 6.922918004572872, 6.922918004572872, 6.229770824012927, 6.922918004572872, 6.517452896464707, 6.922918004572872, 6.922918004572872, 6.922918004572872, 6.922918004572872, 6.922918004572872, 6.922918004572872, 6.922918004572872, 6.922918004572872, 6.922918004572872, 6.922918004572872, 6.922918004572872, 6.922918004572872, 6.922918004572872, 6.922918004572872, 6.006627272698717, 6.922918004572872, 6.922918004572872, 6.922918004572872, 6.922918004572872, 6.922918004572872, 6.922918004572872, 6.922918004572872, 6.517452896464707, 6.922918004572872, 6.922918004572872, 6.922918004572872, 6.922918004572872, 6.922918004572872, 6.922918004572872, 6.922918004572872, 6.922918004572872, 6.922918004572872, 6.006627272698717, 5.418840607796598, 6.922918004572872, 6.922918004572872, 6.922918004572872, 6.229770824012927, 6.006627272698717, 6.922918004572872, 6.922918004572872, 6.922918004572872, 6.922918004572872, 6.229770824012927, 6.517452896464707, 6.517452896464707, 5.536623643452981, 6.517452896464707, 6.922918004572872, 6.517452896464707, 6.922918004572872, 5.3134800921387715, 6.922918004572872, 6.517452896464707, 6.922918004572872, 6.922918004572872, 6.922918004572872, 6.922918004572872, 6.922918004572872, 6.922918004572872, 6.922918004572872, 6.922918004572872, 6.922918004572872, 6.922918004572872, 6.006627272698717, 6.922918004572872, 6.922918004572872, 6.229770824012927, 6.922918004572872, 6.922918004572872, 6.922918004572872, 6.922918004572872, 6.517452896464707, 6.517452896464707, 6.922918004572872, 5.3134800921387715, 6.922918004572872, 6.517452896464707, 6.922918004572872, 6.922918004572872, 6.922918004572872, 6.922918004572872, 6.517452896464707, 6.922918004572872, 6.922918004572872, 6.922918004572872, 6.922918004572872, 6.517452896464707, 6.922918004572872, 6.922918004572872, 6.006627272698717, 6.517452896464707, 6.922918004572872, 6.517452896464707, 6.922918004572872, 6.922918004572872, 6.922918004572872, 6.922918004572872, 6.922918004572872, 6.922918004572872, 6.922918004572872, 6.922918004572872, 6.922918004572872, 6.922918004572872, 6.922918004572872, 6.922918004572872, 6.922918004572872, 6.922918004572872, 6.922918004572872, 6.517452896464707, 6.922918004572872, 6.517452896464707, 6.922918004572872, 6.922918004572872, 6.922918004572872, 6.922918004572872, 6.922918004572872, 6.922918004572872, 6.517452896464707, 6.922918004572872, 6.006627272698717, 6.922918004572872, 6.922918004572872, 6.006627272698717, 5.670155036077504, 5.536623643452981, 6.922918004572872, 6.517452896464707, 6.922918004572872, 6.922918004572872, 6.006627272698717, 6.922918004572872, 6.006627272698717, 6.922918004572872, 6.922918004572872, 6.229770824012927, 6.922918004572872, 6.922918004572872, 6.922918004572872, 6.922918004572872, 6.922918004572872, 6.922918004572872, 6.922918004572872, 6.922918004572872, 6.922918004572872, 6.922918004572872, 6.922918004572872, 6.922918004572872, 6.922918004572872, 6.922918004572872, 6.922918004572872, 6.517452896464707, 6.922918004572872, 6.922918004572872, 6.517452896464707, 6.922918004572872, 6.922918004572872, 6.922918004572872, 6.922918004572872, 6.922918004572872, 6.922918004572872, 6.922918004572872, 6.922918004572872, 6.006627272698717, 6.517452896464707, 6.922918004572872, 6.922918004572872, 6.922918004572872, 6.922918004572872, 6.517452896464707, 6.922918004572872, 6.517452896464707, 6.517452896464707, 6.922918004572872, 6.922918004572872, 6.922918004572872, 6.922918004572872, 6.922918004572872, 6.922918004572872, 6.517452896464707, 6.517452896464707, 5.670155036077504, 6.517452896464707, 6.922918004572872, 6.922918004572872, 6.229770824012927, 6.517452896464707, 6.922918004572872, 6.922918004572872, 6.922918004572872, 6.922918004572872, 6.922918004572872, 6.922918004572872, 4.9770078555175585, 5.824305715904762, 6.922918004572872, 6.922918004572872, 4.725693427236653, 6.517452896464707, 5.418840607796598, 4.671626205966376, 6.922918004572872, 6.517452896464707, 6.517452896464707, 6.922918004572872, 4.525022731774501, 6.922918004572872, 6.922918004572872, 6.517452896464707, 6.922918004572872, 6.517452896464707, 6.922918004572872, 6.922918004572872, 6.922918004572872, 6.922918004572872, 6.922918004572872, 6.922918004572872, 6.517452896464707, 4.119557623666337, 6.922918004572872, 6.922918004572872, 5.670155036077504, 6.229770824012927, 6.922918004572872, 6.229770824012927, 6.922918004572872, 6.517452896464707, 5.418840607796598, 6.922918004572872, 6.922918004572872, 5.670155036077504, 6.517452896464707, 6.922918004572872, 6.922918004572872, 6.922918004572872, 6.922918004572872, 6.922918004572872, 6.229770824012927, 6.922918004572872, 6.922918004572872, 6.922918004572872, 6.922918004572872, 6.229770824012927, 6.922918004572872, 6.229770824012927, 6.922918004572872, 6.006627272698717, 6.922918004572872, 6.517452896464707, 6.922918004572872, 6.229770824012927, 6.517452896464707, 6.922918004572872, 4.671626205966376, 6.229770824012927, 6.922918004572872, 6.922918004572872, 6.922918004572872, 6.517452896464707, 5.824305715904762, 6.229770824012927, 4.671626205966376, 6.922918004572872, 6.517452896464707, 5.824305715904762, 5.824305715904762, 6.922918004572872, 5.218169912334447, 5.218169912334447, 4.9770078555175585, 6.922918004572872, 6.922918004572872, 6.922918004572872, 4.283860674957613, 6.922918004572872, 6.922918004572872, 6.922918004572872, 6.922918004572872, 6.517452896464707, 6.229770824012927, 6.922918004572872, 4.9770078555175585, 5.536623643452981, 6.229770824012927, 6.922918004572872, 6.922918004572872, 6.922918004572872, 6.517452896464707, 6.229770824012927, 5.05111582767128, 6.922918004572872, 6.229770824012927, 5.824305715904762, 6.006627272698717, 6.922918004572872, 6.922918004572872, 6.922918004572872, 6.922918004572872, 6.922918004572872, 6.517452896464707, 6.922918004572872]\n"
          ],
          "name": "stdout"
        }
      ]
    },
    {
      "cell_type": "code",
      "metadata": {
        "id": "DzrHLVbt2bt1",
        "colab_type": "code",
        "colab": {
          "base_uri": "https://localhost:8080/",
          "height": 34
        },
        "outputId": "1e9a7a5f-641b-444b-a6bb-a45b4a7af965"
      },
      "source": [
        "sorted(list(idf_values.values()),reverse = True )[47:50]"
      ],
      "execution_count": null,
      "outputs": [
        {
          "output_type": "execute_result",
          "data": {
            "text/plain": [
              "[6.922918004572872, 6.922918004572872, 6.922918004572872]"
            ]
          },
          "metadata": {
            "tags": []
          },
          "execution_count": 39
        }
      ]
    },
    {
      "cell_type": "code",
      "metadata": {
        "id": "9OL4P_3q62d3",
        "colab_type": "code",
        "colab": {
          "base_uri": "https://localhost:8080/",
          "height": 50
        },
        "outputId": "d67581c1-59aa-4438-e0a6-7ec956948c79"
      },
      "source": [
        "d = {'j': 10, 'e': 9, 'g': 8, 'd': 7, 'i': 6, 'c': 5, 'b': 4, 'a': 3, 'h': 2, 'f': 1}\n",
        "print(d)\n",
        "d.update(i=10)\n",
        "d.update(a=10)\n",
        "print(d)"
      ],
      "execution_count": null,
      "outputs": [
        {
          "output_type": "stream",
          "text": [
            "{'j': 10, 'e': 9, 'g': 8, 'd': 7, 'i': 6, 'c': 5, 'b': 4, 'a': 3, 'h': 2, 'f': 1}\n",
            "{'j': 10, 'e': 9, 'g': 8, 'd': 7, 'i': 10, 'c': 5, 'b': 4, 'a': 10, 'h': 2, 'f': 1}\n"
          ],
          "name": "stdout"
        }
      ]
    },
    {
      "cell_type": "code",
      "metadata": {
        "id": "sDE_4NtD7OGy",
        "colab_type": "code",
        "colab": {
          "base_uri": "https://localhost:8080/",
          "height": 34
        },
        "outputId": "775adcc3-cf5a-42f3-fd30-95487a004c73"
      },
      "source": [
        "[i for i,j in d.items() if j == 10]"
      ],
      "execution_count": null,
      "outputs": [
        {
          "output_type": "execute_result",
          "data": {
            "text/plain": [
              "['j', 'i', 'a']"
            ]
          },
          "metadata": {
            "tags": []
          },
          "execution_count": 50
        }
      ]
    },
    {
      "cell_type": "code",
      "metadata": {
        "id": "9yxMZm0K7lSH",
        "colab_type": "code",
        "colab": {
          "base_uri": "https://localhost:8080/",
          "height": 34
        },
        "outputId": "ac3788fd-658d-46bc-d70b-5fba0db92a82"
      },
      "source": [
        "len([word for word,idf in idf_values.items() if idf== 6.922918004572872])\n"
      ],
      "execution_count": null,
      "outputs": [
        {
          "output_type": "execute_result",
          "data": {
            "text/plain": [
              "1855"
            ]
          },
          "metadata": {
            "tags": []
          },
          "execution_count": 53
        }
      ]
    },
    {
      "cell_type": "code",
      "metadata": {
        "id": "hWC3O0AI71eZ",
        "colab_type": "code",
        "colab": {
          "base_uri": "https://localhost:8080/",
          "height": 689
        },
        "outputId": "5f836321-98df-4f76-dd7b-fa0e08d60546"
      },
      "source": [
        "dir(d)"
      ],
      "execution_count": null,
      "outputs": [
        {
          "output_type": "execute_result",
          "data": {
            "text/plain": [
              "['__class__',\n",
              " '__contains__',\n",
              " '__delattr__',\n",
              " '__delitem__',\n",
              " '__dir__',\n",
              " '__doc__',\n",
              " '__eq__',\n",
              " '__format__',\n",
              " '__ge__',\n",
              " '__getattribute__',\n",
              " '__getitem__',\n",
              " '__gt__',\n",
              " '__hash__',\n",
              " '__init__',\n",
              " '__init_subclass__',\n",
              " '__iter__',\n",
              " '__le__',\n",
              " '__len__',\n",
              " '__lt__',\n",
              " '__ne__',\n",
              " '__new__',\n",
              " '__reduce__',\n",
              " '__reduce_ex__',\n",
              " '__repr__',\n",
              " '__setattr__',\n",
              " '__setitem__',\n",
              " '__sizeof__',\n",
              " '__str__',\n",
              " '__subclasshook__',\n",
              " 'clear',\n",
              " 'copy',\n",
              " 'fromkeys',\n",
              " 'get',\n",
              " 'items',\n",
              " 'keys',\n",
              " 'pop',\n",
              " 'popitem',\n",
              " 'setdefault',\n",
              " 'update',\n",
              " 'values']"
            ]
          },
          "metadata": {
            "tags": []
          },
          "execution_count": 49
        }
      ]
    },
    {
      "cell_type": "code",
      "metadata": {
        "id": "ws-ndU6i73B3",
        "colab_type": "code",
        "colab": {}
      },
      "source": [
        ""
      ],
      "execution_count": null,
      "outputs": []
    },
    {
      "cell_type": "code",
      "metadata": {
        "id": "wCmJ_yubEd4z",
        "colab_type": "code",
        "colab": {
          "base_uri": "https://localhost:8080/",
          "height": 33
        },
        "outputId": "8be03fbb-9bb0-47e4-8f3e-6fa36a6db32f"
      },
      "source": [
        "n = 2\n",
        "s = '_'*(2*n-1)\n",
        "s = list(s)\n",
        "#s"
      ],
      "execution_count": null,
      "outputs": [
        {
          "output_type": "execute_result",
          "data": {
            "text/plain": [
              "['_', '_', '_']"
            ]
          },
          "metadata": {
            "tags": []
          },
          "execution_count": 27
        }
      ]
    },
    {
      "cell_type": "code",
      "metadata": {
        "id": "FGdLcWPvEd7n",
        "colab_type": "code",
        "colab": {
          "base_uri": "https://localhost:8080/",
          "height": 50
        },
        "outputId": "a4f62f4c-6103-4790-8bf2-cae0f3083bab"
      },
      "source": [
        "for x in range(2):\n",
        "  s[n-1+x]= '*'\n",
        "  s[n-1-x]= '*'\n",
        "  print(' '.join(s))"
      ],
      "execution_count": null,
      "outputs": [
        {
          "output_type": "stream",
          "text": [
            "_ * _\n",
            "* * *\n"
          ],
          "name": "stdout"
        }
      ]
    },
    {
      "cell_type": "code",
      "metadata": {
        "id": "WKeMznk-GNBg",
        "colab_type": "code",
        "colab": {
          "base_uri": "https://localhost:8080/",
          "height": 50
        },
        "outputId": "f5d536c8-e515-44b0-faf8-2026071190a4"
      },
      "source": [
        "n = 2\n",
        "s = '_'*(2*n-1)\n",
        "s = list(s)\n",
        "#s\n",
        "for x in range(n):\n",
        "  s[n-1+x]= '*'\n",
        "  s[n-1-x]= '*'\n",
        "  print(' '.join(s))"
      ],
      "execution_count": null,
      "outputs": [
        {
          "output_type": "stream",
          "text": [
            "_ * _\n",
            "* * *\n"
          ],
          "name": "stdout"
        }
      ]
    },
    {
      "cell_type": "code",
      "metadata": {
        "id": "2UmcFanFHAL5",
        "colab_type": "code",
        "colab": {
          "base_uri": "https://localhost:8080/",
          "height": 67
        },
        "outputId": "95882fbd-72ee-47d6-97b0-cd48f9d4f2ef"
      },
      "source": [
        "n = 3\n",
        "s = '_'*(2*n-1)\n",
        "s = list(s)\n",
        "#s\n",
        "for x in range(n):\n",
        "  s[n-1+x]= '*'\n",
        "  s[n-1-x]= '*'\n",
        "  print(' '.join(s))"
      ],
      "execution_count": null,
      "outputs": [
        {
          "output_type": "stream",
          "text": [
            "_ _ * _ _\n",
            "_ * * * _\n",
            "* * * * *\n"
          ],
          "name": "stdout"
        }
      ]
    },
    {
      "cell_type": "code",
      "metadata": {
        "id": "RN_jpGVvHCgJ",
        "colab_type": "code",
        "colab": {
          "base_uri": "https://localhost:8080/",
          "height": 150
        },
        "outputId": "84d67587-6a10-449d-9e19-f492acce7d9c"
      },
      "source": [
        "n = 8\n",
        "s = '_'*(2*n-1)\n",
        "s = list(s)\n",
        "#s\n",
        "for x in range(n):\n",
        "  s[n-1+x]= '*'\n",
        "  s[n-1-x]= '*'\n",
        "  print(' '.join(s))"
      ],
      "execution_count": null,
      "outputs": [
        {
          "output_type": "stream",
          "text": [
            "_ _ _ _ _ _ _ * _ _ _ _ _ _ _\n",
            "_ _ _ _ _ _ * * * _ _ _ _ _ _\n",
            "_ _ _ _ _ * * * * * _ _ _ _ _\n",
            "_ _ _ _ * * * * * * * _ _ _ _\n",
            "_ _ _ * * * * * * * * * _ _ _\n",
            "_ _ * * * * * * * * * * * _ _\n",
            "_ * * * * * * * * * * * * * _\n",
            "* * * * * * * * * * * * * * *\n"
          ],
          "name": "stdout"
        }
      ]
    },
    {
      "cell_type": "code",
      "metadata": {
        "id": "m9ygsQbUHUNE",
        "colab_type": "code",
        "colab": {}
      },
      "source": [
        ""
      ],
      "execution_count": null,
      "outputs": []
    },
    {
      "cell_type": "code",
      "metadata": {
        "id": "hk5j34ndHw2G",
        "colab_type": "code",
        "colab": {}
      },
      "source": [
        "#2\n",
        "l = [10,9,2,5,3,7,101,78]\n",
        "l=  [4,1,5,2,3]"
      ],
      "execution_count": null,
      "outputs": []
    },
    {
      "cell_type": "code",
      "metadata": {
        "id": "XlWXEDFAHw5F",
        "colab_type": "code",
        "colab": {
          "base_uri": "https://localhost:8080/",
          "height": 418
        },
        "outputId": "9caca560-4661-4f45-8901-4fee23fbada3"
      },
      "source": [
        "cnt = 0 \n",
        "for num in l:\n",
        "  final = []\n",
        "  final.append(num)\n",
        "  temp = num\n",
        "   \n",
        "  for x in l[cnt+1:]:\n",
        "    #print(num , x)\n",
        "    if x>temp:\n",
        "      final.append(x)\n",
        "\n",
        "  cnt+=1\n",
        "  print('_'*10)\n",
        "  print(final)\n",
        "  print('_'*10)"
      ],
      "execution_count": null,
      "outputs": [
        {
          "output_type": "stream",
          "text": [
            "__________\n",
            "[10, 101, 78]\n",
            "__________\n",
            "__________\n",
            "[9, 101, 78]\n",
            "__________\n",
            "__________\n",
            "[2, 5, 3, 7, 101, 78]\n",
            "__________\n",
            "__________\n",
            "[5, 7, 101, 78]\n",
            "__________\n",
            "__________\n",
            "[3, 7, 101, 78]\n",
            "__________\n",
            "__________\n",
            "[7, 101, 78]\n",
            "__________\n",
            "__________\n",
            "[101]\n",
            "__________\n",
            "__________\n",
            "[78]\n",
            "__________\n"
          ],
          "name": "stdout"
        }
      ]
    },
    {
      "cell_type": "code",
      "metadata": {
        "id": "NqO_ztzJIg_v",
        "colab_type": "code",
        "colab": {}
      },
      "source": [
        ""
      ],
      "execution_count": null,
      "outputs": []
    },
    {
      "cell_type": "code",
      "metadata": {
        "id": "UflI-2tYdXtb",
        "colab_type": "code",
        "colab": {}
      },
      "source": [
        ""
      ],
      "execution_count": null,
      "outputs": []
    },
    {
      "cell_type": "code",
      "metadata": {
        "id": "fCaCnzo4dXwh",
        "colab_type": "code",
        "colab": {}
      },
      "source": [
        ""
      ],
      "execution_count": null,
      "outputs": []
    },
    {
      "cell_type": "code",
      "metadata": {
        "id": "LW1UAS1VdXyR",
        "colab_type": "code",
        "colab": {}
      },
      "source": [
        "#SGD assignment"
      ],
      "execution_count": null,
      "outputs": []
    },
    {
      "cell_type": "code",
      "metadata": {
        "id": "j63mcU2Idev4",
        "colab_type": "code",
        "colab": {}
      },
      "source": [
        "alpha=0.0001\n",
        "eta0=0.0001\n",
        "N=len(X_train)\n",
        "epochs=50\n",
        "\n",
        "# initalize the weights (call the initialize_weights(X_train[0]) function)\n",
        "w,b = initialize_weights(X_train[0])\n",
        "print(w,b)"
      ],
      "execution_count": null,
      "outputs": []
    },
    {
      "cell_type": "code",
      "metadata": {
        "id": "wsatIDPidX0x",
        "colab_type": "code",
        "colab": {}
      },
      "source": [
        "# for every epoch\n",
        "        # for every data point(X_train,y_train)\n",
        "           #compute gradient w.r.to w (call the gradient_dw() function)\n",
        "           #compute gradient w.r.to b (call the gradient_db() function)\n",
        "           #update w, b\n",
        "#Considering batch size as 1 #We have to select that 1 random data point from x_train\n",
        "#https://www.w3schools.com/python/ref_random_randrange.asp  #selecting random ineteger providing a range to it\n",
        "\n",
        "# for x in range(epochs):\n",
        "#   print(random.randrange(0,len(X_train)-1))\n",
        "\n",
        "idx = 20\n",
        "wt = gradient_dw(X_train[idx],y_train[idx],w,b,alpha,N)"
      ],
      "execution_count": null,
      "outputs": []
    },
    {
      "cell_type": "code",
      "metadata": {
        "id": "UNDb9ydPeVAj",
        "colab_type": "code",
        "colab": {}
      },
      "source": [
        ""
      ],
      "execution_count": null,
      "outputs": []
    },
    {
      "cell_type": "markdown",
      "metadata": {
        "id": "zU2Y3-FQuJ3z",
        "colab_type": "text"
      },
      "source": [
        "\n",
        "<br>\n",
        "\n",
        "* Initialize the weight_vector and intercept term to zeros (Write your code in <font color='blue'>def initialize_weights()</font>)\n",
        "\n",
        "* Create a loss function (Write your code in <font color='blue'>def logloss()</font>) \n",
        "\n",
        " $log loss = -1*\\frac{1}{n}\\Sigma_{for each Yt,Y_{pred}}(Ytlog10(Y_{pred})+(1-Yt)log10(1-Y_{pred}))$\n",
        "- for each epoch:\n",
        "\n",
        "    - for each batch of data points in train: (keep batch size=1)\n",
        "\n",
        "        - calculate the gradient of loss function w.r.t each weight in weight vector (write your code in <font color='blue'>def gradient_dw()</font>)\n",
        "\n",
        "        $dw^{(t)} = x_n(y_n − σ((w^{(t)})^{T} x_n+b^{t}))- \\frac{λ}{N}w^{(t)})$ <br>\n",
        "\n",
        "        - Calculate the gradient of the intercept (write your code in <font color='blue'> def gradient_db()</font>) <a href='https://drive.google.com/file/d/1nQ08-XY4zvOLzRX-lGf8EYB5arb7-m1H/view?usp=sharing'>check this</a>\n",
        "\n",
        "           $ db^{(t)} = y_n- σ((w^{(t)})^{T} x_n+b^{t}))$\n",
        "\n",
        "        - Update weights and intercept (check the equation number 32 in the above mentioned <a href='https://drive.google.com/file/d/1nQ08-XY4zvOLzRX-lGf8EYB5arb7-m1H/view?usp=sharing'>pdf</a>): <br>\n",
        "        $w^{(t+1)}← w^{(t)}+α(dw^{(t)}) $<br>\n",
        "\n",
        "        $b^{(t+1)}←b^{(t)}+α(db^{(t)}) $\n",
        "    - calculate the log loss for train and test with the updated weights (you can check the python assignment 10th question)\n",
        "    - And if you wish, you can compare the previous loss and the current loss, if it is not updating, then\n",
        "        you can stop the training\n",
        "    - append this loss in the list ( this will be used to see how loss is changing for each epoch after the training is over )\n"
      ]
    },
    {
      "cell_type": "code",
      "metadata": {
        "id": "tjj0Wlu_feqO",
        "colab_type": "code",
        "colab": {}
      },
      "source": [
        "def train(X_train,y_train,X_test,y_test,epochs,alpha,eta0):\n",
        "    ''' In this function, we will implement logistic regression'''\n",
        "    #Here eta0 is learning rate\n",
        "    #implement the code as follows\n",
        "    # initalize the weights (call the initialize_weights(X_train[0]) function)\n",
        "    # for every epoch\n",
        "        # for every data point(X_train,y_train)\n",
        "           #compute gradient w.r.to w (call the gradient_dw() function)\n",
        "           #compute gradient w.r.to b (call the gradient_db() function)\n",
        "           #update w, b\n",
        "           \n",
        "        # predict the output of x_train[for all data points in X_train] using w,b\n",
        "        #compute the loss between predicted and actual values (call the loss function)\n",
        "        # store all the train loss values in a list\n",
        "\n",
        "        # predict the output of x_test[for all data points in X_test] using w,b\n",
        "        #compute the loss between predicted and actual values (call the loss function)\n",
        "        # store all the test loss values in a list\n",
        "\n",
        "        # you can also compare previous loss and current loss, if loss is not updating then stop the process and return w,b\n",
        "\n",
        "    return w,b"
      ],
      "execution_count": null,
      "outputs": []
    },
    {
      "cell_type": "code",
      "metadata": {
        "id": "T6-k3x8fMRa4",
        "colab_type": "code",
        "colab": {}
      },
      "source": [
        "def train(X_train,y_train,X_test,y_test,epochs,alpha,eta0):\n",
        "  ''' In this function, we will implement logistic regression'''\n",
        "  # initalize the weights (call the initialize_weights(X_train[0]) function)\n",
        "  w,b = initialize_weights(X_train[0])\n",
        "  print(w,b)\n",
        "\n",
        "  train_loss =[]\n",
        "  test_loss = []\n",
        "\n",
        "  for x in range(1,epochs+1):\n",
        "    idx = random.randrange(0,len(X_train)-1)                      #selecting random ineteger to pick random datpoint from X-train\n",
        "    wt = gradient_dw(X_train[idx],y_train[idx],w,b,alpha,N)       #Gradient of Weight vector\n",
        "    bt = gradient_db(X_train[idx],y_train[idx],w,b)               #Gradient of intercept term\n",
        "                                                                  #Substituting wt,bt in the wt+1 and bt+1 update functions\n",
        "    wt_1 = wt+(eta0*wt)\n",
        "    bt_1 = bt+(eta0*bt)\n",
        "\n",
        "    #compute train and test logloss values \n",
        "    #First we have to get ytrain_pred, ytest_pred to compute losses with function logloss(y_true,y_pred)\n",
        "    #In logloss eqn y_pred = sigmoid(wT*xi+b)\n",
        "\n",
        "    #Predicting training data points with wt_1,bt_1\n",
        "    ytrain_pred = [sigmoid(np.dot(w.T,xi)+bt_1) for xi in X_train]\n",
        "    train_loss.append(logloss(y_train,ytrain_pred))\n",
        "\n",
        "    #Predicting test data points with wt_1,bt_1\n",
        "    ytest_pred = [sigmoid(np.dot(w.T,xi)+bt_1) for xi in X_test]\n",
        "    test_loss.append(logloss(y_test,ytest_pred))\n",
        "\n",
        "  return w,b"
      ],
      "execution_count": null,
      "outputs": []
    },
    {
      "cell_type": "code",
      "metadata": {
        "id": "zW6udFLhMRYV",
        "colab_type": "code",
        "colab": {
          "base_uri": "https://localhost:8080/",
          "height": 229
        },
        "outputId": "8d11710c-fc16-4f91-c53c-6c37afafa8f3"
      },
      "source": [
        "alpha=0.0001\n",
        "eta0=0.0001\n",
        "N=len(X_train)\n",
        "epochs=50\n",
        "w,b=train(X_train,y_train,X_test,y_test,epochs,alpha,eta0)\n",
        "w,b"
      ],
      "execution_count": null,
      "outputs": [
        {
          "output_type": "error",
          "ename": "NameError",
          "evalue": "ignored",
          "traceback": [
            "\u001b[0;31m---------------------------------------------------------------------------\u001b[0m",
            "\u001b[0;31mNameError\u001b[0m                                 Traceback (most recent call last)",
            "\u001b[0;32m<ipython-input-30-76aae8bae86e>\u001b[0m in \u001b[0;36m<module>\u001b[0;34m()\u001b[0m\n\u001b[1;32m      1\u001b[0m \u001b[0malpha\u001b[0m\u001b[0;34m=\u001b[0m\u001b[0;36m0.0001\u001b[0m\u001b[0;34m\u001b[0m\u001b[0;34m\u001b[0m\u001b[0m\n\u001b[1;32m      2\u001b[0m \u001b[0meta0\u001b[0m\u001b[0;34m=\u001b[0m\u001b[0;36m0.0001\u001b[0m\u001b[0;34m\u001b[0m\u001b[0;34m\u001b[0m\u001b[0m\n\u001b[0;32m----> 3\u001b[0;31m \u001b[0mN\u001b[0m\u001b[0;34m=\u001b[0m\u001b[0mlen\u001b[0m\u001b[0;34m(\u001b[0m\u001b[0mX_train\u001b[0m\u001b[0;34m)\u001b[0m\u001b[0;34m\u001b[0m\u001b[0;34m\u001b[0m\u001b[0m\n\u001b[0m\u001b[1;32m      4\u001b[0m \u001b[0mepochs\u001b[0m\u001b[0;34m=\u001b[0m\u001b[0;36m50\u001b[0m\u001b[0;34m\u001b[0m\u001b[0;34m\u001b[0m\u001b[0m\n\u001b[1;32m      5\u001b[0m \u001b[0mw\u001b[0m\u001b[0;34m,\u001b[0m\u001b[0mb\u001b[0m\u001b[0;34m=\u001b[0m\u001b[0mtrain\u001b[0m\u001b[0;34m(\u001b[0m\u001b[0mX_train\u001b[0m\u001b[0;34m,\u001b[0m\u001b[0my_train\u001b[0m\u001b[0;34m,\u001b[0m\u001b[0mX_test\u001b[0m\u001b[0;34m,\u001b[0m\u001b[0my_test\u001b[0m\u001b[0;34m,\u001b[0m\u001b[0mepochs\u001b[0m\u001b[0;34m,\u001b[0m\u001b[0malpha\u001b[0m\u001b[0;34m,\u001b[0m\u001b[0meta0\u001b[0m\u001b[0;34m)\u001b[0m\u001b[0;34m\u001b[0m\u001b[0;34m\u001b[0m\u001b[0m\n",
            "\u001b[0;31mNameError\u001b[0m: name 'X_train' is not defined"
          ]
        }
      ]
    },
    {
      "cell_type": "code",
      "metadata": {
        "id": "F6UQVYZ_femU",
        "colab_type": "code",
        "colab": {}
      },
      "source": [
        "B =np.array([ [[1,2,3],[3,4,4],[1,5,6]],\n",
        "            [[1,2,3],[3,4,4],[1,5,6]] ])\n",
        "A =np.array([ [[1,2,3],[3,4,4],[1,5,6]],\n",
        "            [[1,2,3],[3,4,4],[1,5,6]] ])"
      ],
      "execution_count": null,
      "outputs": []
    },
    {
      "cell_type": "code",
      "metadata": {
        "id": "M1_lnf8J0SUa",
        "colab_type": "code",
        "colab": {}
      },
      "source": [
        "import numpy as np"
      ],
      "execution_count": null,
      "outputs": []
    },
    {
      "cell_type": "code",
      "metadata": {
        "id": "W39uFIIx0V9p",
        "colab_type": "code",
        "colab": {
          "base_uri": "https://localhost:8080/",
          "height": 134
        },
        "outputId": "9e5a1732-d50c-4faa-9360-04aabba28c79"
      },
      "source": [
        "np.matmul(A,B)"
      ],
      "execution_count": null,
      "outputs": [
        {
          "output_type": "execute_result",
          "data": {
            "text/plain": [
              "array([[[10, 25, 29],\n",
              "        [19, 42, 49],\n",
              "        [22, 52, 59]],\n",
              "\n",
              "       [[10, 25, 29],\n",
              "        [19, 42, 49],\n",
              "        [22, 52, 59]]])"
            ]
          },
          "metadata": {
            "tags": []
          },
          "execution_count": 23
        }
      ]
    },
    {
      "cell_type": "code",
      "metadata": {
        "id": "zyclqd1T0hZP",
        "colab_type": "code",
        "colab": {
          "base_uri": "https://localhost:8080/",
          "height": 319
        },
        "outputId": "f46854cb-5ca4-46d6-ce47-7fe73bc524e9"
      },
      "source": [
        "np.dot(A,B)"
      ],
      "execution_count": null,
      "outputs": [
        {
          "output_type": "execute_result",
          "data": {
            "text/plain": [
              "array([[[[10, 25, 29],\n",
              "         [10, 25, 29]],\n",
              "\n",
              "        [[19, 42, 49],\n",
              "         [19, 42, 49]],\n",
              "\n",
              "        [[22, 52, 59],\n",
              "         [22, 52, 59]]],\n",
              "\n",
              "\n",
              "       [[[10, 25, 29],\n",
              "         [10, 25, 29]],\n",
              "\n",
              "        [[19, 42, 49],\n",
              "         [19, 42, 49]],\n",
              "\n",
              "        [[22, 52, 59],\n",
              "         [22, 52, 59]]]])"
            ]
          },
          "metadata": {
            "tags": []
          },
          "execution_count": 24
        }
      ]
    },
    {
      "cell_type": "code",
      "metadata": {
        "id": "TitH52U40jTs",
        "colab_type": "code",
        "colab": {
          "base_uri": "https://localhost:8080/",
          "height": 34
        },
        "outputId": "ec199179-6c87-435f-8509-ba81850de3ca"
      },
      "source": [
        "type(np.matmul(A,B))"
      ],
      "execution_count": null,
      "outputs": [
        {
          "output_type": "execute_result",
          "data": {
            "text/plain": [
              "numpy.ndarray"
            ]
          },
          "metadata": {
            "tags": []
          },
          "execution_count": 25
        }
      ]
    },
    {
      "cell_type": "code",
      "metadata": {
        "id": "IciX1UwOHwtU",
        "colab_type": "code",
        "colab": {
          "base_uri": "https://localhost:8080/",
          "height": 34
        },
        "outputId": "9a652773-ee70-40f0-85b0-c0e76f5ba58e"
      },
      "source": [
        "type(np.dot(A,B))"
      ],
      "execution_count": null,
      "outputs": [
        {
          "output_type": "execute_result",
          "data": {
            "text/plain": [
              "numpy.ndarray"
            ]
          },
          "metadata": {
            "tags": []
          },
          "execution_count": 26
        }
      ]
    },
    {
      "cell_type": "code",
      "metadata": {
        "id": "4EDsYTb6H1j3",
        "colab_type": "code",
        "colab": {
          "base_uri": "https://localhost:8080/",
          "height": 34
        },
        "outputId": "d102aec0-e0c8-4b36-9997-3c6d583e817d"
      },
      "source": [
        "np.matmul(A,B).shape"
      ],
      "execution_count": null,
      "outputs": [
        {
          "output_type": "execute_result",
          "data": {
            "text/plain": [
              "(2, 3, 3)"
            ]
          },
          "metadata": {
            "tags": []
          },
          "execution_count": 27
        }
      ]
    },
    {
      "cell_type": "code",
      "metadata": {
        "id": "HA7nfPeJIL83",
        "colab_type": "code",
        "colab": {
          "base_uri": "https://localhost:8080/",
          "height": 34
        },
        "outputId": "0e7202b4-1819-4929-f343-3f76016bfe17"
      },
      "source": [
        "np.dot(A,B).shape"
      ],
      "execution_count": null,
      "outputs": [
        {
          "output_type": "execute_result",
          "data": {
            "text/plain": [
              "(2, 3, 2, 3)"
            ]
          },
          "metadata": {
            "tags": []
          },
          "execution_count": 28
        }
      ]
    },
    {
      "cell_type": "code",
      "metadata": {
        "id": "aehgejqrIPi6",
        "colab_type": "code",
        "colab": {
          "base_uri": "https://localhost:8080/",
          "height": 229
        },
        "outputId": "2390dc5f-4166-4fcc-83e7-58b2d20a5bf1"
      },
      "source": [
        "A = [2]\n",
        "B = [1,2]\n",
        "np.dot(A,B)"
      ],
      "execution_count": null,
      "outputs": [
        {
          "output_type": "error",
          "ename": "ValueError",
          "evalue": "ignored",
          "traceback": [
            "\u001b[0;31m---------------------------------------------------------------------------\u001b[0m",
            "\u001b[0;31mValueError\u001b[0m                                Traceback (most recent call last)",
            "\u001b[0;32m<ipython-input-29-6695df58b1af>\u001b[0m in \u001b[0;36m<module>\u001b[0;34m()\u001b[0m\n\u001b[1;32m      1\u001b[0m \u001b[0mA\u001b[0m \u001b[0;34m=\u001b[0m \u001b[0;34m[\u001b[0m\u001b[0;36m2\u001b[0m\u001b[0;34m]\u001b[0m\u001b[0;34m\u001b[0m\u001b[0;34m\u001b[0m\u001b[0m\n\u001b[1;32m      2\u001b[0m \u001b[0mB\u001b[0m \u001b[0;34m=\u001b[0m \u001b[0;34m[\u001b[0m\u001b[0;36m1\u001b[0m\u001b[0;34m,\u001b[0m\u001b[0;36m2\u001b[0m\u001b[0;34m]\u001b[0m\u001b[0;34m\u001b[0m\u001b[0;34m\u001b[0m\u001b[0m\n\u001b[0;32m----> 3\u001b[0;31m \u001b[0mnp\u001b[0m\u001b[0;34m.\u001b[0m\u001b[0mdot\u001b[0m\u001b[0;34m(\u001b[0m\u001b[0mA\u001b[0m\u001b[0;34m,\u001b[0m\u001b[0mB\u001b[0m\u001b[0;34m)\u001b[0m\u001b[0;34m\u001b[0m\u001b[0;34m\u001b[0m\u001b[0m\n\u001b[0m",
            "\u001b[0;32m<__array_function__ internals>\u001b[0m in \u001b[0;36mdot\u001b[0;34m(*args, **kwargs)\u001b[0m\n",
            "\u001b[0;31mValueError\u001b[0m: shapes (1,) and (2,) not aligned: 1 (dim 0) != 2 (dim 0)"
          ]
        }
      ]
    },
    {
      "cell_type": "code",
      "metadata": {
        "id": "id2ollj_Igo7",
        "colab_type": "code",
        "colab": {}
      },
      "source": [
        ""
      ],
      "execution_count": null,
      "outputs": []
    },
    {
      "cell_type": "markdown",
      "metadata": {
        "id": "Cw3l7sOGc0eL",
        "colab_type": "text"
      },
      "source": [
        "#Logistic regression"
      ]
    },
    {
      "cell_type": "code",
      "metadata": {
        "id": "jdfIkqP4fdBS",
        "colab_type": "code",
        "colab": {}
      },
      "source": [
        "import numpy as np\n",
        "import pandas as pd"
      ],
      "execution_count": null,
      "outputs": []
    },
    {
      "cell_type": "code",
      "metadata": {
        "id": "7OGpk6Nbc5IE",
        "colab_type": "code",
        "colab": {}
      },
      "source": [
        "#Creating a dataset for Binary classification\n",
        "from sklearn.datasets import make_classification\n",
        "X,y = make_classification(n_samples = 10000 , n_features = 10, n_informative=7, n_redundant=3,\n",
        "                    n_classes=2, weights = [0.6,0.4], random_state =42)"
      ],
      "execution_count": null,
      "outputs": []
    },
    {
      "cell_type": "code",
      "metadata": {
        "id": "bkUBJ31ddDQ3",
        "colab_type": "code",
        "colab": {
          "base_uri": "https://localhost:8080/",
          "height": 67
        },
        "outputId": "0f69572e-cd19-4256-acf1-ff04bba4a645"
      },
      "source": [
        "pd.Series(y).value_counts()\n",
        "# -ve 60% , +ve 40% as mentioned above"
      ],
      "execution_count": null,
      "outputs": [
        {
          "output_type": "execute_result",
          "data": {
            "text/plain": [
              "0    6002\n",
              "1    3998\n",
              "dtype: int64"
            ]
          },
          "metadata": {
            "tags": []
          },
          "execution_count": 3
        }
      ]
    },
    {
      "cell_type": "code",
      "metadata": {
        "id": "O07pH0y4gDZy",
        "colab_type": "code",
        "colab": {}
      },
      "source": [
        "#train_test_split\n",
        "from sklearn.model_selection import train_test_split\n",
        "X_train, X_test, y_train, y_test = train_test_split(X, y, test_size=0.33, random_state=42)"
      ],
      "execution_count": null,
      "outputs": []
    },
    {
      "cell_type": "code",
      "metadata": {
        "id": "OWWElNuIfJTs",
        "colab_type": "code",
        "colab": {
          "base_uri": "https://localhost:8080/",
          "height": 319
        },
        "outputId": "724dd838-de34-4aa5-e006-db647c15af79"
      },
      "source": [
        "#standard scaling\n",
        "#If we create the dataset using make_classification then StdScaler is Optional\n",
        "\n",
        "from sklearn.preprocessing import StandardScaler\n",
        "\n",
        "print('\\nBefore scaling: X_train[:3]\\n')\n",
        "print(X_train[:3])\n",
        "scaler = StandardScaler()\n",
        "scaler.fit(X_train)\n",
        "X_train = scaler.transform(X_train)\n",
        "X_test = scaler.transform(X_test)\n",
        "print('\\nAfter scaling: X_train[:3]\\n')\n",
        "print(X_train[:3])"
      ],
      "execution_count": null,
      "outputs": [
        {
          "output_type": "stream",
          "text": [
            "\n",
            "Before scaling: X_train[:3]\n",
            "\n",
            "[[ 0.28699908  0.45598354  0.95902261  0.82554113 -0.4147053   0.8706305\n",
            "  -0.11594121 -2.72267839 -2.20897688 -3.21236348]\n",
            " [-1.41521216  0.08971834 -0.31680912  0.15629515  0.50935956 -0.49799749\n",
            "   1.01449189 -0.15726592  0.7511765   0.06306471]\n",
            " [-2.27150441 -0.33217391 -0.80583837  0.02333944  0.87366196 -0.04485919\n",
            "   3.15437231 -2.51322294 -0.71749274 -0.23412095]]\n",
            "\n",
            "After scaling: X_train[:3]\n",
            "\n",
            "[[ 0.85654852  0.3374198   0.57232203  0.15882709 -0.58373771  0.43708712\n",
            "  -0.52049799 -1.51661975 -1.67450739 -1.28320473]\n",
            " [-0.29153266  0.15108442 -0.19462501 -0.25712366 -0.05652728 -0.06852372\n",
            "   0.04648478 -0.08297356  0.0998867   0.00989648]\n",
            " [-0.86907144 -0.06355091 -0.48859759 -0.33975849  0.15131963  0.0988787\n",
            "   1.1197684  -1.3995684  -0.78047242 -0.10742898]]\n"
          ],
          "name": "stdout"
        }
      ]
    },
    {
      "cell_type": "code",
      "metadata": {
        "id": "EzR-qHdpf94P",
        "colab_type": "code",
        "colab": {}
      },
      "source": [
        "#Training model - Logistic Regression"
      ],
      "execution_count": null,
      "outputs": []
    },
    {
      "cell_type": "code",
      "metadata": {
        "id": "PICXATSngwBy",
        "colab_type": "code",
        "colab": {
          "base_uri": "https://localhost:8080/",
          "height": 34
        },
        "outputId": "09234ae8-52e1-4f46-c710-8bea1e623ca5"
      },
      "source": [
        "from sklearn.linear_model import LogisticRegression\n",
        "lr = LogisticRegression(penalty='l2', dual=False, tol=0.0001, C=1.0, fit_intercept=True, \n",
        "                                        random_state=42)\n",
        "lr.fit(X_train,y_train)\n",
        "y_pred = lr.predict(X_test)\n",
        "\n",
        "from sklearn.metrics import accuracy_score\n",
        "accuracy_score(y_test,y_pred)"
      ],
      "execution_count": null,
      "outputs": [
        {
          "output_type": "execute_result",
          "data": {
            "text/plain": [
              "0.8251515151515152"
            ]
          },
          "metadata": {
            "tags": []
          },
          "execution_count": 7
        }
      ]
    },
    {
      "cell_type": "code",
      "metadata": {
        "id": "wJzBBcTtkNWl",
        "colab_type": "code",
        "colab": {
          "base_uri": "https://localhost:8080/",
          "height": 252
        },
        "outputId": "e2a4d390-95c9-413a-e2d0-ec172e3c88a2"
      },
      "source": [
        "#Hyperparameter tuning C = 1/lambda tuning using Gridsearch CV\n",
        "from sklearn.model_selection import GridSearchCV\n",
        "lr = LogisticRegression()\n",
        "parameters ={'C': [0.0001, 0.001, 0.01, 0.1, 1.0, 10.0, 100.0, 1000.0, 10000.0] }\n",
        "clf = GridSearchCV(estimator=lr , param_grid=parameters, scoring='roc_auc', cv=5)\n",
        "clf.fit(X_train,y_train)"
      ],
      "execution_count": null,
      "outputs": [
        {
          "output_type": "execute_result",
          "data": {
            "text/plain": [
              "GridSearchCV(cv=5, error_score=nan,\n",
              "             estimator=LogisticRegression(C=1.0, class_weight=None, dual=False,\n",
              "                                          fit_intercept=True,\n",
              "                                          intercept_scaling=1, l1_ratio=None,\n",
              "                                          max_iter=100, multi_class='auto',\n",
              "                                          n_jobs=None, penalty='l2',\n",
              "                                          random_state=None, solver='lbfgs',\n",
              "                                          tol=0.0001, verbose=0,\n",
              "                                          warm_start=False),\n",
              "             iid='deprecated', n_jobs=None,\n",
              "             param_grid={'C': [0.0001, 0.001, 0.01, 0.1, 1.0, 10.0, 100.0,\n",
              "                               1000.0, 10000.0]},\n",
              "             pre_dispatch='2*n_jobs', refit=True, return_train_score=False,\n",
              "             scoring='roc_auc', verbose=0)"
            ]
          },
          "metadata": {
            "tags": []
          },
          "execution_count": 8
        }
      ]
    },
    {
      "cell_type": "code",
      "metadata": {
        "id": "NFRk7CSqlM9L",
        "colab_type": "code",
        "colab": {
          "base_uri": "https://localhost:8080/",
          "height": 50
        },
        "outputId": "d56b0e03-8886-4868-bdfc-97f686730e66"
      },
      "source": [
        "results = pd.DataFrame.from_dict(clf.cv_results_)\n",
        "print(clf.best_params_)\n",
        "print(clf.best_score_)"
      ],
      "execution_count": null,
      "outputs": [
        {
          "output_type": "stream",
          "text": [
            "{'C': 0.1}\n",
            "0.9115213089046843\n"
          ],
          "name": "stdout"
        }
      ]
    },
    {
      "cell_type": "code",
      "metadata": {
        "id": "wRdd1ASDqeXt",
        "colab_type": "code",
        "colab": {
          "base_uri": "https://localhost:8080/",
          "height": 299
        },
        "outputId": "7f4987a7-f536-4885-b2ea-4cc60ddcd337"
      },
      "source": [
        "results.head()"
      ],
      "execution_count": null,
      "outputs": [
        {
          "output_type": "execute_result",
          "data": {
            "text/html": [
              "<div>\n",
              "<style scoped>\n",
              "    .dataframe tbody tr th:only-of-type {\n",
              "        vertical-align: middle;\n",
              "    }\n",
              "\n",
              "    .dataframe tbody tr th {\n",
              "        vertical-align: top;\n",
              "    }\n",
              "\n",
              "    .dataframe thead th {\n",
              "        text-align: right;\n",
              "    }\n",
              "</style>\n",
              "<table border=\"1\" class=\"dataframe\">\n",
              "  <thead>\n",
              "    <tr style=\"text-align: right;\">\n",
              "      <th></th>\n",
              "      <th>mean_fit_time</th>\n",
              "      <th>std_fit_time</th>\n",
              "      <th>mean_score_time</th>\n",
              "      <th>std_score_time</th>\n",
              "      <th>param_C</th>\n",
              "      <th>params</th>\n",
              "      <th>split0_test_score</th>\n",
              "      <th>split1_test_score</th>\n",
              "      <th>split2_test_score</th>\n",
              "      <th>split3_test_score</th>\n",
              "      <th>split4_test_score</th>\n",
              "      <th>mean_test_score</th>\n",
              "      <th>std_test_score</th>\n",
              "      <th>rank_test_score</th>\n",
              "    </tr>\n",
              "  </thead>\n",
              "  <tbody>\n",
              "    <tr>\n",
              "      <th>0</th>\n",
              "      <td>0.013629</td>\n",
              "      <td>0.000553</td>\n",
              "      <td>0.002216</td>\n",
              "      <td>0.000071</td>\n",
              "      <td>0.0001</td>\n",
              "      <td>{'C': 0.0001}</td>\n",
              "      <td>0.880142</td>\n",
              "      <td>0.880220</td>\n",
              "      <td>0.880962</td>\n",
              "      <td>0.875207</td>\n",
              "      <td>0.870094</td>\n",
              "      <td>0.877325</td>\n",
              "      <td>0.004155</td>\n",
              "      <td>9</td>\n",
              "    </tr>\n",
              "    <tr>\n",
              "      <th>1</th>\n",
              "      <td>0.012533</td>\n",
              "      <td>0.001308</td>\n",
              "      <td>0.002167</td>\n",
              "      <td>0.000039</td>\n",
              "      <td>0.001</td>\n",
              "      <td>{'C': 0.001}</td>\n",
              "      <td>0.904252</td>\n",
              "      <td>0.902590</td>\n",
              "      <td>0.908169</td>\n",
              "      <td>0.903516</td>\n",
              "      <td>0.897261</td>\n",
              "      <td>0.903158</td>\n",
              "      <td>0.003508</td>\n",
              "      <td>8</td>\n",
              "    </tr>\n",
              "    <tr>\n",
              "      <th>2</th>\n",
              "      <td>0.014719</td>\n",
              "      <td>0.001207</td>\n",
              "      <td>0.002250</td>\n",
              "      <td>0.000107</td>\n",
              "      <td>0.01</td>\n",
              "      <td>{'C': 0.01}</td>\n",
              "      <td>0.909905</td>\n",
              "      <td>0.908375</td>\n",
              "      <td>0.916508</td>\n",
              "      <td>0.913370</td>\n",
              "      <td>0.906962</td>\n",
              "      <td>0.911024</td>\n",
              "      <td>0.003474</td>\n",
              "      <td>7</td>\n",
              "    </tr>\n",
              "    <tr>\n",
              "      <th>3</th>\n",
              "      <td>0.015631</td>\n",
              "      <td>0.000532</td>\n",
              "      <td>0.002198</td>\n",
              "      <td>0.000043</td>\n",
              "      <td>0.1</td>\n",
              "      <td>{'C': 0.1}</td>\n",
              "      <td>0.910083</td>\n",
              "      <td>0.908560</td>\n",
              "      <td>0.916920</td>\n",
              "      <td>0.914040</td>\n",
              "      <td>0.908003</td>\n",
              "      <td>0.911521</td>\n",
              "      <td>0.003426</td>\n",
              "      <td>1</td>\n",
              "    </tr>\n",
              "    <tr>\n",
              "      <th>4</th>\n",
              "      <td>0.020226</td>\n",
              "      <td>0.008790</td>\n",
              "      <td>0.002211</td>\n",
              "      <td>0.000052</td>\n",
              "      <td>1</td>\n",
              "      <td>{'C': 1.0}</td>\n",
              "      <td>0.909925</td>\n",
              "      <td>0.908387</td>\n",
              "      <td>0.916867</td>\n",
              "      <td>0.914144</td>\n",
              "      <td>0.908177</td>\n",
              "      <td>0.911500</td>\n",
              "      <td>0.003435</td>\n",
              "      <td>6</td>\n",
              "    </tr>\n",
              "  </tbody>\n",
              "</table>\n",
              "</div>"
            ],
            "text/plain": [
              "   mean_fit_time  std_fit_time  ...  std_test_score  rank_test_score\n",
              "0       0.013629      0.000553  ...        0.004155                9\n",
              "1       0.012533      0.001308  ...        0.003508                8\n",
              "2       0.014719      0.001207  ...        0.003474                7\n",
              "3       0.015631      0.000532  ...        0.003426                1\n",
              "4       0.020226      0.008790  ...        0.003435                6\n",
              "\n",
              "[5 rows x 14 columns]"
            ]
          },
          "metadata": {
            "tags": []
          },
          "execution_count": 10
        }
      ]
    },
    {
      "cell_type": "code",
      "metadata": {
        "id": "rLjhUsn-qV-S",
        "colab_type": "code",
        "colab": {
          "base_uri": "https://localhost:8080/",
          "height": 283
        },
        "outputId": "249c2637-317d-48a2-952c-c21cadf517c1"
      },
      "source": [
        "import matplotlib.pyplot as plt\n",
        "plt.plot(results['param_C'],results['mean_test_score'],'-o')\n",
        "plt.xscale('log')\n",
        "plt.xlabel('Hyper parameter-C')\n",
        "plt.ylabel('roc_auc_score')\n",
        "plt.show()"
      ],
      "execution_count": null,
      "outputs": [
        {
          "output_type": "display_data",
          "data": {
            "image/png": "[encoded data removed]",
            "text/plain": [
              "<Figure size 432x288 with 1 Axes>"
            ]
          },
          "metadata": {
            "tags": [],
            "needs_background": "light"
          }
        }
      ]
    },
    {
      "cell_type": "code",
      "metadata": {
        "id": "PpA0iMthpiUp",
        "colab_type": "code",
        "colab": {}
      },
      "source": [
        "optimal_c = clf.best_params_['C']"
      ],
      "execution_count": null,
      "outputs": []
    },
    {
      "cell_type": "code",
      "metadata": {
        "id": "IxDOiPQUlP7R",
        "colab_type": "code",
        "colab": {
          "base_uri": "https://localhost:8080/",
          "height": 34
        },
        "outputId": "7da90498-2394-4e75-9135-2195ce22774d"
      },
      "source": [
        "#Training LR model with optimal_c that we got from cross validation\n",
        "from sklearn.linear_model import LogisticRegression\n",
        "lr = LogisticRegression(penalty='l2', dual=False, tol=0.0001, C=optimal_c, fit_intercept=True, \n",
        "                                        random_state=42)\n",
        "lr.fit(X_train,y_train)\n",
        "y_pred = lr.predict(X_test)\n",
        "\n",
        "from sklearn.metrics import accuracy_score\n",
        "accuracy_score(y_test,y_pred)"
      ],
      "execution_count": null,
      "outputs": [
        {
          "output_type": "execute_result",
          "data": {
            "text/plain": [
              "0.8248484848484848"
            ]
          },
          "metadata": {
            "tags": []
          },
          "execution_count": 13
        }
      ]
    },
    {
      "cell_type": "code",
      "metadata": {
        "id": "iV42-GEjn96l",
        "colab_type": "code",
        "colab": {
          "base_uri": "https://localhost:8080/",
          "height": 151
        },
        "outputId": "21ce6bff-05b8-4c9a-9375-336ef16e9a2d"
      },
      "source": [
        "print('weight vector\\n\\n',lr.coef_)\n",
        "print('\\nintercept term\\n\\n',lr.intercept_)"
      ],
      "execution_count": null,
      "outputs": [
        {
          "output_type": "stream",
          "text": [
            "weight vector\n",
            "\n",
            " [[ 0.08875685  1.127279    0.46187358 -1.21321249 -0.00869859 -0.00724401\n",
            "  -0.96554975 -0.27308038 -0.89766461 -0.44852995]]\n",
            "\n",
            "intercept term\n",
            "\n",
            " [-0.81339282]\n"
          ],
          "name": "stdout"
        }
      ]
    },
    {
      "cell_type": "code",
      "metadata": {
        "id": "Ik8aJprwfMPh",
        "colab_type": "code",
        "colab": {
          "base_uri": "https://localhost:8080/",
          "height": 462
        },
        "outputId": "aa1b6dce-96e1-49ab-d589-b9a8ad4e1d46"
      },
      "source": [
        "emp_data"
      ],
      "execution_count": null,
      "outputs": [
        {
          "output_type": "execute_result",
          "data": {
            "text/html": [
              "<div>\n",
              "<style scoped>\n",
              "    .dataframe tbody tr th:only-of-type {\n",
              "        vertical-align: middle;\n",
              "    }\n",
              "\n",
              "    .dataframe tbody tr th {\n",
              "        vertical-align: top;\n",
              "    }\n",
              "\n",
              "    .dataframe thead th {\n",
              "        text-align: right;\n",
              "    }\n",
              "</style>\n",
              "<table border=\"1\" class=\"dataframe\">\n",
              "  <thead>\n",
              "    <tr style=\"text-align: right;\">\n",
              "      <th></th>\n",
              "      <th>empno</th>\n",
              "      <th>ename</th>\n",
              "      <th>job</th>\n",
              "      <th>mgr</th>\n",
              "      <th>hiredate</th>\n",
              "      <th>sal</th>\n",
              "      <th>comm</th>\n",
              "      <th>deptno</th>\n",
              "    </tr>\n",
              "  </thead>\n",
              "  <tbody>\n",
              "    <tr>\n",
              "      <th>0</th>\n",
              "      <td>7369</td>\n",
              "      <td>SMITH</td>\n",
              "      <td>CLERK</td>\n",
              "      <td>7902.0</td>\n",
              "      <td>12/17/1980</td>\n",
              "      <td>10000</td>\n",
              "      <td>NaN</td>\n",
              "      <td>20</td>\n",
              "    </tr>\n",
              "    <tr>\n",
              "      <th>1</th>\n",
              "      <td>7499</td>\n",
              "      <td>ALLEN</td>\n",
              "      <td>SALESMAN</td>\n",
              "      <td>7698.0</td>\n",
              "      <td>2/20/1981</td>\n",
              "      <td>1600</td>\n",
              "      <td>300.0</td>\n",
              "      <td>30</td>\n",
              "    </tr>\n",
              "    <tr>\n",
              "      <th>2</th>\n",
              "      <td>7521</td>\n",
              "      <td>WARD</td>\n",
              "      <td>SALESMAN</td>\n",
              "      <td>7698.0</td>\n",
              "      <td>2/22/1981</td>\n",
              "      <td>1250</td>\n",
              "      <td>500.0</td>\n",
              "      <td>30</td>\n",
              "    </tr>\n",
              "    <tr>\n",
              "      <th>3</th>\n",
              "      <td>7566</td>\n",
              "      <td>JONES</td>\n",
              "      <td>MANAGER</td>\n",
              "      <td>7839.0</td>\n",
              "      <td>4/2/1981</td>\n",
              "      <td>1500</td>\n",
              "      <td>NaN</td>\n",
              "      <td>20</td>\n",
              "    </tr>\n",
              "    <tr>\n",
              "      <th>4</th>\n",
              "      <td>7654</td>\n",
              "      <td>MARTIN</td>\n",
              "      <td>SALESMAN</td>\n",
              "      <td>7698.0</td>\n",
              "      <td>9/28/1981</td>\n",
              "      <td>1250</td>\n",
              "      <td>1400.0</td>\n",
              "      <td>30</td>\n",
              "    </tr>\n",
              "    <tr>\n",
              "      <th>5</th>\n",
              "      <td>7698</td>\n",
              "      <td>BLAKE</td>\n",
              "      <td>MANAGER</td>\n",
              "      <td>7839.0</td>\n",
              "      <td>5/1/1981</td>\n",
              "      <td>2850</td>\n",
              "      <td>NaN</td>\n",
              "      <td>30</td>\n",
              "    </tr>\n",
              "    <tr>\n",
              "      <th>6</th>\n",
              "      <td>7782</td>\n",
              "      <td>CLARK</td>\n",
              "      <td>MANAGER</td>\n",
              "      <td>7839.0</td>\n",
              "      <td>6/9/1981</td>\n",
              "      <td>2450</td>\n",
              "      <td>NaN</td>\n",
              "      <td>10</td>\n",
              "    </tr>\n",
              "    <tr>\n",
              "      <th>7</th>\n",
              "      <td>7788</td>\n",
              "      <td>SCOTT</td>\n",
              "      <td>ANALYST</td>\n",
              "      <td>7566.0</td>\n",
              "      <td>12/9/1982</td>\n",
              "      <td>3000</td>\n",
              "      <td>NaN</td>\n",
              "      <td>20</td>\n",
              "    </tr>\n",
              "    <tr>\n",
              "      <th>8</th>\n",
              "      <td>7839</td>\n",
              "      <td>KING</td>\n",
              "      <td>PRESIDENT</td>\n",
              "      <td>NaN</td>\n",
              "      <td>11/17/1981</td>\n",
              "      <td>5000</td>\n",
              "      <td>NaN</td>\n",
              "      <td>10</td>\n",
              "    </tr>\n",
              "    <tr>\n",
              "      <th>9</th>\n",
              "      <td>7844</td>\n",
              "      <td>TURNER</td>\n",
              "      <td>SALESMAN</td>\n",
              "      <td>7698.0</td>\n",
              "      <td>9/8/1981</td>\n",
              "      <td>1500</td>\n",
              "      <td>0.0</td>\n",
              "      <td>30</td>\n",
              "    </tr>\n",
              "    <tr>\n",
              "      <th>10</th>\n",
              "      <td>7876</td>\n",
              "      <td>ADAMS</td>\n",
              "      <td>CLERK</td>\n",
              "      <td>7788.0</td>\n",
              "      <td>1/12/1983</td>\n",
              "      <td>1100</td>\n",
              "      <td>NaN</td>\n",
              "      <td>20</td>\n",
              "    </tr>\n",
              "    <tr>\n",
              "      <th>11</th>\n",
              "      <td>7900</td>\n",
              "      <td>JAMES</td>\n",
              "      <td>CLERK</td>\n",
              "      <td>7698.0</td>\n",
              "      <td>12/3/1981</td>\n",
              "      <td>950</td>\n",
              "      <td>NaN</td>\n",
              "      <td>30</td>\n",
              "    </tr>\n",
              "    <tr>\n",
              "      <th>12</th>\n",
              "      <td>7902</td>\n",
              "      <td>FORD</td>\n",
              "      <td>ANALYST</td>\n",
              "      <td>7566.0</td>\n",
              "      <td>12/3/1981</td>\n",
              "      <td>3000</td>\n",
              "      <td>NaN</td>\n",
              "      <td>20</td>\n",
              "    </tr>\n",
              "    <tr>\n",
              "      <th>13</th>\n",
              "      <td>7934</td>\n",
              "      <td>MILLER</td>\n",
              "      <td>CLERK</td>\n",
              "      <td>7782.0</td>\n",
              "      <td>1/23/1982</td>\n",
              "      <td>1300</td>\n",
              "      <td>NaN</td>\n",
              "      <td>10</td>\n",
              "    </tr>\n",
              "  </tbody>\n",
              "</table>\n",
              "</div>"
            ],
            "text/plain": [
              "    empno   ename        job     mgr    hiredate    sal    comm  deptno\n",
              "0    7369   SMITH      CLERK  7902.0  12/17/1980  10000     NaN      20\n",
              "1    7499   ALLEN   SALESMAN  7698.0   2/20/1981   1600   300.0      30\n",
              "2    7521    WARD   SALESMAN  7698.0   2/22/1981   1250   500.0      30\n",
              "3    7566   JONES    MANAGER  7839.0    4/2/1981   1500     NaN      20\n",
              "4    7654  MARTIN   SALESMAN  7698.0   9/28/1981   1250  1400.0      30\n",
              "5    7698   BLAKE    MANAGER  7839.0    5/1/1981   2850     NaN      30\n",
              "6    7782   CLARK    MANAGER  7839.0    6/9/1981   2450     NaN      10\n",
              "7    7788   SCOTT    ANALYST  7566.0   12/9/1982   3000     NaN      20\n",
              "8    7839    KING  PRESIDENT     NaN  11/17/1981   5000     NaN      10\n",
              "9    7844  TURNER   SALESMAN  7698.0    9/8/1981   1500     0.0      30\n",
              "10   7876   ADAMS      CLERK  7788.0   1/12/1983   1100     NaN      20\n",
              "11   7900   JAMES      CLERK  7698.0   12/3/1981    950     NaN      30\n",
              "12   7902    FORD    ANALYST  7566.0   12/3/1981   3000     NaN      20\n",
              "13   7934  MILLER      CLERK  7782.0   1/23/1982   1300     NaN      10"
            ]
          },
          "metadata": {
            "tags": []
          },
          "execution_count": 16
        }
      ]
    },
    {
      "cell_type": "code",
      "metadata": {
        "id": "FYT5BqZNHQwT",
        "colab_type": "code",
        "colab": {
          "base_uri": "https://localhost:8080/",
          "height": 235
        },
        "outputId": "cd253524-e971-4e5f-95bc-97100019f6a8"
      },
      "source": [
        "emp_data2 = emp_data.reset_index()\n",
        "print(emp_data.head())\n",
        "print('-'*100)\n",
        "print(emp_data2.head())"
      ],
      "execution_count": null,
      "outputs": [
        {
          "output_type": "stream",
          "text": [
            "   empno   ename       job     mgr    hiredate    sal    comm  deptno\n",
            "0   7369   SMITH     CLERK  7902.0  12/17/1980  10000     NaN      20\n",
            "1   7499   ALLEN  SALESMAN  7698.0   2/20/1981   1600   300.0      30\n",
            "2   7521    WARD  SALESMAN  7698.0   2/22/1981   1250   500.0      30\n",
            "3   7566   JONES   MANAGER  7839.0    4/2/1981   1500     NaN      20\n",
            "4   7654  MARTIN  SALESMAN  7698.0   9/28/1981   1250  1400.0      30\n",
            "----------------------------------------------------------------------------------------------------\n",
            "   index  empno   ename       job     mgr    hiredate    sal    comm  deptno\n",
            "0      0   7369   SMITH     CLERK  7902.0  12/17/1980  10000     NaN      20\n",
            "1      1   7499   ALLEN  SALESMAN  7698.0   2/20/1981   1600   300.0      30\n",
            "2      2   7521    WARD  SALESMAN  7698.0   2/22/1981   1250   500.0      30\n",
            "3      3   7566   JONES   MANAGER  7839.0    4/2/1981   1500     NaN      20\n",
            "4      4   7654  MARTIN  SALESMAN  7698.0   9/28/1981   1250  1400.0      30\n"
          ],
          "name": "stdout"
        }
      ]
    },
    {
      "cell_type": "code",
      "metadata": {
        "id": "1x4K6hoPf4xv",
        "colab_type": "code",
        "colab": {}
      },
      "source": [
        "emp_data['deptno_20'] = emp_data['deptno'].apply(lambda x: 'yes_20' if x==20 else 'Nope' )"
      ],
      "execution_count": null,
      "outputs": []
    },
    {
      "cell_type": "code",
      "metadata": {
        "id": "09wBDNiPfN3n",
        "colab_type": "code",
        "colab": {
          "base_uri": "https://localhost:8080/",
          "height": 195
        },
        "outputId": "3d1da71e-3944-431b-a5e3-54bd3b2fc9c6"
      },
      "source": [
        "emp_data['deptno_2plus'] = emp_data['deptno'].apply(lambda x: x+2)\n",
        "emp_data.head()"
      ],
      "execution_count": null,
      "outputs": [
        {
          "output_type": "execute_result",
          "data": {
            "text/html": [
              "<div>\n",
              "<style scoped>\n",
              "    .dataframe tbody tr th:only-of-type {\n",
              "        vertical-align: middle;\n",
              "    }\n",
              "\n",
              "    .dataframe tbody tr th {\n",
              "        vertical-align: top;\n",
              "    }\n",
              "\n",
              "    .dataframe thead th {\n",
              "        text-align: right;\n",
              "    }\n",
              "</style>\n",
              "<table border=\"1\" class=\"dataframe\">\n",
              "  <thead>\n",
              "    <tr style=\"text-align: right;\">\n",
              "      <th></th>\n",
              "      <th>empno</th>\n",
              "      <th>ename</th>\n",
              "      <th>job</th>\n",
              "      <th>mgr</th>\n",
              "      <th>hiredate</th>\n",
              "      <th>sal</th>\n",
              "      <th>comm</th>\n",
              "      <th>deptno</th>\n",
              "      <th>deptno_2plus</th>\n",
              "    </tr>\n",
              "  </thead>\n",
              "  <tbody>\n",
              "    <tr>\n",
              "      <th>0</th>\n",
              "      <td>7369</td>\n",
              "      <td>SMITH</td>\n",
              "      <td>CLERK</td>\n",
              "      <td>7902.0</td>\n",
              "      <td>12/17/1980</td>\n",
              "      <td>10000</td>\n",
              "      <td>NaN</td>\n",
              "      <td>20</td>\n",
              "      <td>22</td>\n",
              "    </tr>\n",
              "    <tr>\n",
              "      <th>1</th>\n",
              "      <td>7499</td>\n",
              "      <td>ALLEN</td>\n",
              "      <td>SALESMAN</td>\n",
              "      <td>7698.0</td>\n",
              "      <td>2/20/1981</td>\n",
              "      <td>1600</td>\n",
              "      <td>300.0</td>\n",
              "      <td>30</td>\n",
              "      <td>32</td>\n",
              "    </tr>\n",
              "    <tr>\n",
              "      <th>2</th>\n",
              "      <td>7521</td>\n",
              "      <td>WARD</td>\n",
              "      <td>SALESMAN</td>\n",
              "      <td>7698.0</td>\n",
              "      <td>2/22/1981</td>\n",
              "      <td>1250</td>\n",
              "      <td>500.0</td>\n",
              "      <td>30</td>\n",
              "      <td>32</td>\n",
              "    </tr>\n",
              "    <tr>\n",
              "      <th>3</th>\n",
              "      <td>7566</td>\n",
              "      <td>JONES</td>\n",
              "      <td>MANAGER</td>\n",
              "      <td>7839.0</td>\n",
              "      <td>4/2/1981</td>\n",
              "      <td>1500</td>\n",
              "      <td>NaN</td>\n",
              "      <td>20</td>\n",
              "      <td>22</td>\n",
              "    </tr>\n",
              "    <tr>\n",
              "      <th>4</th>\n",
              "      <td>7654</td>\n",
              "      <td>MARTIN</td>\n",
              "      <td>SALESMAN</td>\n",
              "      <td>7698.0</td>\n",
              "      <td>9/28/1981</td>\n",
              "      <td>1250</td>\n",
              "      <td>1400.0</td>\n",
              "      <td>30</td>\n",
              "      <td>32</td>\n",
              "    </tr>\n",
              "  </tbody>\n",
              "</table>\n",
              "</div>"
            ],
            "text/plain": [
              "   empno   ename       job     mgr  ...    sal    comm  deptno  deptno_2plus\n",
              "0   7369   SMITH     CLERK  7902.0  ...  10000     NaN      20            22\n",
              "1   7499   ALLEN  SALESMAN  7698.0  ...   1600   300.0      30            32\n",
              "2   7521    WARD  SALESMAN  7698.0  ...   1250   500.0      30            32\n",
              "3   7566   JONES   MANAGER  7839.0  ...   1500     NaN      20            22\n",
              "4   7654  MARTIN  SALESMAN  7698.0  ...   1250  1400.0      30            32\n",
              "\n",
              "[5 rows x 9 columns]"
            ]
          },
          "metadata": {
            "tags": []
          },
          "execution_count": 7
        }
      ]
    },
    {
      "cell_type": "code",
      "metadata": {
        "id": "eUAH4GZXfi77",
        "colab_type": "code",
        "colab": {}
      },
      "source": [
        ""
      ],
      "execution_count": null,
      "outputs": []
    },
    {
      "cell_type": "code",
      "metadata": {
        "id": "2kcDbT3mhhj0",
        "colab_type": "code",
        "colab": {}
      },
      "source": [
        "d = {'name':'Sai', 'roll': 44}"
      ],
      "execution_count": null,
      "outputs": []
    },
    {
      "cell_type": "code",
      "metadata": {
        "id": "VjBml-gQhhmw",
        "colab_type": "code",
        "colab": {
          "base_uri": "https://localhost:8080/",
          "height": 69
        },
        "outputId": "9d67b4fe-cd8f-400b-c7cb-4223dee8e3b9"
      },
      "source": [
        "%time\n",
        "d['name']"
      ],
      "execution_count": null,
      "outputs": [
        {
          "output_type": "stream",
          "text": [
            "CPU times: user 3 µs, sys: 0 ns, total: 3 µs\n",
            "Wall time: 6.2 µs\n"
          ],
          "name": "stdout"
        },
        {
          "output_type": "execute_result",
          "data": {
            "application/vnd.google.colaboratory.intrinsic+json": {
              "type": "string"
            },
            "text/plain": [
              "'Sai'"
            ]
          },
          "metadata": {
            "tags": []
          },
          "execution_count": 14
        }
      ]
    },
    {
      "cell_type": "code",
      "metadata": {
        "id": "-xMyvaCkhn6k",
        "colab_type": "code",
        "colab": {
          "base_uri": "https://localhost:8080/",
          "height": 69
        },
        "outputId": "0914171f-6211-40f7-a2d6-f44450a4e38b"
      },
      "source": [
        "%time\n",
        "d.get('name')"
      ],
      "execution_count": null,
      "outputs": [
        {
          "output_type": "stream",
          "text": [
            "CPU times: user 2 µs, sys: 0 ns, total: 2 µs\n",
            "Wall time: 4.53 µs\n"
          ],
          "name": "stdout"
        },
        {
          "output_type": "execute_result",
          "data": {
            "application/vnd.google.colaboratory.intrinsic+json": {
              "type": "string"
            },
            "text/plain": [
              "'Sai'"
            ]
          },
          "metadata": {
            "tags": []
          },
          "execution_count": 15
        }
      ]
    },
    {
      "cell_type": "code",
      "metadata": {
        "id": "ZqIbU0cPhzjp",
        "colab_type": "code",
        "colab": {
          "base_uri": "https://localhost:8080/",
          "height": 50
        },
        "outputId": "7cbef2df-8ac5-41ac-9dd5-39aefd46ef30"
      },
      "source": [
        "np.random.rand(2, 3)"
      ],
      "execution_count": null,
      "outputs": [
        {
          "output_type": "execute_result",
          "data": {
            "text/plain": [
              "array([[0.36650609, 0.14092438, 0.84950613],\n",
              "       [0.75184229, 0.15254202, 0.08435924]])"
            ]
          },
          "metadata": {
            "tags": []
          },
          "execution_count": 5
        }
      ]
    },
    {
      "cell_type": "code",
      "metadata": {
        "id": "VBINpbAowa0b",
        "colab_type": "code",
        "colab": {}
      },
      "source": [
        "import numpy as np"
      ],
      "execution_count": null,
      "outputs": []
    },
    {
      "cell_type": "code",
      "metadata": {
        "id": "2JCATlT_wcQY",
        "colab_type": "code",
        "colab": {}
      },
      "source": [
        "a = np.array([[ 0,  1,  2,  3],\n",
        "               [ 4,  5,  6,  7],\n",
        "               [ 8,  9, 10, 11],\n",
        "               [12, 13, 14, 15]])"
      ],
      "execution_count": null,
      "outputs": []
    },
    {
      "cell_type": "code",
      "metadata": {
        "id": "lFkhH_4A5GmZ",
        "colab_type": "code",
        "colab": {
          "base_uri": "https://localhost:8080/",
          "height": 84
        },
        "outputId": "cc2d77f5-ab8f-4712-ec87-7c1280e88da7"
      },
      "source": [
        "a"
      ],
      "execution_count": null,
      "outputs": [
        {
          "output_type": "execute_result",
          "data": {
            "text/plain": [
              "array([[ 0,  1,  2,  3],\n",
              "       [ 4,  5,  6,  7],\n",
              "       [ 8,  9, 10, 11],\n",
              "       [12, 13, 14, 15]])"
            ]
          },
          "metadata": {
            "tags": []
          },
          "execution_count": 20
        }
      ]
    },
    {
      "cell_type": "code",
      "metadata": {
        "id": "pRtVQwyQ5I9g",
        "colab_type": "code",
        "colab": {
          "base_uri": "https://localhost:8080/",
          "height": 84
        },
        "outputId": "742dc318-3ef6-403d-ec29-3942f592c99e"
      },
      "source": [
        "np.delete(a, [1,3], axis=1)"
      ],
      "execution_count": null,
      "outputs": [
        {
          "output_type": "execute_result",
          "data": {
            "text/plain": [
              "array([[ 0,  2],\n",
              "       [ 4,  6],\n",
              "       [ 8, 10],\n",
              "       [12, 14]])"
            ]
          },
          "metadata": {
            "tags": []
          },
          "execution_count": 21
        }
      ]
    },
    {
      "cell_type": "code",
      "metadata": {
        "id": "zLUPycMt5ZDI",
        "colab_type": "code",
        "colab": {
          "base_uri": "https://localhost:8080/",
          "height": 84
        },
        "outputId": "cf9fa3f3-c2ba-4c01-b9f0-3182a3d13be4"
      },
      "source": [
        "a"
      ],
      "execution_count": null,
      "outputs": [
        {
          "output_type": "execute_result",
          "data": {
            "text/plain": [
              "array([[ 0,  1,  2,  3],\n",
              "       [ 4,  5,  6,  7],\n",
              "       [ 8,  9, 10, 11],\n",
              "       [12, 13, 14, 15]])"
            ]
          },
          "metadata": {
            "tags": []
          },
          "execution_count": 22
        }
      ]
    },
    {
      "cell_type": "code",
      "metadata": {
        "id": "43hQjhIc5aKM",
        "colab_type": "code",
        "colab": {}
      },
      "source": [
        "import numpy as np\n",
        "import matplotlib.pyplot as plt\n",
        "import pandas as pd"
      ],
      "execution_count": null,
      "outputs": []
    },
    {
      "cell_type": "code",
      "metadata": {
        "id": "U1-DKHqOSX9J",
        "colab_type": "code",
        "colab": {}
      },
      "source": [
        ""
      ],
      "execution_count": null,
      "outputs": []
    },
    {
      "cell_type": "code",
      "metadata": {
        "id": "I3S63s0ZTZQJ",
        "colab_type": "code",
        "colab": {
          "base_uri": "https://localhost:8080/",
          "height": 306
        },
        "outputId": "b29c03db-12eb-423f-c41e-b9d93386adaf"
      },
      "source": [
        "# here we are creating 2d imbalanced data points \n",
        "ratios = [(100,2), (100, 20), (100, 40), (100, 80)]\n",
        "plt.figure(figsize=(20,5))\n",
        "for j,i in enumerate(ratios):\n",
        "    plt.subplot(2, 2, j+1)\n",
        "    X_p=np.random.normal(0,0.05,size=(i[0],2))\n",
        "    X_n=np.random.normal(0.13,0.02,size=(i[1],2))\n",
        "    y_p=np.array([1]*i[0]).reshape(-1,1)\n",
        "    y_n=np.array([0]*i[1]).reshape(-1,1)\n",
        "    X=np.vstack((X_p,X_n))\n",
        "    y=np.vstack((y_p,y_n))\n",
        "    plt.scatter(X_p[:,0],X_p[:,1])\n",
        "    plt.scatter(X_n[:,0],X_n[:,1],color='red')\n",
        "plt.show()"
      ],
      "execution_count": null,
      "outputs": [
        {
          "output_type": "display_data",
          "data": {
            "image/png": "[encoded data removed]",
            "text/plain": [
              "<Figure size 1440x360 with 4 Axes>"
            ]
          },
          "metadata": {
            "tags": [],
            "needs_background": "light"
          }
        }
      ]
    },
    {
      "cell_type": "code",
      "metadata": {
        "id": "FOtXf5BWUaP5",
        "colab_type": "code",
        "colab": {
          "base_uri": "https://localhost:8080/",
          "height": 877
        },
        "outputId": "9f666aa9-286b-415f-c56c-27c62dddafaf"
      },
      "source": [
        "# here we are creating 2d imbalanced data points \n",
        "ratios = [(100,2), (100, 20), (100, 40), (100, 80)]\n",
        "plt.figure(figsize=(15,15))\n",
        "idx = 0\n",
        "\n",
        "for j,i in enumerate(ratios):\n",
        "  for num in range(3):\n",
        "    plt.subplot(4, 3, idx+1)\n",
        "    idx+=1\n",
        "    X_p=np.random.normal(0,0.05,size=(i[0],2))\n",
        "    X_n=np.random.normal(0.13,0.02,size=(i[1],2))\n",
        "    y_p=np.array([1]*i[0]).reshape(-1,1)\n",
        "    y_n=np.array([0]*i[1]).reshape(-1,1)\n",
        "    X=np.vstack((X_p,X_n))\n",
        "    y=np.vstack((y_p,y_n))\n",
        "    plt.scatter(X_p[:,0],X_p[:,1])\n",
        "    plt.scatter(X_n[:,0],X_n[:,1],color='red')\n",
        "\n",
        "plt.xlabel('x label')\n",
        "plt.ylabel('y label')\n",
        "plt.show()"
      ],
      "execution_count": null,
      "outputs": [
        {
          "output_type": "display_data",
          "data": {
            "image/png": "[encoded data removed]",
            "text/plain": [
              "<Figure size 1080x1080 with 12 Axes>"
            ]
          },
          "metadata": {
            "tags": [],
            "needs_background": "light"
          }
        }
      ]
    },
    {
      "cell_type": "markdown",
      "metadata": {
        "id": "AadfTNPHVBHA",
        "colab_type": "text"
      },
      "source": [
        "# Regular section"
      ]
    },
    {
      "cell_type": "code",
      "metadata": {
        "id": "HAfuVwmfBRfp",
        "colab_type": "code",
        "colab": {}
      },
      "source": [
        ""
      ],
      "execution_count": null,
      "outputs": []
    },
    {
      "cell_type": "markdown",
      "metadata": {
        "id": "AEa_HqRZloH4",
        "colab_type": "text"
      },
      "source": [
        "# <font color='red'><b>Task 1</b></font>"
      ]
    },
    {
      "cell_type": "markdown",
      "metadata": {
        "id": "YQ5q8IxHNRk3",
        "colab_type": "text"
      },
      "source": [
        "<font color='red'> <b>Step - 1</b></font>"
      ]
    },
    {
      "cell_type": "markdown",
      "metadata": {
        "id": "GJCFCaOzl7Mr",
        "colab_type": "text"
      },
      "source": [
        "*  <font color='blue'><b>Creating samples</b></font><br>\n",
        "    <b> Randomly create 30 samples from the whole boston data points</b>\n",
        "    *  Creating each sample: Consider any random 303(60% of 506) data points from whole data set and then replicate any 203 points from the sampled points\n",
        "    \n",
        "     For better understanding of this procedure lets check this examples, assume we have 10 data points [1,2,3,4,5,6,7,8,9,10], first we take 6 data points randomly , consider we have selected [4, 5, 7, 8, 9, 3] now we will replicate 4 points from [4, 5, 7, 8, 9, 3], consder they are [5, 8, 3,7] so our final sample will be [4, 5, 7, 8, 9, 3, 5, 8, 3,7]\n",
        "* <font color='blue'><b> Create 30 samples </b></font>\n",
        "    *  Note that as a part of the Bagging when you are taking the random samples <b>make sure each of the sample will have different set of columns</b><br>\n",
        "Ex: Assume we have 10 columns[1 ,2 ,3 ,4 ,5 ,6 ,7 ,8 ,9 ,10] for the first sample we will select [3, 4, 5, 9, 1, 2] and for the second sample  [7, 9, 1, 4, 5, 6, 2] and so on...\n",
        "Make sure each sample will have atleast 3 feautres/columns/attributes"
      ]
    },
    {
      "cell_type": "markdown",
      "metadata": {
        "id": "zUqFEBSvNjCa",
        "colab_type": "text"
      },
      "source": [
        "<font color='red'><b>Step - 2 </b></font>"
      ]
    },
    {
      "cell_type": "markdown",
      "metadata": {
        "id": "uqi9AhCYNq3Z",
        "colab_type": "text"
      },
      "source": [
        "<font color='blue'><b>Building High Variance Models on each of the sample and finding train MSE value</b></font>"
      ]
    },
    {
      "cell_type": "markdown",
      "metadata": {
        "id": "-lLBnZHXOFln",
        "colab_type": "text"
      },
      "source": [
        "*  Build a regression trees on each of 30 samples.\n",
        "*  Computed the predicted values of each data point(506 data points) in your corpus.\n",
        "*  Predicted house price of $i^{th}$ data point $y^{i}_{pred} =  \\frac{1}{30}\\sum_{k=1}^{30}(\\text{predicted value of } x^{i} \\text{ with } k^{th} \\text{ model})$\n",
        "*  Now calculate the $MSE =  \\frac{1}{506}\\sum_{i=1}^{506}(y^{i} - y^{i}_{pred})^{2}$"
      ]
    },
    {
      "cell_type": "markdown",
      "metadata": {
        "id": "Kls23JLnSN23",
        "colab_type": "text"
      },
      "source": [
        "<font color='red'> <b>Step - 3 </b></font>"
      ]
    },
    {
      "cell_type": "markdown",
      "metadata": {
        "id": "rz2GchkGSWnh",
        "colab_type": "text"
      },
      "source": [
        "*  <font color='blue'><b>Calculating the OOB score </b></font>"
      ]
    },
    {
      "cell_type": "markdown",
      "metadata": {
        "id": "DGHkVV2kSibm",
        "colab_type": "text"
      },
      "source": [
        "*  Predicted house price of $i^{th}$ data point $y^{i}_{pred} =  \\frac{1}{k}\\sum_{\\text{k= model which was buit on samples not included } x^{i}}(\\text{predicted value of } x^{i} \\text{ with } k^{th} \\text{ model})$.\n",
        "*  Now calculate the $OOB Score =  \\frac{1}{506}\\sum_{i=1}^{506}(y^{i} - y^{i}_{pred})^{2}$."
      ]
    }
  ]
}